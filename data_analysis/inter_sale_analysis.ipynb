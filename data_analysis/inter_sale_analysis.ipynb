{
 "cells": [
  {
   "cell_type": "code",
   "execution_count": 2,
   "metadata": {
    "collapsed": true
   },
   "outputs": [],
   "source": [
    "import pymysql as mdb\n",
    "from pprint import pprint as pp\n",
    "import pandas as pd\n",
    "import numpy as np\n",
    "import matplotlib.pyplot as plt\n",
    "import seaborn as sns\n",
    "df = pd.read_pickle('df_steam_db.pkl')\n",
    "%matplotlib inline"
   ]
  },
  {
   "cell_type": "code",
   "execution_count": 3,
   "metadata": {
    "collapsed": false
   },
   "outputs": [
    {
     "data": {
      "text/html": [
       "<div style=\"max-height:1000px;max-width:1500px;overflow:auto;\">\n",
       "<table border=\"1\" class=\"dataframe\">\n",
       "  <thead>\n",
       "    <tr style=\"text-align: right;\">\n",
       "      <th></th>\n",
       "      <th>appid</th>\n",
       "      <th>formatted</th>\n",
       "      <th>fprice</th>\n",
       "      <th>iprice</th>\n",
       "      <th>price_date</th>\n",
       "      <th>sale_bool</th>\n",
       "      <th>formatted_no_holiday</th>\n",
       "      <th>sale_bool_no_holiday</th>\n",
       "      <th>saledates_no_holiday</th>\n",
       "      <th>sale_bool_all</th>\n",
       "      <th>price_date_fixed</th>\n",
       "    </tr>\n",
       "  </thead>\n",
       "  <tbody>\n",
       "    <tr>\n",
       "      <th>0</th>\n",
       "      <td>   2430</td>\n",
       "      <td>                                                []</td>\n",
       "      <td>                                              NaN</td>\n",
       "      <td>                                              NaN</td>\n",
       "      <td>                                               NaN</td>\n",
       "      <td>                                                []</td>\n",
       "      <td>                                                []</td>\n",
       "      <td>                                                []</td>\n",
       "      <td>                                   []</td>\n",
       "      <td>                                                []</td>\n",
       "      <td>                                               NaN</td>\n",
       "    </tr>\n",
       "    <tr>\n",
       "      <th>1</th>\n",
       "      <td> 297750</td>\n",
       "      <td> {u'1434047268000': {u'discount': 25, u'initial...</td>\n",
       "      <td>              [39.99, 29.99, 39.99, 19.99, 39.99]</td>\n",
       "      <td>              [39.99, 39.99, 39.99, 39.99, 39.99]</td>\n",
       "      <td> [1417120656.0, 1434047268.0, 1434994431.0, 144...</td>\n",
       "      <td> [0, 0, 0, 0, 0, 0, 0, 0, 0, 0, 0, 0, 0, 0, 1, ...</td>\n",
       "      <td> {u'1440522322000': {u'discount': 0, u'initial'...</td>\n",
       "      <td> [[1417120656, 1418330256, 1419539856, 14207494...</td>\n",
       "      <td>                         [1440176720]</td>\n",
       "      <td> [[1417120656, 1418330256, 1419539856, 14207494...</td>\n",
       "      <td> [1417120.656, 1434047.268, 1434994.431, 144017...</td>\n",
       "    </tr>\n",
       "    <tr>\n",
       "      <th>2</th>\n",
       "      <td>  19080</td>\n",
       "      <td> {u'1434049315000': {u'discount': 75, u'initial...</td>\n",
       "      <td>                               [9.99, 2.49, 9.99]</td>\n",
       "      <td>                               [9.99, 9.99, 9.99]</td>\n",
       "      <td>        [1417120656.0, 1434049315.0, 1434996542.0]</td>\n",
       "      <td> [0, 0, 0, 0, 0, 0, 0, 0, 0, 0, 0, 0, 0, 0, 1, ...</td>\n",
       "      <td> {u'1434996542000': {u'discount': 0, u'initial'...</td>\n",
       "      <td> [[1417120656, 1418330256, 1419539856, 14207494...</td>\n",
       "      <td>                                   []</td>\n",
       "      <td> [[1417120656, 1418330256, 1419539856, 14207494...</td>\n",
       "      <td>           [1417120.656, 1434049.315, 1434996.542]</td>\n",
       "    </tr>\n",
       "    <tr>\n",
       "      <th>3</th>\n",
       "      <td> 278850</td>\n",
       "      <td> {u'1417513376000': {u'discount': 50, u'initial...</td>\n",
       "      <td>       [4.99, 2.49, 4.99, 2.49, 4.99, 1.49, 4.99]</td>\n",
       "      <td>       [4.99, 4.99, 4.99, 4.99, 4.99, 4.99, 4.99]</td>\n",
       "      <td> [1417120656.0, 1417513376.0, 1417545207.0, 141...</td>\n",
       "      <td> [1, 1, 0, 0, 0, 0, 0, 0, 0, 0, 0, 0, 0, 0, 1, ...</td>\n",
       "      <td> {u'1417545207000': {u'discount': 0, u'initial'...</td>\n",
       "      <td> [[1417120656, 1418330256, 1419539856, 14207494...</td>\n",
       "      <td>                         [1417513376]</td>\n",
       "      <td> [[1417120656, 1418330256, 1419539856, 14207494...</td>\n",
       "      <td> [1417120.656, 1417513.376, 1417545.207, 141892...</td>\n",
       "    </tr>\n",
       "    <tr>\n",
       "      <th>4</th>\n",
       "      <td> 367260</td>\n",
       "      <td> {u'1435856718000': {u'discount': 0, u'initial'...</td>\n",
       "      <td> [5.39, 5.99, 4.01, 5.99, 6.29, 6.99, 5.24, 6.99]</td>\n",
       "      <td> [5.99, 5.99, 5.99, 5.99, 6.99, 6.99, 6.99, 6.99]</td>\n",
       "      <td> [1430513702.0, 1431104712.0, 1434045990.0, 143...</td>\n",
       "      <td> [0, 0, 0, 0, 0, 0, 0, 0, 0, 0, 0, 1, 0, 0, 1, ...</td>\n",
       "      <td> {u'1430513702000': {u'discount': 10, u'initial...</td>\n",
       "      <td> [[1417120656, 1418330256, 1419539856, 14207494...</td>\n",
       "      <td> [1435268707, 1441127115, 1430513702]</td>\n",
       "      <td> [[1417120656, 1418330256, 1419539856, 14207494...</td>\n",
       "      <td> [1430513.702, 1431104.712, 1434045.99, 1434993...</td>\n",
       "    </tr>\n",
       "  </tbody>\n",
       "</table>\n",
       "</div>"
      ],
      "text/plain": [
       "    appid                                          formatted  \\\n",
       "0    2430                                                 []   \n",
       "1  297750  {u'1434047268000': {u'discount': 25, u'initial...   \n",
       "2   19080  {u'1434049315000': {u'discount': 75, u'initial...   \n",
       "3  278850  {u'1417513376000': {u'discount': 50, u'initial...   \n",
       "4  367260  {u'1435856718000': {u'discount': 0, u'initial'...   \n",
       "\n",
       "                                             fprice  \\\n",
       "0                                               NaN   \n",
       "1               [39.99, 29.99, 39.99, 19.99, 39.99]   \n",
       "2                                [9.99, 2.49, 9.99]   \n",
       "3        [4.99, 2.49, 4.99, 2.49, 4.99, 1.49, 4.99]   \n",
       "4  [5.39, 5.99, 4.01, 5.99, 6.29, 6.99, 5.24, 6.99]   \n",
       "\n",
       "                                             iprice  \\\n",
       "0                                               NaN   \n",
       "1               [39.99, 39.99, 39.99, 39.99, 39.99]   \n",
       "2                                [9.99, 9.99, 9.99]   \n",
       "3        [4.99, 4.99, 4.99, 4.99, 4.99, 4.99, 4.99]   \n",
       "4  [5.99, 5.99, 5.99, 5.99, 6.99, 6.99, 6.99, 6.99]   \n",
       "\n",
       "                                          price_date  \\\n",
       "0                                                NaN   \n",
       "1  [1417120656.0, 1434047268.0, 1434994431.0, 144...   \n",
       "2         [1417120656.0, 1434049315.0, 1434996542.0]   \n",
       "3  [1417120656.0, 1417513376.0, 1417545207.0, 141...   \n",
       "4  [1430513702.0, 1431104712.0, 1434045990.0, 143...   \n",
       "\n",
       "                                           sale_bool  \\\n",
       "0                                                 []   \n",
       "1  [0, 0, 0, 0, 0, 0, 0, 0, 0, 0, 0, 0, 0, 0, 1, ...   \n",
       "2  [0, 0, 0, 0, 0, 0, 0, 0, 0, 0, 0, 0, 0, 0, 1, ...   \n",
       "3  [1, 1, 0, 0, 0, 0, 0, 0, 0, 0, 0, 0, 0, 0, 1, ...   \n",
       "4  [0, 0, 0, 0, 0, 0, 0, 0, 0, 0, 0, 1, 0, 0, 1, ...   \n",
       "\n",
       "                                formatted_no_holiday  \\\n",
       "0                                                 []   \n",
       "1  {u'1440522322000': {u'discount': 0, u'initial'...   \n",
       "2  {u'1434996542000': {u'discount': 0, u'initial'...   \n",
       "3  {u'1417545207000': {u'discount': 0, u'initial'...   \n",
       "4  {u'1430513702000': {u'discount': 10, u'initial...   \n",
       "\n",
       "                                sale_bool_no_holiday  \\\n",
       "0                                                 []   \n",
       "1  [[1417120656, 1418330256, 1419539856, 14207494...   \n",
       "2  [[1417120656, 1418330256, 1419539856, 14207494...   \n",
       "3  [[1417120656, 1418330256, 1419539856, 14207494...   \n",
       "4  [[1417120656, 1418330256, 1419539856, 14207494...   \n",
       "\n",
       "                   saledates_no_holiday  \\\n",
       "0                                    []   \n",
       "1                          [1440176720]   \n",
       "2                                    []   \n",
       "3                          [1417513376]   \n",
       "4  [1435268707, 1441127115, 1430513702]   \n",
       "\n",
       "                                       sale_bool_all  \\\n",
       "0                                                 []   \n",
       "1  [[1417120656, 1418330256, 1419539856, 14207494...   \n",
       "2  [[1417120656, 1418330256, 1419539856, 14207494...   \n",
       "3  [[1417120656, 1418330256, 1419539856, 14207494...   \n",
       "4  [[1417120656, 1418330256, 1419539856, 14207494...   \n",
       "\n",
       "                                    price_date_fixed  \n",
       "0                                                NaN  \n",
       "1  [1417120.656, 1434047.268, 1434994.431, 144017...  \n",
       "2            [1417120.656, 1434049.315, 1434996.542]  \n",
       "3  [1417120.656, 1417513.376, 1417545.207, 141892...  \n",
       "4  [1430513.702, 1431104.712, 1434045.99, 1434993...  "
      ]
     },
     "execution_count": 3,
     "metadata": {},
     "output_type": "execute_result"
    }
   ],
   "source": [
    "'''fixing timestamps'''\n",
    "df['price_date_fixed'] = df.price_date.apply(np.array)\n",
    "df.price_date_fixed = df.price_date_fixed * pow(10,-3)\n",
    "df.head()"
   ]
  },
  {
   "cell_type": "code",
   "execution_count": 4,
   "metadata": {
    "collapsed": true
   },
   "outputs": [],
   "source": [
    "def get_ists(in_times):\n",
    "    '''dirty, assumes that each is a sale, which isnt 100% accurate, but close'''\n",
    "    '''ists: intersaletimes'''\n",
    "    times = np.array(in_times)\n",
    "    if not np.array(in_times).size == 1:\n",
    "        ists = in_times[1:] - in_times[:-1]\n",
    "    else:\n",
    "        ists = np.nan\n",
    "    return ists\n"
   ]
  },
  {
   "cell_type": "code",
   "execution_count": 5,
   "metadata": {
    "collapsed": false
   },
   "outputs": [],
   "source": [
    "df['ists'] = df.price_date_fixed.apply(get_ists)"
   ]
  },
  {
   "cell_type": "code",
   "execution_count": 6,
   "metadata": {
    "collapsed": false
   },
   "outputs": [
    {
     "data": {
      "text/plain": [
       "0                                                  NaN\n",
       "1              [16926.612, 947.163, 5182.289, 345.602]\n",
       "2                                 [16928.659, 947.227]\n",
       "3    [392.72, 31.831, 1383.586, 1294.93, 13823.926,...\n",
       "4    [591.01, 2941.278, 947.101, 275.616, 588.011, ...\n",
       "Name: ists, dtype: object"
      ]
     },
     "execution_count": 6,
     "metadata": {},
     "output_type": "execute_result"
    }
   ],
   "source": [
    "df.ists.head()"
   ]
  },
  {
   "cell_type": "code",
   "execution_count": 7,
   "metadata": {
    "collapsed": false
   },
   "outputs": [],
   "source": [
    "df['ists_day'] = df.ists / (60*60*24)"
   ]
  },
  {
   "cell_type": "code",
   "execution_count": 8,
   "metadata": {
    "collapsed": false
   },
   "outputs": [],
   "source": [
    "df['ists_day_mean'] = df.ists_day.apply(np.mean)"
   ]
  },
  {
   "cell_type": "code",
   "execution_count": 9,
   "metadata": {
    "collapsed": false
   },
   "outputs": [
    {
     "data": {
      "text/plain": [
       "0.028310145851135029"
      ]
     },
     "execution_count": 9,
     "metadata": {},
     "output_type": "execute_result"
    }
   ],
   "source": [
    "df['ists_day_mean'].mean()"
   ]
  },
  {
   "cell_type": "code",
   "execution_count": 10,
   "metadata": {
    "collapsed": false
   },
   "outputs": [
    {
     "data": {
      "image/png": "[encoded data removed]",
      "text/plain": [
       "<matplotlib.figure.Figure at 0x7fe99dbbf550>"
      ]
     },
     "metadata": {},
     "output_type": "display_data"
    }
   ],
   "source": [
    "'''make irt list just to see'''\n",
    "plt.xlabel('time between sales')\n",
    "plt.ylabel('days')\n",
    "ist_list = list()\n",
    "for i in df.ists_day:\n",
    "    if not type(i) is float:\n",
    "        ist_list += list(i)\n",
    "\n",
    "ist_arr = np.array(ist_list)\n"
   ]
  },
  {
   "cell_type": "code",
   "execution_count": 11,
   "metadata": {
    "collapsed": false
   },
   "outputs": [
    {
     "data": {
      "text/plain": [
       "195.9098611111107"
      ]
     },
     "execution_count": 11,
     "metadata": {},
     "output_type": "execute_result"
    }
   ],
   "source": [
    "ist_arr[0] * 1000"
   ]
  },
  {
   "cell_type": "code",
   "execution_count": 12,
   "metadata": {
    "collapsed": false
   },
   "outputs": [
    {
     "data": {
      "text/plain": [
       "<matplotlib.text.Text at 0x7fe99dac9c90>"
      ]
     },
     "execution_count": 12,
     "metadata": {},
     "output_type": "execute_result"
    },
    {
     "data": {
      "image/png": "[encoded data removed]",
      "text/plain": [
       "<matplotlib.figure.Figure at 0x7fe99db93b90>"
      ]
     },
     "metadata": {},
     "output_type": "display_data"
    }
   ],
   "source": [
    "# the histogram of the data\n",
    "n, bins, patches = plt.hist(ist_arr * 1000, 18) #x, 50, normed=1, facecolor='green', alpha=0.75)\n",
    "plt.yscale('log', nonposy='clip')\n",
    "plt.xticks(fontsize = 15)\n",
    "plt.yticks(fontsize = 15)\n",
    "# # add a 'best fit' line\n",
    "# y = mlab.normpdf( bins, mu, sigma)\n",
    "# l = plt.plot(bins, y, 'r--', linewidth=1)\n",
    "plt.xlabel('time between fire sales (day)', fontsize = 20)\n",
    "plt.ylabel('frequency', fontsize = 20)"
   ]
  },
  {
   "cell_type": "code",
   "execution_count": 13,
   "metadata": {
    "collapsed": false
   },
   "outputs": [],
   "source": [
    "ist_perserved_list = list()\n",
    "for i in df.price_date_fixed:\n",
    "    if not type(i) is float:\n",
    "        ist_perserved_list.append(np.array(i))"
   ]
  },
  {
   "cell_type": "code",
   "execution_count": 16,
   "metadata": {
    "collapsed": false
   },
   "outputs": [
    {
     "data": {
      "text/plain": [
       "[]"
      ]
     },
     "execution_count": 16,
     "metadata": {},
     "output_type": "execute_result"
    },
    {
     "data": {
      "image/png": "[encoded data removed]",
      "text/plain": [
       "<matplotlib.figure.Figure at 0x7fe997c9d550>"
      ]
     },
     "metadata": {},
     "output_type": "display_data"
    }
   ],
   "source": [
    "fig,ax = plt.subplots()\n",
    "\n",
    "#use ist_perserved_list\n",
    "for i,v in enumerate(ist_perserved_list):\n",
    "    y =  np.ones(v.shape) * i\n",
    "    vd = v / (60.*60.*24.)\n",
    "    ax.plot(vd,y, 'b.')\n",
    "\n",
    "ax.set_ylim([0,500])\n",
    "ax.set_ylabel('individual games', fontsize = 20)\n",
    "ax.set_xlabel('fire sale date', fontsize = 20)\n",
    "ax.set_xticks([])\n",
    "ax.set_yticks([])"
   ]
  },
  {
   "cell_type": "code",
   "execution_count": null,
   "metadata": {
    "collapsed": false
   },
   "outputs": [],
   "source": []
  }
 ],
 "metadata": {
  "kernelspec": {
   "display_name": "Python 2",
   "language": "python",
   "name": "python2"
  },
  "language_info": {
   "codemirror_mode": {
    "name": "ipython",
    "version": 2
   },
   "file_extension": ".py",
   "mimetype": "text/x-python",
   "name": "python",
   "nbconvert_exporter": "python",
   "pygments_lexer": "ipython2",
   "version": "2.7.9"
  }
 },
 "nbformat": 4,
 "nbformat_minor": 0
}
