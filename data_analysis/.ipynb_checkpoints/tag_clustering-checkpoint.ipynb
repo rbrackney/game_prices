{
 "cells": [
  {
   "cell_type": "markdown",
   "metadata": {},
   "source": [
    "<h3> run k-means clustering on steam tags"
   ]
  },
  {
   "cell_type": "code",
   "execution_count": null,
   "metadata": {
    "collapsed": true
   },
   "outputs": [],
   "source": [
    "import os\n",
    "import json\n",
    "from pprint import pprint as pp\n",
    "import pandas as pd\n",
    "from datetime import datetime\n",
    "import time\n",
    "import matplotlib.pyplot as plt\n",
    "import matplotlib.colors as mcolors\n",
    "import seaborn as sns\n",
    "import sklearn\n",
    "from sklearn import metrics\n",
    "from sklearn.cluster import KMeans\n",
    "from sklearn.datasets import load_digits\n",
    "from sklearn.decomposition import PCA\n",
    "from sklearn.preprocessing import scale\n",
    "from sklearn.metrics import silhouette_samples, silhouette_score\n",
    "import numpy as np\n",
    "from sklearn.decomposition import TruncatedSVD\n",
    "from sklearn.manifold import TSNE\n",
    "\n",
    "\n",
    "%matplotlib inline"
   ]
  },
  {
   "cell_type": "code",
   "execution_count": null,
   "metadata": {
    "collapsed": true
   },
   "outputs": [],
   "source": [
    "bool_plot = False\n",
    "save_pickle = True"
   ]
  },
  {
   "cell_type": "code",
   "execution_count": null,
   "metadata": {
    "collapsed": false
   },
   "outputs": [],
   "source": [
    "df = pd.read_pickle('tag_prop.pkl')\n",
    "tag_mat = df.as_matrix(columns=None)"
   ]
  },
  {
   "cell_type": "code",
   "execution_count": null,
   "metadata": {
    "collapsed": false,
    "scrolled": true
   },
   "outputs": [],
   "source": [
    "use_adjust = False\n",
    "if use_adjust:\n",
    "    df_adjust = df\n",
    "    top_n = 12\n",
    "    for column in df:\n",
    "        df_adjust[column] =  (df[column] - min(df[column].nlargest(top_n))).apply(np.ceil).apply(int)\n",
    "    df_adjust = df_adjust.transpose()"
   ]
  },
  {
   "cell_type": "code",
   "execution_count": null,
   "metadata": {
    "collapsed": false
   },
   "outputs": [],
   "source": [
    "\n",
    "df = df.transpose()"
   ]
  },
  {
   "cell_type": "code",
   "execution_count": null,
   "metadata": {
    "collapsed": false
   },
   "outputs": [],
   "source": [
    "tag_names = df.columns.values "
   ]
  },
  {
   "cell_type": "code",
   "execution_count": null,
   "metadata": {
    "collapsed": true
   },
   "outputs": [],
   "source": [
    "if bool_plot:\n",
    "    X_reduced = TruncatedSVD(n_components=50, random_state=0).fit_transform(df)\n",
    "    X_embedded = TSNE(n_components=2, perplexity=40, verbose=2).fit_transform(X_reduced)"
   ]
  },
  {
   "cell_type": "code",
   "execution_count": null,
   "metadata": {
    "collapsed": false
   },
   "outputs": [],
   "source": [
    "cluster_n = 30\n",
    "k_means = KMeans(n_clusters=cluster_n, init='k-means++', max_iter=100, n_init=10,)\n",
    "k_means.fit(df)"
   ]
  },
  {
   "cell_type": "code",
   "execution_count": null,
   "metadata": {
    "collapsed": false
   },
   "outputs": [],
   "source": [
    "'''determine appropriate number of clusters'''\n",
    "\n",
    "X_nfit = df_adjust.as_matrix()\n",
    "#test_clusters = [20,30,40,50,60,70,80,90,100]\n",
    "#test_clusters = [30,50,70,100]\n",
    "#test_clusters = [20,40,80,100,200,300,400,500]\n",
    "test_clusters = [200,400]\n",
    "sil_a_list = list()\n",
    "for nc in test_clusters:\n",
    "    k_means = KMeans(n_clusters=nc, init='k-means++', max_iter=100, n_init=1,)\n",
    "    k_means.fit(X_nfit)\n",
    "    cl_x = k_means.fit_predict(X_nfit)\n",
    "    silhouette_avg = silhouette_score(X_nfit, cl_x)\n",
    "    sil_a_list.append(silhouette_avg)\n",
    "    print(\"For n_clusters =\", nc,\n",
    "      \"The average silhouette_score is :\", silhouette_avg)\n",
    "\n",
    "    #sample_silhouette_values = silhouette_samples(X_nfit, cl_x)"
   ]
  },
  {
   "cell_type": "code",
   "execution_count": null,
   "metadata": {
    "collapsed": false
   },
   "outputs": [],
   "source": [
    "#plt.plot(test_clusters,sil_a_list)"
   ]
  },
  {
   "cell_type": "code",
   "execution_count": null,
   "metadata": {
    "collapsed": false
   },
   "outputs": [],
   "source": [
    "k_means.labels_\n",
    "cluster_bool = list()\n",
    "for i in range(cluster_n):\n",
    "    cur_cluster = k_means.labels_ == i\n",
    "    cluster_bool.append(cur_cluster)"
   ]
  },
  {
   "cell_type": "code",
   "execution_count": null,
   "metadata": {
    "collapsed": false
   },
   "outputs": [],
   "source": [
    "appids = df.index"
   ]
  },
  {
   "cell_type": "code",
   "execution_count": null,
   "metadata": {
    "collapsed": false
   },
   "outputs": [],
   "source": [
    "df_labels = pd.DataFrame({'appid':appids,'cluster':k_means.labels_})\n",
    "if save_pickle:\n",
    "    df_labels.to_pickle('df_kmeans.pkl')"
   ]
  },
  {
   "cell_type": "code",
   "execution_count": null,
   "metadata": {
    "collapsed": true
   },
   "outputs": [],
   "source": [
    "if bool_plot:\n",
    "    '''red to green color map'''\n",
    "    cdict = {'red':   ((0.0, 0.0, 0.0),\n",
    "                       (0.5, 0.0, 0.0),\n",
    "                       (1.0, 1.0, 1.0)),\n",
    "             'blue':  ((0.0, 0.0, 0.0),\n",
    "                       (1.0, 0.0, 0.0)),\n",
    "             'green': ((0.0, 0.0, 1.0),\n",
    "                       (0.5, 0.0, 0.0),\n",
    "                       (1.0, 0.0, 0.0))}\n",
    "\n",
    "    cmap = mcolors.LinearSegmentedColormap(\n",
    "    'my_colormap', cdict, 100)\n",
    "    base_val = 100"
   ]
  },
  {
   "cell_type": "code",
   "execution_count": null,
   "metadata": {
    "collapsed": false
   },
   "outputs": [],
   "source": [
    "'''exploring different color maps for the t-sne'''\n",
    "if bool_plot:\n",
    "    qmaps = ['Accent', 'Dark2', 'Paired', 'Pastel1','Pastel2', 'Set1', 'Set2', 'Set3', 'Spectral']\n",
    "    cmap_name = qmaps[8]\n",
    "    cmap=plt.get_cmap(cmap_name)\n",
    "    base_val = 255\n",
    "    \n",
    "    fig,ax = plt.subplots(1,1,figsize=(10, 10))\n",
    "    for i in range(cluster_n):\n",
    "        cmap_val = int(( (i * 1.0) / (cluster_n - 1)) * base_val)\n",
    "        ax.plot(X_embedded[cluster_bool[i], 0], X_embedded[cluster_bool[i], 1], marker = '.', ls = '', color = cmap(cmap_val))\n",
    "\n",
    "\n"
   ]
  },
  {
   "cell_type": "code",
   "execution_count": null,
   "metadata": {
    "collapsed": false
   },
   "outputs": [],
   "source": [
    "order_centroids = k_means.cluster_centers_.argsort()[:, ::-1]"
   ]
  },
  {
   "cell_type": "code",
   "execution_count": null,
   "metadata": {
    "collapsed": false
   },
   "outputs": [],
   "source": [
    "order_centroids.shape"
   ]
  },
  {
   "cell_type": "code",
   "execution_count": null,
   "metadata": {
    "collapsed": false
   },
   "outputs": [],
   "source": [
    "'''print out the top labels in each category'''\n",
    "top_n_labels = 4\n",
    "order_centroids.shape\n",
    "for i in range(order_centroids.shape[0]):\n",
    "    tn = tag_names[order_centroids[i,0:top_n_labels]]\n",
    "    tn_out = [x.encode('ascii')for x in tn]\n",
    "    print tn_out"
   ]
  },
  {
   "cell_type": "code",
   "execution_count": null,
   "metadata": {
    "collapsed": false
   },
   "outputs": [],
   "source": [
    "df_labels.head()"
   ]
  },
  {
   "cell_type": "code",
   "execution_count": null,
   "metadata": {
    "collapsed": false
   },
   "outputs": [],
   "source": [
    "df_other = pd.read_pickle('steam_features.pkl')\n",
    "df_gn = df_other[['game_name','appid']]"
   ]
  },
  {
   "cell_type": "code",
   "execution_count": null,
   "metadata": {
    "collapsed": false
   },
   "outputs": [],
   "source": [
    "df_labels = pd.merge(df_labels, df_gn, left_on='appid', right_on='appid', how='inner')"
   ]
  },
  {
   "cell_type": "code",
   "execution_count": null,
   "metadata": {
    "collapsed": false
   },
   "outputs": [],
   "source": [
    "df_labels.sort('cluster')"
   ]
  },
  {
   "cell_type": "code",
   "execution_count": null,
   "metadata": {
    "collapsed": true
   },
   "outputs": [],
   "source": [
    "df_pc = pd.read_pickle('df_price_cluster.pkl')"
   ]
  },
  {
   "cell_type": "code",
   "execution_count": null,
   "metadata": {
    "collapsed": false
   },
   "outputs": [],
   "source": [
    "df_pc_out = pd.merge(df_pc[['appid','median_initial_price']],df_labels,left_on='appid', right_on='appid')"
   ]
  },
  {
   "cell_type": "code",
   "execution_count": null,
   "metadata": {
    "collapsed": true
   },
   "outputs": [],
   "source": [
    "if save_pickle:\n",
    "    df_pc.to_pickle('df_price_cluster.pkl')"
   ]
  }
 ],
 "metadata": {
  "kernelspec": {
   "display_name": "Python 2",
   "language": "python",
   "name": "python2"
  },
  "language_info": {
   "codemirror_mode": {
    "name": "ipython",
    "version": 2
   },
   "file_extension": ".py",
   "mimetype": "text/x-python",
   "name": "python",
   "nbconvert_exporter": "python",
   "pygments_lexer": "ipython2",
   "version": "2.7.9"
  }
 },
 "nbformat": 4,
 "nbformat_minor": 0
}
