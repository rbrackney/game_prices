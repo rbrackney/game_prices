{
 "cells": [
  {
   "cell_type": "code",
   "execution_count": 11,
   "metadata": {
    "collapsed": false
   },
   "outputs": [
    {
     "data": {
      "text/plain": [
       "'/home/ryan/Documents/insight_projects/steam_prices/data_analysis'"
      ]
     },
     "execution_count": 11,
     "metadata": {},
     "output_type": "execute_result"
    }
   ],
   "source": [
    "import os\n",
    "from pprint import pprint as pp\n",
    "import pandas as pd\n",
    "import json\n",
    "import numpy as np\n",
    "from scipy import stats\n",
    "import matplotlib.pyplot as plt\n",
    "import itertools\n",
    "import copy\n",
    "import seaborn as sns\n",
    "from sklearn.preprocessing import StandardScaler\n",
    "%matplotlib inline\n",
    "os.getcwd()"
   ]
  },
  {
   "cell_type": "code",
   "execution_count": 12,
   "metadata": {
    "collapsed": false
   },
   "outputs": [
    {
     "name": "stdout",
     "output_type": "stream",
     "text": [
      "21\n"
     ]
    }
   ],
   "source": [
    "df = pd.read_pickle('df_steamdb_timeseries.pkl')\n",
    "since_sale_len = len(df.since_sale_lists[1])\n",
    "print since_sale_len"
   ]
  },
  {
   "cell_type": "code",
   "execution_count": 13,
   "metadata": {
    "collapsed": false
   },
   "outputs": [],
   "source": [
    "#df.head()\n",
    "current_epoch =  20 #the epoch in the bool list to predict\n",
    "drop_columns = ['fprice','iprice','price_date','sale_bool',\n",
    "                'formatted_no_holiday','saledates_no_holiday',\n",
    "               'sale_bool_all','min_iprice','mip_slopes','dirty_isi']\n",
    "df_feat_space = df.drop(drop_columns,axis=1)\n",
    "df_feat_space = df_feat_space[df_feat_space.formatted.map(type) != type([])]\n",
    "#df_feat_space = df_feat_space.drop(['formatted'])\n",
    "#df_feat_space['specific_epoch_time_since'] = df_feat_space.since_sale_lists[3]\n",
    "#df.head()"
   ]
  },
  {
   "cell_type": "code",
   "execution_count": 14,
   "metadata": {
    "collapsed": false,
    "scrolled": true
   },
   "outputs": [],
   "source": [
    "'''empty list replace'''\n",
    "replacement_empty_list = list(df.iloc[1].sale_bool_no_holiday[0] - df.iloc[1].sale_bool_no_holiday[0][0] + (60*60*24*100.0))\n",
    "#if there are no values, for now just use this empty list that assumes the last sale was more than one hundred days ago\n",
    "#however, this may be problematic if there's a negative correlation for games with sales and the time since the last game\n",
    "#to_series = df_feat_space.since_sale_lists\n",
    "\n",
    "to_series = df_feat_space.since_sale_lists\n",
    "check = [x for x in to_series]\n",
    "check_copy = copy.deepcopy(check)\n",
    "\n",
    "just_one_epoch = list()\n",
    "for i,v in enumerate(check):\n",
    "    if v == []:\n",
    "        check_copy[i] = replacement_empty_list\n",
    "    cur_epoch_time_since = check_copy[i][current_epoch]\n",
    "    just_one_epoch.append(cur_epoch_time_since)\n",
    "\n",
    "df_feat_space['specific_epoch_time_since'] = just_one_epoch\n",
    "#rint(check)\n",
    "#[df_feat_space.head().iloc['since_sale_lists']"
   ]
  },
  {
   "cell_type": "code",
   "execution_count": 15,
   "metadata": {
    "collapsed": false
   },
   "outputs": [
    {
     "data": {
      "text/html": [
       "<div style=\"max-height:1000px;max-width:1500px;overflow:auto;\">\n",
       "<table border=\"1\" class=\"dataframe\">\n",
       "  <thead>\n",
       "    <tr style=\"text-align: right;\">\n",
       "      <th></th>\n",
       "      <th>appid</th>\n",
       "      <th>formatted</th>\n",
       "      <th>fprice</th>\n",
       "      <th>iprice</th>\n",
       "      <th>price_date</th>\n",
       "      <th>sale_bool</th>\n",
       "      <th>formatted_no_holiday</th>\n",
       "      <th>sale_bool_no_holiday</th>\n",
       "      <th>saledates_no_holiday</th>\n",
       "      <th>sale_bool_all</th>\n",
       "      <th>sale_count</th>\n",
       "      <th>min_iprice</th>\n",
       "      <th>mip_slopes</th>\n",
       "      <th>has_price_slope</th>\n",
       "      <th>dirty_isi</th>\n",
       "      <th>dirty_isi_mean</th>\n",
       "      <th>since_sale_lists</th>\n",
       "    </tr>\n",
       "  </thead>\n",
       "  <tbody>\n",
       "    <tr>\n",
       "      <th>0</th>\n",
       "      <td>   2430</td>\n",
       "      <td>                                                []</td>\n",
       "      <td>                                              NaN</td>\n",
       "      <td>                                              NaN</td>\n",
       "      <td>                                               NaN</td>\n",
       "      <td>                                                []</td>\n",
       "      <td>                                                []</td>\n",
       "      <td>                                                []</td>\n",
       "      <td>                                   []</td>\n",
       "      <td>                                                []</td>\n",
       "      <td> 0</td>\n",
       "      <td>                                             None</td>\n",
       "      <td>NaN</td>\n",
       "      <td> False</td>\n",
       "      <td>                           [24956905]</td>\n",
       "      <td> 288</td>\n",
       "      <td>                                                []</td>\n",
       "    </tr>\n",
       "    <tr>\n",
       "      <th>1</th>\n",
       "      <td> 297750</td>\n",
       "      <td> {u'1434047268000': {u'discount': 25, u'initial...</td>\n",
       "      <td>              [39.99, 29.99, 39.99, 19.99, 39.99]</td>\n",
       "      <td>              [39.99, 39.99, 39.99, 39.99, 39.99]</td>\n",
       "      <td> [1417120656.0, 1434047268.0, 1434994431.0, 144...</td>\n",
       "      <td> [0, 0, 0, 0, 0, 0, 0, 0, 0, 0, 0, 0, 0, 0, 1, ...</td>\n",
       "      <td> {u'1440522322000': {u'discount': 0, u'initial'...</td>\n",
       "      <td> [[1417120656, 1418330256, 1419539856, 14207494...</td>\n",
       "      <td>                         [1440176720]</td>\n",
       "      <td> [[1417120656, 1418330256, 1419539856, 14207494...</td>\n",
       "      <td> 1</td>\n",
       "      <td>              [39.99, 39.99, 39.99, 39.99, 39.99]</td>\n",
       "      <td>  0</td>\n",
       "      <td> False</td>\n",
       "      <td>                  [23056064, 1900841]</td>\n",
       "      <td> 144</td>\n",
       "      <td> [0, 1209600, 2419200, 3628800, 4838400, 604800...</td>\n",
       "    </tr>\n",
       "    <tr>\n",
       "      <th>2</th>\n",
       "      <td>  19080</td>\n",
       "      <td> {u'1434049315000': {u'discount': 75, u'initial...</td>\n",
       "      <td>                               [9.99, 2.49, 9.99]</td>\n",
       "      <td>                               [9.99, 9.99, 9.99]</td>\n",
       "      <td>        [1417120656.0, 1434049315.0, 1434996542.0]</td>\n",
       "      <td> [0, 0, 0, 0, 0, 0, 0, 0, 0, 0, 0, 0, 0, 0, 1, ...</td>\n",
       "      <td> {u'1434996542000': {u'discount': 0, u'initial'...</td>\n",
       "      <td> [[1417120656, 1418330256, 1419539856, 14207494...</td>\n",
       "      <td>                                   []</td>\n",
       "      <td> [[1417120656, 1418330256, 1419539856, 14207494...</td>\n",
       "      <td> 0</td>\n",
       "      <td>                               [9.99, 9.99, 9.99]</td>\n",
       "      <td>  0</td>\n",
       "      <td> False</td>\n",
       "      <td>                           [24956905]</td>\n",
       "      <td> 288</td>\n",
       "      <td> [0, 1209600, 2419200, 3628800, 4838400, 604800...</td>\n",
       "    </tr>\n",
       "    <tr>\n",
       "      <th>3</th>\n",
       "      <td> 278850</td>\n",
       "      <td> {u'1417513376000': {u'discount': 50, u'initial...</td>\n",
       "      <td>       [4.99, 2.49, 4.99, 2.49, 4.99, 1.49, 4.99]</td>\n",
       "      <td>       [4.99, 4.99, 4.99, 4.99, 4.99, 4.99, 4.99]</td>\n",
       "      <td> [1417120656.0, 1417513376.0, 1417545207.0, 141...</td>\n",
       "      <td> [1, 1, 0, 0, 0, 0, 0, 0, 0, 0, 0, 0, 0, 0, 1, ...</td>\n",
       "      <td> {u'1420223723000': {u'discount': 0, u'initial'...</td>\n",
       "      <td> [[1417120656, 1418330256, 1419539856, 14207494...</td>\n",
       "      <td>                         [1417513376]</td>\n",
       "      <td> [[1417120656, 1418330256, 1419539856, 14207494...</td>\n",
       "      <td> 1</td>\n",
       "      <td>       [4.99, 4.99, 4.99, 4.99, 4.99, 4.99, 4.99]</td>\n",
       "      <td>  0</td>\n",
       "      <td> False</td>\n",
       "      <td>                   [392720, 24564185]</td>\n",
       "      <td> 144</td>\n",
       "      <td> [0, 816880, 2026480, 3236080, 4445680, 5655280...</td>\n",
       "    </tr>\n",
       "    <tr>\n",
       "      <th>4</th>\n",
       "      <td> 367260</td>\n",
       "      <td> {u'1430513702000': {u'discount': 10, u'initial...</td>\n",
       "      <td> [5.39, 5.99, 4.01, 5.99, 6.29, 6.99, 5.24, 6.99]</td>\n",
       "      <td> [5.99, 5.99, 5.99, 5.99, 5.99, 5.99, 5.99, 5.99]</td>\n",
       "      <td> [1430513702.0, 1431104712.0, 1434045990.0, 143...</td>\n",
       "      <td> [0, 0, 0, 0, 0, 0, 0, 0, 0, 0, 0, 1, 0, 0, 1, ...</td>\n",
       "      <td> {u'1435856718000': {u'discount': 0, u'initial'...</td>\n",
       "      <td> [[1417120656, 1418330256, 1419539856, 14207494...</td>\n",
       "      <td> [1435268707, 1441127115, 1430513702]</td>\n",
       "      <td> [[1417120656, 1418330256, 1419539856, 14207494...</td>\n",
       "      <td> 3</td>\n",
       "      <td> [5.99, 5.99, 5.99, 5.99, 5.99, 5.99, 5.99, 5.99]</td>\n",
       "      <td>  0</td>\n",
       "      <td> False</td>\n",
       "      <td> [13393046, 4755005, 5858408, 950446]</td>\n",
       "      <td>  72</td>\n",
       "      <td> [0, 1209600, 2419200, 3628800, 4838400, 604800...</td>\n",
       "    </tr>\n",
       "  </tbody>\n",
       "</table>\n",
       "</div>"
      ],
      "text/plain": [
       "    appid                                          formatted  \\\n",
       "0    2430                                                 []   \n",
       "1  297750  {u'1434047268000': {u'discount': 25, u'initial...   \n",
       "2   19080  {u'1434049315000': {u'discount': 75, u'initial...   \n",
       "3  278850  {u'1417513376000': {u'discount': 50, u'initial...   \n",
       "4  367260  {u'1430513702000': {u'discount': 10, u'initial...   \n",
       "\n",
       "                                             fprice  \\\n",
       "0                                               NaN   \n",
       "1               [39.99, 29.99, 39.99, 19.99, 39.99]   \n",
       "2                                [9.99, 2.49, 9.99]   \n",
       "3        [4.99, 2.49, 4.99, 2.49, 4.99, 1.49, 4.99]   \n",
       "4  [5.39, 5.99, 4.01, 5.99, 6.29, 6.99, 5.24, 6.99]   \n",
       "\n",
       "                                             iprice  \\\n",
       "0                                               NaN   \n",
       "1               [39.99, 39.99, 39.99, 39.99, 39.99]   \n",
       "2                                [9.99, 9.99, 9.99]   \n",
       "3        [4.99, 4.99, 4.99, 4.99, 4.99, 4.99, 4.99]   \n",
       "4  [5.99, 5.99, 5.99, 5.99, 5.99, 5.99, 5.99, 5.99]   \n",
       "\n",
       "                                          price_date  \\\n",
       "0                                                NaN   \n",
       "1  [1417120656.0, 1434047268.0, 1434994431.0, 144...   \n",
       "2         [1417120656.0, 1434049315.0, 1434996542.0]   \n",
       "3  [1417120656.0, 1417513376.0, 1417545207.0, 141...   \n",
       "4  [1430513702.0, 1431104712.0, 1434045990.0, 143...   \n",
       "\n",
       "                                           sale_bool  \\\n",
       "0                                                 []   \n",
       "1  [0, 0, 0, 0, 0, 0, 0, 0, 0, 0, 0, 0, 0, 0, 1, ...   \n",
       "2  [0, 0, 0, 0, 0, 0, 0, 0, 0, 0, 0, 0, 0, 0, 1, ...   \n",
       "3  [1, 1, 0, 0, 0, 0, 0, 0, 0, 0, 0, 0, 0, 0, 1, ...   \n",
       "4  [0, 0, 0, 0, 0, 0, 0, 0, 0, 0, 0, 1, 0, 0, 1, ...   \n",
       "\n",
       "                                formatted_no_holiday  \\\n",
       "0                                                 []   \n",
       "1  {u'1440522322000': {u'discount': 0, u'initial'...   \n",
       "2  {u'1434996542000': {u'discount': 0, u'initial'...   \n",
       "3  {u'1420223723000': {u'discount': 0, u'initial'...   \n",
       "4  {u'1435856718000': {u'discount': 0, u'initial'...   \n",
       "\n",
       "                                sale_bool_no_holiday  \\\n",
       "0                                                 []   \n",
       "1  [[1417120656, 1418330256, 1419539856, 14207494...   \n",
       "2  [[1417120656, 1418330256, 1419539856, 14207494...   \n",
       "3  [[1417120656, 1418330256, 1419539856, 14207494...   \n",
       "4  [[1417120656, 1418330256, 1419539856, 14207494...   \n",
       "\n",
       "                   saledates_no_holiday  \\\n",
       "0                                    []   \n",
       "1                          [1440176720]   \n",
       "2                                    []   \n",
       "3                          [1417513376]   \n",
       "4  [1435268707, 1441127115, 1430513702]   \n",
       "\n",
       "                                       sale_bool_all  sale_count  \\\n",
       "0                                                 []           0   \n",
       "1  [[1417120656, 1418330256, 1419539856, 14207494...           1   \n",
       "2  [[1417120656, 1418330256, 1419539856, 14207494...           0   \n",
       "3  [[1417120656, 1418330256, 1419539856, 14207494...           1   \n",
       "4  [[1417120656, 1418330256, 1419539856, 14207494...           3   \n",
       "\n",
       "                                         min_iprice  mip_slopes  \\\n",
       "0                                              None         NaN   \n",
       "1               [39.99, 39.99, 39.99, 39.99, 39.99]           0   \n",
       "2                                [9.99, 9.99, 9.99]           0   \n",
       "3        [4.99, 4.99, 4.99, 4.99, 4.99, 4.99, 4.99]           0   \n",
       "4  [5.99, 5.99, 5.99, 5.99, 5.99, 5.99, 5.99, 5.99]           0   \n",
       "\n",
       "  has_price_slope                             dirty_isi  dirty_isi_mean  \\\n",
       "0           False                            [24956905]             288   \n",
       "1           False                   [23056064, 1900841]             144   \n",
       "2           False                            [24956905]             288   \n",
       "3           False                    [392720, 24564185]             144   \n",
       "4           False  [13393046, 4755005, 5858408, 950446]              72   \n",
       "\n",
       "                                    since_sale_lists  \n",
       "0                                                 []  \n",
       "1  [0, 1209600, 2419200, 3628800, 4838400, 604800...  \n",
       "2  [0, 1209600, 2419200, 3628800, 4838400, 604800...  \n",
       "3  [0, 816880, 2026480, 3236080, 4445680, 5655280...  \n",
       "4  [0, 1209600, 2419200, 3628800, 4838400, 604800...  "
      ]
     },
     "execution_count": 15,
     "metadata": {},
     "output_type": "execute_result"
    }
   ],
   "source": [
    "df.head()"
   ]
  },
  {
   "cell_type": "code",
   "execution_count": 16,
   "metadata": {
    "collapsed": false
   },
   "outputs": [],
   "source": [
    "'''make y values'''\n",
    "y = list()\n",
    "for i,v in enumerate(df_feat_space.sale_bool_no_holiday):\n",
    "    if v == []:\n",
    "        y_in = 0\n",
    "    else:\n",
    "        y_in = v[1][current_epoch] #1 is the index of the boolean list\n",
    "    y.append(y_in)\n",
    "\n",
    "y = np.array(y)"
   ]
  },
  {
   "cell_type": "code",
   "execution_count": 17,
   "metadata": {
    "collapsed": false
   },
   "outputs": [],
   "source": [
    "drop_more_columns = ['appid','formatted','since_sale_lists', 'sale_bool_no_holiday']\n",
    "df_feat_space = df_feat_space.drop(drop_more_columns,axis=1)\n"
   ]
  },
  {
   "cell_type": "code",
   "execution_count": 18,
   "metadata": {
    "collapsed": true
   },
   "outputs": [],
   "source": [
    "'''change boolean into 1 or 0'''\n",
    "df_feat_space.has_price_slope = df_feat_space.has_price_slope.apply(lambda x:x*1)"
   ]
  },
  {
   "cell_type": "code",
   "execution_count": 19,
   "metadata": {
    "collapsed": false
   },
   "outputs": [],
   "source": [
    "X = df_feat_space.as_matrix().astype(np.float)"
   ]
  },
  {
   "cell_type": "code",
   "execution_count": 20,
   "metadata": {
    "collapsed": false
   },
   "outputs": [
    {
     "name": "stdout",
     "output_type": "stream",
     "text": [
      "Feature space holds 5592 observations and 4 features\n"
     ]
    }
   ],
   "source": [
    "scaler = StandardScaler()\n",
    "X = scaler.fit_transform(X)\n",
    "print \"Feature space holds %d observations and %d features\" % X.shape"
   ]
  },
  {
   "cell_type": "code",
   "execution_count": 21,
   "metadata": {
    "collapsed": false
   },
   "outputs": [],
   "source": [
    "from sklearn.cross_validation import KFold\n",
    "\n",
    "def run_cv(X,y,clf_class,**kwargs):\n",
    "    # Construct a kfolds object\n",
    "    kf = KFold(len(y),n_folds=5,shuffle=True)\n",
    "    y_pred = y.copy()\n",
    "    \n",
    "    # Iterate through folds\n",
    "    for train_index, test_index in kf:\n",
    "        X_train, X_test = X[train_index], X[test_index]\n",
    "        y_train = y[train_index]\n",
    "        # Initialize a classifier with key word arguments\n",
    "        clf = clf_class(**kwargs)\n",
    "        clf.fit(X_train,y_train)\n",
    "        y_pred[test_index] = clf.predict(X_test)\n",
    "    return y_pred"
   ]
  },
  {
   "cell_type": "code",
   "execution_count": 22,
   "metadata": {
    "collapsed": false
   },
   "outputs": [
    {
     "name": "stdout",
     "output_type": "stream",
     "text": [
      "Support vector machines:\n",
      "0.903\n",
      "Random forest:\n",
      "0.967\n",
      "K-nearest-neighbors:\n",
      "0.958\n"
     ]
    }
   ],
   "source": [
    "from sklearn.svm import SVC\n",
    "from sklearn.ensemble import RandomForestClassifier as RF\n",
    "from sklearn.neighbors import KNeighborsClassifier as KNN\n",
    "\n",
    "def accuracy(y_true,y_pred):\n",
    "    # NumPy interprets True and False as 1. and 0.\n",
    "    return np.mean(y_true == y_pred)\n",
    "\n",
    "print \"Support vector machines:\"\n",
    "print \"%.3f\" % accuracy(y, run_cv(X,y,SVC))\n",
    "print \"Random forest:\"\n",
    "print \"%.3f\" % accuracy(y, run_cv(X,y,RF))\n",
    "print \"K-nearest-neighbors:\"\n",
    "print \"%.3f\" % accuracy(y, run_cv(X,y,KNN))"
   ]
  },
  {
   "cell_type": "code",
   "execution_count": 23,
   "metadata": {
    "collapsed": false
   },
   "outputs": [],
   "source": [
    "chance_accuracy = (1 - sum(y)*1.0 / y.size)"
   ]
  },
  {
   "cell_type": "code",
   "execution_count": null,
   "metadata": {
    "collapsed": true
   },
   "outputs": [],
   "source": []
  }
 ],
 "metadata": {
  "kernelspec": {
   "display_name": "Python 2",
   "language": "python",
   "name": "python2"
  },
  "language_info": {
   "codemirror_mode": {
    "name": "ipython",
    "version": 2
   },
   "file_extension": ".py",
   "mimetype": "text/x-python",
   "name": "python",
   "nbconvert_exporter": "python",
   "pygments_lexer": "ipython2",
   "version": "2.7.9"
  }
 },
 "nbformat": 4,
 "nbformat_minor": 0
}
