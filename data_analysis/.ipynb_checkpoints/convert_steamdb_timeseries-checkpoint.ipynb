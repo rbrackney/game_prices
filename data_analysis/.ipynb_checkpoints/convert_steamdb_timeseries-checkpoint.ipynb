{
 "cells": [
  {
   "cell_type": "markdown",
   "metadata": {},
   "source": [
    "Converts steamdb timeseries (prices when changed at timestamps) to standardized time series where the date is part of the week. <br>\n",
    "Divide into weeks\n",
    "\n",
    "Plan:<br>\n",
    "*convert to minimum time series\n",
    "*divide into weeks\n",
    "\n"
   ]
  },
  {
   "cell_type": "code",
   "execution_count": 1,
   "metadata": {
    "collapsed": false
   },
   "outputs": [
    {
     "data": {
      "text/plain": [
       "'/home/ryan/Documents/insight_projects/steam_prices/data_analysis'"
      ]
     },
     "execution_count": 1,
     "metadata": {},
     "output_type": "execute_result"
    }
   ],
   "source": [
    "import os\n",
    "from pprint import pprint as pp\n",
    "import pandas as pd\n",
    "import json\n",
    "import numpy as np\n",
    "from scipy import stats\n",
    "import matplotlib.pyplot as plt\n",
    "import numpy as np\n",
    "import copy\n",
    "%matplotlib inline\n",
    "os.getcwd()"
   ]
  },
  {
   "cell_type": "code",
   "execution_count": 2,
   "metadata": {
    "collapsed": false
   },
   "outputs": [],
   "source": [
    "df = pd.read_pickle('df_steam_db.pkl')\n"
   ]
  },
  {
   "cell_type": "code",
   "execution_count": 3,
   "metadata": {
    "collapsed": false
   },
   "outputs": [
    {
     "data": {
      "text/html": [
       "<div style=\"max-height:1000px;max-width:1500px;overflow:auto;\">\n",
       "<table border=\"1\" class=\"dataframe\">\n",
       "  <thead>\n",
       "    <tr style=\"text-align: right;\">\n",
       "      <th></th>\n",
       "      <th>appid</th>\n",
       "      <th>fprice</th>\n",
       "      <th>iprice</th>\n",
       "      <th>price_date</th>\n",
       "      <th>min_fprice</th>\n",
       "      <th>min_iprice</th>\n",
       "      <th>min_iprice_var</th>\n",
       "      <th>min_iprice_slope</th>\n",
       "      <th>min_iprice_intercept</th>\n",
       "      <th>price_date_fixed</th>\n",
       "    </tr>\n",
       "  </thead>\n",
       "  <tbody>\n",
       "    <tr>\n",
       "      <th>0</th>\n",
       "      <td>   2430</td>\n",
       "      <td>                                              NaN</td>\n",
       "      <td>                                              NaN</td>\n",
       "      <td>                                               NaN</td>\n",
       "      <td>                                              NaN</td>\n",
       "      <td>                                              NaN</td>\n",
       "      <td>          NaN</td>\n",
       "      <td>NaN</td>\n",
       "      <td>   NaN</td>\n",
       "      <td>                                               NaN</td>\n",
       "    </tr>\n",
       "    <tr>\n",
       "      <th>1</th>\n",
       "      <td> 297750</td>\n",
       "      <td>              [39.99, 29.99, 29.99, 19.99, 19.99]</td>\n",
       "      <td>              [39.99, 39.99, 39.99, 39.99, 39.99]</td>\n",
       "      <td> [1.417120656e+12, 1.434047268e+12, 1.434994431...</td>\n",
       "      <td>              [39.99, 29.99, 29.99, 19.99, 19.99]</td>\n",
       "      <td>              [39.99, 39.99, 39.99, 39.99, 39.99]</td>\n",
       "      <td> 0.000000e+00</td>\n",
       "      <td>  0</td>\n",
       "      <td> 39.99</td>\n",
       "      <td> [1417120656.0, 1434047268.0, 1434994431.0, 144...</td>\n",
       "    </tr>\n",
       "    <tr>\n",
       "      <th>2</th>\n",
       "      <td>  19080</td>\n",
       "      <td>                               [9.99, 2.49, 2.49]</td>\n",
       "      <td>                               [9.99, 9.99, 9.99]</td>\n",
       "      <td> [1.417120656e+12, 1.434049315e+12, 1.434996542...</td>\n",
       "      <td>                               [9.99, 2.49, 2.49]</td>\n",
       "      <td>                               [9.99, 9.99, 9.99]</td>\n",
       "      <td> 0.000000e+00</td>\n",
       "      <td>  0</td>\n",
       "      <td>  9.99</td>\n",
       "      <td>        [1417120656.0, 1434049315.0, 1434996542.0]</td>\n",
       "    </tr>\n",
       "    <tr>\n",
       "      <th>3</th>\n",
       "      <td> 278850</td>\n",
       "      <td>       [4.99, 2.49, 2.49, 2.49, 2.49, 1.49, 1.49]</td>\n",
       "      <td>       [4.99, 4.99, 4.99, 4.99, 4.99, 4.99, 4.99]</td>\n",
       "      <td> [1.417120656e+12, 1.417513376e+12, 1.417545207...</td>\n",
       "      <td>       [4.99, 2.49, 2.49, 2.49, 2.49, 1.49, 1.49]</td>\n",
       "      <td>       [4.99, 4.99, 4.99, 4.99, 4.99, 4.99, 4.99]</td>\n",
       "      <td> 7.888609e-31</td>\n",
       "      <td>  0</td>\n",
       "      <td>  4.99</td>\n",
       "      <td> [1417120656.0, 1417513376.0, 1417545207.0, 141...</td>\n",
       "    </tr>\n",
       "    <tr>\n",
       "      <th>4</th>\n",
       "      <td> 367260</td>\n",
       "      <td> [5.39, 5.39, 4.01, 4.01, 4.01, 4.01, 4.01, 4.01]</td>\n",
       "      <td> [5.99, 5.99, 5.99, 5.99, 5.99, 5.99, 5.99, 5.99]</td>\n",
       "      <td> [1.430513702e+12, 1.431104712e+12, 1.43404599e...</td>\n",
       "      <td> [5.39, 5.39, 4.01, 4.01, 4.01, 4.01, 4.01, 4.01]</td>\n",
       "      <td> [5.99, 5.99, 5.99, 5.99, 5.99, 5.99, 5.99, 5.99]</td>\n",
       "      <td> 7.888609e-31</td>\n",
       "      <td>  0</td>\n",
       "      <td>  5.99</td>\n",
       "      <td> [1430513702.0, 1431104712.0, 1434045990.0, 143...</td>\n",
       "    </tr>\n",
       "  </tbody>\n",
       "</table>\n",
       "</div>"
      ],
      "text/plain": [
       "    appid                                            fprice  \\\n",
       "0    2430                                               NaN   \n",
       "1  297750               [39.99, 29.99, 29.99, 19.99, 19.99]   \n",
       "2   19080                                [9.99, 2.49, 2.49]   \n",
       "3  278850        [4.99, 2.49, 2.49, 2.49, 2.49, 1.49, 1.49]   \n",
       "4  367260  [5.39, 5.39, 4.01, 4.01, 4.01, 4.01, 4.01, 4.01]   \n",
       "\n",
       "                                             iprice  \\\n",
       "0                                               NaN   \n",
       "1               [39.99, 39.99, 39.99, 39.99, 39.99]   \n",
       "2                                [9.99, 9.99, 9.99]   \n",
       "3        [4.99, 4.99, 4.99, 4.99, 4.99, 4.99, 4.99]   \n",
       "4  [5.99, 5.99, 5.99, 5.99, 5.99, 5.99, 5.99, 5.99]   \n",
       "\n",
       "                                          price_date  \\\n",
       "0                                                NaN   \n",
       "1  [1.417120656e+12, 1.434047268e+12, 1.434994431...   \n",
       "2  [1.417120656e+12, 1.434049315e+12, 1.434996542...   \n",
       "3  [1.417120656e+12, 1.417513376e+12, 1.417545207...   \n",
       "4  [1.430513702e+12, 1.431104712e+12, 1.43404599e...   \n",
       "\n",
       "                                         min_fprice  \\\n",
       "0                                               NaN   \n",
       "1               [39.99, 29.99, 29.99, 19.99, 19.99]   \n",
       "2                                [9.99, 2.49, 2.49]   \n",
       "3        [4.99, 2.49, 2.49, 2.49, 2.49, 1.49, 1.49]   \n",
       "4  [5.39, 5.39, 4.01, 4.01, 4.01, 4.01, 4.01, 4.01]   \n",
       "\n",
       "                                         min_iprice  min_iprice_var  \\\n",
       "0                                               NaN             NaN   \n",
       "1               [39.99, 39.99, 39.99, 39.99, 39.99]    0.000000e+00   \n",
       "2                                [9.99, 9.99, 9.99]    0.000000e+00   \n",
       "3        [4.99, 4.99, 4.99, 4.99, 4.99, 4.99, 4.99]    7.888609e-31   \n",
       "4  [5.99, 5.99, 5.99, 5.99, 5.99, 5.99, 5.99, 5.99]    7.888609e-31   \n",
       "\n",
       "   min_iprice_slope  min_iprice_intercept  \\\n",
       "0               NaN                   NaN   \n",
       "1                 0                 39.99   \n",
       "2                 0                  9.99   \n",
       "3                 0                  4.99   \n",
       "4                 0                  5.99   \n",
       "\n",
       "                                    price_date_fixed  \n",
       "0                                                NaN  \n",
       "1  [1417120656.0, 1434047268.0, 1434994431.0, 144...  \n",
       "2         [1417120656.0, 1434049315.0, 1434996542.0]  \n",
       "3  [1417120656.0, 1417513376.0, 1417545207.0, 141...  \n",
       "4  [1430513702.0, 1431104712.0, 1434045990.0, 143...  "
      ]
     },
     "execution_count": 3,
     "metadata": {},
     "output_type": "execute_result"
    }
   ],
   "source": [
    "'''fixing timestamps'''\n",
    "df['price_date_fixed'] = df.price_date.apply(np.array)\n",
    "df.price_date_fixed = df.price_date_fixed * pow(10,-3)\n",
    "df.head()"
   ]
  },
  {
   "cell_type": "code",
   "execution_count": 8,
   "metadata": {
    "collapsed": false
   },
   "outputs": [],
   "source": [
    "\n",
    "def timestamptodays(timestamp_vec):\n",
    "    '''time stamps to days. Not sure if it is still being used. Check later'''\n",
    "    if type(timestamp_vec) is float:\n",
    "        s_ts = np.array(timestamp_vec) * pow(10,-3) #for some reason, the timestamps were saved with 3 extra zeros\n",
    "        s_ts = s_ts - s_ts[0]\n",
    "        s_ts = s_ts / (60*60*24) #divide by seconds in a day        \n",
    "    else:\n",
    "        s_ts = np.nan\n",
    "    return s_ts"
   ]
  },
  {
   "cell_type": "code",
   "execution_count": 9,
   "metadata": {
    "collapsed": false
   },
   "outputs": [
    {
     "name": "stdout",
     "output_type": "stream",
     "text": [
      "1417120656\n",
      "1442077561\n"
     ]
    }
   ],
   "source": [
    "'''determine the minimum timestamp in the series'''\n",
    "\n",
    "def get_min(in_list):\n",
    "    if not np.array(in_list).size == 1: #all timestamps with nan are equalt to size 1.\n",
    "        #not sure if others are (need to check)\n",
    "        s_ts = np.array(in_list) * pow(10,-3)\n",
    "        min_val = np.min(np.array(s_ts))\n",
    "        \n",
    "    else:\n",
    "        min_val = np.inf\n",
    "    return min_val\n",
    "\n",
    "'''THIS DOESN'T FOLLOW THE DON'T REPEAT YOURSELF RULE, BUT IN A CRUNCH. GO BACK LATER AND CHANGE'''\n",
    "def get_max(in_list):\n",
    "    if not np.array(in_list).size == 1: #all timestamps with nan are equalt to size 1. \n",
    "                                        #not sure if others are (need to check)\n",
    "        s_ts = np.array(in_list) * pow(10,-3)\n",
    "        max_val = np.max(np.array(s_ts))\n",
    "        \n",
    "    else:\n",
    "        max_val = -np.inf\n",
    "    return max_val\n",
    "min_timestamp = int(df.price_date.apply(get_min).min())\n",
    "max_timestamp = int(df.price_date.apply(get_max).max())\n",
    "\n",
    "print min_timestamp\n",
    "print max_timestamp"
   ]
  },
  {
   "cell_type": "code",
   "execution_count": 22,
   "metadata": {
    "collapsed": false
   },
   "outputs": [],
   "source": [
    "def convert_to_biweekly(pdfi, ipi, fpi):\n",
    "    '''\n",
    "    pdfi: price_dates (in timestamps)\n",
    "    ipi: initial prices\n",
    "    fpi: final prices\n",
    "    \n",
    "    make sure to input with the fixed time stamps\n",
    "    '''\n",
    "    #pdfi = df.price_date_fixed.iloc[samp]\n",
    "    #ipi = np.array(df.iprice.iloc[samp])\n",
    "    #fpi = np.array(df.fprice.iloc[samp])\n",
    "    #dt = np.append(np.array(pdfi),(np.array(pdfi) + day_sec/10))\n",
    "    dt = np.array(pdfi)\n",
    "    price = np.append(ipi,fpi)\n",
    "    price_type = ['i'] * ipi.size + ['f'] * fpi.size\n",
    "\n",
    "    #df_dp = pd.DataFrame({'price':price,'timestamp':dt, 'price_type':price_type}).sort(['timestamp'])\n",
    "\n",
    "    week_sec = 7 * 24 * 60 * 60\n",
    "    #day_sec = 24 * 60 * 60\n",
    "    timestamp_range = np.arange(min_timestamp,max_timestamp,week_sec / 2)\n",
    "\n",
    "\n",
    "\n",
    "    price_val = np.empty(timestamp_range.size)\n",
    "    price_val[:] = np.nan\n",
    "\n",
    "\n",
    "    for i,v in np.ndenumerate(dt):#make sure s_ts is a 1-D numpy array\n",
    "        time_delta =  np.abs(v - timestamp_range)\n",
    "        min_dif = np.argmin(time_delta)\n",
    "        if min_dif.size == 1:\n",
    "            dif_ix = int(min_dif)\n",
    "        else:\n",
    "            dif_ix = int(min_dif[0])\n",
    "        price_val[dif_ix] = ipi[i]\n",
    "        if not dif_ix + 1 > fpi.size:\n",
    "            price_val[dif_ix + 1] = fpi[i]\n",
    "        \n",
    "\n",
    "\n",
    "    price_val_reverse = copy.deepcopy(price_val[::-1])\n",
    "    price_val_reverse2 = price_val_reverse #for inputting new values into during iteration\n",
    "    for i,v in np.ndenumerate(price_val_reverse):\n",
    "        if i[0] > 0 and np.isnan(v):\n",
    "            price_val_reverse2[i[0]] = price_val_reverse2[i[0]-1]\n",
    "\n",
    "    '''fill in trailing nans'''\n",
    "    price_val2 = price_val_reverse2[::-1]\n",
    "    price_val3 = copy.deepcopy(price_val2)\n",
    "    for i,v in np.ndenumerate(price_val3):\n",
    "        if i[0] > 1 and np.isnan(v):\n",
    "            price_val3[i[0]] = np.median(price_val3[:i[0]-1]) # this will need to be fixed! \n",
    "            #Currently only doing medians\n",
    "    \n",
    "    out_dict = {'timestamps':timestamp_range, 'prices':price_val3}\n",
    "    return out_dict\n",
    "\n"
   ]
  },
  {
   "cell_type": "code",
   "execution_count": null,
   "metadata": {
    "collapsed": true
   },
   "outputs": [],
   "source": [
    "samp = 3\n",
    "pdfi = df.price_date_fixed.iloc[samp]\n",
    "ipi = np.array(df.iprice.iloc[samp])\n",
    "fpi = np.array(df.fprice.iloc[samp])\n",
    "\n",
    "a = convert_to_biweekly(pdfi, ipi, fpi)\n",
    "print a"
   ]
  },
  {
   "cell_type": "code",
   "execution_count": 26,
   "metadata": {
    "collapsed": false
   },
   "outputs": [],
   "source": [
    "out_dict_list =list()\n",
    "for r in df.iterrows():\n",
    "    row = r[1]\n",
    "    pdfi = row.price_date_fixed\n",
    "    ipi = np.array(row.iprice)\n",
    "    fpi = np.array(row.fprice)\n",
    "    \n",
    "    out_dict_list.append(convert_to_biweekly(pdfi, ipi,fpi))\n",
    "    "
   ]
  },
  {
   "cell_type": "code",
   "execution_count": 30,
   "metadata": {
    "collapsed": false
   },
   "outputs": [],
   "source": [
    "df['plot_info'] =out_dict_list"
   ]
  },
  {
   "cell_type": "code",
   "execution_count": null,
   "metadata": {
    "collapsed": true
   },
   "outputs": [],
   "source": []
  },
  {
   "cell_type": "code",
   "execution_count": 57,
   "metadata": {
    "collapsed": false
   },
   "outputs": [
    {
     "ename": "AttributeError",
     "evalue": "'list' object has no attribute 'show'",
     "output_type": "error",
     "traceback": [
      "\u001b[1;31m---------------------------------------------------------------------------\u001b[0m",
      "\u001b[1;31mAttributeError\u001b[0m                            Traceback (most recent call last)",
      "\u001b[1;32m<ipython-input-57-599c790ea091>\u001b[0m in \u001b[0;36m<module>\u001b[1;34m()\u001b[0m\n\u001b[0;32m     10\u001b[0m     \u001b[1;32mreturn\u001b[0m \u001b[0mfig\u001b[0m\u001b[1;33m\u001b[0m\u001b[0m\n\u001b[0;32m     11\u001b[0m \u001b[0mfig\u001b[0m \u001b[1;33m=\u001b[0m \u001b[0mmake_plot\u001b[0m\u001b[1;33m(\u001b[0m\u001b[0msamp\u001b[0m\u001b[1;33m)\u001b[0m\u001b[1;33m\u001b[0m\u001b[0m\n\u001b[1;32m---> 12\u001b[1;33m \u001b[0mfig\u001b[0m\u001b[1;33m.\u001b[0m\u001b[0mshow\u001b[0m\u001b[1;33m(\u001b[0m\u001b[1;33m)\u001b[0m\u001b[1;33m\u001b[0m\u001b[0m\n\u001b[0m",
      "\u001b[1;31mAttributeError\u001b[0m: 'list' object has no attribute 'show'"
     ]
    },
    {
     "data": {
      "image/png": "[encoded data removed]",
      "text/plain": [
       "<matplotlib.figure.Figure at 0x7f08432af6d0>"
      ]
     },
     "metadata": {},
     "output_type": "display_data"
    }
   ],
   "source": [
    "samp = df['plot_info'].iloc[16]\n",
    "def make_plot(plot_dict):\n",
    "    x = plot_dict['timestamps']\n",
    "    y = plot_dict['prices']\n",
    "\n",
    "    fig = plt.plot(x,y)\n",
    "    plt.ylim([0,np.max(y) + np.max(y) * 0.10])\n",
    "    plt.xlabel('Time')\n",
    "    plt.ylabel('$Price')\n",
    "    return fig\n",
    "fig = make_plot(samp)"
   ]
  },
  {
   "cell_type": "code",
   "execution_count": 55,
   "metadata": {
    "collapsed": false
   },
   "outputs": [
    {
     "name": "stdout",
     "output_type": "stream",
     "text": [
      "{'prices': array([ 59.99,  59.99,  39.59,  59.99,  59.99,  59.99,  59.99,  59.99,\n",
      "        29.99,  59.99,  59.99,  29.99,  59.99,  59.99,  59.99,  59.99,\n",
      "        59.99,  59.99,  59.99,  59.99,  59.99,  59.99,  59.99,  59.99,\n",
      "        29.99,  59.99,  59.99,  59.99,  59.99,  59.99,  59.99,  59.99,\n",
      "        59.99,  59.99,  59.99,  59.99,  59.99,  59.99,  59.99,  59.99,\n",
      "        59.99,  59.99,  59.99,  59.99,  59.99,  59.99,  59.99,  59.99,\n",
      "        59.99,  59.99,  59.99,  59.99,  59.99,  59.99,  59.99,  59.99,\n",
      "        59.99,  59.99,  59.99,  59.99,  59.99,  59.99,  59.99,  59.99,\n",
      "        59.99,  59.99,  59.99,  59.99,  59.99,  59.99,  59.99,  59.99,\n",
      "        39.99,  39.99,  59.99,  59.99,  59.99,  59.99,  59.99,  59.99,\n",
      "        59.99,  59.99,  59.99]), 'timestamps': array([1417120656, 1417423056, 1417725456, 1418027856, 1418330256,\n",
      "       1418632656, 1418935056, 1419237456, 1419539856, 1419842256,\n",
      "       1420144656, 1420447056, 1420749456, 1421051856, 1421354256,\n",
      "       1421656656, 1421959056, 1422261456, 1422563856, 1422866256,\n",
      "       1423168656, 1423471056, 1423773456, 1424075856, 1424378256,\n",
      "       1424680656, 1424983056, 1425285456, 1425587856, 1425890256,\n",
      "       1426192656, 1426495056, 1426797456, 1427099856, 1427402256,\n",
      "       1427704656, 1428007056, 1428309456, 1428611856, 1428914256,\n",
      "       1429216656, 1429519056, 1429821456, 1430123856, 1430426256,\n",
      "       1430728656, 1431031056, 1431333456, 1431635856, 1431938256,\n",
      "       1432240656, 1432543056, 1432845456, 1433147856, 1433450256,\n",
      "       1433752656, 1434055056, 1434357456, 1434659856, 1434962256,\n",
      "       1435264656, 1435567056, 1435869456, 1436171856, 1436474256,\n",
      "       1436776656, 1437079056, 1437381456, 1437683856, 1437986256,\n",
      "       1438288656, 1438591056, 1438893456, 1439195856, 1439498256,\n",
      "       1439800656, 1440103056, 1440405456, 1440707856, 1441010256,\n",
      "       1441312656, 1441615056, 1441917456])}\n"
     ]
    }
   ],
   "source": []
  },
  {
   "cell_type": "code",
   "execution_count": 51,
   "metadata": {
    "collapsed": false
   },
   "outputs": [
    {
     "ename": "NameError",
     "evalue": "name 'array' is not defined",
     "output_type": "error",
     "traceback": [
      "\u001b[1;31m---------------------------------------------------------------------------\u001b[0m",
      "\u001b[1;31mNameError\u001b[0m                                 Traceback (most recent call last)",
      "\u001b[1;32m<ipython-input-51-14db6935f10b>\u001b[0m in \u001b[0;36m<module>\u001b[1;34m()\u001b[0m\n\u001b[1;32m----> 1\u001b[1;33m \u001b[0ma\u001b[0m \u001b[1;33m=\u001b[0m \u001b[0meval\u001b[0m\u001b[1;33m(\u001b[0m\u001b[0mts\u001b[0m\u001b[1;33m)\u001b[0m\u001b[1;33m\u001b[0m\u001b[0m\n\u001b[0m",
      "\u001b[1;32m<string>\u001b[0m in \u001b[0;36m<module>\u001b[1;34m()\u001b[0m\n",
      "\u001b[1;31mNameError\u001b[0m: name 'array' is not defined"
     ]
    }
   ],
   "source": [
    "a = eval(ts)"
   ]
  }
 ],
 "metadata": {
  "kernelspec": {
   "display_name": "Python 2",
   "language": "python",
   "name": "python2"
  },
  "language_info": {
   "codemirror_mode": {
    "name": "ipython",
    "version": 2
   },
   "file_extension": ".py",
   "mimetype": "text/x-python",
   "name": "python",
   "nbconvert_exporter": "python",
   "pygments_lexer": "ipython2",
   "version": "2.7.9"
  }
 },
 "nbformat": 4,
 "nbformat_minor": 0
}
