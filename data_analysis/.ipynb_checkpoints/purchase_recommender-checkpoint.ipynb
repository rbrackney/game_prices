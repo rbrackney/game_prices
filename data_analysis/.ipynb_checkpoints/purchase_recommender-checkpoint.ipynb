{
 "cells": [
  {
   "cell_type": "code",
   "execution_count": 18,
   "metadata": {
    "collapsed": false
   },
   "outputs": [
    {
     "data": {
      "text/plain": [
       "'/home/ryan/Documents/insight_projects/steam_prices/data_analysis'"
      ]
     },
     "execution_count": 18,
     "metadata": {},
     "output_type": "execute_result"
    }
   ],
   "source": [
    "import os\n",
    "from pprint import pprint as pp\n",
    "import pandas as pd\n",
    "import json\n",
    "import numpy as np\n",
    "from scipy import stats\n",
    "import matplotlib.pyplot as plt\n",
    "import itertools\n",
    "import copy\n",
    "import seaborn as sns\n",
    "\n",
    "%matplotlib inline\n",
    "os.getcwd()"
   ]
  },
  {
   "cell_type": "code",
   "execution_count": 19,
   "metadata": {
    "collapsed": true
   },
   "outputs": [],
   "source": [
    "df_timeseries = pd.read_pickle('df_steamdb_timeseries.pkl')\n",
    "df_prob = pd.read_pickle('df_sale_prob.pkl')"
   ]
  },
  {
   "cell_type": "code",
   "execution_count": 20,
   "metadata": {
    "collapsed": false
   },
   "outputs": [
    {
     "data": {
      "text/plain": [
       "0.000000    3552\n",
       "1.000000     279\n",
       "0.100000     105\n",
       "0.200000      62\n",
       "0.900000      30\n",
       "0.800000      29\n",
       "0.300000      29\n",
       "0.500000      21\n",
       "0.600000      18\n",
       "0.700000      17\n",
       "0.400000      16\n",
       "0.333333       3\n",
       "0.150000       1\n",
       "0.783333       1\n",
       "dtype: int64"
      ]
     },
     "execution_count": 20,
     "metadata": {},
     "output_type": "execute_result"
    },
    {
     "data": {
      "image/png": "[encoded data removed]",
      "text/plain": [
       "<matplotlib.figure.Figure at 0x7f74906372d0>"
      ]
     },
     "metadata": {},
     "output_type": "display_data"
    }
   ],
   "source": [
    "df_prob.sale_prob.plot(kind = 'hist')\n",
    "plt.yscale('log')\n",
    "pd.value_counts(df_prob.sale_prob)"
   ]
  },
  {
   "cell_type": "code",
   "execution_count": 21,
   "metadata": {
    "collapsed": false
   },
   "outputs": [
    {
     "name": "stdout",
     "output_type": "stream",
     "text": [
      "{u'1434049315000': {u'discount': 75, u'initial': u'$9.99', u'final': u'$2.49'}, u'1417120656000': {u'discount': 0, u'initial': u'$9.99', u'final': u'$9.99'}, u'1434996542000': {u'discount': 0, u'initial': u'$9.99', u'final': u'$9.99'}}\n"
     ]
    }
   ],
   "source": [
    "sample = df_timeseries.formatted.iloc[2]\n",
    "print sample"
   ]
  },
  {
   "cell_type": "code",
   "execution_count": null,
   "metadata": {
    "collapsed": true
   },
   "outputs": [],
   "source": []
  },
  {
   "cell_type": "code",
   "execution_count": 22,
   "metadata": {
    "collapsed": false
   },
   "outputs": [],
   "source": [
    "from re import sub\n",
    "import decimal\n",
    "\n",
    "def money_con(money):\n",
    "    value = decimal.Decimal(sub(r'[^\\d.]', '', money))\n",
    "    value = float(value)\n",
    "    return value\n",
    "\n",
    "\n",
    "sample = df_timeseries.formatted.iloc[2]\n",
    "\n",
    "master_discount_li = list()\n",
    "master_savings_li = list()\n",
    "for item in df_timeseries.iterrows():\n",
    "    sample = item[1].formatted\n",
    "    discount_li = list()\n",
    "    savings_li = list()\n",
    "    discount_avg = 0\n",
    "    savings_avg = 0\n",
    "    if type(sample) is dict:\n",
    "        for k,v in sample.iteritems():\n",
    "            cur_discount = v[u'discount']\n",
    "            if cur_discount > 0:\n",
    "                discount_li.append(cur_discount)\n",
    "                savings = money_con(v[u'initial']) - money_con(v[u'final'])\n",
    "                savings_li.append(savings)\n",
    "        discount_avg =  np.mean(np.array([discount_li]))\n",
    "        savings_avg =  np.mean(np.array([savings_li]))\n",
    "    master_discount_li.append(discount_avg)\n",
    "    master_savings_li.append(savings_avg)\n"
   ]
  },
  {
   "cell_type": "code",
   "execution_count": 23,
   "metadata": {
    "collapsed": false
   },
   "outputs": [],
   "source": [
    "df_save_discount = pd.DataFrame()\n",
    "df_save_discount['appid'] =  df_timeseries.appid\n",
    "df_save_discount['avg_savings'] = master_savings_li\n",
    "df_save_discount['avg_discount'] = master_discount_li"
   ]
  },
  {
   "cell_type": "code",
   "execution_count": 24,
   "metadata": {
    "collapsed": true
   },
   "outputs": [],
   "source": [
    "df_save_discount = pd.merge(left=df_save_discount,right=df_prob, left_on='appid', right_on='appid')"
   ]
  },
  {
   "cell_type": "code",
   "execution_count": 25,
   "metadata": {
    "collapsed": false
   },
   "outputs": [
    {
     "data": {
      "text/html": [
       "<div style=\"max-height:1000px;max-width:1500px;overflow:auto;\">\n",
       "<table border=\"1\" class=\"dataframe\">\n",
       "  <thead>\n",
       "    <tr style=\"text-align: right;\">\n",
       "      <th></th>\n",
       "      <th>appid</th>\n",
       "      <th>avg_savings</th>\n",
       "      <th>avg_discount</th>\n",
       "      <th>sale_prob</th>\n",
       "    </tr>\n",
       "  </thead>\n",
       "  <tbody>\n",
       "    <tr>\n",
       "      <th>0</th>\n",
       "      <td> 297750</td>\n",
       "      <td> 0.000000</td>\n",
       "      <td> 37.500000</td>\n",
       "      <td> 0</td>\n",
       "    </tr>\n",
       "    <tr>\n",
       "      <th>1</th>\n",
       "      <td>  19080</td>\n",
       "      <td> 7.500000</td>\n",
       "      <td> 75.000000</td>\n",
       "      <td> 0</td>\n",
       "    </tr>\n",
       "    <tr>\n",
       "      <th>2</th>\n",
       "      <td> 278850</td>\n",
       "      <td> 2.833333</td>\n",
       "      <td> 56.666667</td>\n",
       "      <td> 0</td>\n",
       "    </tr>\n",
       "    <tr>\n",
       "      <th>3</th>\n",
       "      <td> 367260</td>\n",
       "      <td> 1.257500</td>\n",
       "      <td> 19.500000</td>\n",
       "      <td> 1</td>\n",
       "    </tr>\n",
       "    <tr>\n",
       "      <th>4</th>\n",
       "      <td> 251970</td>\n",
       "      <td> 4.000000</td>\n",
       "      <td> 80.000000</td>\n",
       "      <td> 0</td>\n",
       "    </tr>\n",
       "  </tbody>\n",
       "</table>\n",
       "</div>"
      ],
      "text/plain": [
       "    appid  avg_savings  avg_discount  sale_prob\n",
       "0  297750     0.000000     37.500000          0\n",
       "1   19080     7.500000     75.000000          0\n",
       "2  278850     2.833333     56.666667          0\n",
       "3  367260     1.257500     19.500000          1\n",
       "4  251970     4.000000     80.000000          0"
      ]
     },
     "execution_count": 25,
     "metadata": {},
     "output_type": "execute_result"
    }
   ],
   "source": [
    "df_save_discount.head()"
   ]
  },
  {
   "cell_type": "code",
   "execution_count": 26,
   "metadata": {
    "collapsed": false
   },
   "outputs": [
    {
     "data": {
      "text/plain": [
       "(array([    0.,   200.,   400.,   600.,   800.,  1000.]),\n",
       " <a list of 6 Text yticklabel objects>)"
      ]
     },
     "execution_count": 26,
     "metadata": {},
     "output_type": "execute_result"
    },
    {
     "data": {
      "image/png": "[encoded data removed]",
      "text/plain": [
       "<matplotlib.figure.Figure at 0x7f74906e1290>"
      ]
     },
     "metadata": {},
     "output_type": "display_data"
    }
   ],
   "source": [
    "df_save_discount.avg_savings.plot(kind='hist',bins = np.linspace(0,40,20))\n",
    "plt.xlabel('average savings ($)', fontsize = 20)\n",
    "plt.ylabel('frequency', fontsize = 20)\n",
    "plt.xticks(fontsize = 14)\n",
    "plt.yticks(fontsize = 14)"
   ]
  },
  {
   "cell_type": "code",
   "execution_count": 27,
   "metadata": {
    "collapsed": false
   },
   "outputs": [
    {
     "data": {
      "text/plain": [
       "<matplotlib.text.Text at 0x7f748c845dd0>"
      ]
     },
     "execution_count": 27,
     "metadata": {},
     "output_type": "execute_result"
    },
    {
     "data": {
      "image/png": "[encoded data removed]",
      "text/plain": [
       "<matplotlib.figure.Figure at 0x7f748c993450>"
      ]
     },
     "metadata": {},
     "output_type": "display_data"
    }
   ],
   "source": [
    "df_save_discount.avg_discount.plot(kind='hist',bins = np.linspace(0,100,20))\n",
    "plt.xlabel('average discount (%)')\n",
    "plt.ylabel('freq')"
   ]
  },
  {
   "cell_type": "code",
   "execution_count": 28,
   "metadata": {
    "collapsed": false
   },
   "outputs": [],
   "source": [
    "disc_amount = 20\n",
    "\n",
    "\n",
    "def wait_score(sale_prob, disc_amount, loc_base = 0.5, disc_mod = 0.01):\n",
    "    '''\n",
    "    sale_prob: probabily of sale from the model\n",
    "    disc_amount: expected amount of the discount\n",
    "    '''\n",
    "    #loc_base = 0.5\n",
    "    #disc_mod = 0.01 #multiple by 0.01\n",
    "    loc_mod = disc_amount * disc_mod \n",
    "    loc = loc_base - loc_mod\n",
    "    y_l = stats.logistic.cdf(sale_prob, loc=loc, scale=.1)\n",
    "    return y_l"
   ]
  },
  {
   "cell_type": "code",
   "execution_count": 30,
   "metadata": {
    "collapsed": false
   },
   "outputs": [
    {
     "ename": "NameError",
     "evalue": "global name 'loc_base' is not defined",
     "output_type": "error",
     "traceback": [
      "\u001b[1;31m---------------------------------------------------------------------------\u001b[0m",
      "\u001b[1;31mNameError\u001b[0m                                 Traceback (most recent call last)",
      "\u001b[1;32m<ipython-input-30-6daa354ff104>\u001b[0m in \u001b[0;36m<module>\u001b[1;34m()\u001b[0m\n\u001b[0;32m     22\u001b[0m     \u001b[1;32mreturn\u001b[0m \u001b[0my_l\u001b[0m\u001b[1;33m\u001b[0m\u001b[0m\n\u001b[0;32m     23\u001b[0m \u001b[0mx\u001b[0m \u001b[1;33m=\u001b[0m \u001b[0mnp\u001b[0m\u001b[1;33m.\u001b[0m\u001b[0mlinspace\u001b[0m\u001b[1;33m(\u001b[0m\u001b[1;36m0\u001b[0m\u001b[1;33m,\u001b[0m\u001b[1;36m1\u001b[0m\u001b[1;33m,\u001b[0m\u001b[1;36m20\u001b[0m\u001b[1;33m)\u001b[0m\u001b[1;33m\u001b[0m\u001b[0m\n\u001b[1;32m---> 24\u001b[1;33m \u001b[0mplt\u001b[0m\u001b[1;33m.\u001b[0m\u001b[0mplot\u001b[0m\u001b[1;33m(\u001b[0m\u001b[0mx\u001b[0m\u001b[1;33m,\u001b[0m\u001b[0my_l\u001b[0m\u001b[1;33m(\u001b[0m\u001b[1;36m1\u001b[0m\u001b[1;33m,\u001b[0m\u001b[0mx\u001b[0m\u001b[1;33m)\u001b[0m\u001b[1;33m,\u001b[0m\u001b[1;34m'g-'\u001b[0m\u001b[1;33m,\u001b[0m \u001b[0mlabel\u001b[0m \u001b[1;33m=\u001b[0m \u001b[1;34m'$1 discount'\u001b[0m\u001b[1;33m)\u001b[0m\u001b[1;33m\u001b[0m\u001b[0m\n\u001b[0m\u001b[0;32m     25\u001b[0m \u001b[0mplt\u001b[0m\u001b[1;33m.\u001b[0m\u001b[0mplot\u001b[0m\u001b[1;33m(\u001b[0m\u001b[0mx\u001b[0m\u001b[1;33m,\u001b[0m\u001b[0my_l\u001b[0m\u001b[1;33m(\u001b[0m\u001b[1;36m15\u001b[0m\u001b[1;33m,\u001b[0m\u001b[0mx\u001b[0m\u001b[1;33m)\u001b[0m\u001b[1;33m,\u001b[0m\u001b[1;34m'b-'\u001b[0m\u001b[1;33m,\u001b[0m \u001b[0mlabel\u001b[0m \u001b[1;33m=\u001b[0m \u001b[1;34m'$15 discount'\u001b[0m\u001b[1;33m)\u001b[0m\u001b[1;33m\u001b[0m\u001b[0m\n\u001b[0;32m     26\u001b[0m \u001b[0mplt\u001b[0m\u001b[1;33m.\u001b[0m\u001b[0mplot\u001b[0m\u001b[1;33m(\u001b[0m\u001b[0mx\u001b[0m\u001b[1;33m,\u001b[0m\u001b[0my_l\u001b[0m\u001b[1;33m(\u001b[0m\u001b[1;36m30\u001b[0m\u001b[1;33m,\u001b[0m\u001b[0mx\u001b[0m\u001b[1;33m)\u001b[0m\u001b[1;33m,\u001b[0m\u001b[1;34m'r-'\u001b[0m\u001b[1;33m,\u001b[0m \u001b[0mlabel\u001b[0m \u001b[1;33m=\u001b[0m \u001b[1;34m'$30 discount'\u001b[0m\u001b[1;33m)\u001b[0m\u001b[1;33m\u001b[0m\u001b[0m\n",
      "\u001b[1;32m<ipython-input-30-6daa354ff104>\u001b[0m in \u001b[0;36my_l\u001b[1;34m(disc_amount, x)\u001b[0m\n\u001b[0;32m     18\u001b[0m     \u001b[0mdisc_mod\u001b[0m \u001b[1;33m=\u001b[0m \u001b[1;36m0.01\u001b[0m\u001b[1;33m\u001b[0m\u001b[0m\n\u001b[0;32m     19\u001b[0m     \u001b[0mloc_mod\u001b[0m \u001b[1;33m=\u001b[0m \u001b[0mdisc_amount\u001b[0m \u001b[1;33m*\u001b[0m \u001b[0mdisc_mod\u001b[0m\u001b[1;33m\u001b[0m\u001b[0m\n\u001b[1;32m---> 20\u001b[1;33m     \u001b[0mloc\u001b[0m \u001b[1;33m=\u001b[0m \u001b[0mloc_base\u001b[0m \u001b[1;33m-\u001b[0m \u001b[0mloc_mod\u001b[0m\u001b[1;33m\u001b[0m\u001b[0m\n\u001b[0m\u001b[0;32m     21\u001b[0m     \u001b[0my_l\u001b[0m \u001b[1;33m=\u001b[0m \u001b[0mstats\u001b[0m\u001b[1;33m.\u001b[0m\u001b[0mlogistic\u001b[0m\u001b[1;33m.\u001b[0m\u001b[0mcdf\u001b[0m\u001b[1;33m(\u001b[0m\u001b[0mx\u001b[0m\u001b[1;33m,\u001b[0m \u001b[0mloc\u001b[0m\u001b[1;33m=\u001b[0m\u001b[0mloc\u001b[0m\u001b[1;33m,\u001b[0m \u001b[0mscale\u001b[0m\u001b[1;33m=\u001b[0m\u001b[1;36m.1\u001b[0m\u001b[1;33m)\u001b[0m\u001b[1;33m\u001b[0m\u001b[0m\n\u001b[0;32m     22\u001b[0m     \u001b[1;32mreturn\u001b[0m \u001b[0my_l\u001b[0m\u001b[1;33m\u001b[0m\u001b[0m\n",
      "\u001b[1;31mNameError\u001b[0m: global name 'loc_base' is not defined"
     ]
    }
   ],
   "source": [
    "'''create graph demonstrating sigmoidal weight recommendation curve'''\n",
    "\n",
    "# disc_amount = 5\n",
    "# disc_mod = 0.01\n",
    "# loc_base =0.5\n",
    "# loc_mod = disc_amount * disc_mod\n",
    "# loc = loc_base - loc_mod\n",
    "# y_l = stats.logistic.cdf(x, loc=loc, scale=.1)\n",
    "\n",
    "# disc_amount = 20\n",
    "# loc_mod = disc_amount * disc_mod \n",
    "# loc = loc_base - loc_mod\n",
    "# y_l_wait = stats.logistic.cdf(x, loc=loc, scale=.1)\n",
    "# disc_amount = 30\n",
    "\n",
    "\n",
    "def y_l(disc_amount,x):\n",
    "    loc_base =0.5\n",
    "    disc_mod = 0.01\n",
    "    loc_mod = disc_amount * disc_mod \n",
    "    loc = loc_base - loc_mod\n",
    "    y_l = stats.logistic.cdf(x, loc=loc, scale=.1)\n",
    "    return y_l\n",
    "x = np.linspace(0,1,20)\n",
    "plt.plot(x,y_l(1,x),'g-', label = '$1 discount')\n",
    "plt.plot(x,y_l(15,x),'b-', label = '$15 discount')\n",
    "plt.plot(x,y_l(30,x),'r-', label = '$30 discount')\n",
    "plt.xlabel('actual probability of sale')\n",
    "plt.ylabel('wait for sale weight')\n",
    "plt.legend(loc = 'lower right')"
   ]
  },
  {
   "cell_type": "code",
   "execution_count": null,
   "metadata": {
    "collapsed": false
   },
   "outputs": [],
   "source": [
    "import matplotlib.colors as mcolors\n",
    "\n",
    "def prob_rgba(weighted_prob):\n",
    "    \n",
    "    '''\n",
    "    weighted_prob comes from the wait_score function\n",
    "    make sure it's putting out the right colors for red/green whatever.\n",
    "    Otherwise, transform the probabiliy (1-p) when it comes in.\n",
    "    '''\n",
    "    cdict = {'red':   ((0.0, 0.0, 0.0),\n",
    "                       (0.5, 0.0, 0.0),\n",
    "                       (1.0, 1.0, 1.0)),\n",
    "             'blue':  ((0.0, 0.0, 0.0),\n",
    "                       (1.0, 0.0, 0.0)),\n",
    "             'green': ((0.0, 0.0, 1.0),\n",
    "                       (0.5, 0.0, 0.0),\n",
    "                       (1.0, 0.0, 0.0))}\n",
    "\n",
    "    cmap = mcolors.LinearSegmentedColormap(\n",
    "    'my_colormap', cdict, 100)\n",
    "\n",
    "    \n",
    "    rgba = cmap(int(weighted_prob * 100))\n",
    "    rgba255 = [x*255 for x in rgba]\n",
    "    rgba255[3] = rgba255[3] / 255\n",
    "    #because the last item shouldn't actually have been multiplied, \n",
    "    #and this is quicker to code then a conditional list comprehension\n",
    "    return rgba255"
   ]
  },
  {
   "cell_type": "code",
   "execution_count": null,
   "metadata": {
    "collapsed": true
   },
   "outputs": [],
   "source": []
  },
  {
   "cell_type": "code",
   "execution_count": null,
   "metadata": {
    "collapsed": false
   },
   "outputs": [],
   "source": [
    "df_save_discount.to_pickle('df_save_discount.pkl')"
   ]
  }
 ],
 "metadata": {
  "kernelspec": {
   "display_name": "Python 2",
   "language": "python",
   "name": "python2"
  },
  "language_info": {
   "codemirror_mode": {
    "name": "ipython",
    "version": 2
   },
   "file_extension": ".py",
   "mimetype": "text/x-python",
   "name": "python",
   "nbconvert_exporter": "python",
   "pygments_lexer": "ipython2",
   "version": "2.7.9"
  }
 },
 "nbformat": 4,
 "nbformat_minor": 0
}
