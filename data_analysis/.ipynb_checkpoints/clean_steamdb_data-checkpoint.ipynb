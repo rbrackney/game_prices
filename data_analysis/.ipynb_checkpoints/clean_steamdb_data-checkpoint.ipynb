{
 "cells": [
  {
   "cell_type": "code",
   "execution_count": 2,
   "metadata": {
    "collapsed": false
   },
   "outputs": [
    {
     "data": {
      "text/plain": [
       "'/home/ryan/Documents/insight_projects/steam_prices/data_analysis'"
      ]
     },
     "execution_count": 2,
     "metadata": {},
     "output_type": "execute_result"
    }
   ],
   "source": [
    "import os\n",
    "from pprint import pprint as pp\n",
    "import pandas as pd\n",
    "import json\n",
    "import numpy as np\n",
    "from scipy import stats\n",
    "import matplotlib.pyplot as plt\n",
    "import copy\n",
    "%matplotlib inline\n",
    "os.getcwd()"
   ]
  },
  {
   "cell_type": "code",
   "execution_count": 3,
   "metadata": {
    "collapsed": false
   },
   "outputs": [],
   "source": [
    "data_path = '/home/ryan/Documents/insight_projects/steam_price_data'\n",
    "steamdb_fol = 'steamdb_jsons'\n",
    "steamdb_path = os.path.join(data_path,steamdb_fol)\n",
    "steamdb_fnames = os.listdir(steamdb_path)"
   ]
  },
  {
   "cell_type": "code",
   "execution_count": 4,
   "metadata": {
    "collapsed": false
   },
   "outputs": [],
   "source": [
    "list_dict  = {'appid':list(),'fprice':list(),'iprice':list(), 'price_date':list(), 'formatted':list()}\n",
    "for f in steamdb_fnames:\n",
    "    appid = int(f.split('.')[0].split('_')[1])\n",
    "    cur_file = os.path.join(steamdb_path,f)\n",
    "    with open(cur_file) as json_file:\n",
    "        json_data = json.load(json_file)\n",
    "    cur_init = np.array(dict(json_data)[u'data'][ u'initial'])\n",
    "    cur_final = np.array(dict(json_data)[u'data'][ u'final'])\n",
    "    cur_formatted = dict(json_data)[u'data'][u'formatted']\n",
    "    if cur_final.size > 0:\n",
    "        cur_date = cur_init[:,0] * pow(10,-3)\n",
    "        cur_init_just = cur_init[:,1]\n",
    "        cur_final_just = cur_final[:,1]\n",
    "    else:\n",
    "        cur_date = None\n",
    "        cur_init_just = None\n",
    "        cur_final_just = None      \n",
    "    list_dict['appid'].append(appid)\n",
    "    list_dict['price_date'].append(cur_date)\n",
    "    list_dict['iprice'].append(cur_init_just)\n",
    "    list_dict['fprice'].append(cur_final_just)\n",
    "    list_dict['formatted'].append(cur_formatted) #used the formatted data to make an the array"
   ]
  },
  {
   "cell_type": "code",
   "execution_count": 45,
   "metadata": {
    "collapsed": false
   },
   "outputs": [],
   "source": [
    "df = pd.DataFrame(list_dict)\n",
    "df = df.fillna(value=np.nan)"
   ]
  },
  {
   "cell_type": "code",
   "execution_count": 59,
   "metadata": {
    "collapsed": false
   },
   "outputs": [
    {
     "data": {
      "text/plain": [
       "True"
      ]
     },
     "execution_count": 59,
     "metadata": {},
     "output_type": "execute_result"
    }
   ],
   "source": [
    "df.formatted.iloc[0] == []"
   ]
  },
  {
   "cell_type": "code",
   "execution_count": null,
   "metadata": {
    "collapsed": true
   },
   "outputs": [],
   "source": []
  },
  {
   "cell_type": "markdown",
   "metadata": {},
   "source": [
    "<H4>TIME SERIES FOR PLOTTING ONLY"
   ]
  },
  {
   "cell_type": "code",
   "execution_count": 16,
   "metadata": {
    "collapsed": false
   },
   "outputs": [],
   "source": [
    "\n",
    "'''needs to be converted from a sample occurence to a plot (to do later)'''\n",
    "sample = 2\n",
    "dt = list_dict['price_date'][sample]\n",
    "form_price = list_dict['formatted'][1]\n",
    "min_timestamp = 1417120656\n",
    "max_timestamp = 1442077561\n",
    "\n",
    "obs_per_week = 4.0\n",
    "week_sec = 7 * 24 * 60 * 60\n",
    "step = week_sec / obs_per_week\n",
    "timestamp_range = np.arange(min_timestamp,max_timestamp,step)\n",
    "\n",
    "price_val = ['']*timestamp_range.size\n",
    "#price_val[:] = np.nan\n",
    "\n",
    "price_dates = [int(int(k) * pow(10,-3)) for k,v in form_price.iteritems()]\n",
    "\n",
    "\n",
    "for item in price_dates:\n",
    "    time_delta =  np.abs(item - timestamp_range)\n",
    "    min_dif = np.argmin(time_delta)\n",
    "    if min_dif.size == 1:\n",
    "        dif_ix = int(min_dif)\n",
    "    else:\n",
    "        dif_ix = int(min_dif[0])\n",
    "    price_val[dif_ix] = form_price[str(int(item * pow(10,3)))]\n",
    "\n",
    "price_adjusted = price_val\n",
    "\n",
    "for ix,val in enumerate(price_val):\n",
    "    #print 'ix:'+ str(ix)\n",
    "    #print 'val:'+ str(val)\n",
    "    #print 'pa:' + str(price_adjusted[ix])\n",
    "    if ix < len(price_val)-2:\n",
    "        if price_adjusted[ix+1] == '' and price_adjusted[ix]['discount'] == 0:\n",
    "            #print('trigger')\n",
    "            price_adjusted[ix+1] = price_adjusted[ix]\n",
    "        elif price_adjusted[ix+1] == '' and not price_adjusted[ix]['discount'] == 0:\n",
    "            price_adjusted[ix+1] = price_adjusted[ix]\n",
    "            price_adjusted[ix+1]['final'] = price_adjusted[ix+1]['initial']\n",
    "            \n",
    "    elif ix == len(price_val)-2:\n",
    "        price_adjusted[ix+1] == price_adjusted[ix] #This will need to be adjusted, but \n",
    "price_adjusted[-1] = price_adjusted[-2] #not 100% right, but good for most cases."
   ]
  },
  {
   "cell_type": "markdown",
   "metadata": {},
   "source": [
    "<h4>SALES EVENTS TO BINARY - SALE OR NOT"
   ]
  },
  {
   "cell_type": "code",
   "execution_count": 61,
   "metadata": {
    "collapsed": false
   },
   "outputs": [],
   "source": [
    "def binary_list(form_price,bstep):\n",
    "    '''\n",
    "    turns the formatted prices into a list of booleans, each corresponding to a successive time periods\n",
    "    indicating whether or not a sale occured in that time period\n",
    "    form_price: the dictionary with discount values in it\n",
    "    bstep: the size of the intervals (in seconds)\n",
    "    '''\n",
    "    if form_price == []:\n",
    "        return []\n",
    "    else:\n",
    "        min_timestamp = 1417120656 #these numbers are drawn from the min and max values seen in the lists\n",
    "        max_timestamp = 1442077561 #some timestamp ranges should be shorted, but I'll do with that later\n",
    "        discount_dates= [int(int(k)*pow(10,-3)) for k,v in form_price.iteritems() if v['discount'] > 0]\n",
    "        binary_timestamp_range = np.arange(min_timestamp,max_timestamp,bstep)\n",
    "        sale_occur = [0]*binary_timestamp_range.size\n",
    "\n",
    "        for item in discount_dates:\n",
    "            time_delta =  np.abs(item - binary_timestamp_range) #figure out how close the time_stamp is to each section of the list\n",
    "            min_dif = np.argmin(time_delta) #use min_dif to figure out closes\n",
    "            if min_dif.size == 1: #just in case there are two equa-distant close bins\n",
    "                dif_ix = int(min_dif)\n",
    "            else:\n",
    "                dif_ix = int(min_dif[0])\n",
    "            sale_occur[dif_ix] =  1\n",
    "\n",
    "        return sale_occur"
   ]
  },
  {
   "cell_type": "code",
   "execution_count": 62,
   "metadata": {
    "collapsed": false
   },
   "outputs": [],
   "source": [
    "week_sec = 7 * 24 * 60 * 60\n",
    "bstep = week_sec * 2\n",
    "df['sale_bool'] = df.formatted.apply(binary_list, args=(bstep,))"
   ]
  },
  {
   "cell_type": "code",
   "execution_count": 63,
   "metadata": {
    "collapsed": false
   },
   "outputs": [
    {
     "data": {
      "text/plain": [
       "0                                                    []\n",
       "1     [0, 0, 0, 0, 0, 0, 0, 0, 0, 0, 0, 0, 0, 0, 1, ...\n",
       "2     [0, 0, 0, 0, 0, 0, 0, 0, 0, 0, 0, 0, 0, 0, 1, ...\n",
       "3     [1, 1, 0, 0, 0, 0, 0, 0, 0, 0, 0, 0, 0, 0, 1, ...\n",
       "4     [0, 0, 0, 0, 0, 0, 0, 0, 0, 0, 0, 1, 0, 0, 1, ...\n",
       "5     [0, 0, 0, 0, 0, 1, 0, 0, 0, 0, 0, 0, 0, 0, 0, ...\n",
       "6     [0, 1, 0, 0, 0, 0, 0, 1, 0, 0, 0, 0, 0, 0, 1, ...\n",
       "7     [1, 1, 0, 0, 0, 0, 0, 0, 0, 0, 0, 0, 0, 0, 1, ...\n",
       "8     [1, 1, 0, 0, 0, 0, 0, 0, 0, 0, 0, 0, 0, 0, 1, ...\n",
       "9     [1, 1, 0, 0, 0, 0, 0, 0, 0, 0, 0, 0, 0, 0, 1, ...\n",
       "10    [0, 0, 0, 0, 0, 0, 0, 0, 0, 0, 0, 0, 1, 0, 1, ...\n",
       "11                                                   []\n",
       "12                                                   []\n",
       "13    [0, 0, 0, 0, 0, 0, 0, 0, 0, 0, 0, 0, 0, 0, 0, ...\n",
       "14    [1, 1, 0, 0, 1, 0, 0, 0, 0, 1, 0, 0, 0, 0, 1, ...\n",
       "...\n",
       "6183    [1, 1, 0, 1, 0, 0, 0, 0, 0, 0, 0, 0, 1, 0, 1, ...\n",
       "6184    [0, 0, 1, 1, 1, 0, 0, 1, 0, 0, 0, 0, 0, 1, 1, ...\n",
       "6185    [1, 1, 0, 0, 0, 0, 0, 1, 0, 0, 0, 1, 1, 0, 1, ...\n",
       "6186    [0, 0, 0, 0, 0, 0, 0, 0, 0, 0, 0, 0, 0, 0, 1, ...\n",
       "6187    [0, 1, 0, 0, 0, 0, 0, 0, 0, 0, 0, 0, 0, 0, 1, ...\n",
       "6188    [0, 1, 0, 0, 0, 0, 0, 0, 0, 0, 0, 0, 0, 1, 0, ...\n",
       "6189    [0, 1, 1, 0, 0, 0, 0, 0, 0, 0, 0, 0, 0, 0, 1, ...\n",
       "6190    [1, 1, 0, 0, 0, 0, 0, 0, 0, 0, 0, 0, 0, 0, 1, ...\n",
       "6191    [0, 0, 0, 0, 1, 0, 0, 0, 0, 0, 1, 0, 0, 0, 1, ...\n",
       "6192                                                   []\n",
       "6193    [0, 0, 0, 0, 0, 0, 0, 0, 0, 0, 0, 0, 0, 0, 0, ...\n",
       "6194    [1, 1, 0, 0, 0, 0, 0, 0, 0, 0, 0, 0, 0, 0, 1, ...\n",
       "6195    [0, 0, 0, 0, 0, 0, 0, 0, 0, 0, 0, 1, 0, 0, 1, ...\n",
       "6196    [1, 1, 0, 0, 0, 0, 1, 0, 0, 0, 0, 0, 0, 0, 1, ...\n",
       "6197                                                   []\n",
       "Name: sale_bool, Length: 6198, dtype: object"
      ]
     },
     "execution_count": 63,
     "metadata": {},
     "output_type": "execute_result"
    }
   ],
   "source": [
    "df['sale_bool']"
   ]
  },
  {
   "cell_type": "code",
   "execution_count": 28,
   "metadata": {
    "collapsed": true
   },
   "outputs": [],
   "source": [
    "'''to be turned into a function'''\n",
    "sample = 2\n",
    "#dt = list_dict['price_date'][sample]\n",
    "form_price = list_dict['formatted'][1]\n",
    "\n",
    "discount_dates= [int(int(k)*pow(10,-3)) for k,v in form_price.iteritems() if v['discount'] > 0] \n",
    "#just extract the times of a discount"
   ]
  },
  {
   "cell_type": "code",
   "execution_count": 40,
   "metadata": {
    "collapsed": false
   },
   "outputs": [],
   "source": [
    "'''create the binary list'''\n",
    "bstep = week_sec * 2 #currently this is looking at a resolution of once every two weeks\n",
    "binary_timestamp_range = np.arange(min_timestamp,max_timestamp,bstep)\n",
    "sale_occur = [0]*binary_timestamp_range.size\n",
    "\n",
    "for item in discount_dates:\n",
    "    time_delta =  np.abs(item - binary_timestamp_range)\n",
    "    min_dif = np.argmin(time_delta)\n",
    "    if min_dif.size == 1:\n",
    "        dif_ix = int(min_dif)\n",
    "    else:\n",
    "        dif_ix = int(min_dif[0])\n",
    "    sale_occur[dif_ix] =  1\n",
    "\n"
   ]
  },
  {
   "cell_type": "code",
   "execution_count": 41,
   "metadata": {
    "collapsed": false
   },
   "outputs": [
    {
     "data": {
      "text/plain": [
       "[0, 0, 0, 0, 0, 0, 0, 0, 0, 0, 0, 0, 0, 0, 1, 0, 0, 0, 0, 1, 0]"
      ]
     },
     "execution_count": 41,
     "metadata": {},
     "output_type": "execute_result"
    }
   ],
   "source": []
  },
  {
   "cell_type": "code",
   "execution_count": 33,
   "metadata": {
    "collapsed": false
   },
   "outputs": [
    {
     "data": {
      "text/plain": [
       "{u'1417120656000': {u'discount': 0,\n",
       "  u'final': u'$39.99',\n",
       "  u'initial': u'$39.99'},\n",
       " u'1434047268000': {u'discount': 25,\n",
       "  u'final': u'$39.99',\n",
       "  u'initial': u'$39.99'},\n",
       " u'1434994431000': {u'discount': 0,\n",
       "  u'final': u'$39.99',\n",
       "  u'initial': u'$39.99'},\n",
       " u'1440176720000': {u'discount': 50,\n",
       "  u'final': u'$39.99',\n",
       "  u'initial': u'$39.99'},\n",
       " u'1440522322000': {u'discount': 0,\n",
       "  u'final': u'$39.99',\n",
       "  u'initial': u'$39.99'}}"
      ]
     },
     "execution_count": 33,
     "metadata": {},
     "output_type": "execute_result"
    }
   ],
   "source": []
  },
  {
   "cell_type": "code",
   "execution_count": 48,
   "metadata": {
    "collapsed": false
   },
   "outputs": [
    {
     "data": {
      "text/plain": [
       "{u'discount': 0, u'final': u'$39.99', u'initial': u'$39.99'}"
      ]
     },
     "execution_count": 48,
     "metadata": {},
     "output_type": "execute_result"
    }
   ],
   "source": [
    "form_price[str(int(v))]"
   ]
  },
  {
   "cell_type": "code",
   "execution_count": null,
   "metadata": {
    "collapsed": true
   },
   "outputs": [],
   "source": [
    "\n",
    "\n",
    "\n",
    "'''\n",
    "pdfi: price_dates (in timestamps)\n",
    "ipi: initial prices\n",
    "fpi: final prices\n",
    "\n",
    "make sure to input with the fixed time stamps\n",
    "'''\n",
    "#pdfi = df.price_date_fixed.iloc[samp]\n",
    "#ipi = np.array(df.iprice.iloc[samp])\n",
    "#fpi = np.array(df.fprice.iloc[samp])\n",
    "#dt = np.append(np.array(pdfi),(np.array(pdfi) + day_sec/10))\n",
    "dt = np.array(pdfi)\n",
    "price = np.append(ipi,fpi)\n",
    "price_type = ['i'] * ipi.size + ['f'] * fpi.size\n",
    "\n",
    "#df_dp = pd.DataFrame({'price':price,'timestamp':dt, 'price_type':price_type}).sort(['timestamp'])\n",
    "\n",
    "week_sec = 7 * 24 * 60 * 60\n",
    "#day_sec = 24 * 60 * 60\n",
    "timestamp_range = np.arange(min_timestamp,max_timestamp,week_sec / 2)\n",
    "\n",
    "\n",
    "\n",
    "price_val = np.empty(timestamp_range.size)\n",
    "price_val[:] = np.nan\n",
    "\n",
    "\n",
    "for i,v in np.ndenumerate(dt):#make sure s_ts is a 1-D numpy array\n",
    "    time_delta =  np.abs(v - timestamp_range)\n",
    "    min_dif = np.argmin(time_delta)\n",
    "    if min_dif.size == 1:\n",
    "        dif_ix = int(min_dif)\n",
    "    else:\n",
    "        dif_ix = int(min_dif[0])\n",
    "    price_val[dif_ix] = ipi[i]\n",
    "    if not dif_ix + 1 > fpi.size:\n",
    "        price_val[dif_ix + 1] = fpi[i]\n",
    "\n",
    "\n",
    "\n",
    "price_val_reverse = copy.deepcopy(price_val[::-1])\n",
    "price_val_reverse2 = price_val_reverse #for inputting new values into during iteration\n",
    "for i,v in np.ndenumerate(price_val_reverse):\n",
    "    if i[0] > 0 and np.isnan(v):\n",
    "        price_val_reverse2[i[0]] = price_val_reverse2[i[0]-1]\n",
    "\n",
    "'''fill in trailing nans'''\n",
    "price_val2 = price_val_reverse2[::-1]\n",
    "price_val3 = copy.deepcopy(price_val2)\n",
    "for i,v in np.ndenumerate(price_val3):\n",
    "    if i[0] > 1 and np.isnan(v):\n",
    "        price_val3[i[0]] = np.median(price_val3[:i[0]-1]) # this will need to be fixed! \n",
    "        #Currently only doing medians\n",
    "\n",
    "out_dict = {'timestamps':list(timestamp_range), 'prices':list(price_val3)}\n",
    "\n",
    "\n"
   ]
  },
  {
   "cell_type": "code",
   "execution_count": 7,
   "metadata": {
    "collapsed": false
   },
   "outputs": [],
   "source": [
    "'''not used now'''\n",
    "def make_descend(np_array):\n",
    "    if np_array != None:\n",
    "        new = np_array\n",
    "        cur_min = np.infty\n",
    "        for i,idum in np.ndenumerate(np_array):\n",
    "            new[i] = np.min([cur_min,np_array[i]])\n",
    "            cur_min = new[i]\n",
    "    else:\n",
    "        new = None\n",
    "    return new"
   ]
  },
  {
   "cell_type": "code",
   "execution_count": 8,
   "metadata": {
    "collapsed": false
   },
   "outputs": [],
   "source": [
    "'''not used now'''\n",
    "min_iprice = list()\n",
    "min_fprice = list()\n",
    "for item in df.iprice:\n",
    "    min_iprice_descent = make_descend(item)\n",
    "    min_iprice.append(min_iprice_descent)\n",
    "\n",
    "for item in df.fprice:\n",
    "    min_fprice_descent = make_descend(item)\n",
    "    min_fprice.append(min_fprice_descent)"
   ]
  },
  {
   "cell_type": "code",
   "execution_count": 9,
   "metadata": {
    "collapsed": false
   },
   "outputs": [],
   "source": [
    "df['min_fprice'] = min_fprice\n",
    "df['min_iprice'] = min_iprice"
   ]
  },
  {
   "cell_type": "code",
   "execution_count": 10,
   "metadata": {
    "collapsed": false
   },
   "outputs": [],
   "source": [
    "\n"
   ]
  },
  {
   "cell_type": "code",
   "execution_count": 11,
   "metadata": {
    "collapsed": false
   },
   "outputs": [],
   "source": [
    "df['min_iprice_var'] = df['min_iprice'].apply(np.var)"
   ]
  },
  {
   "cell_type": "code",
   "execution_count": 14,
   "metadata": {
    "collapsed": false
   },
   "outputs": [],
   "source": [
    "intercepts = list()\n",
    "slopes = list()\n",
    "for x,y in zip(df['price_date'],df['min_iprice']):\n",
    "    if abs(np.sum(x)) >0: \n",
    "        linstat = stats.linregress(x,y)\n",
    "    else:\n",
    "        linstat = (np.nan,np.nan)\n",
    "    intercepts = np.append(intercepts,linstat[1])\n",
    "    slopes = np.append(slopes,linstat[0])\n",
    "    \n",
    "df['min_iprice_slope'] = slopes\n",
    "df['min_iprice_intercept'] = intercepts"
   ]
  },
  {
   "cell_type": "code",
   "execution_count": 15,
   "metadata": {
    "collapsed": false
   },
   "outputs": [
    {
     "data": {
      "text/plain": [
       "16    -1.750405e-10\n",
       "36    -3.165598e-10\n",
       "53    -3.138265e-10\n",
       "54    -2.321009e-10\n",
       "61    -2.397682e-10\n",
       "88    -5.443083e-10\n",
       "92    -3.925511e-09\n",
       "95    -4.291506e-09\n",
       "104   -4.191228e-10\n",
       "105   -4.110342e-09\n",
       "108   -5.194943e-11\n",
       "128   -1.299366e-10\n",
       "152   -4.291427e-09\n",
       "164   -1.161534e-09\n",
       "166   -4.529244e-10\n",
       "...\n",
       "6081   -5.184942e-10\n",
       "6088   -2.721694e-10\n",
       "6097   -1.613740e-10\n",
       "6102   -3.067520e-10\n",
       "6103   -2.500268e-10\n",
       "6127   -9.647339e-10\n",
       "6135   -7.045586e-10\n",
       "6142   -7.129163e-11\n",
       "6144   -1.457928e-10\n",
       "6145   -2.052250e-11\n",
       "6178   -1.922564e-10\n",
       "6180   -8.569364e-10\n",
       "6184   -1.574378e-10\n",
       "6186   -3.916915e-10\n",
       "6190   -5.701188e-10\n",
       "Name: min_iprice_slope, Length: 621, dtype: float64"
      ]
     },
     "execution_count": 15,
     "metadata": {},
     "output_type": "execute_result"
    }
   ],
   "source": [
    "df['min_iprice_slope'][df['min_iprice_var'] > np.spacing(2)]\n"
   ]
  },
  {
   "cell_type": "code",
   "execution_count": 16,
   "metadata": {
    "collapsed": false
   },
   "outputs": [
    {
     "data": {
      "text/html": [
       "<div style=\"max-height:1000px;max-width:1500px;overflow:auto;\">\n",
       "<table border=\"1\" class=\"dataframe\">\n",
       "  <thead>\n",
       "    <tr style=\"text-align: right;\">\n",
       "      <th></th>\n",
       "      <th>appid</th>\n",
       "      <th>fprice</th>\n",
       "      <th>iprice</th>\n",
       "      <th>price_date</th>\n",
       "      <th>min_fprice</th>\n",
       "      <th>min_iprice</th>\n",
       "      <th>min_iprice_var</th>\n",
       "      <th>min_iprice_slope</th>\n",
       "      <th>min_iprice_intercept</th>\n",
       "    </tr>\n",
       "  </thead>\n",
       "  <tbody>\n",
       "    <tr>\n",
       "      <th>0</th>\n",
       "      <td>   2430</td>\n",
       "      <td>                                              NaN</td>\n",
       "      <td>                                              NaN</td>\n",
       "      <td>                                               NaN</td>\n",
       "      <td>                                              NaN</td>\n",
       "      <td>                                              NaN</td>\n",
       "      <td>          NaN</td>\n",
       "      <td>NaN</td>\n",
       "      <td>   NaN</td>\n",
       "    </tr>\n",
       "    <tr>\n",
       "      <th>1</th>\n",
       "      <td> 297750</td>\n",
       "      <td>              [39.99, 29.99, 29.99, 19.99, 19.99]</td>\n",
       "      <td>              [39.99, 39.99, 39.99, 39.99, 39.99]</td>\n",
       "      <td> [1.417120656e+12, 1.434047268e+12, 1.434994431...</td>\n",
       "      <td>              [39.99, 29.99, 29.99, 19.99, 19.99]</td>\n",
       "      <td>              [39.99, 39.99, 39.99, 39.99, 39.99]</td>\n",
       "      <td> 0.000000e+00</td>\n",
       "      <td>  0</td>\n",
       "      <td> 39.99</td>\n",
       "    </tr>\n",
       "    <tr>\n",
       "      <th>2</th>\n",
       "      <td>  19080</td>\n",
       "      <td>                               [9.99, 2.49, 2.49]</td>\n",
       "      <td>                               [9.99, 9.99, 9.99]</td>\n",
       "      <td> [1.417120656e+12, 1.434049315e+12, 1.434996542...</td>\n",
       "      <td>                               [9.99, 2.49, 2.49]</td>\n",
       "      <td>                               [9.99, 9.99, 9.99]</td>\n",
       "      <td> 0.000000e+00</td>\n",
       "      <td>  0</td>\n",
       "      <td>  9.99</td>\n",
       "    </tr>\n",
       "    <tr>\n",
       "      <th>3</th>\n",
       "      <td> 278850</td>\n",
       "      <td>       [4.99, 2.49, 2.49, 2.49, 2.49, 1.49, 1.49]</td>\n",
       "      <td>       [4.99, 4.99, 4.99, 4.99, 4.99, 4.99, 4.99]</td>\n",
       "      <td> [1.417120656e+12, 1.417513376e+12, 1.417545207...</td>\n",
       "      <td>       [4.99, 2.49, 2.49, 2.49, 2.49, 1.49, 1.49]</td>\n",
       "      <td>       [4.99, 4.99, 4.99, 4.99, 4.99, 4.99, 4.99]</td>\n",
       "      <td> 7.888609e-31</td>\n",
       "      <td>  0</td>\n",
       "      <td>  4.99</td>\n",
       "    </tr>\n",
       "    <tr>\n",
       "      <th>4</th>\n",
       "      <td> 367260</td>\n",
       "      <td> [5.39, 5.39, 4.01, 4.01, 4.01, 4.01, 4.01, 4.01]</td>\n",
       "      <td> [5.99, 5.99, 5.99, 5.99, 5.99, 5.99, 5.99, 5.99]</td>\n",
       "      <td> [1.430513702e+12, 1.431104712e+12, 1.43404599e...</td>\n",
       "      <td> [5.39, 5.39, 4.01, 4.01, 4.01, 4.01, 4.01, 4.01]</td>\n",
       "      <td> [5.99, 5.99, 5.99, 5.99, 5.99, 5.99, 5.99, 5.99]</td>\n",
       "      <td> 7.888609e-31</td>\n",
       "      <td>  0</td>\n",
       "      <td>  5.99</td>\n",
       "    </tr>\n",
       "  </tbody>\n",
       "</table>\n",
       "</div>"
      ],
      "text/plain": [
       "    appid                                            fprice  \\\n",
       "0    2430                                               NaN   \n",
       "1  297750               [39.99, 29.99, 29.99, 19.99, 19.99]   \n",
       "2   19080                                [9.99, 2.49, 2.49]   \n",
       "3  278850        [4.99, 2.49, 2.49, 2.49, 2.49, 1.49, 1.49]   \n",
       "4  367260  [5.39, 5.39, 4.01, 4.01, 4.01, 4.01, 4.01, 4.01]   \n",
       "\n",
       "                                             iprice  \\\n",
       "0                                               NaN   \n",
       "1               [39.99, 39.99, 39.99, 39.99, 39.99]   \n",
       "2                                [9.99, 9.99, 9.99]   \n",
       "3        [4.99, 4.99, 4.99, 4.99, 4.99, 4.99, 4.99]   \n",
       "4  [5.99, 5.99, 5.99, 5.99, 5.99, 5.99, 5.99, 5.99]   \n",
       "\n",
       "                                          price_date  \\\n",
       "0                                                NaN   \n",
       "1  [1.417120656e+12, 1.434047268e+12, 1.434994431...   \n",
       "2  [1.417120656e+12, 1.434049315e+12, 1.434996542...   \n",
       "3  [1.417120656e+12, 1.417513376e+12, 1.417545207...   \n",
       "4  [1.430513702e+12, 1.431104712e+12, 1.43404599e...   \n",
       "\n",
       "                                         min_fprice  \\\n",
       "0                                               NaN   \n",
       "1               [39.99, 29.99, 29.99, 19.99, 19.99]   \n",
       "2                                [9.99, 2.49, 2.49]   \n",
       "3        [4.99, 2.49, 2.49, 2.49, 2.49, 1.49, 1.49]   \n",
       "4  [5.39, 5.39, 4.01, 4.01, 4.01, 4.01, 4.01, 4.01]   \n",
       "\n",
       "                                         min_iprice  min_iprice_var  \\\n",
       "0                                               NaN             NaN   \n",
       "1               [39.99, 39.99, 39.99, 39.99, 39.99]    0.000000e+00   \n",
       "2                                [9.99, 9.99, 9.99]    0.000000e+00   \n",
       "3        [4.99, 4.99, 4.99, 4.99, 4.99, 4.99, 4.99]    7.888609e-31   \n",
       "4  [5.99, 5.99, 5.99, 5.99, 5.99, 5.99, 5.99, 5.99]    7.888609e-31   \n",
       "\n",
       "   min_iprice_slope  min_iprice_intercept  \n",
       "0               NaN                   NaN  \n",
       "1                 0                 39.99  \n",
       "2                 0                  9.99  \n",
       "3                 0                  4.99  \n",
       "4                 0                  5.99  "
      ]
     },
     "execution_count": 16,
     "metadata": {},
     "output_type": "execute_result"
    }
   ],
   "source": [
    "df.head()"
   ]
  },
  {
   "cell_type": "code",
   "execution_count": 18,
   "metadata": {
    "collapsed": false
   },
   "outputs": [],
   "source": [
    "df.to_pickle('df_steam_db.pkl')"
   ]
  },
  {
   "cell_type": "code",
   "execution_count": null,
   "metadata": {
    "collapsed": true
   },
   "outputs": [],
   "source": []
  }
 ],
 "metadata": {
  "kernelspec": {
   "display_name": "Python 2",
   "language": "python",
   "name": "python2"
  },
  "language_info": {
   "codemirror_mode": {
    "name": "ipython",
    "version": 2
   },
   "file_extension": ".py",
   "mimetype": "text/x-python",
   "name": "python",
   "nbconvert_exporter": "python",
   "pygments_lexer": "ipython2",
   "version": "2.7.9"
  }
 },
 "nbformat": 4,
 "nbformat_minor": 0
}
