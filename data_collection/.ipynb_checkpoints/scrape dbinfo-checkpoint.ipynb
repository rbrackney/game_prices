{
 "cells": [
  {
   "cell_type": "code",
   "execution_count": 1,
   "metadata": {
    "collapsed": true
   },
   "outputs": [],
   "source": [
    "import requests\n",
    "import json"
   ]
  },
  {
   "cell_type": "code",
   "execution_count": 6,
   "metadata": {
    "collapsed": false
   },
   "outputs": [
    {
     "data": {
      "text/plain": [
       "200"
      ]
     },
     "execution_count": 6,
     "metadata": {},
     "output_type": "execute_result"
    }
   ],
   "source": [
    "payload = {'appid': 20900,'cc': 'us'}\n",
    "r = requests.post('https://steamdb.info/api/GetPriceHistory/', params = payload)\n",
    "r.status_code"
   ]
  },
  {
   "cell_type": "code",
   "execution_count": 7,
   "metadata": {
    "collapsed": false
   },
   "outputs": [
    {
     "data": {
      "text/plain": [
       "{u'data': {u'final': [[1417120656000, 4.99],\n",
       "   [1417284015000, 1.49],\n",
       "   [1417284022000, 1.49],\n",
       "   [1417370696000, 4.99],\n",
       "   [1417544167000, 9.99],\n",
       "   [1418927084000, 4.99],\n",
       "   [1419962742000, 1.49],\n",
       "   [1420135516000, 4.99],\n",
       "   [1420221995000, 9.99],\n",
       "   [1425492348000, 1.99],\n",
       "   [1425920744000, 9.99],\n",
       "   [1431018343000, 1.49],\n",
       "   [1431363944000, 9.99],\n",
       "   [1432746912000, 9.99],\n",
       "   [1432747807000, 9.99],\n",
       "   [1434042966000, 4.99],\n",
       "   [1434128750000, 1.49],\n",
       "   [1434301548000, 4.99],\n",
       "   [1434819956000, 1.49],\n",
       "   [1434996551000, 9.99],\n",
       "   [1437812241000, 79.99],\n",
       "   [1438034102000, 9.99],\n",
       "   [1441904749000, 1.49]],\n",
       "  u'formatted': {u'1417120656000': {u'discount': 50,\n",
       "    u'final': u'$4.99',\n",
       "    u'initial': u'$9.99'},\n",
       "   u'1417284015000': {u'discount': 85,\n",
       "    u'final': u'$1.49',\n",
       "    u'initial': u'$9.99'},\n",
       "   u'1417284022000': {u'discount': 85,\n",
       "    u'final': u'$1.49',\n",
       "    u'initial': u'$9.99'},\n",
       "   u'1417370696000': {u'discount': 50,\n",
       "    u'final': u'$4.99',\n",
       "    u'initial': u'$9.99'},\n",
       "   u'1417544167000': {u'discount': 0,\n",
       "    u'final': u'$9.99',\n",
       "    u'initial': u'$9.99'},\n",
       "   u'1418927084000': {u'discount': 50,\n",
       "    u'final': u'$4.99',\n",
       "    u'initial': u'$9.99'},\n",
       "   u'1419962742000': {u'discount': 85,\n",
       "    u'final': u'$1.49',\n",
       "    u'initial': u'$9.99'},\n",
       "   u'1420135516000': {u'discount': 50,\n",
       "    u'final': u'$4.99',\n",
       "    u'initial': u'$9.99'},\n",
       "   u'1420221995000': {u'discount': 0,\n",
       "    u'final': u'$9.99',\n",
       "    u'initial': u'$9.99'},\n",
       "   u'1425492348000': {u'discount': 80,\n",
       "    u'final': u'$1.99',\n",
       "    u'initial': u'$9.99'},\n",
       "   u'1425920744000': {u'discount': 0,\n",
       "    u'final': u'$9.99',\n",
       "    u'initial': u'$9.99'},\n",
       "   u'1431018343000': {u'discount': 85,\n",
       "    u'final': u'$1.49',\n",
       "    u'initial': u'$9.99'},\n",
       "   u'1431363944000': {u'discount': 0,\n",
       "    u'final': u'$9.99',\n",
       "    u'initial': u'$9.99'},\n",
       "   u'1432746912000': {u'discount': 0,\n",
       "    u'final': u'$9.99',\n",
       "    u'initial': u'$9.99'},\n",
       "   u'1432747807000': {u'discount': 0,\n",
       "    u'final': u'$9.99',\n",
       "    u'initial': u'$9.99'},\n",
       "   u'1434042966000': {u'discount': 50,\n",
       "    u'final': u'$4.99',\n",
       "    u'initial': u'$9.99'},\n",
       "   u'1434128750000': {u'discount': 85,\n",
       "    u'final': u'$1.49',\n",
       "    u'initial': u'$9.99'},\n",
       "   u'1434301548000': {u'discount': 50,\n",
       "    u'final': u'$4.99',\n",
       "    u'initial': u'$9.99'},\n",
       "   u'1434819956000': {u'discount': 85,\n",
       "    u'final': u'$1.49',\n",
       "    u'initial': u'$9.99'},\n",
       "   u'1434996551000': {u'discount': 0,\n",
       "    u'final': u'$9.99',\n",
       "    u'initial': u'$9.99'},\n",
       "   u'1437812241000': {u'discount': 0,\n",
       "    u'final': u'$79.99',\n",
       "    u'initial': u'$79.99'},\n",
       "   u'1438034102000': {u'discount': 0,\n",
       "    u'final': u'$9.99',\n",
       "    u'initial': u'$9.99'},\n",
       "   u'1441904749000': {u'discount': 85,\n",
       "    u'final': u'$1.49',\n",
       "    u'initial': u'$9.99'}},\n",
       "  u'initial': [[1417120656000, 9.99],\n",
       "   [1417284015000, 9.99],\n",
       "   [1417284022000, 9.99],\n",
       "   [1417370696000, 9.99],\n",
       "   [1417544167000, 9.99],\n",
       "   [1418927084000, 9.99],\n",
       "   [1419962742000, 9.99],\n",
       "   [1420135516000, 9.99],\n",
       "   [1420221995000, 9.99],\n",
       "   [1425492348000, 9.99],\n",
       "   [1425920744000, 9.99],\n",
       "   [1431018343000, 9.99],\n",
       "   [1431363944000, 9.99],\n",
       "   [1432746912000, 9.99],\n",
       "   [1432747807000, 9.99],\n",
       "   [1434042966000, 9.99],\n",
       "   [1434128750000, 9.99],\n",
       "   [1434301548000, 9.99],\n",
       "   [1434819956000, 9.99],\n",
       "   [1434996551000, 9.99],\n",
       "   [1437812241000, 79.99],\n",
       "   [1438034102000, 9.99],\n",
       "   [1441904749000, 9.99]]},\n",
       " u'success': True}"
      ]
     },
     "execution_count": 7,
     "metadata": {},
     "output_type": "execute_result"
    }
   ],
   "source": [
    "r.json()"
   ]
  },
  {
   "cell_type": "code",
   "execution_count": 1,
   "metadata": {
    "collapsed": true
   },
   "outputs": [],
   "source": [
    "import datetime\n",
    "your_timestamp = 1417370696000\n",
    "date = datetime.datetime.fromtimestamp(your_timestamp / 1e3)"
   ]
  },
  {
   "cell_type": "code",
   "execution_count": null,
   "metadata": {
    "collapsed": true
   },
   "outputs": [],
   "source": []
  }
 ],
 "metadata": {
  "kernelspec": {
   "display_name": "Python 2",
   "language": "python",
   "name": "python2"
  },
  "language_info": {
   "codemirror_mode": {
    "name": "ipython",
    "version": 2
   },
   "file_extension": ".py",
   "mimetype": "text/x-python",
   "name": "python",
   "nbconvert_exporter": "python",
   "pygments_lexer": "ipython2",
   "version": "2.7.9"
  }
 },
 "nbformat": 4,
 "nbformat_minor": 0
}
