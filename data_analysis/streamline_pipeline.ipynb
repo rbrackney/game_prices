{
 "cells": [
  {
   "cell_type": "markdown",
   "metadata": {},
   "source": [
    "<h3>A simplified pipeline for the random forest classifier\n"
   ]
  },
  {
   "cell_type": "code",
   "execution_count": 7,
   "metadata": {
    "collapsed": false
   },
   "outputs": [
    {
     "data": {
      "text/plain": [
       "'/home/ryan/Documents/insight_projects/steam_prices/data_analysis'"
      ]
     },
     "execution_count": 7,
     "metadata": {},
     "output_type": "execute_result"
    }
   ],
   "source": [
    "import os\n",
    "import json\n",
    "import numpy as np\n",
    "import matplotlib.pyplot as plt\n",
    "import matplotlib\n",
    "import seaborn as sns\n",
    "from scipy import stats\n",
    "from scipy.stats import randint as sp_randint \n",
    "from time import time\n",
    "from operator import itemgetter\n",
    "\n",
    "\n",
    "%matplotlib inline\n",
    "os.getcwd()"
   ]
  },
  {
   "cell_type": "code",
   "execution_count": 8,
   "metadata": {
    "collapsed": false
   },
   "outputs": [],
   "source": [
    "from sklearn.svm import SVC\n",
    "from sklearn.ensemble import RandomForestClassifier as RF\n",
    "from sklearn.ensemble import ExtraTreesClassifier as ETC\n",
    "from sklearn.neighbors import KNeighborsClassifier as KNN\n",
    "from sklearn.grid_search import GridSearchCV, RandomizedSearchCV\n",
    "from sklearn.cross_validation import StratifiedKFold\n",
    "from sklearn.feature_selection import RFECV\n",
    "from sklearn.preprocessing import StandardScaler, LabelEncoder\n",
    "from sklearn.metrics import roc_curve, auc\n",
    "from sklearn.cross_validation import KFold\n",
    "from sklearn.metrics import confusion_matrix\n",
    "from sklearn.externals import joblib"
   ]
  },
  {
   "cell_type": "code",
   "execution_count": 9,
   "metadata": {
    "collapsed": true
   },
   "outputs": [],
   "source": [
    "import pipeline as pl #contains the function for sorting the data"
   ]
  },
  {
   "cell_type": "code",
   "execution_count": 5,
   "metadata": {
    "collapsed": false
   },
   "outputs": [],
   "source": [
    "train_on = [14,15,16,17,18] #train on these epochs\n",
    "for item in train_on:\n",
    "    '''iterate through each of the epochs, extract the features and put them \n",
    "    all into a single X matrix and y vector'''\n",
    "    cur_dat =  pl.sort_data(item)\n",
    "    if item == train_on[0]:\n",
    "        X = cur_dat['X']\n",
    "        y = cur_dat['y']\n",
    "    else:\n",
    "        X = np.append(X,cur_dat['X'], axis = 0)\n",
    "        y =  np.append(y,cur_dat['y'], axis = 0)"
   ]
  },
  {
   "cell_type": "markdown",
   "metadata": {
    "collapsed": false
   },
   "source": [
    "<h4>Peform cross validation and hyper-parameter tuning"
   ]
  },
  {
   "cell_type": "code",
   "execution_count": 6,
   "metadata": {
    "collapsed": false
   },
   "outputs": [
    {
     "name": "stdout",
     "output_type": "stream",
     "text": [
      "RandomizedSearchCV took 772.36 seconds for 200 candidates parameter settings.\n",
      "Model with rank: 1\n",
      "Mean validation score: 0.966 (std: 0.004)\n",
      "Parameters: {'bootstrap': True, 'min_samples_leaf': 2, 'min_samples_split': 6, 'criterion': 'entropy', 'max_features': 4, 'max_depth': 10}\n",
      "\n",
      "Model with rank: 2\n",
      "Mean validation score: 0.966 (std: 0.004)\n",
      "Parameters: {'bootstrap': True, 'min_samples_leaf': 8, 'min_samples_split': 6, 'criterion': 'gini', 'max_features': 3, 'max_depth': None}\n",
      "\n",
      "Model with rank: 3\n",
      "Mean validation score: 0.966 (std: 0.004)\n",
      "Parameters: {'bootstrap': True, 'min_samples_leaf': 11, 'min_samples_split': 11, 'criterion': 'gini', 'max_features': 4, 'max_depth': 10}\n",
      "\n"
     ]
    }
   ],
   "source": [
    "clf = RF(n_estimators=20) #Random Forest Regression\n",
    "def report(grid_scores, n_top=3):\n",
    "    top_scores = sorted(grid_scores, key=itemgetter(1), reverse=True)[:n_top]\n",
    "    for i, score in enumerate(top_scores):\n",
    "        print(\"Model with rank: {0}\".format(i + 1))\n",
    "        print(\"Mean validation score: {0:.3f} (std: {1:.3f})\".format(\n",
    "              score.mean_validation_score,\n",
    "              np.std(score.cv_validation_scores)))\n",
    "        print(\"Parameters: {0}\".format(score.parameters))\n",
    "        print(\"\")\n",
    "\n",
    "\n",
    "# specify parameters and distributions to sample from\n",
    "param_dist = {\"max_depth\": [3,5,10, None],\n",
    "              \"max_features\": sp_randint(1, 14),\n",
    "              \"min_samples_split\": sp_randint(1, 14),\n",
    "              \"min_samples_leaf\": sp_randint(1, 14),\n",
    "              \"bootstrap\": [True, False],\n",
    "              \"criterion\": [\"gini\", \"entropy\"]}\n",
    "\n",
    "# run randomized search\n",
    "n_iter_search = 200\n",
    "random_search = RandomizedSearchCV(clf, param_distributions=param_dist,\n",
    "                                   n_iter=n_iter_search, cv = 10)\n",
    "\n",
    "start = time()\n",
    "random_search.fit(X, y)\n",
    "print(\"RandomizedSearchCV took %.2f seconds for %d candidates\"\n",
    "      \" parameter settings.\" % ((time() - start), n_iter_search))\n",
    "report(random_search.grid_scores_)\n",
    "best_params = random_search.best_params_"
   ]
  },
  {
   "cell_type": "code",
   "execution_count": 7,
   "metadata": {
    "collapsed": false
   },
   "outputs": [],
   "source": [
    "best_est = random_search.best_estimator_ #save the best estimator"
   ]
  },
  {
   "cell_type": "markdown",
   "metadata": {},
   "source": [
    "<h4>Validation"
   ]
  },
  {
   "cell_type": "code",
   "execution_count": 12,
   "metadata": {
    "collapsed": false
   },
   "outputs": [],
   "source": [
    "'''pull out 19th epoch for the test set to use for validation (saved for this moment)'''\n",
    "test_set =  pl.sort_data(19)"
   ]
  },
  {
   "cell_type": "code",
   "execution_count": 5,
   "metadata": {
    "collapsed": false
   },
   "outputs": [
    {
     "ename": "NameError",
     "evalue": "name 'best_est' is not defined",
     "output_type": "error",
     "traceback": [
      "\u001b[1;31m---------------------------------------------------------------------------\u001b[0m",
      "\u001b[1;31mNameError\u001b[0m                                 Traceback (most recent call last)",
      "\u001b[1;32m<ipython-input-5-bc8aee20b53a>\u001b[0m in \u001b[0;36m<module>\u001b[1;34m()\u001b[0m\n\u001b[1;32m----> 1\u001b[1;33m \u001b[0my_prediction\u001b[0m \u001b[1;33m=\u001b[0m \u001b[0mbest_est\u001b[0m\u001b[1;33m.\u001b[0m\u001b[0mpredict\u001b[0m\u001b[1;33m(\u001b[0m\u001b[0mtest_set\u001b[0m\u001b[1;33m[\u001b[0m\u001b[1;34m'Xall'\u001b[0m\u001b[1;33m]\u001b[0m\u001b[1;33m)\u001b[0m\u001b[1;33m\u001b[0m\u001b[0m\n\u001b[0m",
      "\u001b[1;31mNameError\u001b[0m: name 'best_est' is not defined"
     ]
    }
   ],
   "source": [
    "y_prediction = best_est.predict(test_set['Xall']) "
   ]
  },
  {
   "cell_type": "code",
   "execution_count": 10,
   "metadata": {
    "collapsed": true
   },
   "outputs": [],
   "source": [
    "def accuracy(y_true,y_pred):\n",
    "    # NumPy interprets True and False as 1. and 0.\n",
    "    return np.mean(y_true == y_pred)"
   ]
  },
  {
   "cell_type": "code",
   "execution_count": 11,
   "metadata": {
    "collapsed": false
   },
   "outputs": [
    {
     "data": {
      "text/plain": [
       "0.96252702378092725"
      ]
     },
     "execution_count": 11,
     "metadata": {},
     "output_type": "execute_result"
    }
   ],
   "source": [
    "accuracy(test_set['yall'],y_prediction) #compare prediction with actual values"
   ]
  },
  {
   "cell_type": "markdown",
   "metadata": {},
   "source": [
    "<h4> Make confusion matrix"
   ]
  },
  {
   "cell_type": "code",
   "execution_count": 15,
   "metadata": {
    "collapsed": true
   },
   "outputs": [],
   "source": [
    "def plot_confusion_matrix(cm, title='Confusion matrix', cmap=plt.cm.Blues):\n",
    "    plt.imshow(cm, interpolation='nearest', cmap=cmap,vmin=0, vmax=1)\n",
    "    plt.title(title)\n",
    "    plt.colorbar()\n",
    "    plt.tight_layout()\n",
    "    plt.ylabel('True label')\n",
    "    plt.xlabel('Predicted label')\n"
   ]
  },
  {
   "cell_type": "code",
   "execution_count": 23,
   "metadata": {
    "collapsed": false
   },
   "outputs": [
    {
     "data": {
      "text/plain": [
       "<matplotlib.text.Text at 0x7fb199e89610>"
      ]
     },
     "execution_count": 23,
     "metadata": {},
     "output_type": "execute_result"
    },
    {
     "data": {
      "image/png": "[encoded data removed]",
      "text/plain": [
       "<matplotlib.figure.Figure at 0x7fb199f35c50>"
      ]
     },
     "metadata": {},
     "output_type": "display_data"
    }
   ],
   "source": [
    "cm = confusion_matrix(test_set['yall'], y_prediction)\n",
    "np.set_printoptions(precision=2)\n",
    "cm_normalized = cm.astype('float') / cm.sum(axis=1)[:, np.newaxis]\n",
    "plt.figure()\n",
    "plot_confusion_matrix(cm_normalized, title='Normalized confusion matrix')\n",
    "plt.xticks([1,0])\n",
    "plt.yticks([0,1])\n",
    "plt.gca().set_yticklabels(['NO','YES'])\n",
    "plt.gca().set_xticklabels(['YES','NO'])\n",
    "xlabel = ['Actual']\n",
    "plt.xlabel('Predicted', fontsize = 20)\n",
    "plt.ylabel('Actual',fontsize = 20)\n",
    "plt.grid(False)\n",
    "plt.title('')"
   ]
  },
  {
   "cell_type": "code",
   "execution_count": 24,
   "metadata": {
    "collapsed": false
   },
   "outputs": [
    {
     "data": {
      "text/plain": [
       "array([[ 1.  ,  0.  ],\n",
       "       [ 0.46,  0.54]])"
      ]
     },
     "execution_count": 24,
     "metadata": {},
     "output_type": "execute_result"
    }
   ],
   "source": [
    "'''report rate for each quadrant'''\n",
    "cm_normalized"
   ]
  },
  {
   "cell_type": "markdown",
   "metadata": {
    "collapsed": false
   },
   "source": [
    "<h4> Simulation to demonstrate base rate if classification was purely random"
   ]
  },
  {
   "cell_type": "code",
   "execution_count": 13,
   "metadata": {
    "collapsed": true
   },
   "outputs": [],
   "source": [
    "def sim_sequence(p, in_len):\n",
    "    sequence = list()\n",
    "    for i in xrange(in_len):\n",
    "        sequence.append(np.random.binomial(1,p))\n",
    "    return sequence"
   ]
  },
  {
   "cell_type": "code",
   "execution_count": 19,
   "metadata": {
    "collapsed": false
   },
   "outputs": [
    {
     "data": {
      "text/plain": [
       "<matplotlib.text.Text at 0x7f459fbd5e90>"
      ]
     },
     "execution_count": 19,
     "metadata": {},
     "output_type": "execute_result"
    },
    {
     "data": {
      "image/png": "[encoded data removed]",
      "text/plain": [
       "<matplotlib.figure.Figure at 0x7f45a4907990>"
      ]
     },
     "metadata": {},
     "output_type": "display_data"
    }
   ],
   "source": [
    "tn = []\n",
    "tp = []\n",
    "fn = []\n",
    "fp = []\n",
    "for i in xrange(1000):\n",
    "    simulation_set = sim_sequence(0.1,test_set['yall'].size)\n",
    "    simulation_set2 = sim_sequence(0.1,test_set['yall'].size)\n",
    "    cm = confusion_matrix(simulation_set2, simulation_set)\n",
    "    #cm = confusion_matrix(test_set['yall'], simulation_set)\n",
    "    np.set_printoptions(precision=2)\n",
    "    cm_normalized_examp = cm.astype('float') / cm.sum(axis=1)[:, np.newaxis]\n",
    "    \n",
    "    tn.append(cm_normalized_examp[0,0])\n",
    "    fn.append(cm_normalized_examp[1,0])\n",
    "    tp.append(cm_normalized_examp[1,1])\n",
    "    fp.append(cm_normalized_examp[0,1])\n",
    "\n",
    "cm_normalized = np.array([[np.mean(tn),np.mean(fp)],[np.mean(fn),np.mean(tp)]])\n",
    "plt.figure()\n",
    "plot_confusion_matrix(cm_normalized, title='Normalized confusion matrix')\n",
    "plt.xticks([1,0])\n",
    "plt.yticks([0,1])\n",
    "plt.gca().set_yticklabels(['NO','YES'])\n",
    "plt.gca().set_xticklabels(['YES','NO'])\n",
    "xlabel = ['Actual']\n",
    "plt.xlabel('Predicted', fontsize = 20)\n",
    "plt.ylabel('Actual',fontsize = 20)\n",
    "plt.grid(False)\n",
    "plt.title('')"
   ]
  },
  {
   "cell_type": "code",
   "execution_count": 41,
   "metadata": {
    "collapsed": false
   },
   "outputs": [
    {
     "name": "stdout",
     "output_type": "stream",
     "text": [
      "[[ 0.85  0.15]\n",
      " [ 0.85  0.15]]\n"
     ]
    }
   ],
   "source": [
    "print cm_normalized"
   ]
  }
 ],
 "metadata": {
  "kernelspec": {
   "display_name": "Python 2",
   "language": "python",
   "name": "python2"
  },
  "language_info": {
   "codemirror_mode": {
    "name": "ipython",
    "version": 2
   },
   "file_extension": ".py",
   "mimetype": "text/x-python",
   "name": "python",
   "nbconvert_exporter": "python",
   "pygments_lexer": "ipython2",
   "version": "2.7.9"
  }
 },
 "nbformat": 4,
 "nbformat_minor": 0
}
