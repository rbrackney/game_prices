{
 "cells": [
  {
   "cell_type": "code",
   "execution_count": 5,
   "metadata": {
    "collapsed": false
   },
   "outputs": [
    {
     "data": {
      "text/plain": [
       "'/home/ryan/Documents/insight_projects/steam_prices/data_analysis'"
      ]
     },
     "execution_count": 5,
     "metadata": {},
     "output_type": "execute_result"
    }
   ],
   "source": [
    "import os\n",
    "from pprint import pprint as pp\n",
    "import pandas as pd\n",
    "import json\n",
    "import numpy as np\n",
    "from scipy import stats\n",
    "import matplotlib.pyplot as plt\n",
    "import itertools\n",
    "import copy\n",
    "import seaborn as sns\n",
    "\n",
    "%matplotlib inline\n",
    "os.getcwd()"
   ]
  },
  {
   "cell_type": "code",
   "execution_count": 6,
   "metadata": {
    "collapsed": true
   },
   "outputs": [],
   "source": [
    "df_timeseries = pd.read_pickle('df_steamdb_timeseries.pkl')\n",
    "df_prob = pd.read_pickle('df_sale_prob.pkl')"
   ]
  },
  {
   "cell_type": "code",
   "execution_count": 7,
   "metadata": {
    "collapsed": false
   },
   "outputs": [
    {
     "data": {
      "text/plain": [
       "0.000000    3552\n",
       "1.000000     279\n",
       "0.100000     105\n",
       "0.200000      62\n",
       "0.900000      30\n",
       "0.800000      29\n",
       "0.300000      29\n",
       "0.500000      21\n",
       "0.600000      18\n",
       "0.700000      17\n",
       "0.400000      16\n",
       "0.333333       3\n",
       "0.150000       1\n",
       "0.783333       1\n",
       "dtype: int64"
      ]
     },
     "execution_count": 7,
     "metadata": {},
     "output_type": "execute_result"
    },
    {
     "data": {
      "image/png": "[encoded data removed]",
      "text/plain": [
       "<matplotlib.figure.Figure at 0x7fc1f417d410>"
      ]
     },
     "metadata": {},
     "output_type": "display_data"
    }
   ],
   "source": [
    "df_prob.sale_prob.plot(kind = 'hist')\n",
    "plt.yscale('log')\n",
    "pd.value_counts(df_prob.sale_prob)"
   ]
  },
  {
   "cell_type": "code",
   "execution_count": 10,
   "metadata": {
    "collapsed": false
   },
   "outputs": [
    {
     "name": "stdout",
     "output_type": "stream",
     "text": [
      "{u'1434049315000': {u'discount': 75, u'initial': u'$9.99', u'final': u'$2.49'}, u'1417120656000': {u'discount': 0, u'initial': u'$9.99', u'final': u'$9.99'}, u'1434996542000': {u'discount': 0, u'initial': u'$9.99', u'final': u'$9.99'}}\n"
     ]
    }
   ],
   "source": [
    "sample = df_timeseries.formatted.iloc[2]\n",
    "print sample"
   ]
  },
  {
   "cell_type": "code",
   "execution_count": null,
   "metadata": {
    "collapsed": true
   },
   "outputs": [],
   "source": []
  },
  {
   "cell_type": "code",
   "execution_count": 46,
   "metadata": {
    "collapsed": false
   },
   "outputs": [],
   "source": [
    "from re import sub\n",
    "import decimal\n",
    "\n",
    "def money_con(money):\n",
    "    value = decimal.Decimal(sub(r'[^\\d.]', '', money))\n",
    "    value = float(value)\n",
    "    return value\n",
    "\n",
    "\n",
    "sample = df_timeseries.formatted.iloc[2]\n",
    "\n",
    "master_discount_li = list()\n",
    "master_savings_li = list()\n",
    "for item in df_timeseries.iterrows():\n",
    "    sample = item[1].formatted\n",
    "    discount_li = list()\n",
    "    savings_li = list()\n",
    "    discount_avg = 0\n",
    "    savings_avg = 0\n",
    "    if type(sample) is dict:\n",
    "        for k,v in sample.iteritems():\n",
    "            cur_discount = v[u'discount']\n",
    "            if cur_discount > 0:\n",
    "                discount_li.append(cur_discount)\n",
    "                savings = money_con(v[u'initial']) - money_con(v[u'final'])\n",
    "                savings_li.append(savings)\n",
    "        discount_avg =  np.mean(np.array([discount_li]))\n",
    "        savings_avg =  np.mean(np.array([savings_li]))\n",
    "    master_discount_li.append(discount_avg)\n",
    "    master_savings_li.append(savings_avg)\n"
   ]
  },
  {
   "cell_type": "code",
   "execution_count": 52,
   "metadata": {
    "collapsed": false
   },
   "outputs": [],
   "source": [
    "df_save_discount = pd.DataFrame()\n",
    "df_save_discount['appid'] =  df_timeseries.appid\n",
    "df_save_discount['avg_savings'] = master_savings_li\n",
    "df_save_discount['avg_discount'] = master_discount_li"
   ]
  },
  {
   "cell_type": "code",
   "execution_count": 53,
   "metadata": {
    "collapsed": true
   },
   "outputs": [],
   "source": [
    "df_save_discount = pd.merge(left=df_save_discount,right=df_prob, left_on='appid', right_on='appid')"
   ]
  },
  {
   "cell_type": "code",
   "execution_count": null,
   "metadata": {
    "collapsed": true
   },
   "outputs": [],
   "source": []
  },
  {
   "cell_type": "code",
   "execution_count": 57,
   "metadata": {
    "collapsed": false
   },
   "outputs": [
    {
     "data": {
      "text/plain": [
       "<matplotlib.text.Text at 0x7fc1f2c5d7d0>"
      ]
     },
     "execution_count": 57,
     "metadata": {},
     "output_type": "execute_result"
    },
    {
     "data": {
      "image/png": "[encoded data removed]",
      "text/plain": [
       "<matplotlib.figure.Figure at 0x7fc1f9012990>"
      ]
     },
     "metadata": {},
     "output_type": "display_data"
    }
   ],
   "source": [
    "df_save_discount.avg_savings.plot(kind='hist',bins = np.linspace(0,40,20))\n",
    "plt.xlabel('average savings')\n",
    "plt.ylabel('refreq')"
   ]
  },
  {
   "cell_type": "code",
   "execution_count": 63,
   "metadata": {
    "collapsed": false
   },
   "outputs": [
    {
     "data": {
      "text/plain": [
       "<matplotlib.text.Text at 0x7fc1f8e6d490>"
      ]
     },
     "execution_count": 63,
     "metadata": {},
     "output_type": "execute_result"
    },
    {
     "data": {
      "image/png": "[encoded data removed]",
      "text/plain": [
       "<matplotlib.figure.Figure at 0x7fc1f8f96ed0>"
      ]
     },
     "metadata": {},
     "output_type": "display_data"
    }
   ],
   "source": [
    "df_save_discount.avg_discount.plot(kind='hist',bins = np.linspace(0,100,20))\n",
    "plt.xlabel('average discount (%)')\n",
    "plt.ylabel('freq')"
   ]
  },
  {
   "cell_type": "code",
   "execution_count": 74,
   "metadata": {
    "collapsed": false
   },
   "outputs": [
    {
     "data": {
      "text/plain": [
       "<matplotlib.text.Text at 0x7fc1f508bcd0>"
      ]
     },
     "execution_count": 74,
     "metadata": {},
     "output_type": "execute_result"
    },
    {
     "data": {
      "image/png": "[encoded data removed]",
      "text/plain": [
       "<matplotlib.figure.Figure at 0x7fc1f5261350>"
      ]
     },
     "metadata": {},
     "output_type": "display_data"
    }
   ],
   "source": [
    "disc_amount = 20\n",
    "\n",
    "\n",
    "def wait_score(sale_prob, disc_amount, loc_base = 0.5, disc_mod = 0.01):\n",
    "    '''\n",
    "    sale_prob: probabily of sale from the model\n",
    "    disc_amount: expected amount of the discount\n",
    "    '''\n",
    "    #loc_base = 0.5\n",
    "    #disc_mod = 0.01 #multiple by 0.01\n",
    "    loc_mod = disc_amount * disc_mod \n",
    "    loc = loc_base - loc_mod\n",
    "    y_l = stats.logistic.cdf(sale_prob, loc=loc, scale=.1)\n",
    "    return y_l"
   ]
  },
  {
   "cell_type": "code",
   "execution_count": 155,
   "metadata": {
    "collapsed": false
   },
   "outputs": [
    {
     "data": {
      "text/plain": [
       "<matplotlib.legend.Legend at 0x7fc1ee9af550>"
      ]
     },
     "execution_count": 155,
     "metadata": {},
     "output_type": "execute_result"
    },
    {
     "data": {
      "image/png": "[encoded data removed]",
      "text/plain": [
       "<matplotlib.figure.Figure at 0x7fc1f4355ad0>"
      ]
     },
     "metadata": {},
     "output_type": "display_data"
    }
   ],
   "source": [
    "'''create graph demonstrating sigmoidal weight recommendation curve'''\n",
    "\n",
    "disc_amount = 5\n",
    "loc_mod = disc_amount * disc_mod \n",
    "loc = loc_base - loc_mod\n",
    "y_l = stats.logistic.cdf(x, loc=loc, scale=.1)\n",
    "\n",
    "disc_amount = 20\n",
    "loc_mod = disc_amount * disc_mod \n",
    "loc = loc_base - loc_mod\n",
    "y_l_wait = stats.logistic.cdf(x, loc=loc, scale=.1)\n",
    "\n",
    "disc_amount = 30\n",
    "x = np.linspace(0,1,20)\n",
    "def y_l(disc_amount,x):\n",
    "\n",
    "    loc_mod = disc_amount * disc_mod \n",
    "    loc = loc_base - loc_mod\n",
    "    y_l = stats.logistic.cdf(x, loc=loc, scale=.1)\n",
    "    return y_l\n",
    "\n",
    "plt.plot(x,y_l(1,x),'g-', label = '$1 discount')\n",
    "plt.plot(x,y_l(15,x),'b-', label = '$15 discount')\n",
    "plt.plot(x,y_l(30,x),'r-', label = '$30 discount')\n",
    "plt.xlabel('actual probability of sale')\n",
    "plt.ylabel('wait for sale weight')\n",
    "plt.legend(loc = 'lower right')"
   ]
  },
  {
   "cell_type": "code",
   "execution_count": 153,
   "metadata": {
    "collapsed": false
   },
   "outputs": [],
   "source": [
    "import matplotlib.colors as mcolors\n",
    "\n",
    "def prob_rgba(weighted_prob):\n",
    "    \n",
    "    '''\n",
    "    weighted_prob comes from the wait_score function\n",
    "    make sure it's putting out the right colors for red/green whatever.\n",
    "    Otherwise, transform the probabiliy (1-p) when it comes in.\n",
    "    '''\n",
    "    cdict = {'red':   ((0.0, 0.0, 0.0),\n",
    "                       (0.5, 0.0, 0.0),\n",
    "                       (1.0, 1.0, 1.0)),\n",
    "             'blue':  ((0.0, 0.0, 0.0),\n",
    "                       (1.0, 0.0, 0.0)),\n",
    "             'green': ((0.0, 0.0, 1.0),\n",
    "                       (0.5, 0.0, 0.0),\n",
    "                       (1.0, 0.0, 0.0))}\n",
    "\n",
    "    cmap = mcolors.LinearSegmentedColormap(\n",
    "    'my_colormap', cdict, 100)\n",
    "\n",
    "    \n",
    "    rgba = cmap(int(weighted_prob * 100))\n",
    "    rgba255 = [x*255 for x in rgba]\n",
    "    rgba255[3] = rgba255[3] / 255\n",
    "    #because the last item shouldn't actually have been multiplied, \n",
    "    #and this is quicker to code then a conditional list comprehension\n",
    "    return rgba255"
   ]
  },
  {
   "cell_type": "code",
   "execution_count": 154,
   "metadata": {
    "collapsed": false
   },
   "outputs": [
    {
     "data": {
      "text/plain": [
       "[0.0, 203.4848484848485, 0.0, 1.0]"
      ]
     },
     "execution_count": 154,
     "metadata": {},
     "output_type": "execute_result"
    }
   ],
   "source": [
    "prob_rgba(0.1)"
   ]
  }
 ],
 "metadata": {
  "kernelspec": {
   "display_name": "Python 2",
   "language": "python",
   "name": "python2"
  },
  "language_info": {
   "codemirror_mode": {
    "name": "ipython",
    "version": 2
   },
   "file_extension": ".py",
   "mimetype": "text/x-python",
   "name": "python",
   "nbconvert_exporter": "python",
   "pygments_lexer": "ipython2",
   "version": "2.7.9"
  }
 },
 "nbformat": 4,
 "nbformat_minor": 0
}
