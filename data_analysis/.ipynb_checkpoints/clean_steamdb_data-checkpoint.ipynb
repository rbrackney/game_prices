{
 "cells": [
  {
   "cell_type": "code",
   "execution_count": 1,
   "metadata": {
    "collapsed": false
   },
   "outputs": [
    {
     "data": {
      "text/plain": [
       "'/home/ryan/Documents/insight_projects/steam_prices/data_analysis'"
      ]
     },
     "execution_count": 1,
     "metadata": {},
     "output_type": "execute_result"
    }
   ],
   "source": [
    "import os\n",
    "from pprint import pprint as pp\n",
    "import pandas as pd\n",
    "import json\n",
    "import numpy as np\n",
    "from scipy import stats\n",
    "import matplotlib.pyplot as plt\n",
    "import copy\n",
    "%matplotlib inline\n",
    "os.getcwd()"
   ]
  },
  {
   "cell_type": "code",
   "execution_count": 3,
   "metadata": {
    "collapsed": false
   },
   "outputs": [],
   "source": [
    "data_path = '/home/ryan/Documents/insight_projects/steam_price_data'\n",
    "steamdb_fol = 'steamdb_jsons'\n",
    "steamdb_path = os.path.join(data_path,steamdb_fol)\n",
    "steamdb_fnames = os.listdir(steamdb_path)"
   ]
  },
  {
   "cell_type": "code",
   "execution_count": 4,
   "metadata": {
    "collapsed": false
   },
   "outputs": [],
   "source": [
    "list_dict  = {'appid':list(),'fprice':list(),'iprice':list(), 'price_date':list()}\n",
    "for f in steamdb_fnames:\n",
    "    appid = int(f.split('.')[0].split('_')[1])\n",
    "    cur_file = os.path.join(steamdb_path,f)\n",
    "    with open(cur_file) as json_file:\n",
    "        json_data = json.load(json_file)\n",
    "    cur_init = np.array(dict(json_data)[u'data'][ u'initial'])\n",
    "    cur_final = np.array(dict(json_data)[u'data'][ u'final'])\n",
    "    if cur_final.size > 0:\n",
    "        cur_date = cur_init[:,0]\n",
    "        cur_init_just = cur_init[:,1]\n",
    "        cur_final_just = cur_final[:,1]\n",
    "    else:\n",
    "        cur_date = None\n",
    "        cur_init_just = None\n",
    "        cur_final_just = None      \n",
    "    list_dict['appid'].append(appid)\n",
    "    list_dict['price_date'].append(cur_date)\n",
    "    list_dict['iprice'].append(cur_init_just)\n",
    "    list_dict['fprice'].append(cur_final_just)"
   ]
  },
  {
   "cell_type": "code",
   "execution_count": 5,
   "metadata": {
    "collapsed": false
   },
   "outputs": [],
   "source": [
    "df = pd.DataFrame(list_dict)"
   ]
  },
  {
   "cell_type": "code",
   "execution_count": 6,
   "metadata": {
    "collapsed": false
   },
   "outputs": [
    {
     "data": {
      "text/html": [
       "<div style=\"max-height:1000px;max-width:1500px;overflow:auto;\">\n",
       "<table border=\"1\" class=\"dataframe\">\n",
       "  <thead>\n",
       "    <tr style=\"text-align: right;\">\n",
       "      <th></th>\n",
       "      <th>appid</th>\n",
       "      <th>fprice</th>\n",
       "      <th>iprice</th>\n",
       "      <th>price_date</th>\n",
       "    </tr>\n",
       "  </thead>\n",
       "  <tbody>\n",
       "    <tr>\n",
       "      <th>0</th>\n",
       "      <td>   2430</td>\n",
       "      <td>                                             None</td>\n",
       "      <td>                                             None</td>\n",
       "      <td>                                              None</td>\n",
       "    </tr>\n",
       "    <tr>\n",
       "      <th>1</th>\n",
       "      <td> 297750</td>\n",
       "      <td>              [39.99, 29.99, 39.99, 19.99, 39.99]</td>\n",
       "      <td>              [39.99, 39.99, 39.99, 39.99, 39.99]</td>\n",
       "      <td> [1.417120656e+12, 1.434047268e+12, 1.434994431...</td>\n",
       "    </tr>\n",
       "    <tr>\n",
       "      <th>2</th>\n",
       "      <td>  19080</td>\n",
       "      <td>                               [9.99, 2.49, 9.99]</td>\n",
       "      <td>                               [9.99, 9.99, 9.99]</td>\n",
       "      <td> [1.417120656e+12, 1.434049315e+12, 1.434996542...</td>\n",
       "    </tr>\n",
       "    <tr>\n",
       "      <th>3</th>\n",
       "      <td> 278850</td>\n",
       "      <td>       [4.99, 2.49, 4.99, 2.49, 4.99, 1.49, 4.99]</td>\n",
       "      <td>       [4.99, 4.99, 4.99, 4.99, 4.99, 4.99, 4.99]</td>\n",
       "      <td> [1.417120656e+12, 1.417513376e+12, 1.417545207...</td>\n",
       "    </tr>\n",
       "    <tr>\n",
       "      <th>4</th>\n",
       "      <td> 367260</td>\n",
       "      <td> [5.39, 5.99, 4.01, 5.99, 6.29, 6.99, 5.24, 6.99]</td>\n",
       "      <td> [5.99, 5.99, 5.99, 5.99, 6.99, 6.99, 6.99, 6.99]</td>\n",
       "      <td> [1.430513702e+12, 1.431104712e+12, 1.43404599e...</td>\n",
       "    </tr>\n",
       "  </tbody>\n",
       "</table>\n",
       "</div>"
      ],
      "text/plain": [
       "    appid                                            fprice  \\\n",
       "0    2430                                              None   \n",
       "1  297750               [39.99, 29.99, 39.99, 19.99, 39.99]   \n",
       "2   19080                                [9.99, 2.49, 9.99]   \n",
       "3  278850        [4.99, 2.49, 4.99, 2.49, 4.99, 1.49, 4.99]   \n",
       "4  367260  [5.39, 5.99, 4.01, 5.99, 6.29, 6.99, 5.24, 6.99]   \n",
       "\n",
       "                                             iprice  \\\n",
       "0                                              None   \n",
       "1               [39.99, 39.99, 39.99, 39.99, 39.99]   \n",
       "2                                [9.99, 9.99, 9.99]   \n",
       "3        [4.99, 4.99, 4.99, 4.99, 4.99, 4.99, 4.99]   \n",
       "4  [5.99, 5.99, 5.99, 5.99, 6.99, 6.99, 6.99, 6.99]   \n",
       "\n",
       "                                          price_date  \n",
       "0                                               None  \n",
       "1  [1.417120656e+12, 1.434047268e+12, 1.434994431...  \n",
       "2  [1.417120656e+12, 1.434049315e+12, 1.434996542...  \n",
       "3  [1.417120656e+12, 1.417513376e+12, 1.417545207...  \n",
       "4  [1.430513702e+12, 1.431104712e+12, 1.43404599e...  "
      ]
     },
     "execution_count": 6,
     "metadata": {},
     "output_type": "execute_result"
    }
   ],
   "source": [
    "df.head()"
   ]
  },
  {
   "cell_type": "code",
   "execution_count": 7,
   "metadata": {
    "collapsed": false
   },
   "outputs": [],
   "source": [
    "def make_descend(np_array):\n",
    "    if np_array != None:\n",
    "        new = np_array\n",
    "        cur_min = np.infty\n",
    "        for i,idum in np.ndenumerate(np_array):\n",
    "            new[i] = np.min([cur_min,np_array[i]])\n",
    "            cur_min = new[i]\n",
    "    else:\n",
    "        new = None\n",
    "    return new"
   ]
  },
  {
   "cell_type": "code",
   "execution_count": 8,
   "metadata": {
    "collapsed": false
   },
   "outputs": [],
   "source": [
    "min_iprice = list()\n",
    "min_fprice = list()\n",
    "for item in df.iprice:\n",
    "    min_iprice_descent = make_descend(item)\n",
    "    min_iprice.append(min_iprice_descent)\n",
    "\n",
    "for item in df.fprice:\n",
    "    min_fprice_descent = make_descend(item)\n",
    "    min_fprice.append(min_fprice_descent)"
   ]
  },
  {
   "cell_type": "code",
   "execution_count": 9,
   "metadata": {
    "collapsed": false
   },
   "outputs": [],
   "source": [
    "df['min_fprice'] = min_fprice\n",
    "df['min_iprice'] = min_iprice"
   ]
  },
  {
   "cell_type": "code",
   "execution_count": 10,
   "metadata": {
    "collapsed": false
   },
   "outputs": [],
   "source": [
    "df = df.fillna(value=np.nan)\n"
   ]
  },
  {
   "cell_type": "code",
   "execution_count": 11,
   "metadata": {
    "collapsed": false
   },
   "outputs": [],
   "source": [
    "df['min_iprice_var'] = df['min_iprice'].apply(np.var)"
   ]
  },
  {
   "cell_type": "code",
   "execution_count": 12,
   "metadata": {
    "collapsed": false
   },
   "outputs": [
    {
     "ename": "AttributeError",
     "evalue": "'module' object has no attribute 'stats'",
     "output_type": "error",
     "traceback": [
      "\u001b[1;31m---------------------------------------------------------------------------\u001b[0m",
      "\u001b[1;31mAttributeError\u001b[0m                            Traceback (most recent call last)",
      "\u001b[1;32m<ipython-input-12-ccaff8669cc7>\u001b[0m in \u001b[0;36m<module>\u001b[1;34m()\u001b[0m\n\u001b[0;32m      3\u001b[0m \u001b[1;32mfor\u001b[0m \u001b[0mx\u001b[0m\u001b[1;33m,\u001b[0m\u001b[0my\u001b[0m \u001b[1;32min\u001b[0m \u001b[0mzip\u001b[0m\u001b[1;33m(\u001b[0m\u001b[0mdf\u001b[0m\u001b[1;33m[\u001b[0m\u001b[1;34m'price_date'\u001b[0m\u001b[1;33m]\u001b[0m\u001b[1;33m,\u001b[0m\u001b[0mdf\u001b[0m\u001b[1;33m[\u001b[0m\u001b[1;34m'min_iprice'\u001b[0m\u001b[1;33m]\u001b[0m\u001b[1;33m)\u001b[0m\u001b[1;33m:\u001b[0m\u001b[1;33m\u001b[0m\u001b[0m\n\u001b[0;32m      4\u001b[0m     \u001b[1;32mif\u001b[0m \u001b[0mabs\u001b[0m\u001b[1;33m(\u001b[0m\u001b[0mnp\u001b[0m\u001b[1;33m.\u001b[0m\u001b[0msum\u001b[0m\u001b[1;33m(\u001b[0m\u001b[0mx\u001b[0m\u001b[1;33m)\u001b[0m\u001b[1;33m)\u001b[0m \u001b[1;33m>\u001b[0m\u001b[1;36m0\u001b[0m\u001b[1;33m:\u001b[0m\u001b[1;33m\u001b[0m\u001b[0m\n\u001b[1;32m----> 5\u001b[1;33m         \u001b[0mlinstat\u001b[0m \u001b[1;33m=\u001b[0m \u001b[0mscipy\u001b[0m\u001b[1;33m.\u001b[0m\u001b[0mstats\u001b[0m\u001b[1;33m.\u001b[0m\u001b[0mlinregress\u001b[0m\u001b[1;33m(\u001b[0m\u001b[0mx\u001b[0m\u001b[1;33m,\u001b[0m\u001b[0my\u001b[0m\u001b[1;33m)\u001b[0m\u001b[1;33m\u001b[0m\u001b[0m\n\u001b[0m\u001b[0;32m      6\u001b[0m     \u001b[1;32melse\u001b[0m\u001b[1;33m:\u001b[0m\u001b[1;33m\u001b[0m\u001b[0m\n\u001b[0;32m      7\u001b[0m         \u001b[0mlinstat\u001b[0m \u001b[1;33m=\u001b[0m \u001b[1;33m(\u001b[0m\u001b[0mnp\u001b[0m\u001b[1;33m.\u001b[0m\u001b[0mnan\u001b[0m\u001b[1;33m,\u001b[0m\u001b[0mnp\u001b[0m\u001b[1;33m.\u001b[0m\u001b[0mnan\u001b[0m\u001b[1;33m)\u001b[0m\u001b[1;33m\u001b[0m\u001b[0m\n",
      "\u001b[1;31mAttributeError\u001b[0m: 'module' object has no attribute 'stats'"
     ]
    }
   ],
   "source": [
    "intercepts = list()\n",
    "slopes = list()\n",
    "for x,y in zip(df['price_date'],df['min_iprice']):\n",
    "    if abs(np.sum(x)) >0: \n",
    "        linstat = stats.linregress(x,y)\n",
    "    else:\n",
    "        linstat = (np.nan,np.nan)\n",
    "    intercepts = np.append(intercepts,linstat[1])\n",
    "    slopes = np.append(slopes,linstat[0])\n",
    "    \n",
    "df['min_iprice_slope'] = slopes\n",
    "df['min_iprice_intercept'] = intercepts"
   ]
  },
  {
   "cell_type": "code",
   "execution_count": null,
   "metadata": {
    "collapsed": false
   },
   "outputs": [],
   "source": [
    "df['min_iprice_slope'][df['min_iprice_var'] > np.spacing(2)]\n"
   ]
  },
  {
   "cell_type": "code",
   "execution_count": 13,
   "metadata": {
    "collapsed": true
   },
   "outputs": [],
   "source": []
  },
  {
   "cell_type": "code",
   "execution_count": null,
   "metadata": {
    "collapsed": true
   },
   "outputs": [],
   "source": []
  }
 ],
 "metadata": {
  "kernelspec": {
   "display_name": "Python 2",
   "language": "python",
   "name": "python2"
  },
  "language_info": {
   "codemirror_mode": {
    "name": "ipython",
    "version": 2
   },
   "file_extension": ".py",
   "mimetype": "text/x-python",
   "name": "python",
   "nbconvert_exporter": "python",
   "pygments_lexer": "ipython2",
   "version": "2.7.9"
  }
 },
 "nbformat": 4,
 "nbformat_minor": 0
}
