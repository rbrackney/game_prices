{
 "cells": [
  {
   "cell_type": "markdown",
   "metadata": {},
   "source": [
    "<h2>Simplest Predictive Algorithm </h>\n"
   ]
  },
  {
   "cell_type": "markdown",
   "metadata": {},
   "source": [
    "Simplest predictive algorithm simply does two things:\n",
    "1) Runs a linear regression on the prices to predict the value of a game in X days, with a floor of $1 <br>\n",
    "2) During plateau, assesses the frequency of sales (average time between sales), and the median price drop during a sale, to predict the drop. <br>\n",
    "<br>\n",
    "To do:<br> \n",
    "1) Divide games into \"plateau\" and \"non-plateau\" phase, based on the variance of the initial price. <br>\n",
    "2) Fit simple regression to initial price for \"plateau phase\", determine price <br>"
   ]
  },
  {
   "cell_type": "code",
   "execution_count": 13,
   "metadata": {
    "collapsed": true
   },
   "outputs": [],
   "source": [
    "import os\n",
    "import json\n",
    "from pprint import pprint as pp\n",
    "import pandas as pd\n",
    "from datetime import datetime\n",
    "import time\n",
    "import numpy as np\n",
    "import matplotlib.pyplot as plt\n",
    "import seaborn as sns\n",
    "from scipy import stats\n",
    "import matplotlib.pyplot as plt\n",
    "%matplotlib inline"
   ]
  },
  {
   "cell_type": "code",
   "execution_count": 3,
   "metadata": {
    "collapsed": true
   },
   "outputs": [],
   "source": [
    "df = pd.read_pickle('df_steam_db.pkl')"
   ]
  },
  {
   "cell_type": "code",
   "execution_count": 60,
   "metadata": {
    "collapsed": false
   },
   "outputs": [
    {
     "data": {
      "text/html": [
       "<div style=\"max-height:1000px;max-width:1500px;overflow:auto;\">\n",
       "<table border=\"1\" class=\"dataframe\">\n",
       "  <thead>\n",
       "    <tr style=\"text-align: right;\">\n",
       "      <th></th>\n",
       "      <th>appid</th>\n",
       "      <th>fprice</th>\n",
       "      <th>iprice</th>\n",
       "      <th>price_date</th>\n",
       "      <th>min_fprice</th>\n",
       "      <th>min_iprice</th>\n",
       "      <th>min_iprice_var</th>\n",
       "      <th>min_iprice_slope</th>\n",
       "      <th>min_iprice_intercept</th>\n",
       "      <th>days_since_first_date</th>\n",
       "      <th>decay</th>\n",
       "    </tr>\n",
       "  </thead>\n",
       "  <tbody>\n",
       "    <tr>\n",
       "      <th>0</th>\n",
       "      <td>   2430</td>\n",
       "      <td>                                              NaN</td>\n",
       "      <td>                                              NaN</td>\n",
       "      <td>                                               NaN</td>\n",
       "      <td>                                              NaN</td>\n",
       "      <td>                                              NaN</td>\n",
       "      <td>          NaN</td>\n",
       "      <td>NaN</td>\n",
       "      <td>   NaN</td>\n",
       "      <td>                                               NaN</td>\n",
       "      <td> False</td>\n",
       "    </tr>\n",
       "    <tr>\n",
       "      <th>1</th>\n",
       "      <td> 297750</td>\n",
       "      <td>              [39.99, 29.99, 29.99, 19.99, 19.99]</td>\n",
       "      <td>              [39.99, 39.99, 39.99, 39.99, 39.99]</td>\n",
       "      <td> [1.417120656e+12, 1.434047268e+12, 1.434994431...</td>\n",
       "      <td>              [39.99, 29.99, 29.99, 19.99, 19.99]</td>\n",
       "      <td>              [39.99, 39.99, 39.99, 39.99, 39.99]</td>\n",
       "      <td> 0.000000e+00</td>\n",
       "      <td>  0</td>\n",
       "      <td> 39.99</td>\n",
       "      <td> [0.0, 195.909861111, 206.872395833, 266.852592...</td>\n",
       "      <td> False</td>\n",
       "    </tr>\n",
       "    <tr>\n",
       "      <th>2</th>\n",
       "      <td>  19080</td>\n",
       "      <td>                               [9.99, 2.49, 2.49]</td>\n",
       "      <td>                               [9.99, 9.99, 9.99]</td>\n",
       "      <td> [1.417120656e+12, 1.434049315e+12, 1.434996542...</td>\n",
       "      <td>                               [9.99, 2.49, 2.49]</td>\n",
       "      <td>                               [9.99, 9.99, 9.99]</td>\n",
       "      <td> 0.000000e+00</td>\n",
       "      <td>  0</td>\n",
       "      <td>  9.99</td>\n",
       "      <td>               [0.0, 195.933553241, 206.896828704]</td>\n",
       "      <td> False</td>\n",
       "    </tr>\n",
       "    <tr>\n",
       "      <th>3</th>\n",
       "      <td> 278850</td>\n",
       "      <td>       [4.99, 2.49, 2.49, 2.49, 2.49, 1.49, 1.49]</td>\n",
       "      <td>       [4.99, 4.99, 4.99, 4.99, 4.99, 4.99, 4.99]</td>\n",
       "      <td> [1.417120656e+12, 1.417513376e+12, 1.417545207...</td>\n",
       "      <td>       [4.99, 2.49, 2.49, 2.49, 2.49, 1.49, 1.49]</td>\n",
       "      <td>       [4.99, 4.99, 4.99, 4.99, 4.99, 4.99, 4.99]</td>\n",
       "      <td> 7.888609e-31</td>\n",
       "      <td>  0</td>\n",
       "      <td>  4.99</td>\n",
       "      <td> [0.0, 4.54537037037, 4.91378472222, 20.9275115...</td>\n",
       "      <td> False</td>\n",
       "    </tr>\n",
       "    <tr>\n",
       "      <th>4</th>\n",
       "      <td> 367260</td>\n",
       "      <td> [5.39, 5.39, 4.01, 4.01, 4.01, 4.01, 4.01, 4.01]</td>\n",
       "      <td> [5.99, 5.99, 5.99, 5.99, 5.99, 5.99, 5.99, 5.99]</td>\n",
       "      <td> [1.430513702e+12, 1.431104712e+12, 1.43404599e...</td>\n",
       "      <td> [5.39, 5.39, 4.01, 4.01, 4.01, 4.01, 4.01, 4.01]</td>\n",
       "      <td> [5.99, 5.99, 5.99, 5.99, 5.99, 5.99, 5.99, 5.99]</td>\n",
       "      <td> 7.888609e-31</td>\n",
       "      <td>  0</td>\n",
       "      <td>  5.99</td>\n",
       "      <td> [0.0, 6.84039351852, 40.882962963, 51.84478009...</td>\n",
       "      <td> False</td>\n",
       "    </tr>\n",
       "  </tbody>\n",
       "</table>\n",
       "</div>"
      ],
      "text/plain": [
       "    appid                                            fprice  \\\n",
       "0    2430                                               NaN   \n",
       "1  297750               [39.99, 29.99, 29.99, 19.99, 19.99]   \n",
       "2   19080                                [9.99, 2.49, 2.49]   \n",
       "3  278850        [4.99, 2.49, 2.49, 2.49, 2.49, 1.49, 1.49]   \n",
       "4  367260  [5.39, 5.39, 4.01, 4.01, 4.01, 4.01, 4.01, 4.01]   \n",
       "\n",
       "                                             iprice  \\\n",
       "0                                               NaN   \n",
       "1               [39.99, 39.99, 39.99, 39.99, 39.99]   \n",
       "2                                [9.99, 9.99, 9.99]   \n",
       "3        [4.99, 4.99, 4.99, 4.99, 4.99, 4.99, 4.99]   \n",
       "4  [5.99, 5.99, 5.99, 5.99, 5.99, 5.99, 5.99, 5.99]   \n",
       "\n",
       "                                          price_date  \\\n",
       "0                                                NaN   \n",
       "1  [1.417120656e+12, 1.434047268e+12, 1.434994431...   \n",
       "2  [1.417120656e+12, 1.434049315e+12, 1.434996542...   \n",
       "3  [1.417120656e+12, 1.417513376e+12, 1.417545207...   \n",
       "4  [1.430513702e+12, 1.431104712e+12, 1.43404599e...   \n",
       "\n",
       "                                         min_fprice  \\\n",
       "0                                               NaN   \n",
       "1               [39.99, 29.99, 29.99, 19.99, 19.99]   \n",
       "2                                [9.99, 2.49, 2.49]   \n",
       "3        [4.99, 2.49, 2.49, 2.49, 2.49, 1.49, 1.49]   \n",
       "4  [5.39, 5.39, 4.01, 4.01, 4.01, 4.01, 4.01, 4.01]   \n",
       "\n",
       "                                         min_iprice  min_iprice_var  \\\n",
       "0                                               NaN             NaN   \n",
       "1               [39.99, 39.99, 39.99, 39.99, 39.99]    0.000000e+00   \n",
       "2                                [9.99, 9.99, 9.99]    0.000000e+00   \n",
       "3        [4.99, 4.99, 4.99, 4.99, 4.99, 4.99, 4.99]    7.888609e-31   \n",
       "4  [5.99, 5.99, 5.99, 5.99, 5.99, 5.99, 5.99, 5.99]    7.888609e-31   \n",
       "\n",
       "   min_iprice_slope  min_iprice_intercept  \\\n",
       "0               NaN                   NaN   \n",
       "1                 0                 39.99   \n",
       "2                 0                  9.99   \n",
       "3                 0                  4.99   \n",
       "4                 0                  5.99   \n",
       "\n",
       "                               days_since_first_date  decay  \n",
       "0                                                NaN  False  \n",
       "1  [0.0, 195.909861111, 206.872395833, 266.852592...  False  \n",
       "2                [0.0, 195.933553241, 206.896828704]  False  \n",
       "3  [0.0, 4.54537037037, 4.91378472222, 20.9275115...  False  \n",
       "4  [0.0, 6.84039351852, 40.882962963, 51.84478009...  False  "
      ]
     },
     "execution_count": 60,
     "metadata": {},
     "output_type": "execute_result"
    }
   ],
   "source": [
    "df.head()"
   ]
  },
  {
   "cell_type": "code",
   "execution_count": 56,
   "metadata": {
    "collapsed": false
   },
   "outputs": [],
   "source": [
    "def timestamptodays(timestamp_vec):\n",
    "    if not np.isnan(np.sum(timestamp_vec)):\n",
    "        s_ts = np.array(timestamp_vec) * pow(10,-3)\n",
    "        s_ts = s_ts - s_ts[0]\n",
    "        s_ts = s_ts / (60*60*24)\n",
    "        \n",
    "    else:\n",
    "        s_ts = np.nan\n",
    "    return s_ts"
   ]
  },
  {
   "cell_type": "code",
   "execution_count": 57,
   "metadata": {
    "collapsed": false
   },
   "outputs": [],
   "source": [
    "df['days_since_first_date'] = df.price_date.apply(timestamptodays)"
   ]
  },
  {
   "cell_type": "code",
   "execution_count": 59,
   "metadata": {
    "collapsed": false
   },
   "outputs": [],
   "source": [
    "df['decay'] = df.min_iprice_var > np.spacing(2)"
   ]
  },
  {
   "cell_type": "code",
   "execution_count": 2,
   "metadata": {
    "collapsed": false
   },
   "outputs": [
    {
     "ename": "SyntaxError",
     "evalue": "invalid syntax (<ipython-input-2-8e2c02a67a36>, line 23)",
     "output_type": "error",
     "traceback": [
      "\u001b[1;36m  File \u001b[1;32m\"<ipython-input-2-8e2c02a67a36>\"\u001b[1;36m, line \u001b[1;32m23\u001b[0m\n\u001b[1;33m    if self.ideal_price >= self.row.min_price[0]\u001b[0m\n\u001b[1;37m                                                ^\u001b[0m\n\u001b[1;31mSyntaxError\u001b[0m\u001b[1;31m:\u001b[0m invalid syntax\n"
     ]
    }
   ],
   "source": [
    "class PricePred(object):\n",
    "    '''\n",
    "    Using a specific appid, pull in the price of the dataframe or database, return predicted price point\n",
    "    Dataframe, simple regression version    \n",
    "    '''\n",
    "    def __init__(self, appid, ideal_price, df):\n",
    "        self.appid = appid\n",
    "        self.ideal_price = ideal_price\n",
    "        \n",
    "        self.pulldata(df)\n",
    "        dtw, x, y = self.predict()\n",
    "        fig = genplot(x,y,dtw)\n",
    "        \n",
    "    def pulldata(self,df):\n",
    "        '''dataframe version'''        \n",
    "        if appid in df.appid:\n",
    "            self.row = df.loc[df['appid'] == self.appid]\n",
    "        else:\n",
    "            print \"appid doesn't exist\"\n",
    "       \n",
    "    \n",
    "    def predict(self):\n",
    "        '''simple regression on initial values'''        \n",
    "        if self.ideal_price >= self.row.min_price[0]\n",
    "            x = np.array(self.row.days_since_first_date)\n",
    "            y = np.array(self.row.min_iprice)\n",
    "            slope, intercept, r_value, p_value, std_err = stats.linregress(x,y)\n",
    "            \n",
    "            days_to_wait = (self.ideal_price - intercept) / slope\n",
    "            days_to_wait = int(days_to_wait)          \n",
    "            \n",
    "            return days_to_wait,x,y\n",
    "            \n",
    "        else:\n",
    "            print \"price already below value\"\n",
    "\n",
    "    def genplot(self,x,y,days_to_wait):\n",
    "        '''currently with matplotlib, change later to seaborn'''\n",
    "        fig, ax = plt.subplots(1,1)\n",
    "        ax.plot(x,y)\n",
    "        ax.set_ylabel('Price ($)')\n",
    "        ax.set_xlabel('Days')\n",
    "        ax.set_xlim([-1,np.maximum(x) + 1])\n",
    "        ax.set_ylim([0,np.maximum(y)])\n",
    "        return fig       "
   ]
  },
  {
   "cell_type": "code",
   "execution_count": null,
   "metadata": {
    "collapsed": true
   },
   "outputs": [],
   "source": []
  },
  {
   "cell_type": "code",
   "execution_count": null,
   "metadata": {
    "collapsed": true
   },
   "outputs": [],
   "source": []
  }
 ],
 "metadata": {
  "kernelspec": {
   "display_name": "Python 2",
   "language": "python",
   "name": "python2"
  },
  "language_info": {
   "codemirror_mode": {
    "name": "ipython",
    "version": 2
   },
   "file_extension": ".py",
   "mimetype": "text/x-python",
   "name": "python",
   "nbconvert_exporter": "python",
   "pygments_lexer": "ipython2",
   "version": "2.7.9"
  }
 },
 "nbformat": 4,
 "nbformat_minor": 0
}
