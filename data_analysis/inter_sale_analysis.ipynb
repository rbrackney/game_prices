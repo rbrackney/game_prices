{
 "cells": [
  {
   "cell_type": "code",
   "execution_count": 33,
   "metadata": {
    "collapsed": true
   },
   "outputs": [],
   "source": [
    "import pymysql as mdb\n",
    "from pprint import pprint as pp\n",
    "import pandas as pd\n",
    "import numpy as np\n",
    "import matplotlib.pyplot as plt\n",
    "df = pd.read_pickle('df_steam_db.pkl')\n",
    "%matplotlib inline"
   ]
  },
  {
   "cell_type": "code",
   "execution_count": 45,
   "metadata": {
    "collapsed": false
   },
   "outputs": [
    {
     "data": {
      "text/html": [
       "<div style=\"max-height:1000px;max-width:1500px;overflow:auto;\">\n",
       "<table border=\"1\" class=\"dataframe\">\n",
       "  <thead>\n",
       "    <tr style=\"text-align: right;\">\n",
       "      <th></th>\n",
       "      <th>appid</th>\n",
       "      <th>fprice</th>\n",
       "      <th>iprice</th>\n",
       "      <th>price_date</th>\n",
       "      <th>min_fprice</th>\n",
       "      <th>min_iprice</th>\n",
       "      <th>min_iprice_var</th>\n",
       "      <th>min_iprice_slope</th>\n",
       "      <th>min_iprice_intercept</th>\n",
       "      <th>price_date_fixed</th>\n",
       "    </tr>\n",
       "  </thead>\n",
       "  <tbody>\n",
       "    <tr>\n",
       "      <th>0</th>\n",
       "      <td>   2430</td>\n",
       "      <td>                                              NaN</td>\n",
       "      <td>                                              NaN</td>\n",
       "      <td>                                               NaN</td>\n",
       "      <td>                                              NaN</td>\n",
       "      <td>                                              NaN</td>\n",
       "      <td>          NaN</td>\n",
       "      <td>NaN</td>\n",
       "      <td>   NaN</td>\n",
       "      <td>                                               NaN</td>\n",
       "    </tr>\n",
       "    <tr>\n",
       "      <th>1</th>\n",
       "      <td> 297750</td>\n",
       "      <td>              [39.99, 29.99, 29.99, 19.99, 19.99]</td>\n",
       "      <td>              [39.99, 39.99, 39.99, 39.99, 39.99]</td>\n",
       "      <td> [1.417120656e+12, 1.434047268e+12, 1.434994431...</td>\n",
       "      <td>              [39.99, 29.99, 29.99, 19.99, 19.99]</td>\n",
       "      <td>              [39.99, 39.99, 39.99, 39.99, 39.99]</td>\n",
       "      <td> 0.000000e+00</td>\n",
       "      <td>  0</td>\n",
       "      <td> 39.99</td>\n",
       "      <td> [1417120656.0, 1434047268.0, 1434994431.0, 144...</td>\n",
       "    </tr>\n",
       "    <tr>\n",
       "      <th>2</th>\n",
       "      <td>  19080</td>\n",
       "      <td>                               [9.99, 2.49, 2.49]</td>\n",
       "      <td>                               [9.99, 9.99, 9.99]</td>\n",
       "      <td> [1.417120656e+12, 1.434049315e+12, 1.434996542...</td>\n",
       "      <td>                               [9.99, 2.49, 2.49]</td>\n",
       "      <td>                               [9.99, 9.99, 9.99]</td>\n",
       "      <td> 0.000000e+00</td>\n",
       "      <td>  0</td>\n",
       "      <td>  9.99</td>\n",
       "      <td>        [1417120656.0, 1434049315.0, 1434996542.0]</td>\n",
       "    </tr>\n",
       "    <tr>\n",
       "      <th>3</th>\n",
       "      <td> 278850</td>\n",
       "      <td>       [4.99, 2.49, 2.49, 2.49, 2.49, 1.49, 1.49]</td>\n",
       "      <td>       [4.99, 4.99, 4.99, 4.99, 4.99, 4.99, 4.99]</td>\n",
       "      <td> [1.417120656e+12, 1.417513376e+12, 1.417545207...</td>\n",
       "      <td>       [4.99, 2.49, 2.49, 2.49, 2.49, 1.49, 1.49]</td>\n",
       "      <td>       [4.99, 4.99, 4.99, 4.99, 4.99, 4.99, 4.99]</td>\n",
       "      <td> 7.888609e-31</td>\n",
       "      <td>  0</td>\n",
       "      <td>  4.99</td>\n",
       "      <td> [1417120656.0, 1417513376.0, 1417545207.0, 141...</td>\n",
       "    </tr>\n",
       "    <tr>\n",
       "      <th>4</th>\n",
       "      <td> 367260</td>\n",
       "      <td> [5.39, 5.39, 4.01, 4.01, 4.01, 4.01, 4.01, 4.01]</td>\n",
       "      <td> [5.99, 5.99, 5.99, 5.99, 5.99, 5.99, 5.99, 5.99]</td>\n",
       "      <td> [1.430513702e+12, 1.431104712e+12, 1.43404599e...</td>\n",
       "      <td> [5.39, 5.39, 4.01, 4.01, 4.01, 4.01, 4.01, 4.01]</td>\n",
       "      <td> [5.99, 5.99, 5.99, 5.99, 5.99, 5.99, 5.99, 5.99]</td>\n",
       "      <td> 7.888609e-31</td>\n",
       "      <td>  0</td>\n",
       "      <td>  5.99</td>\n",
       "      <td> [1430513702.0, 1431104712.0, 1434045990.0, 143...</td>\n",
       "    </tr>\n",
       "  </tbody>\n",
       "</table>\n",
       "</div>"
      ],
      "text/plain": [
       "    appid                                            fprice  \\\n",
       "0    2430                                               NaN   \n",
       "1  297750               [39.99, 29.99, 29.99, 19.99, 19.99]   \n",
       "2   19080                                [9.99, 2.49, 2.49]   \n",
       "3  278850        [4.99, 2.49, 2.49, 2.49, 2.49, 1.49, 1.49]   \n",
       "4  367260  [5.39, 5.39, 4.01, 4.01, 4.01, 4.01, 4.01, 4.01]   \n",
       "\n",
       "                                             iprice  \\\n",
       "0                                               NaN   \n",
       "1               [39.99, 39.99, 39.99, 39.99, 39.99]   \n",
       "2                                [9.99, 9.99, 9.99]   \n",
       "3        [4.99, 4.99, 4.99, 4.99, 4.99, 4.99, 4.99]   \n",
       "4  [5.99, 5.99, 5.99, 5.99, 5.99, 5.99, 5.99, 5.99]   \n",
       "\n",
       "                                          price_date  \\\n",
       "0                                                NaN   \n",
       "1  [1.417120656e+12, 1.434047268e+12, 1.434994431...   \n",
       "2  [1.417120656e+12, 1.434049315e+12, 1.434996542...   \n",
       "3  [1.417120656e+12, 1.417513376e+12, 1.417545207...   \n",
       "4  [1.430513702e+12, 1.431104712e+12, 1.43404599e...   \n",
       "\n",
       "                                         min_fprice  \\\n",
       "0                                               NaN   \n",
       "1               [39.99, 29.99, 29.99, 19.99, 19.99]   \n",
       "2                                [9.99, 2.49, 2.49]   \n",
       "3        [4.99, 2.49, 2.49, 2.49, 2.49, 1.49, 1.49]   \n",
       "4  [5.39, 5.39, 4.01, 4.01, 4.01, 4.01, 4.01, 4.01]   \n",
       "\n",
       "                                         min_iprice  min_iprice_var  \\\n",
       "0                                               NaN             NaN   \n",
       "1               [39.99, 39.99, 39.99, 39.99, 39.99]    0.000000e+00   \n",
       "2                                [9.99, 9.99, 9.99]    0.000000e+00   \n",
       "3        [4.99, 4.99, 4.99, 4.99, 4.99, 4.99, 4.99]    7.888609e-31   \n",
       "4  [5.99, 5.99, 5.99, 5.99, 5.99, 5.99, 5.99, 5.99]    7.888609e-31   \n",
       "\n",
       "   min_iprice_slope  min_iprice_intercept  \\\n",
       "0               NaN                   NaN   \n",
       "1                 0                 39.99   \n",
       "2                 0                  9.99   \n",
       "3                 0                  4.99   \n",
       "4                 0                  5.99   \n",
       "\n",
       "                                    price_date_fixed  \n",
       "0                                                NaN  \n",
       "1  [1417120656.0, 1434047268.0, 1434994431.0, 144...  \n",
       "2         [1417120656.0, 1434049315.0, 1434996542.0]  \n",
       "3  [1417120656.0, 1417513376.0, 1417545207.0, 141...  \n",
       "4  [1430513702.0, 1431104712.0, 1434045990.0, 143...  "
      ]
     },
     "execution_count": 45,
     "metadata": {},
     "output_type": "execute_result"
    }
   ],
   "source": [
    "'''fixing timestamps'''\n",
    "df['price_date_fixed'] = df.price_date.apply(np.array)\n",
    "df.price_date_fixed = df.price_date_fixed * pow(10,-3)\n",
    "df.head()"
   ]
  },
  {
   "cell_type": "code",
   "execution_count": 46,
   "metadata": {
    "collapsed": true
   },
   "outputs": [],
   "source": [
    "def get_ists(in_times):\n",
    "    '''dirty, assumes that each is a sale, which isnt 100% accurate, but close'''\n",
    "    '''ists: intersaletimes'''\n",
    "    times = np.array(in_times)\n",
    "    if not np.array(in_times).size == 1:\n",
    "        ists = in_times[1:] - in_times[:-1]\n",
    "    else:\n",
    "        ists = np.nan\n",
    "    return ists\n"
   ]
  },
  {
   "cell_type": "code",
   "execution_count": 47,
   "metadata": {
    "collapsed": false
   },
   "outputs": [],
   "source": [
    "df['ists'] = df.price_date_fixed.apply(get_ists)"
   ]
  },
  {
   "cell_type": "code",
   "execution_count": 48,
   "metadata": {
    "collapsed": false
   },
   "outputs": [],
   "source": [
    "df['ists_day'] = df.ists / (60*60*24)"
   ]
  },
  {
   "cell_type": "code",
   "execution_count": 49,
   "metadata": {
    "collapsed": false
   },
   "outputs": [],
   "source": [
    "df['ists_day_mean'] = df.ists_day.apply(np.mean)"
   ]
  },
  {
   "cell_type": "code",
   "execution_count": 50,
   "metadata": {
    "collapsed": false
   },
   "outputs": [
    {
     "data": {
      "text/plain": [
       "28.310145851134848"
      ]
     },
     "execution_count": 50,
     "metadata": {},
     "output_type": "execute_result"
    }
   ],
   "source": [
    "df['ists_day_mean'].mean()"
   ]
  },
  {
   "cell_type": "code",
   "execution_count": 52,
   "metadata": {
    "collapsed": false
   },
   "outputs": [
    {
     "data": {
      "image/png": "[encoded data removed]",
      "text/plain": [
       "<matplotlib.figure.Figure at 0x7faf87a36690>"
      ]
     },
     "metadata": {},
     "output_type": "display_data"
    }
   ],
   "source": [
    "'''make irt list just to see'''\n",
    "plt.xlabel('time between sales')\n",
    "plt.ylabel('days')\n",
    "ist_list = list()\n",
    "for i in df.ists_day:\n",
    "    if not type(i) is float:\n",
    "        ist_list += list(i)\n",
    "\n",
    "ist_arr = np.array(ist_list)\n"
   ]
  },
  {
   "cell_type": "code",
   "execution_count": 53,
   "metadata": {
    "collapsed": false
   },
   "outputs": [
    {
     "data": {
      "text/plain": [
       "<matplotlib.text.Text at 0x7faf878fe1d0>"
      ]
     },
     "execution_count": 53,
     "metadata": {},
     "output_type": "execute_result"
    },
    {
     "data": {
      "image/png": "[encoded data removed]",
      "text/plain": [
       "<matplotlib.figure.Figure at 0x7faf87937c10>"
      ]
     },
     "metadata": {},
     "output_type": "display_data"
    }
   ],
   "source": [
    "fig,ax = plt.subplots()\n",
    "# the histogram of the data\n",
    "n, bins, patches = plt.hist(ist_arr) #x, 50, normed=1, facecolor='green', alpha=0.75)\n",
    "#plt.yscale('log', nonposy='clip')\n",
    "# # add a 'best fit' line\n",
    "# y = mlab.normpdf( bins, mu, sigma)\n",
    "# l = plt.plot(bins, y, 'r--', linewidth=1)\n",
    "plt.xlabel('time between sales')\n",
    "plt.ylabel('days')"
   ]
  },
  {
   "cell_type": "code",
   "execution_count": 54,
   "metadata": {
    "collapsed": false
   },
   "outputs": [
    {
     "data": {
      "text/plain": [
       "<matplotlib.text.Text at 0x7faf877fc650>"
      ]
     },
     "execution_count": 54,
     "metadata": {},
     "output_type": "execute_result"
    },
    {
     "data": {
      "image/png": "[encoded data removed]",
      "text/plain": [
       "<matplotlib.figure.Figure at 0x7faf87a2fcd0>"
      ]
     },
     "metadata": {},
     "output_type": "display_data"
    }
   ],
   "source": [
    "# the histogram of the data\n",
    "n, bins, patches = plt.hist(ist_arr) #x, 50, normed=1, facecolor='green', alpha=0.75)\n",
    "plt.yscale('log', nonposy='clip')\n",
    "# # add a 'best fit' line\n",
    "# y = mlab.normpdf( bins, mu, sigma)\n",
    "# l = plt.plot(bins, y, 'r--', linewidth=1)\n",
    "plt.xlabel('time between sales')\n",
    "plt.ylabel('days')"
   ]
  },
  {
   "cell_type": "code",
   "execution_count": 55,
   "metadata": {
    "collapsed": false
   },
   "outputs": [],
   "source": [
    "ist_perserved_list = list()\n",
    "for i in df.price_date_fixed:\n",
    "    if not type(i) is float:\n",
    "        ist_perserved_list.append(np.array(i))"
   ]
  },
  {
   "cell_type": "code",
   "execution_count": 63,
   "metadata": {
    "collapsed": false
   },
   "outputs": [
    {
     "data": {
      "text/plain": [
       "(0, 500)"
      ]
     },
     "execution_count": 63,
     "metadata": {},
     "output_type": "execute_result"
    },
    {
     "data": {
      "image/png": "[encoded data removed]",
      "text/plain": [
       "<matplotlib.figure.Figure at 0x7faf81303790>"
      ]
     },
     "metadata": {},
     "output_type": "display_data"
    }
   ],
   "source": [
    "fig,ax = plt.subplots()\n",
    "\n",
    "#use ist_perserved_list\n",
    "for i,v in enumerate(ist_perserved_list):\n",
    "    y =  np.ones(v.shape) * i\n",
    "    ax.plot(v,y, 'r.')\n",
    "\n",
    "ax.set_ylim([0,500])"
   ]
  },
  {
   "cell_type": "code",
   "execution_count": 61,
   "metadata": {
    "collapsed": false
   },
   "outputs": [
    {
     "data": {
      "text/plain": [
       "(0, 100)"
      ]
     },
     "execution_count": 61,
     "metadata": {},
     "output_type": "execute_result"
    }
   ],
   "source": []
  }
 ],
 "metadata": {
  "kernelspec": {
   "display_name": "Python 2",
   "language": "python",
   "name": "python2"
  },
  "language_info": {
   "codemirror_mode": {
    "name": "ipython",
    "version": 2
   },
   "file_extension": ".py",
   "mimetype": "text/x-python",
   "name": "python",
   "nbconvert_exporter": "python",
   "pygments_lexer": "ipython2",
   "version": "2.7.9"
  }
 },
 "nbformat": 4,
 "nbformat_minor": 0
}
