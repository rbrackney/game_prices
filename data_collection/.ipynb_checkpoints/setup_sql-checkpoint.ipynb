{
 "cells": [
  {
   "cell_type": "markdown",
   "metadata": {},
   "source": [
    "<h4>Not really a sql setup anymore anymore. Need to change name in the repo <br> More like scrape steamdb</h4>"
   ]
  },
  {
   "cell_type": "code",
   "execution_count": 17,
   "metadata": {
    "collapsed": false
   },
   "outputs": [],
   "source": [
    "import pymysql as mdb\n",
    "import json\n",
    "import requests\n",
    "from pprint import pprint as pp\n",
    "import numpy as np\n",
    "import time\n",
    "import os\n",
    "cwd = os.getcwd()"
   ]
  },
  {
   "cell_type": "code",
   "execution_count": null,
   "metadata": {
    "collapsed": false
   },
   "outputs": [],
   "source": []
  },
  {
   "cell_type": "code",
   "execution_count": 5,
   "metadata": {
    "collapsed": true
   },
   "outputs": [],
   "source": [
    "con = mdb.connect('localhost', 'root', 'hats', 'gamepricepred') #host, user, password, #database"
   ]
  },
  {
   "cell_type": "code",
   "execution_count": 6,
   "metadata": {
    "collapsed": false
   },
   "outputs": [],
   "source": [
    "with open(\"johcar_game_ids.json\") as json_file:\n",
    "    json_data = json.load(json_file)"
   ]
  },
  {
   "cell_type": "code",
   "execution_count": 7,
   "metadata": {
    "collapsed": false
   },
   "outputs": [],
   "source": [
    "appids = []\n",
    "#json_data[u'games']\n",
    "          #for k,v in json_data.iteritems():\n",
    "for item in json_data[u'response'][u'games']:\n",
    "    appids.append(item[u'appid'])\n",
    "appids = sorted(appids)"
   ]
  },
  {
   "cell_type": "code",
   "execution_count": 8,
   "metadata": {
    "collapsed": true
   },
   "outputs": [],
   "source": [
    "#insert app ids into Games table\n",
    "#shouldn't have to run this anymore, maybe seperate out into a new book\n",
    "with con:\n",
    "    cur = con.cursor()\n",
    "    for i in appids:\n",
    "        ex_str = \"INSERT INTO Games(Appid) VALUES(%d)\" % (i)\n",
    "        cur.execute(ex_str)"
   ]
  },
  {
   "cell_type": "code",
   "execution_count": 9,
   "metadata": {
    "collapsed": false
   },
   "outputs": [],
   "source": [
    "with con:\n",
    "    cur = con.cursor()\n",
    "    ex_str = \"SELECT * FROM Games\"\n",
    "    cur.execute(ex_str)\n",
    "all_tups = cur.fetchall()"
   ]
  },
  {
   "cell_type": "code",
   "execution_count": 10,
   "metadata": {
    "collapsed": false
   },
   "outputs": [],
   "source": [
    "import numpy as np\n",
    "in_len = len(all_tups)\n",
    "samp_list = list(np.flipud(np.arange(in_len))) #game ids reversed, used to sample from the most recent games first"
   ]
  },
  {
   "cell_type": "code",
   "execution_count": 25,
   "metadata": {
    "collapsed": false
   },
   "outputs": [
    {
     "name": "stdout",
     "output_type": "stream",
     "text": [
      "fetching appid: 399900\n"
     ]
    },
    {
     "ename": "IOError",
     "evalue": "[Errno 2] No such file or directory: '/epoch2_steamdb_jsons/sdb_399900.json'",
     "output_type": "error",
     "traceback": [
      "\u001b[1;31m---------------------------------------------------------------------------\u001b[0m",
      "\u001b[1;31mIOError\u001b[0m                                   Traceback (most recent call last)",
      "\u001b[1;32m<ipython-input-25-9d0fba8dc43a>\u001b[0m in \u001b[0;36m<module>\u001b[1;34m()\u001b[0m\n\u001b[0;32m     18\u001b[0m \u001b[1;33m\u001b[0m\u001b[0m\n\u001b[0;32m     19\u001b[0m             \u001b[0mfpath\u001b[0m \u001b[1;33m=\u001b[0m \u001b[0mos\u001b[0m\u001b[1;33m.\u001b[0m\u001b[0mpath\u001b[0m\u001b[1;33m.\u001b[0m\u001b[0mjoin\u001b[0m\u001b[1;33m(\u001b[0m\u001b[0mcwd\u001b[0m\u001b[1;33m,\u001b[0m\u001b[1;34m'/epoch2_steamdb_jsons/'\u001b[0m\u001b[1;33m,\u001b[0m\u001b[0mfname\u001b[0m\u001b[1;33m)\u001b[0m\u001b[1;33m\u001b[0m\u001b[0m\n\u001b[1;32m---> 20\u001b[1;33m             \u001b[1;32mwith\u001b[0m \u001b[0mopen\u001b[0m\u001b[1;33m(\u001b[0m\u001b[0mfpath\u001b[0m\u001b[1;33m,\u001b[0m \u001b[1;34m'w'\u001b[0m\u001b[1;33m)\u001b[0m \u001b[1;32mas\u001b[0m \u001b[0moutfile\u001b[0m\u001b[1;33m:\u001b[0m\u001b[1;33m\u001b[0m\u001b[0m\n\u001b[0m\u001b[0;32m     21\u001b[0m                 \u001b[0mjson\u001b[0m\u001b[1;33m.\u001b[0m\u001b[0mdump\u001b[0m\u001b[1;33m(\u001b[0m\u001b[0mcur_json\u001b[0m\u001b[1;33m,\u001b[0m \u001b[0moutfile\u001b[0m\u001b[1;33m)\u001b[0m\u001b[1;33m\u001b[0m\u001b[0m\n\u001b[0;32m     22\u001b[0m             \u001b[1;32mwith\u001b[0m \u001b[0mcon\u001b[0m\u001b[1;33m:\u001b[0m\u001b[1;33m\u001b[0m\u001b[0m\n",
      "\u001b[1;31mIOError\u001b[0m: [Errno 2] No such file or directory: '/epoch2_steamdb_jsons/sdb_399900.json'"
     ]
    }
   ],
   "source": [
    "#go through the list of games in the database, and only scrape if the JSON name is none\n",
    "# try:\n",
    "\n",
    "\n",
    "for i in samp_list:\n",
    "    cur_appid = all_tups[i][1]\n",
    "    fname = 'sdb_%d.json' % (cur_appid)\n",
    "    cur_dir = os.path.join(cwd,'/epoch2_steamdb_jsons/')\n",
    "    if not fname in os.listdir('epoch2_steamdb_jsons'):\n",
    "        cur_appid = all_tups[i][1]\n",
    "        print('fetching appid: %d' % cur_appid)\n",
    "        payload = {'appid': cur_appid,'cc': 'us'}\n",
    "        r = requests.post('https://steamdb.info/api/GetPriceHistory/', params = payload ) #\n",
    "\n",
    "        if r.status_code == 200: #200 is the \"everything is right\" code, others will be errors\n",
    "            cur_json = r.json()\n",
    "            fname = 'sdb_%d.json' % (cur_appid)\n",
    "            \n",
    "            fpath = os.path.join('epoch2_steamdb_jsons',fname)\n",
    "            with open(fpath, 'w') as outfile:\n",
    "                json.dump(cur_json, outfile)\n",
    "            with con:\n",
    "                cur = con.cursor()\n",
    "                ex_str = 'UPDATE Games SET Steamdbjson=\"%s\" WHERE Appid=%d' % (fname, cur_appid)\n",
    "                cur.execute(ex_str)\n",
    "        else:\n",
    "            print('Status code %d:%s' % (r.status_code, r.json()))\n",
    "            break\n",
    "        ran_sleep_time = 5+np.random.normal(loc=0.0, scale=2.0, size=None)\n",
    "        sleep_time = np.max(np.array([2.23,ran_sleep_time]))\n",
    "        time.sleep(sleep_time)\n",
    "        #break"
   ]
  },
  {
   "cell_type": "code",
   "execution_count": 22,
   "metadata": {
    "collapsed": false
   },
   "outputs": [],
   "source": [
    "cur_dir = os.path.join(cwd,'/epoch2_steamdb_jsons/')"
   ]
  },
  {
   "cell_type": "code",
   "execution_count": 24,
   "metadata": {
    "collapsed": false
   },
   "outputs": [
    {
     "data": {
      "text/plain": [
       "'/home/ryan/Documents/insight_projects/steam_prices/data_collection'"
      ]
     },
     "execution_count": 24,
     "metadata": {},
     "output_type": "execute_result"
    }
   ],
   "source": [
    "cwd"
   ]
  },
  {
   "cell_type": "code",
   "execution_count": null,
   "metadata": {
    "collapsed": true
   },
   "outputs": [],
   "source": []
  }
 ],
 "metadata": {
  "kernelspec": {
   "display_name": "Python 2",
   "language": "python",
   "name": "python2"
  },
  "language_info": {
   "codemirror_mode": {
    "name": "ipython",
    "version": 2
   },
   "file_extension": ".py",
   "mimetype": "text/x-python",
   "name": "python",
   "nbconvert_exporter": "python",
   "pygments_lexer": "ipython2",
   "version": "2.7.9"
  }
 },
 "nbformat": 4,
 "nbformat_minor": 0
}
