{
 "cells": [
  {
   "cell_type": "code",
   "execution_count": 11,
   "metadata": {
    "collapsed": false
   },
   "outputs": [
    {
     "data": {
      "text/plain": [
       "'/home/ryan/Documents/insight_projects/steam_prices/data_analysis'"
      ]
     },
     "execution_count": 11,
     "metadata": {},
     "output_type": "execute_result"
    }
   ],
   "source": [
    "import os\n",
    "from pprint import pprint as pp\n",
    "import pandas as pd\n",
    "import json\n",
    "import numpy as np\n",
    "from scipy import stats\n",
    "import matplotlib.pyplot as plt\n",
    "import itertools\n",
    "import copy\n",
    "import seaborn as sns\n",
    "\n",
    "%matplotlib inline\n",
    "os.getcwd()"
   ]
  },
  {
   "cell_type": "code",
   "execution_count": 71,
   "metadata": {
    "collapsed": false
   },
   "outputs": [],
   "source": [
    "from sklearn.svm import SVC\n",
    "from sklearn.ensemble import RandomForestClassifier as RF\n",
    "from sklearn.neighbors import KNeighborsClassifier as KNN\n",
    "from sklearn.preprocessing import StandardScaler\n",
    "from sklearn.metrics import roc_curve, auc"
   ]
  },
  {
   "cell_type": "code",
   "execution_count": 12,
   "metadata": {
    "collapsed": false
   },
   "outputs": [
    {
     "name": "stdout",
     "output_type": "stream",
     "text": [
      "21\n"
     ]
    }
   ],
   "source": [
    "df = pd.read_pickle('df_steamdb_timeseries.pkl')\n",
    "since_sale_len = len(df.since_sale_lists[1])\n",
    "print since_sale_len"
   ]
  },
  {
   "cell_type": "code",
   "execution_count": 13,
   "metadata": {
    "collapsed": false
   },
   "outputs": [],
   "source": [
    "#df.head()\n",
    "current_epoch =  20 #the epoch in the bool list to predict\n",
    "drop_columns = ['fprice','iprice','price_date','sale_bool',\n",
    "                'formatted_no_holiday','saledates_no_holiday',\n",
    "               'sale_bool_all','min_iprice','mip_slopes','dirty_isi']\n",
    "df_feat_space = df.drop(drop_columns,axis=1)\n",
    "df_feat_space = df_feat_space[df_feat_space.formatted.map(type) != type([])]\n",
    "#df_feat_space = df_feat_space.drop(['formatted'])\n",
    "#df_feat_space['specific_epoch_time_since'] = df_feat_space.since_sale_lists[3]\n",
    "#df.head()"
   ]
  },
  {
   "cell_type": "code",
   "execution_count": 14,
   "metadata": {
    "collapsed": false,
    "scrolled": true
   },
   "outputs": [],
   "source": [
    "'''empty list replace'''\n",
    "replacement_empty_list = list(df.iloc[1].sale_bool_no_holiday[0] - df.iloc[1].sale_bool_no_holiday[0][0] + (60*60*24*100.0))\n",
    "#if there are no values, for now just use this empty list that assumes the last sale was more than one hundred days ago\n",
    "#however, this may be problematic if there's a negative correlation for games with sales and the time since the last game\n",
    "#to_series = df_feat_space.since_sale_lists\n",
    "\n",
    "to_series = df_feat_space.since_sale_lists\n",
    "check = [x for x in to_series]\n",
    "check_copy = copy.deepcopy(check)\n",
    "\n",
    "just_one_epoch = list()\n",
    "for i,v in enumerate(check):\n",
    "    if v == []:\n",
    "        check_copy[i] = replacement_empty_list\n",
    "    cur_epoch_time_since = check_copy[i][current_epoch]\n",
    "    just_one_epoch.append(cur_epoch_time_since)\n",
    "\n",
    "df_feat_space['specific_epoch_time_since'] = just_one_epoch\n",
    "#rint(check)\n",
    "#[df_feat_space.head().iloc['since_sale_lists']"
   ]
  },
  {
   "cell_type": "code",
   "execution_count": 15,
   "metadata": {
    "collapsed": false
   },
   "outputs": [
    {
     "data": {
      "text/html": [
       "<div style=\"max-height:1000px;max-width:1500px;overflow:auto;\">\n",
       "<table border=\"1\" class=\"dataframe\">\n",
       "  <thead>\n",
       "    <tr style=\"text-align: right;\">\n",
       "      <th></th>\n",
       "      <th>appid</th>\n",
       "      <th>formatted</th>\n",
       "      <th>fprice</th>\n",
       "      <th>iprice</th>\n",
       "      <th>price_date</th>\n",
       "      <th>sale_bool</th>\n",
       "      <th>formatted_no_holiday</th>\n",
       "      <th>sale_bool_no_holiday</th>\n",
       "      <th>saledates_no_holiday</th>\n",
       "      <th>sale_bool_all</th>\n",
       "      <th>sale_count</th>\n",
       "      <th>min_iprice</th>\n",
       "      <th>mip_slopes</th>\n",
       "      <th>has_price_slope</th>\n",
       "      <th>dirty_isi</th>\n",
       "      <th>dirty_isi_mean</th>\n",
       "      <th>since_sale_lists</th>\n",
       "    </tr>\n",
       "  </thead>\n",
       "  <tbody>\n",
       "    <tr>\n",
       "      <th>0</th>\n",
       "      <td>   2430</td>\n",
       "      <td>                                                []</td>\n",
       "      <td>                                              NaN</td>\n",
       "      <td>                                              NaN</td>\n",
       "      <td>                                               NaN</td>\n",
       "      <td>                                                []</td>\n",
       "      <td>                                                []</td>\n",
       "      <td>                                                []</td>\n",
       "      <td>                                   []</td>\n",
       "      <td>                                                []</td>\n",
       "      <td> 0</td>\n",
       "      <td>                                             None</td>\n",
       "      <td>NaN</td>\n",
       "      <td> False</td>\n",
       "      <td>                           [24956905]</td>\n",
       "      <td> 288</td>\n",
       "      <td>                                                []</td>\n",
       "    </tr>\n",
       "    <tr>\n",
       "      <th>1</th>\n",
       "      <td> 297750</td>\n",
       "      <td> {u'1434047268000': {u'discount': 25, u'initial...</td>\n",
       "      <td>              [39.99, 29.99, 39.99, 19.99, 39.99]</td>\n",
       "      <td>              [39.99, 39.99, 39.99, 39.99, 39.99]</td>\n",
       "      <td> [1417120656.0, 1434047268.0, 1434994431.0, 144...</td>\n",
       "      <td> [0, 0, 0, 0, 0, 0, 0, 0, 0, 0, 0, 0, 0, 0, 1, ...</td>\n",
       "      <td> {u'1440522322000': {u'discount': 0, u'initial'...</td>\n",
       "      <td> [[1417120656, 1418330256, 1419539856, 14207494...</td>\n",
       "      <td>                         [1440176720]</td>\n",
       "      <td> [[1417120656, 1418330256, 1419539856, 14207494...</td>\n",
       "      <td> 1</td>\n",
       "      <td>              [39.99, 39.99, 39.99, 39.99, 39.99]</td>\n",
       "      <td>  0</td>\n",
       "      <td> False</td>\n",
       "      <td>                  [23056064, 1900841]</td>\n",
       "      <td> 144</td>\n",
       "      <td> [0, 1209600, 2419200, 3628800, 4838400, 604800...</td>\n",
       "    </tr>\n",
       "    <tr>\n",
       "      <th>2</th>\n",
       "      <td>  19080</td>\n",
       "      <td> {u'1434049315000': {u'discount': 75, u'initial...</td>\n",
       "      <td>                               [9.99, 2.49, 9.99]</td>\n",
       "      <td>                               [9.99, 9.99, 9.99]</td>\n",
       "      <td>        [1417120656.0, 1434049315.0, 1434996542.0]</td>\n",
       "      <td> [0, 0, 0, 0, 0, 0, 0, 0, 0, 0, 0, 0, 0, 0, 1, ...</td>\n",
       "      <td> {u'1434996542000': {u'discount': 0, u'initial'...</td>\n",
       "      <td> [[1417120656, 1418330256, 1419539856, 14207494...</td>\n",
       "      <td>                                   []</td>\n",
       "      <td> [[1417120656, 1418330256, 1419539856, 14207494...</td>\n",
       "      <td> 0</td>\n",
       "      <td>                               [9.99, 9.99, 9.99]</td>\n",
       "      <td>  0</td>\n",
       "      <td> False</td>\n",
       "      <td>                           [24956905]</td>\n",
       "      <td> 288</td>\n",
       "      <td> [0, 1209600, 2419200, 3628800, 4838400, 604800...</td>\n",
       "    </tr>\n",
       "    <tr>\n",
       "      <th>3</th>\n",
       "      <td> 278850</td>\n",
       "      <td> {u'1417513376000': {u'discount': 50, u'initial...</td>\n",
       "      <td>       [4.99, 2.49, 4.99, 2.49, 4.99, 1.49, 4.99]</td>\n",
       "      <td>       [4.99, 4.99, 4.99, 4.99, 4.99, 4.99, 4.99]</td>\n",
       "      <td> [1417120656.0, 1417513376.0, 1417545207.0, 141...</td>\n",
       "      <td> [1, 1, 0, 0, 0, 0, 0, 0, 0, 0, 0, 0, 0, 0, 1, ...</td>\n",
       "      <td> {u'1420223723000': {u'discount': 0, u'initial'...</td>\n",
       "      <td> [[1417120656, 1418330256, 1419539856, 14207494...</td>\n",
       "      <td>                         [1417513376]</td>\n",
       "      <td> [[1417120656, 1418330256, 1419539856, 14207494...</td>\n",
       "      <td> 1</td>\n",
       "      <td>       [4.99, 4.99, 4.99, 4.99, 4.99, 4.99, 4.99]</td>\n",
       "      <td>  0</td>\n",
       "      <td> False</td>\n",
       "      <td>                   [392720, 24564185]</td>\n",
       "      <td> 144</td>\n",
       "      <td> [0, 816880, 2026480, 3236080, 4445680, 5655280...</td>\n",
       "    </tr>\n",
       "    <tr>\n",
       "      <th>4</th>\n",
       "      <td> 367260</td>\n",
       "      <td> {u'1430513702000': {u'discount': 10, u'initial...</td>\n",
       "      <td> [5.39, 5.99, 4.01, 5.99, 6.29, 6.99, 5.24, 6.99]</td>\n",
       "      <td> [5.99, 5.99, 5.99, 5.99, 5.99, 5.99, 5.99, 5.99]</td>\n",
       "      <td> [1430513702.0, 1431104712.0, 1434045990.0, 143...</td>\n",
       "      <td> [0, 0, 0, 0, 0, 0, 0, 0, 0, 0, 0, 1, 0, 0, 1, ...</td>\n",
       "      <td> {u'1435856718000': {u'discount': 0, u'initial'...</td>\n",
       "      <td> [[1417120656, 1418330256, 1419539856, 14207494...</td>\n",
       "      <td> [1435268707, 1441127115, 1430513702]</td>\n",
       "      <td> [[1417120656, 1418330256, 1419539856, 14207494...</td>\n",
       "      <td> 3</td>\n",
       "      <td> [5.99, 5.99, 5.99, 5.99, 5.99, 5.99, 5.99, 5.99]</td>\n",
       "      <td>  0</td>\n",
       "      <td> False</td>\n",
       "      <td> [13393046, 4755005, 5858408, 950446]</td>\n",
       "      <td>  72</td>\n",
       "      <td> [0, 1209600, 2419200, 3628800, 4838400, 604800...</td>\n",
       "    </tr>\n",
       "  </tbody>\n",
       "</table>\n",
       "</div>"
      ],
      "text/plain": [
       "    appid                                          formatted  \\\n",
       "0    2430                                                 []   \n",
       "1  297750  {u'1434047268000': {u'discount': 25, u'initial...   \n",
       "2   19080  {u'1434049315000': {u'discount': 75, u'initial...   \n",
       "3  278850  {u'1417513376000': {u'discount': 50, u'initial...   \n",
       "4  367260  {u'1430513702000': {u'discount': 10, u'initial...   \n",
       "\n",
       "                                             fprice  \\\n",
       "0                                               NaN   \n",
       "1               [39.99, 29.99, 39.99, 19.99, 39.99]   \n",
       "2                                [9.99, 2.49, 9.99]   \n",
       "3        [4.99, 2.49, 4.99, 2.49, 4.99, 1.49, 4.99]   \n",
       "4  [5.39, 5.99, 4.01, 5.99, 6.29, 6.99, 5.24, 6.99]   \n",
       "\n",
       "                                             iprice  \\\n",
       "0                                               NaN   \n",
       "1               [39.99, 39.99, 39.99, 39.99, 39.99]   \n",
       "2                                [9.99, 9.99, 9.99]   \n",
       "3        [4.99, 4.99, 4.99, 4.99, 4.99, 4.99, 4.99]   \n",
       "4  [5.99, 5.99, 5.99, 5.99, 5.99, 5.99, 5.99, 5.99]   \n",
       "\n",
       "                                          price_date  \\\n",
       "0                                                NaN   \n",
       "1  [1417120656.0, 1434047268.0, 1434994431.0, 144...   \n",
       "2         [1417120656.0, 1434049315.0, 1434996542.0]   \n",
       "3  [1417120656.0, 1417513376.0, 1417545207.0, 141...   \n",
       "4  [1430513702.0, 1431104712.0, 1434045990.0, 143...   \n",
       "\n",
       "                                           sale_bool  \\\n",
       "0                                                 []   \n",
       "1  [0, 0, 0, 0, 0, 0, 0, 0, 0, 0, 0, 0, 0, 0, 1, ...   \n",
       "2  [0, 0, 0, 0, 0, 0, 0, 0, 0, 0, 0, 0, 0, 0, 1, ...   \n",
       "3  [1, 1, 0, 0, 0, 0, 0, 0, 0, 0, 0, 0, 0, 0, 1, ...   \n",
       "4  [0, 0, 0, 0, 0, 0, 0, 0, 0, 0, 0, 1, 0, 0, 1, ...   \n",
       "\n",
       "                                formatted_no_holiday  \\\n",
       "0                                                 []   \n",
       "1  {u'1440522322000': {u'discount': 0, u'initial'...   \n",
       "2  {u'1434996542000': {u'discount': 0, u'initial'...   \n",
       "3  {u'1420223723000': {u'discount': 0, u'initial'...   \n",
       "4  {u'1435856718000': {u'discount': 0, u'initial'...   \n",
       "\n",
       "                                sale_bool_no_holiday  \\\n",
       "0                                                 []   \n",
       "1  [[1417120656, 1418330256, 1419539856, 14207494...   \n",
       "2  [[1417120656, 1418330256, 1419539856, 14207494...   \n",
       "3  [[1417120656, 1418330256, 1419539856, 14207494...   \n",
       "4  [[1417120656, 1418330256, 1419539856, 14207494...   \n",
       "\n",
       "                   saledates_no_holiday  \\\n",
       "0                                    []   \n",
       "1                          [1440176720]   \n",
       "2                                    []   \n",
       "3                          [1417513376]   \n",
       "4  [1435268707, 1441127115, 1430513702]   \n",
       "\n",
       "                                       sale_bool_all  sale_count  \\\n",
       "0                                                 []           0   \n",
       "1  [[1417120656, 1418330256, 1419539856, 14207494...           1   \n",
       "2  [[1417120656, 1418330256, 1419539856, 14207494...           0   \n",
       "3  [[1417120656, 1418330256, 1419539856, 14207494...           1   \n",
       "4  [[1417120656, 1418330256, 1419539856, 14207494...           3   \n",
       "\n",
       "                                         min_iprice  mip_slopes  \\\n",
       "0                                              None         NaN   \n",
       "1               [39.99, 39.99, 39.99, 39.99, 39.99]           0   \n",
       "2                                [9.99, 9.99, 9.99]           0   \n",
       "3        [4.99, 4.99, 4.99, 4.99, 4.99, 4.99, 4.99]           0   \n",
       "4  [5.99, 5.99, 5.99, 5.99, 5.99, 5.99, 5.99, 5.99]           0   \n",
       "\n",
       "  has_price_slope                             dirty_isi  dirty_isi_mean  \\\n",
       "0           False                            [24956905]             288   \n",
       "1           False                   [23056064, 1900841]             144   \n",
       "2           False                            [24956905]             288   \n",
       "3           False                    [392720, 24564185]             144   \n",
       "4           False  [13393046, 4755005, 5858408, 950446]              72   \n",
       "\n",
       "                                    since_sale_lists  \n",
       "0                                                 []  \n",
       "1  [0, 1209600, 2419200, 3628800, 4838400, 604800...  \n",
       "2  [0, 1209600, 2419200, 3628800, 4838400, 604800...  \n",
       "3  [0, 816880, 2026480, 3236080, 4445680, 5655280...  \n",
       "4  [0, 1209600, 2419200, 3628800, 4838400, 604800...  "
      ]
     },
     "execution_count": 15,
     "metadata": {},
     "output_type": "execute_result"
    }
   ],
   "source": [
    "df.head()"
   ]
  },
  {
   "cell_type": "code",
   "execution_count": 16,
   "metadata": {
    "collapsed": false
   },
   "outputs": [],
   "source": [
    "'''make y values'''\n",
    "y = list()\n",
    "for i,v in enumerate(df_feat_space.sale_bool_no_holiday):\n",
    "    if v == []:\n",
    "        y_in = 0\n",
    "    else:\n",
    "        y_in = v[1][current_epoch] #1 is the index of the boolean list\n",
    "    y.append(y_in)\n",
    "\n",
    "y = np.array(y)"
   ]
  },
  {
   "cell_type": "code",
   "execution_count": 17,
   "metadata": {
    "collapsed": false
   },
   "outputs": [],
   "source": [
    "drop_more_columns = ['appid','formatted','since_sale_lists', 'sale_bool_no_holiday']\n",
    "df_feat_space = df_feat_space.drop(drop_more_columns,axis=1)\n"
   ]
  },
  {
   "cell_type": "code",
   "execution_count": 18,
   "metadata": {
    "collapsed": true
   },
   "outputs": [],
   "source": [
    "'''change boolean into 1 or 0'''\n",
    "df_feat_space.has_price_slope = df_feat_space.has_price_slope.apply(lambda x:x*1)"
   ]
  },
  {
   "cell_type": "code",
   "execution_count": 19,
   "metadata": {
    "collapsed": false
   },
   "outputs": [],
   "source": [
    "X = df_feat_space.as_matrix().astype(np.float)"
   ]
  },
  {
   "cell_type": "code",
   "execution_count": 20,
   "metadata": {
    "collapsed": false
   },
   "outputs": [
    {
     "name": "stdout",
     "output_type": "stream",
     "text": [
      "Feature space holds 5592 observations and 4 features\n"
     ]
    }
   ],
   "source": [
    "scaler = StandardScaler()\n",
    "X = scaler.fit_transform(X)\n",
    "print \"Feature space holds %d observations and %d features\" % X.shape"
   ]
  },
  {
   "cell_type": "code",
   "execution_count": 21,
   "metadata": {
    "collapsed": false
   },
   "outputs": [],
   "source": [
    "from sklearn.cross_validation import KFold\n",
    "\n",
    "def run_cv(X,y,clf_class,**kwargs):\n",
    "    # Construct a kfolds object\n",
    "    kf = KFold(len(y),n_folds=5,shuffle=True)\n",
    "    y_pred = y.copy()\n",
    "    \n",
    "    # Iterate through folds\n",
    "    for train_index, test_index in kf:\n",
    "        X_train, X_test = X[train_index], X[test_index]\n",
    "        y_train = y[train_index]\n",
    "        # Initialize a classifier with key word arguments\n",
    "        clf = clf_class(**kwargs)\n",
    "        clf.fit(X_train,y_train)\n",
    "        y_pred[test_index] = clf.predict(X_test)\n",
    "    return y_pred\n"
   ]
  },
  {
   "cell_type": "code",
   "execution_count": 22,
   "metadata": {
    "collapsed": false
   },
   "outputs": [
    {
     "name": "stdout",
     "output_type": "stream",
     "text": [
      "Support vector machines:\n",
      "0.903\n",
      "Random forest:\n",
      "0.967\n",
      "K-nearest-neighbors:\n",
      "0.958\n"
     ]
    }
   ],
   "source": [
    "def accuracy(y_true,y_pred):\n",
    "    # NumPy interprets True and False as 1. and 0.\n",
    "    return np.mean(y_true == y_pred)\n",
    "\n",
    "print \"Support vector machines:\"\n",
    "print \"%.3f\" % accuracy(y, run_cv(X,y,SVC))\n",
    "print \"Random forest:\"\n",
    "print \"%.3f\" % accuracy(y, run_cv(X,y,RF))\n",
    "print \"K-nearest-neighbors:\"\n",
    "print \"%.3f\" % accuracy(y, run_cv(X,y,KNN))"
   ]
  },
  {
   "cell_type": "code",
   "execution_count": 23,
   "metadata": {
    "collapsed": false
   },
   "outputs": [],
   "source": [
    "chance_accuracy = (1 - sum(y)*1.0 / y.size)"
   ]
  },
  {
   "cell_type": "code",
   "execution_count": 24,
   "metadata": {
    "collapsed": true
   },
   "outputs": [],
   "source": [
    "from sklearn.metrics import confusion_matrix\n",
    "\n",
    "y = np.array(y)\n",
    "class_names = np.unique(y)\n",
    "\n",
    "confusion_matrices = [\n",
    "    ( \"Support Vector Machines\", confusion_matrix(y,run_cv(X,y,SVC)) ),\n",
    "    ( \"Random Forest\", confusion_matrix(y,run_cv(X,y,RF)) ),\n",
    "    ( \"K-Nearest-Neighbors\", confusion_matrix(y,run_cv(X,y,KNN)) ),\n",
    "]\n"
   ]
  },
  {
   "cell_type": "code",
   "execution_count": 49,
   "metadata": {
    "collapsed": false
   },
   "outputs": [
    {
     "data": {
      "text/plain": [
       "('Support Vector Machines', array([[5044,    9],\n",
       "        [ 533,    6]]))"
      ]
     },
     "execution_count": 49,
     "metadata": {},
     "output_type": "execute_result"
    }
   ],
   "source": [
    "confusion_matrices[0]"
   ]
  },
  {
   "cell_type": "code",
   "execution_count": 51,
   "metadata": {
    "collapsed": false
   },
   "outputs": [
    {
     "data": {
      "image/png": "[encoded data removed]",
      "text/plain": [
       "<matplotlib.figure.Figure at 0x7feced13aed0>"
      ]
     },
     "metadata": {},
     "output_type": "display_data"
    }
   ],
   "source": [
    "def plot_confusion_matrix(cm, title='Confusion matrix', cmap=plt.cm.Blues):\n",
    "    plt.imshow(cm, interpolation='nearest', cmap=cmap)\n",
    "    plt.title(title)\n",
    "    plt.colorbar()\n",
    "    #tick_marks = np.arange(len(iris.target_names))\n",
    "    #plt.xticks(tick_marks, iris.target_names, rotation=45)\n",
    "    #plt.yticks(tick_marks, iris.target_names)\n",
    "    plt.tight_layout()\n",
    "    plt.ylabel('True label')\n",
    "    plt.xlabel('Predicted label')\n",
    "\n",
    "\n",
    "look_at_model = 1\n",
    "plot_confusion_matrix(confusion_matrices[look_at_model][1],confusion_matrices[look_at_model][0])\n"
   ]
  },
  {
   "cell_type": "code",
   "execution_count": 95,
   "metadata": {
    "collapsed": true
   },
   "outputs": [],
   "source": [
    "def run_prob_cv(X, y, clf_class, **kwargs):\n",
    "    kf = KFold(len(y), n_folds=5, shuffle=True)\n",
    "    y_prob = np.zeros((len(y),2))\n",
    "    for train_index, test_index in kf:\n",
    "        X_train, X_test = X[train_index], X[test_index]\n",
    "        y_train, y_test = y[train_index], y[test_index]\n",
    "        #y_train = y[train_index]\n",
    "        clf = clf_class(**kwargs)\n",
    "        clf.fit(X_train,y_train)\n",
    "        # Predict probabilities, not classes\n",
    "        y_prob[test_index] = clf.predict_proba(X_test)\n",
    "    return y_prob, y_test"
   ]
  },
  {
   "cell_type": "code",
   "execution_count": 110,
   "metadata": {
    "collapsed": false
   },
   "outputs": [
    {
     "data": {
      "text/html": [
       "<div style=\"max-height:1000px;max-width:1500px;overflow:auto;\">\n",
       "<table border=\"1\" class=\"dataframe\">\n",
       "  <thead>\n",
       "    <tr style=\"text-align: right;\">\n",
       "      <th></th>\n",
       "      <th>pred_prob</th>\n",
       "      <th>count</th>\n",
       "      <th>true_prob</th>\n",
       "    </tr>\n",
       "  </thead>\n",
       "  <tbody>\n",
       "    <tr>\n",
       "      <th>0 </th>\n",
       "      <td> 0.000000</td>\n",
       "      <td> 4837</td>\n",
       "      <td> 0.009510</td>\n",
       "    </tr>\n",
       "    <tr>\n",
       "      <th>1 </th>\n",
       "      <td> 1.000000</td>\n",
       "      <td>  370</td>\n",
       "      <td> 0.981081</td>\n",
       "    </tr>\n",
       "    <tr>\n",
       "      <th>2 </th>\n",
       "      <td> 0.100000</td>\n",
       "      <td>   68</td>\n",
       "      <td> 0.161765</td>\n",
       "    </tr>\n",
       "    <tr>\n",
       "      <th>3 </th>\n",
       "      <td> 0.200000</td>\n",
       "      <td>   62</td>\n",
       "      <td> 0.193548</td>\n",
       "    </tr>\n",
       "    <tr>\n",
       "      <th>4 </th>\n",
       "      <td> 0.300000</td>\n",
       "      <td>   40</td>\n",
       "      <td> 0.350000</td>\n",
       "    </tr>\n",
       "    <tr>\n",
       "      <th>5 </th>\n",
       "      <td> 0.900000</td>\n",
       "      <td>   40</td>\n",
       "      <td> 0.750000</td>\n",
       "    </tr>\n",
       "    <tr>\n",
       "      <th>6 </th>\n",
       "      <td> 0.400000</td>\n",
       "      <td>   36</td>\n",
       "      <td> 0.416667</td>\n",
       "    </tr>\n",
       "    <tr>\n",
       "      <th>7 </th>\n",
       "      <td> 0.800000</td>\n",
       "      <td>   35</td>\n",
       "      <td> 0.342857</td>\n",
       "    </tr>\n",
       "    <tr>\n",
       "      <th>8 </th>\n",
       "      <td> 0.500000</td>\n",
       "      <td>   32</td>\n",
       "      <td> 0.343750</td>\n",
       "    </tr>\n",
       "    <tr>\n",
       "      <th>9 </th>\n",
       "      <td> 0.600000</td>\n",
       "      <td>   30</td>\n",
       "      <td> 0.366667</td>\n",
       "    </tr>\n",
       "    <tr>\n",
       "      <th>10</th>\n",
       "      <td> 0.700000</td>\n",
       "      <td>   18</td>\n",
       "      <td> 0.500000</td>\n",
       "    </tr>\n",
       "    <tr>\n",
       "      <th>11</th>\n",
       "      <td> 0.065833</td>\n",
       "      <td>    3</td>\n",
       "      <td> 0.666667</td>\n",
       "    </tr>\n",
       "    <tr>\n",
       "      <th>12</th>\n",
       "      <td> 0.016667</td>\n",
       "      <td>    3</td>\n",
       "      <td> 0.000000</td>\n",
       "    </tr>\n",
       "    <tr>\n",
       "      <th>13</th>\n",
       "      <td> 0.497619</td>\n",
       "      <td>    3</td>\n",
       "      <td> 0.000000</td>\n",
       "    </tr>\n",
       "    <tr>\n",
       "      <th>14</th>\n",
       "      <td> 0.264792</td>\n",
       "      <td>    2</td>\n",
       "      <td> 0.500000</td>\n",
       "    </tr>\n",
       "    <tr>\n",
       "      <th>15</th>\n",
       "      <td> 0.220000</td>\n",
       "      <td>    1</td>\n",
       "      <td> 0.000000</td>\n",
       "    </tr>\n",
       "    <tr>\n",
       "      <th>16</th>\n",
       "      <td> 0.370873</td>\n",
       "      <td>    1</td>\n",
       "      <td> 0.000000</td>\n",
       "    </tr>\n",
       "    <tr>\n",
       "      <th>17</th>\n",
       "      <td> 0.250000</td>\n",
       "      <td>    1</td>\n",
       "      <td> 0.000000</td>\n",
       "    </tr>\n",
       "    <tr>\n",
       "      <th>18</th>\n",
       "      <td> 0.050000</td>\n",
       "      <td>    1</td>\n",
       "      <td> 0.000000</td>\n",
       "    </tr>\n",
       "    <tr>\n",
       "      <th>19</th>\n",
       "      <td> 0.381270</td>\n",
       "      <td>    1</td>\n",
       "      <td> 0.000000</td>\n",
       "    </tr>\n",
       "    <tr>\n",
       "      <th>20</th>\n",
       "      <td> 0.333333</td>\n",
       "      <td>    1</td>\n",
       "      <td> 0.000000</td>\n",
       "    </tr>\n",
       "    <tr>\n",
       "      <th>21</th>\n",
       "      <td> 0.025000</td>\n",
       "      <td>    1</td>\n",
       "      <td> 0.000000</td>\n",
       "    </tr>\n",
       "    <tr>\n",
       "      <th>22</th>\n",
       "      <td> 0.316667</td>\n",
       "      <td>    1</td>\n",
       "      <td> 0.000000</td>\n",
       "    </tr>\n",
       "    <tr>\n",
       "      <th>23</th>\n",
       "      <td> 0.075000</td>\n",
       "      <td>    1</td>\n",
       "      <td> 1.000000</td>\n",
       "    </tr>\n",
       "    <tr>\n",
       "      <th>24</th>\n",
       "      <td> 0.053968</td>\n",
       "      <td>    1</td>\n",
       "      <td> 1.000000</td>\n",
       "    </tr>\n",
       "    <tr>\n",
       "      <th>25</th>\n",
       "      <td> 0.295000</td>\n",
       "      <td>    1</td>\n",
       "      <td> 0.000000</td>\n",
       "    </tr>\n",
       "    <tr>\n",
       "      <th>26</th>\n",
       "      <td> 0.053333</td>\n",
       "      <td>    1</td>\n",
       "      <td> 0.000000</td>\n",
       "    </tr>\n",
       "    <tr>\n",
       "      <th>27</th>\n",
       "      <td> 0.350000</td>\n",
       "      <td>    1</td>\n",
       "      <td> 0.000000</td>\n",
       "    </tr>\n",
       "  </tbody>\n",
       "</table>\n",
       "</div>"
      ],
      "text/plain": [
       "    pred_prob  count  true_prob\n",
       "0    0.000000   4837   0.009510\n",
       "1    1.000000    370   0.981081\n",
       "2    0.100000     68   0.161765\n",
       "3    0.200000     62   0.193548\n",
       "4    0.300000     40   0.350000\n",
       "5    0.900000     40   0.750000\n",
       "6    0.400000     36   0.416667\n",
       "7    0.800000     35   0.342857\n",
       "8    0.500000     32   0.343750\n",
       "9    0.600000     30   0.366667\n",
       "10   0.700000     18   0.500000\n",
       "11   0.065833      3   0.666667\n",
       "12   0.016667      3   0.000000\n",
       "13   0.497619      3   0.000000\n",
       "14   0.264792      2   0.500000\n",
       "15   0.220000      1   0.000000\n",
       "16   0.370873      1   0.000000\n",
       "17   0.250000      1   0.000000\n",
       "18   0.050000      1   0.000000\n",
       "19   0.381270      1   0.000000\n",
       "20   0.333333      1   0.000000\n",
       "21   0.025000      1   0.000000\n",
       "22   0.316667      1   0.000000\n",
       "23   0.075000      1   1.000000\n",
       "24   0.053968      1   1.000000\n",
       "25   0.295000      1   0.000000\n",
       "26   0.053333      1   0.000000\n",
       "27   0.350000      1   0.000000"
      ]
     },
     "execution_count": 110,
     "metadata": {},
     "output_type": "execute_result"
    }
   ],
   "source": [
    "import warnings\n",
    "warnings.filterwarnings('ignore')\n",
    "\n",
    "# Use 10 estimators so predictions are all multiples of 0.1\n",
    "pred_prob,y_test = run_prob_cv(X, y, RF, n_estimators=10)\n",
    "pred_sale = pred_prob[:,1]\n",
    "is_sale = y == 1\n",
    "\n",
    "# Number of times a predicted probability is assigned to an observation\n",
    "counts = pd.value_counts(pred_sale)\n",
    "\n",
    "# calculate true probabilities\n",
    "true_prob = {}\n",
    "for prob in counts.index:\n",
    "    true_prob[prob] = np.mean(is_sale[pred_sale == prob])\n",
    "    true_prob = pd.Series(true_prob)\n",
    "\n",
    "# pandas-fu\n",
    "counts = pd.concat([counts,true_prob], axis=1).reset_index()\n",
    "counts.columns = ['pred_prob', 'count', 'true_prob']\n",
    "counts"
   ]
  },
  {
   "cell_type": "code",
   "execution_count": 98,
   "metadata": {
    "collapsed": false
   },
   "outputs": [
    {
     "data": {
      "text/plain": [
       "(5592,)"
      ]
     },
     "execution_count": 98,
     "metadata": {},
     "output_type": "execute_result"
    }
   ],
   "source": [
    "pred_sale."
   ]
  },
  {
   "cell_type": "code",
   "execution_count": 111,
   "metadata": {
    "collapsed": false
   },
   "outputs": [
    {
     "data": {
      "text/plain": [
       "<matplotlib.text.Text at 0x7fecec9a9250>"
      ]
     },
     "execution_count": 111,
     "metadata": {},
     "output_type": "execute_result"
    },
    {
     "data": {
      "image/png": "[encoded data removed]",
      "text/plain": [
       "<matplotlib.figure.Figure at 0x7feced0282d0>"
      ]
     },
     "metadata": {},
     "output_type": "display_data"
    }
   ],
   "source": [
    "'''plot predicted probability by true probability'''\n",
    "counts = counts.sort('pred_prob')\n",
    "plt.plot(counts.pred_prob,counts.true_prob, 'bo')\n",
    "plt.xlabel('predicted probability')\n",
    "plt.ylabel('true probability')"
   ]
  },
  {
   "cell_type": "code",
   "execution_count": null,
   "metadata": {
    "collapsed": true
   },
   "outputs": [],
   "source": []
  }
 ],
 "metadata": {
  "kernelspec": {
   "display_name": "Python 2",
   "language": "python",
   "name": "python2"
  },
  "language_info": {
   "codemirror_mode": {
    "name": "ipython",
    "version": 2
   },
   "file_extension": ".py",
   "mimetype": "text/x-python",
   "name": "python",
   "nbconvert_exporter": "python",
   "pygments_lexer": "ipython2",
   "version": "2.7.9"
  }
 },
 "nbformat": 4,
 "nbformat_minor": 0
}
