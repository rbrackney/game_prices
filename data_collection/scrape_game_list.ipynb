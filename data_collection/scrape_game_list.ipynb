{
 "cells": [
  {
   "cell_type": "markdown",
   "metadata": {},
   "source": [
    "<h3> Scrape price histories of games"
   ]
  },
  {
   "cell_type": "code",
   "execution_count": null,
   "metadata": {
    "collapsed": true
   },
   "outputs": [],
   "source": [
    "import pymysql as mdb\n",
    "import json\n",
    "import requests\n",
    "from pprint import pprint as pp\n",
    "import numpy as np\n",
    "import time\n",
    "import os\n",
    "cwd = os.getcwd()"
   ]
  },
  {
   "cell_type": "code",
   "execution_count": null,
   "metadata": {
    "collapsed": true
   },
   "outputs": [],
   "source": [
    "'''this json holds the names and appids of all games to be scraped'''\n",
    "with open(\"johcar_game_ids.json\") as json_file:\n",
    "    json_data = json.load(json_file)"
   ]
  },
  {
   "cell_type": "code",
   "execution_count": null,
   "metadata": {
    "collapsed": true
   },
   "outputs": [],
   "source": [
    "'''build a list of all games, then sort by appid, \n",
    "which will be sorted by date, approximately'''\n",
    "appids = []\n",
    "for item in json_data[u'response'][u'games']:\n",
    "    appids.append(item[u'appid'])\n",
    "appids = sorted(appids)"
   ]
  },
  {
   "cell_type": "code",
   "execution_count": null,
   "metadata": {
    "collapsed": true
   },
   "outputs": [],
   "source": [
    "'''game ids reversed, used to sample from the most recent games first'''\n",
    "in_len = len(all_tups)\n",
    "samp_list = list(np.flipud(np.arange(in_len))) \n"
   ]
  },
  {
   "cell_type": "code",
   "execution_count": null,
   "metadata": {
    "collapsed": true
   },
   "outputs": [],
   "source": [
    "#go through the list of games in the database, and only scrape if the JSON name is none\n",
    "#this code is written so that if it crashes at any point, you can pick up immediately from\n",
    "# where you left off\n",
    "# try:\n",
    "for i in samp_list:\n",
    "    cur_appid = all_tups[i][1]\n",
    "    fname = 'sdb_%d.json' % (cur_appid)\n",
    "    cur_dir = os.path.join(cwd,'/epoch2_steamdb_jsons/')\n",
    "    if not fname in os.listdir('epoch2_steamdb_jsons'): #make sure title hasn't already been scraped\n",
    "        cur_appid = all_tups[i][1]\n",
    "        print('fetching appid: %d' % cur_appid)\n",
    "        payload = {'appid': cur_appid,'cc': 'us'}\n",
    "        r = requests.post('https://steamdb.info/api/GetPriceHistory/', params = payload ) #\n",
    "\n",
    "        if r.status_code == 200: #200 is the \"everything is right\" code, others will be errors\n",
    "            cur_json = r.json()\n",
    "            fname = 'sdb_%d.json' % (cur_appid)\n",
    "            \n",
    "            fpath = os.path.join('epoch2_steamdb_jsons',fname)\n",
    "            with open(fpath, 'w') as outfile:\n",
    "                json.dump(cur_json, outfile)\n",
    "        else:\n",
    "            print('Status code %d:%s' % (r.status_code, r.json()))\n",
    "            break\n",
    "        '''break up times between calls by about 5 seconds, with some randomness'''    \n",
    "        ran_sleep_time = 5+np.random.normal(loc=0.0, scale=2.0, size=None)\n",
    "        sleep_time = np.max(np.array([2.23,ran_sleep_time]))\n",
    "        time.sleep(sleep_time)\n",
    "        #break"
   ]
  }
 ],
 "metadata": {
  "kernelspec": {
   "display_name": "Python 2",
   "language": "python",
   "name": "python2"
  },
  "language_info": {
   "codemirror_mode": {
    "name": "ipython",
    "version": 2
   },
   "file_extension": ".py",
   "mimetype": "text/x-python",
   "name": "python",
   "nbconvert_exporter": "python",
   "pygments_lexer": "ipython2",
   "version": "2.7.9"
  }
 },
 "nbformat": 4,
 "nbformat_minor": 0
}
