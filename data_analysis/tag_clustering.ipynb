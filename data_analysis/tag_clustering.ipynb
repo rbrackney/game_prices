{
 "cells": [
  {
   "cell_type": "code",
   "execution_count": 1,
   "metadata": {
    "collapsed": true
   },
   "outputs": [],
   "source": [
    "import os\n",
    "import json\n",
    "from pprint import pprint as pp\n",
    "import pandas as pd\n",
    "from datetime import datetime\n",
    "import time\n",
    "import matplotlib.pyplot as plt\n",
    "import matplotlib.colors as mcolors\n",
    "import seaborn as sns\n",
    "import sklearn\n",
    "from sklearn import metrics\n",
    "from sklearn.cluster import KMeans\n",
    "from sklearn.datasets import load_digits\n",
    "from sklearn.decomposition import PCA\n",
    "from sklearn.preprocessing import scale\n",
    "from sklearn.metrics import silhouette_samples, silhouette_score\n",
    "import numpy as np\n",
    "from sklearn.decomposition import TruncatedSVD\n",
    "from sklearn.manifold import TSNE\n",
    "\n",
    "\n",
    "%matplotlib inline"
   ]
  },
  {
   "cell_type": "code",
   "execution_count": 51,
   "metadata": {
    "collapsed": true
   },
   "outputs": [],
   "source": [
    "bool_plot = False\n",
    "save_pickle = True"
   ]
  },
  {
   "cell_type": "code",
   "execution_count": 5,
   "metadata": {
    "collapsed": false
   },
   "outputs": [],
   "source": [
    "df = pd.read_pickle('tag_prop.pkl')\n",
    "tag_mat = df.as_matrix(columns=None)"
   ]
  },
  {
   "cell_type": "code",
   "execution_count": 6,
   "metadata": {
    "collapsed": false,
    "scrolled": true
   },
   "outputs": [],
   "source": [
    "use_adjust = False\n",
    "if use_adjust:\n",
    "    df_adjust = df\n",
    "    top_n = 12\n",
    "    for column in df:\n",
    "        df_adjust[column] =  (df[column] - min(df[column].nlargest(top_n))).apply(np.ceil).apply(int)\n",
    "    df_adjust = df_adjust.transpose()"
   ]
  },
  {
   "cell_type": "code",
   "execution_count": 7,
   "metadata": {
    "collapsed": false
   },
   "outputs": [],
   "source": [
    "\n",
    "df = df.transpose()"
   ]
  },
  {
   "cell_type": "code",
   "execution_count": 8,
   "metadata": {
    "collapsed": false
   },
   "outputs": [],
   "source": [
    "tag_names = df.columns.values "
   ]
  },
  {
   "cell_type": "code",
   "execution_count": 9,
   "metadata": {
    "collapsed": true
   },
   "outputs": [],
   "source": [
    "if bool_plot:\n",
    "    X_reduced = TruncatedSVD(n_components=50, random_state=0).fit_transform(df)\n",
    "    X_embedded = TSNE(n_components=2, perplexity=40, verbose=2).fit_transform(X_reduced)"
   ]
  },
  {
   "cell_type": "code",
   "execution_count": 50,
   "metadata": {
    "collapsed": false
   },
   "outputs": [
    {
     "data": {
      "text/plain": [
       "KMeans(copy_x=True, init='k-means++', max_iter=100, n_clusters=300, n_init=10,\n",
       "    n_jobs=1, precompute_distances='auto', random_state=None, tol=0.0001,\n",
       "    verbose=0)"
      ]
     },
     "execution_count": 50,
     "metadata": {},
     "output_type": "execute_result"
    }
   ],
   "source": [
    "cluster_n = 300\n",
    "k_means = KMeans(n_clusters=cluster_n, init='k-means++', max_iter=100, n_init=10,)\n",
    "k_means.fit(df)"
   ]
  },
  {
   "cell_type": "code",
   "execution_count": 10,
   "metadata": {
    "collapsed": false
   },
   "outputs": [
    {
     "data": {
      "text/plain": [
       "'determine appropriate number of clusters'"
      ]
     },
     "execution_count": 10,
     "metadata": {},
     "output_type": "execute_result"
    }
   ],
   "source": [
    "'''determine appropriate number of clusters'''\n",
    "\n",
    "# X_nfit = df_adjust.as_matrix()\n",
    "# #test_clusters = [20,30,40,50,60,70,80,90,100]\n",
    "# #test_clusters = [30,50,70,100]\n",
    "# #test_clusters = [20,40,80,100,200,300,400,500]\n",
    "# test_clusters = [200,400]\n",
    "# sil_a_list = list()\n",
    "# for nc in test_clusters:\n",
    "#     k_means = KMeans(n_clusters=nc, init='k-means++', max_iter=100, n_init=1,)\n",
    "#     k_means.fit(X_nfit)\n",
    "#     cl_x = k_means.fit_predict(X_nfit)\n",
    "#     silhouette_avg = silhouette_score(X_nfit, cl_x)\n",
    "#     sil_a_list.append(silhouette_avg)\n",
    "#     print(\"For n_clusters =\", nc,\n",
    "#       \"The average silhouette_score is :\", silhouette_avg)\n",
    "\n",
    "    #sample_silhouette_values = silhouette_samples(X_nfit, cl_x)"
   ]
  },
  {
   "cell_type": "code",
   "execution_count": 11,
   "metadata": {
    "collapsed": false
   },
   "outputs": [],
   "source": [
    "#plt.plot(test_clusters,sil_a_list)"
   ]
  },
  {
   "cell_type": "code",
   "execution_count": 53,
   "metadata": {
    "collapsed": false
   },
   "outputs": [],
   "source": [
    "k_means.labels_\n",
    "cluster_bool = list()\n",
    "for i in range(cluster_n):\n",
    "    cur_cluster = k_means.labels_ == i\n",
    "    cluster_bool.append(cur_cluster)"
   ]
  },
  {
   "cell_type": "code",
   "execution_count": 54,
   "metadata": {
    "collapsed": false
   },
   "outputs": [],
   "source": [
    "appids = df.index"
   ]
  },
  {
   "cell_type": "code",
   "execution_count": 55,
   "metadata": {
    "collapsed": false
   },
   "outputs": [],
   "source": [
    "df_labels = pd.DataFrame({'appid':appids,'cluster':k_means.labels_})\n",
    "if save_pickle:\n",
    "    df_labels.to_pickle('df_kmeans.pkl')"
   ]
  },
  {
   "cell_type": "code",
   "execution_count": 15,
   "metadata": {
    "collapsed": true
   },
   "outputs": [],
   "source": [
    "if bool_plot:\n",
    "    '''red to green color map'''\n",
    "    cdict = {'red':   ((0.0, 0.0, 0.0),\n",
    "                       (0.5, 0.0, 0.0),\n",
    "                       (1.0, 1.0, 1.0)),\n",
    "             'blue':  ((0.0, 0.0, 0.0),\n",
    "                       (1.0, 0.0, 0.0)),\n",
    "             'green': ((0.0, 0.0, 1.0),\n",
    "                       (0.5, 0.0, 0.0),\n",
    "                       (1.0, 0.0, 0.0))}\n",
    "\n",
    "    cmap = mcolors.LinearSegmentedColormap(\n",
    "    'my_colormap', cdict, 100)\n",
    "    base_val = 100"
   ]
  },
  {
   "cell_type": "code",
   "execution_count": 16,
   "metadata": {
    "collapsed": false
   },
   "outputs": [],
   "source": [
    "if bool_plot:\n",
    "    qmaps = ['Accent', 'Dark2', 'Paired', 'Pastel1','Pastel2', 'Set1', 'Set2', 'Set3', 'Spectral']\n",
    "    cmap_name = qmaps[8]\n",
    "    cmap=plt.get_cmap(cmap_name)\n",
    "    base_val = 255\n",
    "    \n",
    "    fig,ax = plt.subplots(1,1,figsize=(10, 10))\n",
    "    for i in range(cluster_n):\n",
    "        cmap_val = int(( (i * 1.0) / (cluster_n - 1)) * base_val)\n",
    "        ax.plot(X_embedded[cluster_bool[i], 0], X_embedded[cluster_bool[i], 1], marker = '.', ls = '', color = cmap(cmap_val))\n",
    "\n",
    "\n"
   ]
  },
  {
   "cell_type": "code",
   "execution_count": 17,
   "metadata": {
    "collapsed": false
   },
   "outputs": [],
   "source": [
    "order_centroids = k_means.cluster_centers_.argsort()[:, ::-1]"
   ]
  },
  {
   "cell_type": "code",
   "execution_count": 18,
   "metadata": {
    "collapsed": false
   },
   "outputs": [
    {
     "data": {
      "text/plain": [
       "(400, 311)"
      ]
     },
     "execution_count": 18,
     "metadata": {},
     "output_type": "execute_result"
    }
   ],
   "source": [
    "order_centroids.shape"
   ]
  },
  {
   "cell_type": "code",
   "execution_count": 39,
   "metadata": {
    "collapsed": false
   },
   "outputs": [
    {
     "ename": "NameError",
     "evalue": "name 'order_centroids' is not defined",
     "output_type": "error",
     "traceback": [
      "\u001b[1;31m---------------------------------------------------------------------------\u001b[0m",
      "\u001b[1;31mNameError\u001b[0m                                 Traceback (most recent call last)",
      "\u001b[1;32m<ipython-input-39-0ab68f5a9fcf>\u001b[0m in \u001b[0;36m<module>\u001b[1;34m()\u001b[0m\n\u001b[0;32m      1\u001b[0m \u001b[1;34m'''print out the top labels in each category'''\u001b[0m\u001b[1;33m\u001b[0m\u001b[0m\n\u001b[0;32m      2\u001b[0m \u001b[0mtop_n_labels\u001b[0m \u001b[1;33m=\u001b[0m \u001b[1;36m4\u001b[0m\u001b[1;33m\u001b[0m\u001b[0m\n\u001b[1;32m----> 3\u001b[1;33m \u001b[0morder_centroids\u001b[0m\u001b[1;33m.\u001b[0m\u001b[0mshape\u001b[0m\u001b[1;33m\u001b[0m\u001b[0m\n\u001b[0m\u001b[0;32m      4\u001b[0m \u001b[1;32mfor\u001b[0m \u001b[0mi\u001b[0m \u001b[1;32min\u001b[0m \u001b[0mrange\u001b[0m\u001b[1;33m(\u001b[0m\u001b[0morder_centroids\u001b[0m\u001b[1;33m.\u001b[0m\u001b[0mshape\u001b[0m\u001b[1;33m[\u001b[0m\u001b[1;36m0\u001b[0m\u001b[1;33m]\u001b[0m\u001b[1;33m)\u001b[0m\u001b[1;33m:\u001b[0m\u001b[1;33m\u001b[0m\u001b[0m\n\u001b[0;32m      5\u001b[0m     \u001b[0mtn\u001b[0m \u001b[1;33m=\u001b[0m \u001b[0mtag_names\u001b[0m\u001b[1;33m[\u001b[0m\u001b[0morder_centroids\u001b[0m\u001b[1;33m[\u001b[0m\u001b[0mi\u001b[0m\u001b[1;33m,\u001b[0m\u001b[1;36m0\u001b[0m\u001b[1;33m:\u001b[0m\u001b[0mtop_n_labels\u001b[0m\u001b[1;33m]\u001b[0m\u001b[1;33m]\u001b[0m\u001b[1;33m\u001b[0m\u001b[0m\n",
      "\u001b[1;31mNameError\u001b[0m: name 'order_centroids' is not defined"
     ]
    }
   ],
   "source": [
    "'''print out the top labels in each category'''\n",
    "top_n_labels = 4\n",
    "order_centroids.shape\n",
    "for i in range(order_centroids.shape[0]):\n",
    "    tn = tag_names[order_centroids[i,0:top_n_labels]]\n",
    "    tn_out = [x.encode('ascii')for x in tn]\n",
    "    print tn_out"
   ]
  },
  {
   "cell_type": "code",
   "execution_count": 46,
   "metadata": {
    "collapsed": false
   },
   "outputs": [
    {
     "data": {
      "text/html": [
       "<div style=\"max-height:1000px;max-width:1500px;overflow:auto;\">\n",
       "<table border=\"1\" class=\"dataframe\">\n",
       "  <thead>\n",
       "    <tr style=\"text-align: right;\">\n",
       "      <th></th>\n",
       "      <th>appid</th>\n",
       "      <th>cluster</th>\n",
       "      <th>game_name</th>\n",
       "    </tr>\n",
       "  </thead>\n",
       "  <tbody>\n",
       "    <tr>\n",
       "      <th>0</th>\n",
       "      <td> 10</td>\n",
       "      <td> 268</td>\n",
       "      <td>            Counter-Strike</td>\n",
       "    </tr>\n",
       "    <tr>\n",
       "      <th>1</th>\n",
       "      <td> 20</td>\n",
       "      <td> 268</td>\n",
       "      <td>     Team Fortress Classic</td>\n",
       "    </tr>\n",
       "    <tr>\n",
       "      <th>2</th>\n",
       "      <td> 30</td>\n",
       "      <td> 166</td>\n",
       "      <td>             Day of Defeat</td>\n",
       "    </tr>\n",
       "    <tr>\n",
       "      <th>3</th>\n",
       "      <td> 40</td>\n",
       "      <td> 268</td>\n",
       "      <td>        Deathmatch Classic</td>\n",
       "    </tr>\n",
       "    <tr>\n",
       "      <th>4</th>\n",
       "      <td> 50</td>\n",
       "      <td>  21</td>\n",
       "      <td> Half-Life: Opposing Force</td>\n",
       "    </tr>\n",
       "  </tbody>\n",
       "</table>\n",
       "</div>"
      ],
      "text/plain": [
       "   appid  cluster                  game_name\n",
       "0     10      268             Counter-Strike\n",
       "1     20      268      Team Fortress Classic\n",
       "2     30      166              Day of Defeat\n",
       "3     40      268         Deathmatch Classic\n",
       "4     50       21  Half-Life: Opposing Force"
      ]
     },
     "execution_count": 46,
     "metadata": {},
     "output_type": "execute_result"
    }
   ],
   "source": [
    "df_labels.head()"
   ]
  },
  {
   "cell_type": "code",
   "execution_count": 56,
   "metadata": {
    "collapsed": false
   },
   "outputs": [],
   "source": [
    "df_other = pd.read_pickle('steam_features.pkl')\n",
    "df_gn = df_other[['game_name','appid']]"
   ]
  },
  {
   "cell_type": "code",
   "execution_count": 57,
   "metadata": {
    "collapsed": false
   },
   "outputs": [],
   "source": [
    "df_labels = pd.merge(df_labels, df_gn, left_on='appid', right_on='appid', how='inner')"
   ]
  },
  {
   "cell_type": "code",
   "execution_count": 58,
   "metadata": {
    "collapsed": false
   },
   "outputs": [
    {
     "data": {
      "text/html": [
       "<div style=\"max-height:1000px;max-width:1500px;overflow:auto;\">\n",
       "<table border=\"1\" class=\"dataframe\">\n",
       "  <thead>\n",
       "    <tr style=\"text-align: right;\">\n",
       "      <th></th>\n",
       "      <th>appid</th>\n",
       "      <th>cluster</th>\n",
       "      <th>game_name</th>\n",
       "    </tr>\n",
       "  </thead>\n",
       "  <tbody>\n",
       "    <tr>\n",
       "      <th>2782</th>\n",
       "      <td> 310380</td>\n",
       "      <td>   0</td>\n",
       "      <td>                                   Fractured Space</td>\n",
       "    </tr>\n",
       "    <tr>\n",
       "      <th>4174</th>\n",
       "      <td> 377150</td>\n",
       "      <td>   0</td>\n",
       "      <td>                                   Tactical Genius</td>\n",
       "    </tr>\n",
       "    <tr>\n",
       "      <th>1342</th>\n",
       "      <td> 222900</td>\n",
       "      <td>   0</td>\n",
       "      <td>                             Dead Island: Epidemic</td>\n",
       "    </tr>\n",
       "    <tr>\n",
       "      <th>2629</th>\n",
       "      <td> 301520</td>\n",
       "      <td>   0</td>\n",
       "      <td>                                         Robocraft</td>\n",
       "    </tr>\n",
       "    <tr>\n",
       "      <th>2159</th>\n",
       "      <td> 277950</td>\n",
       "      <td>   0</td>\n",
       "      <td>                                        Deadbreed®</td>\n",
       "    </tr>\n",
       "    <tr>\n",
       "      <th>1722</th>\n",
       "      <td> 251970</td>\n",
       "      <td>   0</td>\n",
       "      <td>                                Sins of a Dark Age</td>\n",
       "    </tr>\n",
       "    <tr>\n",
       "      <th>4188</th>\n",
       "      <td> 378280</td>\n",
       "      <td>   0</td>\n",
       "      <td>                               Pump-Action Captain</td>\n",
       "    </tr>\n",
       "    <tr>\n",
       "      <th>3022</th>\n",
       "      <td> 320590</td>\n",
       "      <td>   0</td>\n",
       "      <td>                                           Warside</td>\n",
       "    </tr>\n",
       "    <tr>\n",
       "      <th>2296</th>\n",
       "      <td> 285580</td>\n",
       "      <td>   0</td>\n",
       "      <td>                      ACE - Arena: Cyber Evolution</td>\n",
       "    </tr>\n",
       "    <tr>\n",
       "      <th>1049</th>\n",
       "      <td> 200110</td>\n",
       "      <td>   0</td>\n",
       "      <td>                                           Nosgoth</td>\n",
       "    </tr>\n",
       "    <tr>\n",
       "      <th>3495</th>\n",
       "      <td> 342150</td>\n",
       "      <td>   0</td>\n",
       "      <td>                                    Games of Glory</td>\n",
       "    </tr>\n",
       "    <tr>\n",
       "      <th>4211</th>\n",
       "      <td> 380600</td>\n",
       "      <td>   0</td>\n",
       "      <td>                                    Fishing Planet</td>\n",
       "    </tr>\n",
       "    <tr>\n",
       "      <th>2932</th>\n",
       "      <td> 316390</td>\n",
       "      <td>   0</td>\n",
       "      <td>                                      sZone-Online</td>\n",
       "    </tr>\n",
       "    <tr>\n",
       "      <th>3500</th>\n",
       "      <td> 342480</td>\n",
       "      <td>   0</td>\n",
       "      <td>                                          Gunscape</td>\n",
       "    </tr>\n",
       "    <tr>\n",
       "      <th>1414</th>\n",
       "      <td> 227940</td>\n",
       "      <td>   0</td>\n",
       "      <td>                                 Heroes &amp; Generals</td>\n",
       "    </tr>\n",
       "    <tr>\n",
       "      <th>1285</th>\n",
       "      <td> 218330</td>\n",
       "      <td>   0</td>\n",
       "      <td>                               Smashmuck Champions</td>\n",
       "    </tr>\n",
       "    <tr>\n",
       "      <th>2554</th>\n",
       "      <td> 298240</td>\n",
       "      <td>   0</td>\n",
       "      <td>                          Red Crucible®: Firestorm</td>\n",
       "    </tr>\n",
       "    <tr>\n",
       "      <th>1802</th>\n",
       "      <td> 257870</td>\n",
       "      <td>   1</td>\n",
       "      <td>                                Eschalon: Book III</td>\n",
       "    </tr>\n",
       "    <tr>\n",
       "      <th>1896</th>\n",
       "      <td> 263380</td>\n",
       "      <td>   1</td>\n",
       "      <td>                                         Driftmoon</td>\n",
       "    </tr>\n",
       "    <tr>\n",
       "      <th>3394</th>\n",
       "      <td> 338320</td>\n",
       "      <td>   1</td>\n",
       "      <td>                        Pixel Heroes: Byte &amp; Magic</td>\n",
       "    </tr>\n",
       "    <tr>\n",
       "      <th>2995</th>\n",
       "      <td> 319210</td>\n",
       "      <td>   1</td>\n",
       "      <td>                                    Space Salvager</td>\n",
       "    </tr>\n",
       "    <tr>\n",
       "      <th>3752</th>\n",
       "      <td> 353600</td>\n",
       "      <td>   1</td>\n",
       "      <td>                                         Spellbind</td>\n",
       "    </tr>\n",
       "    <tr>\n",
       "      <th>4351</th>\n",
       "      <td> 391660</td>\n",
       "      <td>   1</td>\n",
       "      <td>                                      Incitement 3</td>\n",
       "    </tr>\n",
       "    <tr>\n",
       "      <th>3819</th>\n",
       "      <td> 357200</td>\n",
       "      <td>   1</td>\n",
       "      <td>                                   500 Years Act 1</td>\n",
       "    </tr>\n",
       "    <tr>\n",
       "      <th>3638</th>\n",
       "      <td> 348180</td>\n",
       "      <td>   1</td>\n",
       "      <td>                                Starship Traveller</td>\n",
       "    </tr>\n",
       "    <tr>\n",
       "      <th>3424</th>\n",
       "      <td> 339860</td>\n",
       "      <td>   1</td>\n",
       "      <td>        Ancients of Fasaria MMORPG + Bonus Package</td>\n",
       "    </tr>\n",
       "    <tr>\n",
       "      <th>3726</th>\n",
       "      <td> 352080</td>\n",
       "      <td>   1</td>\n",
       "      <td>                 Judge Dredd: Countdown Sector 106</td>\n",
       "    </tr>\n",
       "    <tr>\n",
       "      <th>1872</th>\n",
       "      <td> 262300</td>\n",
       "      <td>   1</td>\n",
       "      <td>                                       Tsukumogami</td>\n",
       "    </tr>\n",
       "    <tr>\n",
       "      <th>2243</th>\n",
       "      <td> 283040</td>\n",
       "      <td>   1</td>\n",
       "      <td>                                    Paper Dungeons</td>\n",
       "    </tr>\n",
       "    <tr>\n",
       "      <th>2176</th>\n",
       "      <td> 279440</td>\n",
       "      <td>   1</td>\n",
       "      <td>               Joe Dever's Lone Wolf HD Remastered</td>\n",
       "    </tr>\n",
       "    <tr>\n",
       "      <th>...</th>\n",
       "      <td>...</td>\n",
       "      <td>...</td>\n",
       "      <td>...</td>\n",
       "    </tr>\n",
       "    <tr>\n",
       "      <th>3880</th>\n",
       "      <td> 360030</td>\n",
       "      <td> 298</td>\n",
       "      <td>                                             XLarn</td>\n",
       "    </tr>\n",
       "    <tr>\n",
       "      <th>53  </th>\n",
       "      <td>   2570</td>\n",
       "      <td> 298</td>\n",
       "      <td>                          Vigil: Blood Bitterness™</td>\n",
       "    </tr>\n",
       "    <tr>\n",
       "      <th>3530</th>\n",
       "      <td> 343370</td>\n",
       "      <td> 298</td>\n",
       "      <td>                                          SLAMMED!</td>\n",
       "    </tr>\n",
       "    <tr>\n",
       "      <th>3974</th>\n",
       "      <td> 365110</td>\n",
       "      <td> 298</td>\n",
       "      <td>                                         After All</td>\n",
       "    </tr>\n",
       "    <tr>\n",
       "      <th>4375</th>\n",
       "      <td> 396230</td>\n",
       "      <td> 298</td>\n",
       "      <td>                             VERSUS: The Lost Ones</td>\n",
       "    </tr>\n",
       "    <tr>\n",
       "      <th>3266</th>\n",
       "      <td> 332710</td>\n",
       "      <td> 298</td>\n",
       "      <td>                                            1Quest</td>\n",
       "    </tr>\n",
       "    <tr>\n",
       "      <th>2870</th>\n",
       "      <td> 314120</td>\n",
       "      <td> 298</td>\n",
       "      <td>          Frayed Knights: The Skull of S'makh-Daon</td>\n",
       "    </tr>\n",
       "    <tr>\n",
       "      <th>2731</th>\n",
       "      <td> 306550</td>\n",
       "      <td> 298</td>\n",
       "      <td>                                            Runers</td>\n",
       "    </tr>\n",
       "    <tr>\n",
       "      <th>3973</th>\n",
       "      <td> 365080</td>\n",
       "      <td> 298</td>\n",
       "      <td> Unheard Screams - King Leopold II's Rule Over ...</td>\n",
       "    </tr>\n",
       "    <tr>\n",
       "      <th>4270</th>\n",
       "      <td> 385590</td>\n",
       "      <td> 298</td>\n",
       "      <td>                                   Lethal RPG: War</td>\n",
       "    </tr>\n",
       "    <tr>\n",
       "      <th>2858</th>\n",
       "      <td> 313470</td>\n",
       "      <td> 298</td>\n",
       "      <td>                                  Boot Hill Heroes</td>\n",
       "    </tr>\n",
       "    <tr>\n",
       "      <th>4038</th>\n",
       "      <td> 368610</td>\n",
       "      <td> 298</td>\n",
       "      <td>                              The Enchanted Cave 2</td>\n",
       "    </tr>\n",
       "    <tr>\n",
       "      <th>3816</th>\n",
       "      <td> 356800</td>\n",
       "      <td> 298</td>\n",
       "      <td>                        Choice of the Petal Throne</td>\n",
       "    </tr>\n",
       "    <tr>\n",
       "      <th>965 </th>\n",
       "      <td>  96100</td>\n",
       "      <td> 299</td>\n",
       "      <td>                             Defy Gravity Extended</td>\n",
       "    </tr>\n",
       "    <tr>\n",
       "      <th>984 </th>\n",
       "      <td>  99700</td>\n",
       "      <td> 299</td>\n",
       "      <td>                                          NightSky</td>\n",
       "    </tr>\n",
       "    <tr>\n",
       "      <th>1019</th>\n",
       "      <td> 108500</td>\n",
       "      <td> 299</td>\n",
       "      <td>                                            Vessel</td>\n",
       "    </tr>\n",
       "    <tr>\n",
       "      <th>659 </th>\n",
       "      <td>  38740</td>\n",
       "      <td> 299</td>\n",
       "      <td>                                              EDGE</td>\n",
       "    </tr>\n",
       "    <tr>\n",
       "      <th>1183</th>\n",
       "      <td> 209190</td>\n",
       "      <td> 299</td>\n",
       "      <td>                            Stealth Bastard Deluxe</td>\n",
       "    </tr>\n",
       "    <tr>\n",
       "      <th>1218</th>\n",
       "      <td> 211440</td>\n",
       "      <td> 299</td>\n",
       "      <td>                              Adventures of Shuggy</td>\n",
       "    </tr>\n",
       "    <tr>\n",
       "      <th>1269</th>\n",
       "      <td> 216290</td>\n",
       "      <td> 299</td>\n",
       "      <td>                                          Gateways</td>\n",
       "    </tr>\n",
       "    <tr>\n",
       "      <th>1503</th>\n",
       "      <td> 235820</td>\n",
       "      <td> 299</td>\n",
       "      <td>                                         Element4l</td>\n",
       "    </tr>\n",
       "    <tr>\n",
       "      <th>1679</th>\n",
       "      <td> 249590</td>\n",
       "      <td> 299</td>\n",
       "      <td>                                         Teslagrad</td>\n",
       "    </tr>\n",
       "    <tr>\n",
       "      <th>1707</th>\n",
       "      <td> 251370</td>\n",
       "      <td> 299</td>\n",
       "      <td>                                       Escape Goat</td>\n",
       "    </tr>\n",
       "    <tr>\n",
       "      <th>465 </th>\n",
       "      <td>  26800</td>\n",
       "      <td> 299</td>\n",
       "      <td>                                             Braid</td>\n",
       "    </tr>\n",
       "    <tr>\n",
       "      <th>4203</th>\n",
       "      <td> 379760</td>\n",
       "      <td> 299</td>\n",
       "      <td>                                     Gravity Error</td>\n",
       "    </tr>\n",
       "    <tr>\n",
       "      <th>1776</th>\n",
       "      <td> 255340</td>\n",
       "      <td> 299</td>\n",
       "      <td>                                     Escape Goat 2</td>\n",
       "    </tr>\n",
       "    <tr>\n",
       "      <th>1963</th>\n",
       "      <td> 266330</td>\n",
       "      <td> 299</td>\n",
       "      <td>                              Ethan: Meteor Hunter</td>\n",
       "    </tr>\n",
       "    <tr>\n",
       "      <th>214 </th>\n",
       "      <td>   9500</td>\n",
       "      <td> 299</td>\n",
       "      <td>                                              Gish</td>\n",
       "    </tr>\n",
       "    <tr>\n",
       "      <th>1033</th>\n",
       "      <td> 111800</td>\n",
       "      <td> 299</td>\n",
       "      <td>                                Blocks That Matter</td>\n",
       "    </tr>\n",
       "    <tr>\n",
       "      <th>912 </th>\n",
       "      <td>  72000</td>\n",
       "      <td> 299</td>\n",
       "      <td>                                           Closure</td>\n",
       "    </tr>\n",
       "  </tbody>\n",
       "</table>\n",
       "<p>4391 rows × 3 columns</p>\n",
       "</div>"
      ],
      "text/plain": [
       "       appid  cluster                                          game_name\n",
       "2782  310380        0                                    Fractured Space\n",
       "4174  377150        0                                    Tactical Genius\n",
       "1342  222900        0                              Dead Island: Epidemic\n",
       "2629  301520        0                                          Robocraft\n",
       "2159  277950        0                                         Deadbreed®\n",
       "1722  251970        0                                 Sins of a Dark Age\n",
       "4188  378280        0                                Pump-Action Captain\n",
       "3022  320590        0                                            Warside\n",
       "2296  285580        0                       ACE - Arena: Cyber Evolution\n",
       "1049  200110        0                                            Nosgoth\n",
       "3495  342150        0                                     Games of Glory\n",
       "4211  380600        0                                     Fishing Planet\n",
       "2932  316390        0                                       sZone-Online\n",
       "3500  342480        0                                           Gunscape\n",
       "1414  227940        0                                  Heroes & Generals\n",
       "1285  218330        0                                Smashmuck Champions\n",
       "2554  298240        0                           Red Crucible®: Firestorm\n",
       "1802  257870        1                                 Eschalon: Book III\n",
       "1896  263380        1                                          Driftmoon\n",
       "3394  338320        1                         Pixel Heroes: Byte & Magic\n",
       "2995  319210        1                                     Space Salvager\n",
       "3752  353600        1                                          Spellbind\n",
       "4351  391660        1                                       Incitement 3\n",
       "3819  357200        1                                    500 Years Act 1\n",
       "3638  348180        1                                 Starship Traveller\n",
       "3424  339860        1         Ancients of Fasaria MMORPG + Bonus Package\n",
       "3726  352080        1                  Judge Dredd: Countdown Sector 106\n",
       "1872  262300        1                                        Tsukumogami\n",
       "2243  283040        1                                     Paper Dungeons\n",
       "2176  279440        1                Joe Dever's Lone Wolf HD Remastered\n",
       "...      ...      ...                                                ...\n",
       "3880  360030      298                                              XLarn\n",
       "53      2570      298                           Vigil: Blood Bitterness™\n",
       "3530  343370      298                                           SLAMMED!\n",
       "3974  365110      298                                          After All\n",
       "4375  396230      298                              VERSUS: The Lost Ones\n",
       "3266  332710      298                                             1Quest\n",
       "2870  314120      298           Frayed Knights: The Skull of S'makh-Daon\n",
       "2731  306550      298                                             Runers\n",
       "3973  365080      298  Unheard Screams - King Leopold II's Rule Over ...\n",
       "4270  385590      298                                    Lethal RPG: War\n",
       "2858  313470      298                                   Boot Hill Heroes\n",
       "4038  368610      298                               The Enchanted Cave 2\n",
       "3816  356800      298                         Choice of the Petal Throne\n",
       "965    96100      299                              Defy Gravity Extended\n",
       "984    99700      299                                           NightSky\n",
       "1019  108500      299                                             Vessel\n",
       "659    38740      299                                               EDGE\n",
       "1183  209190      299                             Stealth Bastard Deluxe\n",
       "1218  211440      299                               Adventures of Shuggy\n",
       "1269  216290      299                                           Gateways\n",
       "1503  235820      299                                          Element4l\n",
       "1679  249590      299                                          Teslagrad\n",
       "1707  251370      299                                        Escape Goat\n",
       "465    26800      299                                              Braid\n",
       "4203  379760      299                                      Gravity Error\n",
       "1776  255340      299                                      Escape Goat 2\n",
       "1963  266330      299                               Ethan: Meteor Hunter\n",
       "214     9500      299                                               Gish\n",
       "1033  111800      299                                 Blocks That Matter\n",
       "912    72000      299                                            Closure\n",
       "\n",
       "[4391 rows x 3 columns]"
      ]
     },
     "execution_count": 58,
     "metadata": {},
     "output_type": "execute_result"
    }
   ],
   "source": [
    "df_labels.sort('cluster')"
   ]
  },
  {
   "cell_type": "code",
   "execution_count": 60,
   "metadata": {
    "collapsed": true
   },
   "outputs": [],
   "source": [
    "df_pc = pd.read_pickle('df_price_cluster.pkl')"
   ]
  },
  {
   "cell_type": "code",
   "execution_count": 62,
   "metadata": {
    "collapsed": false
   },
   "outputs": [],
   "source": [
    "df_pc_out = pd.merge(df_pc[['appid','median_initial_price']],df_labels,left_on='appid', right_on='appid')"
   ]
  },
  {
   "cell_type": "code",
   "execution_count": 63,
   "metadata": {
    "collapsed": true
   },
   "outputs": [],
   "source": [
    "if save_pickle:\n",
    "    df_pc.to_pickle('df_price_cluster.pkl')"
   ]
  }
 ],
 "metadata": {
  "kernelspec": {
   "display_name": "Python 2",
   "language": "python",
   "name": "python2"
  },
  "language_info": {
   "codemirror_mode": {
    "name": "ipython",
    "version": 2
   },
   "file_extension": ".py",
   "mimetype": "text/x-python",
   "name": "python",
   "nbconvert_exporter": "python",
   "pygments_lexer": "ipython2",
   "version": "2.7.9"
  }
 },
 "nbformat": 4,
 "nbformat_minor": 0
}
