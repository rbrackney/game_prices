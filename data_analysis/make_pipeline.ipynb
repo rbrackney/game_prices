{
 "cells": [
  {
   "cell_type": "code",
   "execution_count": 1,
   "metadata": {
    "collapsed": false
   },
   "outputs": [
    {
     "data": {
      "text/plain": [
       "'/home/ryan/Documents/insight_projects/steam_prices/data_analysis'"
      ]
     },
     "execution_count": 1,
     "metadata": {},
     "output_type": "execute_result"
    }
   ],
   "source": [
    "import os\n",
    "from pprint import pprint as pp\n",
    "import pandas as pd\n",
    "import json\n",
    "import numpy as np\n",
    "from scipy import stats\n",
    "import matplotlib.pyplot as plt\n",
    "import matplotlib\n",
    "import itertools\n",
    "import copy\n",
    "import seaborn as sns\n",
    "\n",
    "%matplotlib inline\n",
    "os.getcwd()"
   ]
  },
  {
   "cell_type": "code",
   "execution_count": 2,
   "metadata": {
    "collapsed": false
   },
   "outputs": [],
   "source": [
    "from sklearn.svm import SVC\n",
    "from sklearn.ensemble import RandomForestClassifier as RF\n",
    "from sklearn.ensemble import ExtraTreesClassifier as ETC\n",
    "from sklearn.neighbors import KNeighborsClassifier as KNN\n",
    "from sklearn.preprocessing import StandardScaler, LabelEncoder\n",
    "from sklearn.metrics import roc_curve, auc\n",
    "from sklearn.cross_validation import KFold\n",
    "from sklearn.metrics import confusion_matrix"
   ]
  },
  {
   "cell_type": "code",
   "execution_count": null,
   "metadata": {
    "collapsed": false
   },
   "outputs": [],
   "source": []
  },
  {
   "cell_type": "markdown",
   "metadata": {},
   "source": [
    "<H3>IMPORT STEAMDB FEATURES AND CLEAN MORE"
   ]
  },
  {
   "cell_type": "code",
   "execution_count": 3,
   "metadata": {
    "collapsed": false
   },
   "outputs": [
    {
     "name": "stdout",
     "output_type": "stream",
     "text": [
      "21\n"
     ]
    }
   ],
   "source": [
    "df = pd.read_pickle('df_steamdb_timeseries.pkl')\n",
    "since_sale_len = len(df.since_sale_lists[1])\n",
    "print since_sale_len\n"
   ]
  },
  {
   "cell_type": "markdown",
   "metadata": {},
   "source": [
    "<h4>data set choice parameters"
   ]
  },
  {
   "cell_type": "code",
   "execution_count": 4,
   "metadata": {
    "collapsed": true
   },
   "outputs": [],
   "source": [
    "current_epoch =  20 #the epoch in the bool list to predict\n",
    "validation_set_prop = 0.20 #proportion of the entire data set to hold out for validation"
   ]
  },
  {
   "cell_type": "code",
   "execution_count": 5,
   "metadata": {
    "collapsed": false
   },
   "outputs": [],
   "source": [
    "#df.head()\n",
    "\n",
    "drop_columns = ['fprice','iprice','price_date','sale_bool',\n",
    "                'formatted_no_holiday','saledates_no_holiday',\n",
    "               'sale_bool_all','min_iprice','mip_slopes','dirty_isi']\n",
    "df_feat_space = df.drop(drop_columns,axis=1)\n",
    "df_feat_space = df_feat_space[df_feat_space.formatted.map(type) != type([])]\n",
    "#df_feat_space = df_feat_space.drop(['formatted'])\n",
    "#df_feat_space['specific_epoch_time_since'] = df_feat_space.since_sale_lists[3]\n",
    "#df.head()"
   ]
  },
  {
   "cell_type": "code",
   "execution_count": 6,
   "metadata": {
    "collapsed": false,
    "scrolled": true
   },
   "outputs": [],
   "source": [
    "'''empty list replace'''\n",
    "replacement_empty_list = list(df.iloc[1].sale_bool_no_holiday[0] - df.iloc[1].sale_bool_no_holiday[0][0] + (60*60*24*100.0))\n",
    "#if there are no values, for now just use this empty list that assumes the last sale was more than one hundred days ago\n",
    "#however, this may be problematic if there's a negative correlation for games with sales and the time since the last game\n",
    "#to_series = df_feat_space.since_sale_lists\n",
    "\n",
    "to_series = df_feat_space.since_sale_lists\n",
    "check = [x for x in to_series]\n",
    "check_copy = copy.deepcopy(check)\n",
    "\n",
    "just_one_epoch = list()\n",
    "for i,v in enumerate(check):\n",
    "    if v == []:\n",
    "        check_copy[i] = replacement_empty_list\n",
    "    cur_epoch_time_since = check_copy[i][current_epoch]\n",
    "    just_one_epoch.append(cur_epoch_time_since)\n",
    "\n",
    "df_feat_space['specific_epoch_time_since'] = just_one_epoch\n",
    "#rint(check)\n",
    "#[df_feat_space.head().iloc['since_sale_lists']"
   ]
  },
  {
   "cell_type": "code",
   "execution_count": 7,
   "metadata": {
    "collapsed": true
   },
   "outputs": [],
   "source": [
    "'''change boolean into 1 or 0'''\n",
    "df_feat_space.has_price_slope = df_feat_space.has_price_slope.apply(lambda x:x*1)"
   ]
  },
  {
   "cell_type": "code",
   "execution_count": 8,
   "metadata": {
    "collapsed": false
   },
   "outputs": [],
   "source": [
    "'''make exponential cdf probability'''\n",
    "day_sec = 60 * 60 * 24\n",
    "twoweek_days = 14\n",
    "time_since_ds = (df_feat_space.specific_epoch_time_since / day_sec) + 14\n",
    "exp_lambda =  1/df_feat_space.dirty_isi_mean\n",
    "df_feat_space['exp_cdf_time_since_prob'] =  1 - np.exp(-time_since_ds * exp_lambda)\n"
   ]
  },
  {
   "cell_type": "markdown",
   "metadata": {},
   "source": [
    "<h3>STEAM SCRAPED FEATURES"
   ]
  },
  {
   "cell_type": "code",
   "execution_count": 9,
   "metadata": {
    "collapsed": true
   },
   "outputs": [],
   "source": [
    "df_steamscraped = pd.read_pickle('steam_features.pkl')"
   ]
  },
  {
   "cell_type": "code",
   "execution_count": 10,
   "metadata": {
    "collapsed": false
   },
   "outputs": [
    {
     "data": {
      "text/html": [
       "<div style=\"max-height:1000px;max-width:1500px;overflow:auto;\">\n",
       "<table border=\"1\" class=\"dataframe\">\n",
       "  <thead>\n",
       "    <tr style=\"text-align: right;\">\n",
       "      <th></th>\n",
       "      <th>appid</th>\n",
       "      <th>time_stamp_rd</th>\n",
       "      <th>big_publisher</th>\n",
       "      <th>publisher_category</th>\n",
       "      <th>meta_score_mean_interpolate</th>\n",
       "    </tr>\n",
       "  </thead>\n",
       "  <tbody>\n",
       "    <tr>\n",
       "      <th>0</th>\n",
       "      <td> 317950</td>\n",
       "      <td> 1416297600</td>\n",
       "      <td> False</td>\n",
       "      <td> small_publisher</td>\n",
       "      <td> 72.40834</td>\n",
       "    </tr>\n",
       "    <tr>\n",
       "      <th>1</th>\n",
       "      <td> 315940</td>\n",
       "      <td> 1416297600</td>\n",
       "      <td> False</td>\n",
       "      <td> small_publisher</td>\n",
       "      <td> 72.40834</td>\n",
       "    </tr>\n",
       "    <tr>\n",
       "      <th>2</th>\n",
       "      <td> 363510</td>\n",
       "      <td> 1416297600</td>\n",
       "      <td> False</td>\n",
       "      <td> small_publisher</td>\n",
       "      <td> 72.40834</td>\n",
       "    </tr>\n",
       "    <tr>\n",
       "      <th>3</th>\n",
       "      <td> 348870</td>\n",
       "      <td> 1416297600</td>\n",
       "      <td> False</td>\n",
       "      <td> small_publisher</td>\n",
       "      <td> 72.40834</td>\n",
       "    </tr>\n",
       "    <tr>\n",
       "      <th>4</th>\n",
       "      <td> 348700</td>\n",
       "      <td> 1416297600</td>\n",
       "      <td> False</td>\n",
       "      <td> small_publisher</td>\n",
       "      <td> 72.40834</td>\n",
       "    </tr>\n",
       "  </tbody>\n",
       "</table>\n",
       "</div>"
      ],
      "text/plain": [
       "    appid  time_stamp_rd big_publisher publisher_category  \\\n",
       "0  317950     1416297600         False    small_publisher   \n",
       "1  315940     1416297600         False    small_publisher   \n",
       "2  363510     1416297600         False    small_publisher   \n",
       "3  348870     1416297600         False    small_publisher   \n",
       "4  348700     1416297600         False    small_publisher   \n",
       "\n",
       "   meta_score_mean_interpolate  \n",
       "0                     72.40834  \n",
       "1                     72.40834  \n",
       "2                     72.40834  \n",
       "3                     72.40834  \n",
       "4                     72.40834  "
      ]
     },
     "execution_count": 10,
     "metadata": {},
     "output_type": "execute_result"
    }
   ],
   "source": [
    "df_steamscraped.head()\n",
    "drop_ss_cols = ['developer','game_name','meta_score','new_id','publisher','release_date','tag_data']\n",
    "df_ss_features = df_steamscraped.drop(drop_ss_cols,axis =1)\n",
    "df_ss_features.head()"
   ]
  },
  {
   "cell_type": "code",
   "execution_count": 11,
   "metadata": {
    "collapsed": true
   },
   "outputs": [],
   "source": [
    "df_ss_features.big_publisher = df_ss_features.big_publisher.apply(lambda x:x*1) #turn into 1 or 0"
   ]
  },
  {
   "cell_type": "code",
   "execution_count": 12,
   "metadata": {
    "collapsed": false
   },
   "outputs": [],
   "source": [
    "unique_pubs = df_ss_features.publisher_category.unique()\n",
    "le = LabelEncoder()\n",
    "le.fit(df_ss_features.publisher_category)\n",
    "df_ss_features['pub_cat_int'] = le.transform(df_ss_features.publisher_category)"
   ]
  },
  {
   "cell_type": "code",
   "execution_count": 13,
   "metadata": {
    "collapsed": false
   },
   "outputs": [],
   "source": [
    "df_merged_features = pd.merge(left=df_ss_features,right=df_feat_space, left_on='appid', right_on='appid')"
   ]
  },
  {
   "cell_type": "code",
   "execution_count": 14,
   "metadata": {
    "collapsed": false
   },
   "outputs": [],
   "source": [
    "df_merged_features['sale_count_x_dirty_isi_mean'] = df_merged_features.sale_count * df_merged_features.dirty_isi_mean\n",
    "df_merged_features['exp_specific_epoch_time_since'] = np.exp(-df_merged_features.specific_epoch_time_since)\n",
    "df_merged_features['sale_count_x_specific_epoch_time_since'] =df_merged_features.sale_count * df_merged_features.specific_epoch_time_since"
   ]
  },
  {
   "cell_type": "markdown",
   "metadata": {
    "collapsed": true
   },
   "source": [
    "<h4>make y values after tables are merged and everything else is calculated"
   ]
  },
  {
   "cell_type": "code",
   "execution_count": 15,
   "metadata": {
    "collapsed": false
   },
   "outputs": [],
   "source": [
    "'''make y values'''\n",
    "yall = list()\n",
    "for i,v in enumerate(df_merged_features.sale_bool_no_holiday):\n",
    "    if v == []:\n",
    "        y_in = 0\n",
    "    else:\n",
    "        y_in = v[1][current_epoch] #1 is the index of the boolean list\n",
    "    yall.append(y_in)\n",
    "\n",
    "yall = np.array(yall)"
   ]
  },
  {
   "cell_type": "code",
   "execution_count": 16,
   "metadata": {
    "collapsed": false
   },
   "outputs": [],
   "source": [
    "\n",
    "analyzed_appids = df_merged_features.appid\n",
    "drop_more_columns = ['appid','formatted','since_sale_lists', 'sale_bool_no_holiday','publisher_category']\n",
    "df_merged_features = df_merged_features.drop(drop_more_columns,axis=1)\n"
   ]
  },
  {
   "cell_type": "code",
   "execution_count": 17,
   "metadata": {
    "collapsed": false
   },
   "outputs": [
    {
     "name": "stdout",
     "output_type": "stream",
     "text": [
      "['time_stamp_rd', 'big_publisher', 'meta_score_mean_interpolate', 'pub_cat_int', 'sale_count', 'has_price_slope', 'dirty_isi_mean', 'specific_epoch_time_since', 'exp_cdf_time_since_prob', 'sale_count_x_dirty_isi_mean', 'exp_specific_epoch_time_since', 'sale_count_x_specific_epoch_time_since']\n"
     ]
    }
   ],
   "source": [
    "feature_names = list(df_merged_features.columns.values)\n",
    "print feature_names"
   ]
  },
  {
   "cell_type": "code",
   "execution_count": 18,
   "metadata": {
    "collapsed": false
   },
   "outputs": [],
   "source": [
    "Xall = df_merged_features.as_matrix().astype(np.float)"
   ]
  },
  {
   "cell_type": "code",
   "execution_count": 19,
   "metadata": {
    "collapsed": false
   },
   "outputs": [
    {
     "name": "stdout",
     "output_type": "stream",
     "text": [
      "Feature space holds 4163 observations and 12 features\n"
     ]
    }
   ],
   "source": [
    "scaler = StandardScaler()\n",
    "Xall = scaler.fit_transform(Xall)\n",
    "#just learned that technically, this is incorrect, first you should do the split, then standardize the data\n",
    "\n",
    "print \"Feature space holds %d observations and %d features\" % Xall.shape"
   ]
  },
  {
   "cell_type": "markdown",
   "metadata": {},
   "source": [
    "<h4> split off a validation set"
   ]
  },
  {
   "cell_type": "code",
   "execution_count": 20,
   "metadata": {
    "collapsed": false
   },
   "outputs": [],
   "source": [
    "total_rows = yall.size\n",
    "validation_size =  int(total_rows * 1.0 *  validation_set_prop)\n",
    "validation_row_indices = np.sort(np.random.choice(range(total_rows),validation_size, replace = False))\n",
    "traintest_row_indices =np.array(list(set(range(total_rows)) - set(list(validation_row_indices))))\n"
   ]
  },
  {
   "cell_type": "code",
   "execution_count": 21,
   "metadata": {
    "collapsed": false
   },
   "outputs": [],
   "source": [
    "Xv = Xall[validation_row_indices,:]\n",
    "X = Xall[traintest_row_indices,:]\n",
    "\n",
    "Yv = yall[validation_row_indices]\n",
    "y = yall[traintest_row_indices]\n",
    "\n"
   ]
  },
  {
   "cell_type": "markdown",
   "metadata": {
    "collapsed": false
   },
   "source": [
    "<h4>run model"
   ]
  },
  {
   "cell_type": "code",
   "execution_count": 22,
   "metadata": {
    "collapsed": false
   },
   "outputs": [],
   "source": [
    "\n",
    "def run_cv(X,y,clf_class,**kwargs):\n",
    "    # Construct a kfolds object\n",
    "    kf = KFold(len(y),n_folds=5,shuffle=True)\n",
    "    y_pred = y.copy()\n",
    "    \n",
    "    # Iterate through folds\n",
    "    for train_index, test_index in kf:\n",
    "        X_train, X_test = X[train_index], X[test_index]\n",
    "        y_train = y[train_index]\n",
    "        # Initialize a classifier with key word arguments\n",
    "        clf = clf_class(**kwargs)\n",
    "        clf.fit(X_train,y_train)\n",
    "        y_pred[test_index] = clf.predict(X_test)\n",
    "    return y_pred\n"
   ]
  },
  {
   "cell_type": "code",
   "execution_count": 23,
   "metadata": {
    "collapsed": false
   },
   "outputs": [
    {
     "name": "stdout",
     "output_type": "stream",
     "text": [
      "Support vector machines:\n",
      "0.938\n",
      "Random forest:\n",
      "0.962\n",
      "K-nearest-neighbors:\n",
      "0.946\n"
     ]
    }
   ],
   "source": [
    "def accuracy(y_true,y_pred):\n",
    "    # NumPy interprets True and False as 1. and 0.\n",
    "    return np.mean(y_true == y_pred)\n",
    "\n",
    "print \"Support vector machines:\"\n",
    "print \"%.3f\" % accuracy(y, run_cv(X,y,SVC))\n",
    "print \"Random forest:\"\n",
    "print \"%.3f\" % accuracy(y, run_cv(X,y,RF))\n",
    "print \"K-nearest-neighbors:\"\n",
    "print \"%.3f\" % accuracy(y, run_cv(X,y,KNN))"
   ]
  },
  {
   "cell_type": "code",
   "execution_count": 24,
   "metadata": {
    "collapsed": false
   },
   "outputs": [],
   "source": [
    "chance_accuracy = (1 - sum(y)*1.0 / y.size)"
   ]
  },
  {
   "cell_type": "code",
   "execution_count": 25,
   "metadata": {
    "collapsed": true
   },
   "outputs": [],
   "source": [
    "\n",
    "y = np.array(y)\n",
    "class_names = np.unique(y)\n",
    "\n",
    "confusion_matrices = [\n",
    "    ( \"Support Vector Machines\", confusion_matrix(y,run_cv(X,y,SVC)) ),\n",
    "    ( \"Random Forest\", confusion_matrix(y,run_cv(X,y,RF)) ),\n",
    "    ( \"K-Nearest-Neighbors\", confusion_matrix(y,run_cv(X,y,KNN)) ),\n",
    "]\n"
   ]
  },
  {
   "cell_type": "code",
   "execution_count": 26,
   "metadata": {
    "collapsed": false
   },
   "outputs": [
    {
     "data": {
      "text/plain": [
       "('Support Vector Machines', array([[2977,   19],\n",
       "        [ 180,  155]]))"
      ]
     },
     "execution_count": 26,
     "metadata": {},
     "output_type": "execute_result"
    }
   ],
   "source": [
    "confusion_matrices[0]"
   ]
  },
  {
   "cell_type": "code",
   "execution_count": 27,
   "metadata": {
    "collapsed": false
   },
   "outputs": [
    {
     "data": {
      "image/png": "[encoded data removed]",
      "text/plain": [
       "<matplotlib.figure.Figure at 0x7f2203be3d50>"
      ]
     },
     "metadata": {},
     "output_type": "display_data"
    }
   ],
   "source": [
    "def plot_confusion_matrix(cm, title='Confusion matrix', cmap=plt.cm.Blues):\n",
    "    plt.imshow(cm, interpolation='nearest', cmap=cmap)\n",
    "    plt.title(title)\n",
    "    plt.colorbar()\n",
    "    #tick_marks = np.arange(len(iris.target_names))\n",
    "    #plt.xticks(tick_marks, iris.target_names, rotation=45)\n",
    "    #plt.yticks(tick_marks, iris.target_names)\n",
    "    plt.tight_layout()\n",
    "    plt.ylabel('True label')\n",
    "    plt.xlabel('Predicted label')\n",
    "\n",
    "\n",
    "look_at_model = 1\n",
    "plot_confusion_matrix(confusion_matrices[look_at_model][1],confusion_matrices[look_at_model][0])\n"
   ]
  },
  {
   "cell_type": "code",
   "execution_count": 28,
   "metadata": {
    "collapsed": true
   },
   "outputs": [],
   "source": [
    "def run_prob_cv(X, y, clf_class, **kwargs):\n",
    "    kf = KFold(len(y), n_folds=5, shuffle=True)\n",
    "    y_prob = np.zeros((len(y),2)) #2 is the number of classes\n",
    "    for train_index, test_index in kf:\n",
    "        X_train, X_test = X[train_index], X[test_index]\n",
    "        y_train, y_test = y[train_index], y[test_index]\n",
    "        #y_train = y[train_index]\n",
    "        clf = clf_class(**kwargs)\n",
    "        clf.fit(X_train,y_train)\n",
    "        # Predict probabilities, not classes\n",
    "        y_prob[test_index] = clf.predict_proba(X_test)\n",
    "        y_prob_all = clf.predict_proba(X_test)\n",
    "    return y_prob, y_test, y_prob_all, clf\n",
    "\n",
    "# def run_prob_cv(X, y, clf_class, **kwargs):\n",
    "#     \"\"\"TESTING\"\"\"\n",
    "#     kf = KFold(len(y), n_folds=5, shuffle=True)\n",
    "# #     y_prob = np.zeros((len(y),2))\n",
    "#     for train_index, test_index in kf:\n",
    "#         X_train, X_test = X[train_index], X[test_index]\n",
    "#         y_train, y_test = y[train_index], y[test_index]\n",
    "#         clf = clf_class(**kwargs)\n",
    "#         clf.fit(X_train,y_train)\n",
    "#         # Predict probabilities, not classes\n",
    "#         y_prob = clf.predict_proba(X_test)\n",
    "#     return y_test, y_prob"
   ]
  },
  {
   "cell_type": "code",
   "execution_count": 29,
   "metadata": {
    "collapsed": false
   },
   "outputs": [
    {
     "data": {
      "text/html": [
       "<div style=\"max-height:1000px;max-width:1500px;overflow:auto;\">\n",
       "<table border=\"1\" class=\"dataframe\">\n",
       "  <thead>\n",
       "    <tr style=\"text-align: right;\">\n",
       "      <th></th>\n",
       "      <th>pred_prob</th>\n",
       "      <th>count</th>\n",
       "      <th>true_prob</th>\n",
       "    </tr>\n",
       "  </thead>\n",
       "  <tbody>\n",
       "    <tr>\n",
       "      <th>0 </th>\n",
       "      <td> 0.000000</td>\n",
       "      <td> 2761</td>\n",
       "      <td> 0.008330</td>\n",
       "    </tr>\n",
       "    <tr>\n",
       "      <th>1 </th>\n",
       "      <td> 1.000000</td>\n",
       "      <td>  199</td>\n",
       "      <td> 0.989950</td>\n",
       "    </tr>\n",
       "    <tr>\n",
       "      <th>2 </th>\n",
       "      <td> 0.100000</td>\n",
       "      <td>  127</td>\n",
       "      <td> 0.118110</td>\n",
       "    </tr>\n",
       "    <tr>\n",
       "      <th>3 </th>\n",
       "      <td> 0.200000</td>\n",
       "      <td>   56</td>\n",
       "      <td> 0.196429</td>\n",
       "    </tr>\n",
       "    <tr>\n",
       "      <th>4 </th>\n",
       "      <td> 0.300000</td>\n",
       "      <td>   40</td>\n",
       "      <td> 0.225000</td>\n",
       "    </tr>\n",
       "    <tr>\n",
       "      <th>5 </th>\n",
       "      <td> 0.700000</td>\n",
       "      <td>   30</td>\n",
       "      <td> 0.666667</td>\n",
       "    </tr>\n",
       "    <tr>\n",
       "      <th>6 </th>\n",
       "      <td> 0.400000</td>\n",
       "      <td>   29</td>\n",
       "      <td> 0.241379</td>\n",
       "    </tr>\n",
       "    <tr>\n",
       "      <th>7 </th>\n",
       "      <td> 0.600000</td>\n",
       "      <td>   22</td>\n",
       "      <td> 0.454545</td>\n",
       "    </tr>\n",
       "    <tr>\n",
       "      <th>8 </th>\n",
       "      <td> 0.500000</td>\n",
       "      <td>   21</td>\n",
       "      <td> 0.571429</td>\n",
       "    </tr>\n",
       "    <tr>\n",
       "      <th>9 </th>\n",
       "      <td> 0.900000</td>\n",
       "      <td>   20</td>\n",
       "      <td> 0.800000</td>\n",
       "    </tr>\n",
       "    <tr>\n",
       "      <th>10</th>\n",
       "      <td> 0.800000</td>\n",
       "      <td>   17</td>\n",
       "      <td> 0.705882</td>\n",
       "    </tr>\n",
       "    <tr>\n",
       "      <th>11</th>\n",
       "      <td> 0.175000</td>\n",
       "      <td>    2</td>\n",
       "      <td> 0.000000</td>\n",
       "    </tr>\n",
       "    <tr>\n",
       "      <th>12</th>\n",
       "      <td> 0.266667</td>\n",
       "      <td>    1</td>\n",
       "      <td> 0.000000</td>\n",
       "    </tr>\n",
       "    <tr>\n",
       "      <th>13</th>\n",
       "      <td> 0.333333</td>\n",
       "      <td>    1</td>\n",
       "      <td> 1.000000</td>\n",
       "    </tr>\n",
       "    <tr>\n",
       "      <th>14</th>\n",
       "      <td> 0.291667</td>\n",
       "      <td>    1</td>\n",
       "      <td> 1.000000</td>\n",
       "    </tr>\n",
       "    <tr>\n",
       "      <th>15</th>\n",
       "      <td> 0.166667</td>\n",
       "      <td>    1</td>\n",
       "      <td> 0.000000</td>\n",
       "    </tr>\n",
       "    <tr>\n",
       "      <th>16</th>\n",
       "      <td> 0.066667</td>\n",
       "      <td>    1</td>\n",
       "      <td> 0.000000</td>\n",
       "    </tr>\n",
       "    <tr>\n",
       "      <th>17</th>\n",
       "      <td> 0.881667</td>\n",
       "      <td>    1</td>\n",
       "      <td> 0.000000</td>\n",
       "    </tr>\n",
       "    <tr>\n",
       "      <th>18</th>\n",
       "      <td> 0.366667</td>\n",
       "      <td>    1</td>\n",
       "      <td> 1.000000</td>\n",
       "    </tr>\n",
       "  </tbody>\n",
       "</table>\n",
       "</div>"
      ],
      "text/plain": [
       "    pred_prob  count  true_prob\n",
       "0    0.000000   2761   0.008330\n",
       "1    1.000000    199   0.989950\n",
       "2    0.100000    127   0.118110\n",
       "3    0.200000     56   0.196429\n",
       "4    0.300000     40   0.225000\n",
       "5    0.700000     30   0.666667\n",
       "6    0.400000     29   0.241379\n",
       "7    0.600000     22   0.454545\n",
       "8    0.500000     21   0.571429\n",
       "9    0.900000     20   0.800000\n",
       "10   0.800000     17   0.705882\n",
       "11   0.175000      2   0.000000\n",
       "12   0.266667      1   0.000000\n",
       "13   0.333333      1   1.000000\n",
       "14   0.291667      1   1.000000\n",
       "15   0.166667      1   0.000000\n",
       "16   0.066667      1   0.000000\n",
       "17   0.881667      1   0.000000\n",
       "18   0.366667      1   1.000000"
      ]
     },
     "execution_count": 29,
     "metadata": {},
     "output_type": "execute_result"
    }
   ],
   "source": [
    "import warnings\n",
    "warnings.filterwarnings('ignore')\n",
    "\n",
    "# Use 10 estimators so predictions are all multiples of 0.1\n",
    "pred_prob,y_test,y_prob_all,clf = run_prob_cv(X, y, RF, n_estimators=10)\n",
    "pred_sale = pred_prob[:,1]\n",
    "is_sale = y == 1\n",
    "\n",
    "# Number of times a predicted probability is assigned to an observation\n",
    "counts = pd.value_counts(pred_sale)\n",
    "\n",
    "# calculate true probabilities\n",
    "true_prob = {}\n",
    "for prob in counts.index:\n",
    "    true_prob[prob] = np.mean(is_sale[pred_sale == prob])\n",
    "    true_prob = pd.Series(true_prob)\n",
    "\n",
    "# pandas-fu\n",
    "counts = pd.concat([counts,true_prob], axis=1).reset_index()\n",
    "counts.columns = ['pred_prob', 'count', 'true_prob']\n",
    "counts"
   ]
  },
  {
   "cell_type": "code",
   "execution_count": 30,
   "metadata": {
    "collapsed": false
   },
   "outputs": [
    {
     "data": {
      "text/plain": [
       "<matplotlib.text.Text at 0x7f22038ca890>"
      ]
     },
     "execution_count": 30,
     "metadata": {},
     "output_type": "execute_result"
    },
    {
     "data": {
      "image/png": "[encoded data removed]",
      "text/plain": [
       "<matplotlib.figure.Figure at 0x7f2203b24f90>"
      ]
     },
     "metadata": {},
     "output_type": "display_data"
    }
   ],
   "source": [
    "'''plot predicted probability by true probability'''\n",
    "counts = counts.sort('pred_prob')\n",
    "plt.plot(counts.pred_prob,counts.true_prob, 'bo')\n",
    "plt.plot([0, 1], [0, 1], 'k--') \n",
    "plt.xlabel('predicted probability', fontsize = 20)\n",
    "plt.ylabel('true probability',fontsize = 20)"
   ]
  },
  {
   "cell_type": "code",
   "execution_count": 31,
   "metadata": {
    "collapsed": false
   },
   "outputs": [
    {
     "data": {
      "text/plain": [
       "0.96875"
      ]
     },
     "execution_count": 31,
     "metadata": {},
     "output_type": "execute_result"
    }
   ],
   "source": [
    "Yv_predict = clf.predict(Xv)\n",
    "accuracy(Yv,Yv_predict)"
   ]
  },
  {
   "cell_type": "code",
   "execution_count": 32,
   "metadata": {
    "collapsed": false
   },
   "outputs": [
    {
     "data": {
      "text/plain": [
       "<matplotlib.legend.Legend at 0x7f220385f750>"
      ]
     },
     "execution_count": 32,
     "metadata": {},
     "output_type": "execute_result"
    },
    {
     "data": {
      "image/png": "[encoded data removed]",
      "text/plain": [
       "<matplotlib.figure.Figure at 0x7f22038e0a90>"
      ]
     },
     "metadata": {},
     "output_type": "display_data"
    }
   ],
   "source": [
    "#y_score = classifier.fit(X_train, y_train).decision_function(X_test)\n",
    "y_prob_all[:,1] # 1 is the 'positive' class\n",
    "fpr, tpr,_ =roc_curve(y_test,y_prob_all[:,1])\n",
    "roc_auc= auc(fpr, tpr)\n",
    "\n",
    "plt.plot(fpr, tpr, label='ROC curve (area = %0.2f)' % roc_auc)\n",
    "plt.plot([0, 1], [0, 1], 'k--')    \n",
    "plt.xlim([0.0, 1.0])\n",
    "plt.ylim([0.0, 1.05])\n",
    "plt.xlabel('False Positive Rate', fontsize = 20)\n",
    "plt.ylabel('True Positive Rate',fontsize = 20)\n",
    "#plt.title('RF Receiver Operating Characteristic', fontsize = 20)\n",
    "plt.legend(loc=\"lower right\", fontsize = 12)\n",
    "#rf_fpr, rf_tpr, thresholds = roc_curve(y_test, pred_prob[:, 1])`"
   ]
  },
  {
   "cell_type": "markdown",
   "metadata": {},
   "source": [
    "<h4> Determine most important features"
   ]
  },
  {
   "cell_type": "code",
   "execution_count": 33,
   "metadata": {
    "collapsed": false
   },
   "outputs": [],
   "source": [
    "\n",
    "pred_prob,y_test,y_prob_all,clf_ETC = run_prob_cv(X, y, ETC, n_estimators=10)\n",
    "importances = clf_ETC.feature_importances_\n",
    "std = np.std([tree.feature_importances_ for tree in clf.estimators_],\n",
    "             axis=0)\n",
    "indices = np.argsort(importances)[::-1]"
   ]
  },
  {
   "cell_type": "code",
   "execution_count": 34,
   "metadata": {
    "collapsed": false
   },
   "outputs": [
    {
     "name": "stdout",
     "output_type": "stream",
     "text": [
      "Feature ranking:\n",
      "1. feature 7 specific_epoch_time_since (0.277775)\n",
      "2. feature 8 exp_cdf_time_since_prob (0.251503)\n",
      "3. feature 11 sale_count_x_specific_epoch_time_since (0.227045)\n",
      "4. feature 6 dirty_isi_mean (0.067062)\n",
      "5. feature 9 sale_count_x_dirty_isi_mean (0.066517)\n",
      "6. feature 4 sale_count (0.045655)\n",
      "7. feature 2 meta_score_mean_interpolate (0.030242)\n",
      "8. feature 5 has_price_slope (0.014700)\n",
      "9. feature 3 pub_cat_int (0.012370)\n",
      "10. feature 1 big_publisher (0.007132)\n",
      "11. feature 10 exp_specific_epoch_time_since (0.000000)\n",
      "12. feature 0 time_stamp_rd (0.000000)\n"
     ]
    },
    {
     "data": {
      "text/plain": [
       "[<matplotlib.text.Text at 0x7f2203765450>,\n",
       " <matplotlib.text.Text at 0x7f220374bc10>,\n",
       " <matplotlib.text.Text at 0x7f2203701a10>,\n",
       " <matplotlib.text.Text at 0x7f220368c1d0>,\n",
       " <matplotlib.text.Text at 0x7f220368c950>,\n",
       " <matplotlib.text.Text at 0x7f2203693110>,\n",
       " <matplotlib.text.Text at 0x7f2203693890>,\n",
       " <matplotlib.text.Text at 0x7f220369d050>,\n",
       " <matplotlib.text.Text at 0x7f220369d7d0>,\n",
       " <matplotlib.text.Text at 0x7f220369df50>,\n",
       " <matplotlib.text.Text at 0x7f22036a7710>]"
      ]
     },
     "execution_count": 34,
     "metadata": {},
     "output_type": "execute_result"
    },
    {
     "data": {
      "image/png": "[encoded data removed]",
      "text/plain": [
       "<matplotlib.figure.Figure at 0x7f2203b24b50>"
      ]
     },
     "metadata": {},
     "output_type": "display_data"
    }
   ],
   "source": [
    "print(\"Feature ranking:\")\n",
    "\n",
    "for f in range(len(feature_names)):\n",
    "    print(\"%d. feature %d %s (%f)\" % (f + 1, indices[f], feature_names[indices[f]], importances[indices[f]]))\n",
    "\n",
    "fig, ax = plt.subplots(1)\n",
    "#ax.set_title(\"Feature importances\")\n",
    "ax.bar(range(len(feature_names)), importances[indices], color=\"r\", yerr=std[indices], align=\"center\")\n",
    "\n",
    "ax.set_xlim([-1, 10])\n",
    "ax.set_ylim([0,0.6])\n",
    "#x.set_xlabel('feature')\n",
    "ax.set_ylabel('relative importance', fontsize = 20)\n",
    "ax.set_xticks(range(len(feature_names)))\n",
    "\n",
    "feature_names_sorted = [feature_names[i] for i in indices] \n",
    "#\n",
    "feature_names_sorted = ['time since last sale', \n",
    "                        'time since x # of sales', \n",
    "                        'mean inter-sale time',\n",
    "                       'sale count x mean isi',\n",
    "                        'review scores',\n",
    "                        '# of sales',\n",
    "                        'price decay',\n",
    "                        'publisher',\n",
    "                        'big publisher',\n",
    "                        '',\n",
    "                        '',]\n",
    "                        \n",
    "ax.set_xticklabels(feature_names_sorted, rotation='45', fontsize = 20, ha='right')"
   ]
  },
  {
   "cell_type": "markdown",
   "metadata": {},
   "source": [
    "<h4>make probability data_frame"
   ]
  },
  {
   "cell_type": "code",
   "execution_count": 35,
   "metadata": {
    "collapsed": false
   },
   "outputs": [],
   "source": [
    "Yall_sale_prop = clf.predict_proba(Xall)[:,1] #1 is the probability of a sale"
   ]
  },
  {
   "cell_type": "code",
   "execution_count": 36,
   "metadata": {
    "collapsed": false
   },
   "outputs": [],
   "source": [
    "df_app_sale_prob = pd.DataFrame({'appid':analyzed_appids,'sale_prob': Yall_sale_prop}) \n",
    "#turn this into a moving window for later"
   ]
  },
  {
   "cell_type": "code",
   "execution_count": 37,
   "metadata": {
    "collapsed": true
   },
   "outputs": [],
   "source": [
    "#df_app_sale_prob.to_pickle('df_sale_prob.pkl')"
   ]
  },
  {
   "cell_type": "code",
   "execution_count": 38,
   "metadata": {
    "collapsed": false
   },
   "outputs": [
    {
     "data": {
      "text/plain": [
       "0.000000    3517\n",
       "1.000000     278\n",
       "0.100000     112\n",
       "0.200000      48\n",
       "0.700000      33\n",
       "0.300000      33\n",
       "0.900000      31\n",
       "0.400000      31\n",
       "0.500000      25\n",
       "0.600000      23\n",
       "0.800000      22\n",
       "0.881667       4\n",
       "0.175000       3\n",
       "0.366667       1\n",
       "0.415000       1\n",
       "0.266667       1\n",
       "dtype: int64"
      ]
     },
     "execution_count": 38,
     "metadata": {},
     "output_type": "execute_result"
    }
   ],
   "source": [
    "pd.value_counts(pd.Series(clf.predict_proba(Xall)[:,1]))"
   ]
  },
  {
   "cell_type": "code",
   "execution_count": null,
   "metadata": {
    "collapsed": false,
    "scrolled": true
   },
   "outputs": [],
   "source": []
  }
 ],
 "metadata": {
  "kernelspec": {
   "display_name": "Python 2",
   "language": "python",
   "name": "python2"
  },
  "language_info": {
   "codemirror_mode": {
    "name": "ipython",
    "version": 2
   },
   "file_extension": ".py",
   "mimetype": "text/x-python",
   "name": "python",
   "nbconvert_exporter": "python",
   "pygments_lexer": "ipython2",
   "version": "2.7.9"
  }
 },
 "nbformat": 4,
 "nbformat_minor": 0
}
