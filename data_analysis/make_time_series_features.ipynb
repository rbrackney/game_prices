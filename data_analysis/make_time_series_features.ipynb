{
 "cells": [
  {
   "cell_type": "code",
   "execution_count": 1,
   "metadata": {
    "collapsed": false
   },
   "outputs": [
    {
     "data": {
      "text/plain": [
       "'/home/ryan/Documents/insight_projects/steam_prices/data_analysis'"
      ]
     },
     "execution_count": 1,
     "metadata": {},
     "output_type": "execute_result"
    }
   ],
   "source": [
    "import os\n",
    "from pprint import pprint as pp\n",
    "import pandas as pd\n",
    "import json\n",
    "import numpy as np\n",
    "from scipy import stats\n",
    "import matplotlib.pyplot as plt\n",
    "import itertools\n",
    "import copy\n",
    "import seaborn as sns\n",
    "%matplotlib inline\n",
    "os.getcwd()"
   ]
  },
  {
   "cell_type": "code",
   "execution_count": 37,
   "metadata": {
    "collapsed": false
   },
   "outputs": [],
   "source": [
    "df = pd.read_pickle('df_steam_db.pkl')"
   ]
  },
  {
   "cell_type": "code",
   "execution_count": 36,
   "metadata": {
    "collapsed": false
   },
   "outputs": [],
   "source": [
    "drop_list = ['sale_bool_no_holiday']\n",
    "for item in drop_list:\n",
    "    df = df.drop(item,axis =1) #there's probably a more idiomatic way to do this\n"
   ]
  },
  {
   "cell_type": "code",
   "execution_count": 89,
   "metadata": {
    "collapsed": false
   },
   "outputs": [
    {
     "data": {
      "text/html": [
       "<div style=\"max-height:1000px;max-width:1500px;overflow:auto;\">\n",
       "<table border=\"1\" class=\"dataframe\">\n",
       "  <thead>\n",
       "    <tr style=\"text-align: right;\">\n",
       "      <th></th>\n",
       "      <th>appid</th>\n",
       "      <th>formatted</th>\n",
       "      <th>fprice</th>\n",
       "      <th>iprice</th>\n",
       "      <th>price_date</th>\n",
       "      <th>sale_bool</th>\n",
       "      <th>formatted_no_holiday</th>\n",
       "      <th>sale_bool_no_holiday</th>\n",
       "      <th>saledates_no_holiday</th>\n",
       "      <th>sale_count</th>\n",
       "      <th>min_iprice</th>\n",
       "      <th>mip_slopes</th>\n",
       "      <th>has_price_slope</th>\n",
       "    </tr>\n",
       "  </thead>\n",
       "  <tbody>\n",
       "    <tr>\n",
       "      <th>0</th>\n",
       "      <td>   2430</td>\n",
       "      <td>                                                []</td>\n",
       "      <td>                                              NaN</td>\n",
       "      <td>                                              NaN</td>\n",
       "      <td>                                               NaN</td>\n",
       "      <td>                                                []</td>\n",
       "      <td>                                                []</td>\n",
       "      <td>                                                []</td>\n",
       "      <td>                                   []</td>\n",
       "      <td> 0</td>\n",
       "      <td>                                             None</td>\n",
       "      <td>NaN</td>\n",
       "      <td> False</td>\n",
       "    </tr>\n",
       "    <tr>\n",
       "      <th>1</th>\n",
       "      <td> 297750</td>\n",
       "      <td> {u'1434047268000': {u'discount': 25, u'initial...</td>\n",
       "      <td>              [39.99, 29.99, 39.99, 19.99, 39.99]</td>\n",
       "      <td>              [39.99, 39.99, 39.99, 39.99, 39.99]</td>\n",
       "      <td> [1417120656.0, 1434047268.0, 1434994431.0, 144...</td>\n",
       "      <td> [0, 0, 0, 0, 0, 0, 0, 0, 0, 0, 0, 0, 0, 0, 1, ...</td>\n",
       "      <td> {u'1440522322000': {u'discount': 0, u'initial'...</td>\n",
       "      <td> [0, 0, 0, 0, 0, 0, 0, 0, 0, 0, 0, 0, 0, 0, 0, ...</td>\n",
       "      <td>                         [1440176720]</td>\n",
       "      <td> 1</td>\n",
       "      <td>              [39.99, 39.99, 39.99, 39.99, 39.99]</td>\n",
       "      <td>  0</td>\n",
       "      <td> False</td>\n",
       "    </tr>\n",
       "    <tr>\n",
       "      <th>2</th>\n",
       "      <td>  19080</td>\n",
       "      <td> {u'1434049315000': {u'discount': 75, u'initial...</td>\n",
       "      <td>                               [9.99, 2.49, 9.99]</td>\n",
       "      <td>                               [9.99, 9.99, 9.99]</td>\n",
       "      <td>        [1417120656.0, 1434049315.0, 1434996542.0]</td>\n",
       "      <td> [0, 0, 0, 0, 0, 0, 0, 0, 0, 0, 0, 0, 0, 0, 1, ...</td>\n",
       "      <td> {u'1434996542000': {u'discount': 0, u'initial'...</td>\n",
       "      <td> [0, 0, 0, 0, 0, 0, 0, 0, 0, 0, 0, 0, 0, 0, 0, ...</td>\n",
       "      <td>                                   []</td>\n",
       "      <td> 0</td>\n",
       "      <td>                               [9.99, 9.99, 9.99]</td>\n",
       "      <td>  0</td>\n",
       "      <td> False</td>\n",
       "    </tr>\n",
       "    <tr>\n",
       "      <th>3</th>\n",
       "      <td> 278850</td>\n",
       "      <td> {u'1417513376000': {u'discount': 50, u'initial...</td>\n",
       "      <td>       [4.99, 2.49, 4.99, 2.49, 4.99, 1.49, 4.99]</td>\n",
       "      <td>       [4.99, 4.99, 4.99, 4.99, 4.99, 4.99, 4.99]</td>\n",
       "      <td> [1417120656.0, 1417513376.0, 1417545207.0, 141...</td>\n",
       "      <td> [1, 1, 0, 0, 0, 0, 0, 0, 0, 0, 0, 0, 0, 0, 1, ...</td>\n",
       "      <td> {u'1417545207000': {u'discount': 0, u'initial'...</td>\n",
       "      <td> [1, 0, 0, 0, 0, 0, 0, 0, 0, 0, 0, 0, 0, 0, 0, ...</td>\n",
       "      <td>                         [1417513376]</td>\n",
       "      <td> 1</td>\n",
       "      <td>       [4.99, 4.99, 4.99, 4.99, 4.99, 4.99, 4.99]</td>\n",
       "      <td>  0</td>\n",
       "      <td> False</td>\n",
       "    </tr>\n",
       "    <tr>\n",
       "      <th>4</th>\n",
       "      <td> 367260</td>\n",
       "      <td> {u'1435856718000': {u'discount': 0, u'initial'...</td>\n",
       "      <td> [5.39, 5.99, 4.01, 5.99, 6.29, 6.99, 5.24, 6.99]</td>\n",
       "      <td> [5.99, 5.99, 5.99, 5.99, 5.99, 5.99, 5.99, 5.99]</td>\n",
       "      <td> [1430513702.0, 1431104712.0, 1434045990.0, 143...</td>\n",
       "      <td> [0, 0, 0, 0, 0, 0, 0, 0, 0, 0, 0, 1, 0, 0, 1, ...</td>\n",
       "      <td> {u'1430513702000': {u'discount': 10, u'initial...</td>\n",
       "      <td> [0, 0, 0, 0, 0, 0, 0, 0, 0, 0, 0, 1, 0, 0, 0, ...</td>\n",
       "      <td> [1435268707, 1441127115, 1430513702]</td>\n",
       "      <td> 3</td>\n",
       "      <td> [5.99, 5.99, 5.99, 5.99, 5.99, 5.99, 5.99, 5.99]</td>\n",
       "      <td>  0</td>\n",
       "      <td> False</td>\n",
       "    </tr>\n",
       "  </tbody>\n",
       "</table>\n",
       "</div>"
      ],
      "text/plain": [
       "    appid                                          formatted  \\\n",
       "0    2430                                                 []   \n",
       "1  297750  {u'1434047268000': {u'discount': 25, u'initial...   \n",
       "2   19080  {u'1434049315000': {u'discount': 75, u'initial...   \n",
       "3  278850  {u'1417513376000': {u'discount': 50, u'initial...   \n",
       "4  367260  {u'1435856718000': {u'discount': 0, u'initial'...   \n",
       "\n",
       "                                             fprice  \\\n",
       "0                                               NaN   \n",
       "1               [39.99, 29.99, 39.99, 19.99, 39.99]   \n",
       "2                                [9.99, 2.49, 9.99]   \n",
       "3        [4.99, 2.49, 4.99, 2.49, 4.99, 1.49, 4.99]   \n",
       "4  [5.39, 5.99, 4.01, 5.99, 6.29, 6.99, 5.24, 6.99]   \n",
       "\n",
       "                                             iprice  \\\n",
       "0                                               NaN   \n",
       "1               [39.99, 39.99, 39.99, 39.99, 39.99]   \n",
       "2                                [9.99, 9.99, 9.99]   \n",
       "3        [4.99, 4.99, 4.99, 4.99, 4.99, 4.99, 4.99]   \n",
       "4  [5.99, 5.99, 5.99, 5.99, 5.99, 5.99, 5.99, 5.99]   \n",
       "\n",
       "                                          price_date  \\\n",
       "0                                                NaN   \n",
       "1  [1417120656.0, 1434047268.0, 1434994431.0, 144...   \n",
       "2         [1417120656.0, 1434049315.0, 1434996542.0]   \n",
       "3  [1417120656.0, 1417513376.0, 1417545207.0, 141...   \n",
       "4  [1430513702.0, 1431104712.0, 1434045990.0, 143...   \n",
       "\n",
       "                                           sale_bool  \\\n",
       "0                                                 []   \n",
       "1  [0, 0, 0, 0, 0, 0, 0, 0, 0, 0, 0, 0, 0, 0, 1, ...   \n",
       "2  [0, 0, 0, 0, 0, 0, 0, 0, 0, 0, 0, 0, 0, 0, 1, ...   \n",
       "3  [1, 1, 0, 0, 0, 0, 0, 0, 0, 0, 0, 0, 0, 0, 1, ...   \n",
       "4  [0, 0, 0, 0, 0, 0, 0, 0, 0, 0, 0, 1, 0, 0, 1, ...   \n",
       "\n",
       "                                formatted_no_holiday  \\\n",
       "0                                                 []   \n",
       "1  {u'1440522322000': {u'discount': 0, u'initial'...   \n",
       "2  {u'1434996542000': {u'discount': 0, u'initial'...   \n",
       "3  {u'1417545207000': {u'discount': 0, u'initial'...   \n",
       "4  {u'1430513702000': {u'discount': 10, u'initial...   \n",
       "\n",
       "                                sale_bool_no_holiday  \\\n",
       "0                                                 []   \n",
       "1  [0, 0, 0, 0, 0, 0, 0, 0, 0, 0, 0, 0, 0, 0, 0, ...   \n",
       "2  [0, 0, 0, 0, 0, 0, 0, 0, 0, 0, 0, 0, 0, 0, 0, ...   \n",
       "3  [1, 0, 0, 0, 0, 0, 0, 0, 0, 0, 0, 0, 0, 0, 0, ...   \n",
       "4  [0, 0, 0, 0, 0, 0, 0, 0, 0, 0, 0, 1, 0, 0, 0, ...   \n",
       "\n",
       "                   saledates_no_holiday  sale_count  \\\n",
       "0                                    []           0   \n",
       "1                          [1440176720]           1   \n",
       "2                                    []           0   \n",
       "3                          [1417513376]           1   \n",
       "4  [1435268707, 1441127115, 1430513702]           3   \n",
       "\n",
       "                                         min_iprice  mip_slopes  \\\n",
       "0                                              None         NaN   \n",
       "1               [39.99, 39.99, 39.99, 39.99, 39.99]           0   \n",
       "2                                [9.99, 9.99, 9.99]           0   \n",
       "3        [4.99, 4.99, 4.99, 4.99, 4.99, 4.99, 4.99]           0   \n",
       "4  [5.99, 5.99, 5.99, 5.99, 5.99, 5.99, 5.99, 5.99]           0   \n",
       "\n",
       "  has_price_slope  \n",
       "0           False  \n",
       "1           False  \n",
       "2           False  \n",
       "3           False  \n",
       "4           False  "
      ]
     },
     "execution_count": 89,
     "metadata": {},
     "output_type": "execute_result"
    }
   ],
   "source": [
    "df.head()"
   ]
  },
  {
   "cell_type": "markdown",
   "metadata": {},
   "source": [
    "<h4>make time between sales"
   ]
  },
  {
   "cell_type": "code",
   "execution_count": 38,
   "metadata": {
    "collapsed": false
   },
   "outputs": [
    {
     "data": {
      "text/plain": [
       "<matplotlib.text.Text at 0x7fb6b6d31910>"
      ]
     },
     "execution_count": 38,
     "metadata": {},
     "output_type": "execute_result"
    },
    {
     "data": {
      "image/png": "[encoded data removed]",
      "text/plain": [
       "<matplotlib.figure.Figure at 0x7fb6b6dda510>"
      ]
     },
     "metadata": {},
     "output_type": "display_data"
    }
   ],
   "source": [
    "df['sale_count'] = df.saledates_no_holiday.map(len)\n",
    "df.sale_count.plot(kind='hist',bins = np.array([0,1,2,3,4,5,6,7,8,9,10]))\n",
    "plt.title('non-holiday sales histogram')\n",
    "plt.ylabel('freq')\n",
    "plt.xlabel('sales')"
   ]
  },
  {
   "cell_type": "code",
   "execution_count": null,
   "metadata": {
    "collapsed": true
   },
   "outputs": [],
   "source": [
    "Get initial price slope"
   ]
  },
  {
   "cell_type": "code",
   "execution_count": 83,
   "metadata": {
    "collapsed": true
   },
   "outputs": [],
   "source": [
    "def make_descend(np_array):\n",
    "    if np_array != None and not np.sum(np.isnan(np_array))>0:\n",
    "        new = np_array\n",
    "        cur_min = np.infty\n",
    "        for i,idum in np.ndenumerate(np_array):\n",
    "            new[i] = np.min([cur_min,np_array[i]])\n",
    "            cur_min = new[i]\n",
    "    else:\n",
    "        new = None\n",
    "    return new\n",
    "\n",
    "\n",
    "min_iprice = list()\n",
    "for item in df.iprice:\n",
    "    min_iprice_descent = make_descend(item)\n",
    "    min_iprice.append(min_iprice_descent)\n",
    "df['min_iprice'] = min_iprice\n",
    "\n",
    "slopes = list()\n",
    "month_second = 60*60*24 * 30\n",
    "for x,y in zip(df['price_date'],df['min_iprice']):\n",
    "    if abs(np.sum(x)) >0: \n",
    "        linstat = stats.linregress(x / month_second,np.ceil(y))\n",
    "    else:\n",
    "        linstat = (np.nan,np.nan)\n",
    "    cur_slope = linstat[0]\n",
    "    in_slope = np.max([cur_slope,-30])\n",
    "    slopes = np.append(slopes,in_slope)\n",
    "\n",
    "df['mip_slopes'] = slopes\n",
    "df['has_price_slope'] =df.mip_slopes < -0.1"
   ]
  },
  {
   "cell_type": "code",
   "execution_count": 84,
   "metadata": {
    "collapsed": false
   },
   "outputs": [
    {
     "data": {
      "text/plain": [
       "<matplotlib.text.Text at 0x7fb6b5d2ee50>"
      ]
     },
     "execution_count": 84,
     "metadata": {},
     "output_type": "execute_result"
    },
    {
     "data": {
      "image/png": "[encoded data removed]",
      "text/plain": [
       "<matplotlib.figure.Figure at 0x7fb6b5e2f9d0>"
      ]
     },
     "metadata": {},
     "output_type": "display_data"
    }
   ],
   "source": [
    "df['mip_slopes'].plot(kind ='hist')\n",
    "plt.yscale('log')\n",
    "plt.title('histogram of histogram of initial price slope')"
   ]
  },
  {
   "cell_type": "markdown",
   "metadata": {},
   "source": [
    "<h4>Make ISI. If something seems off, CHECK THIS FIRST"
   ]
  },
  {
   "cell_type": "code",
   "execution_count": 95,
   "metadata": {
    "collapsed": false
   },
   "outputs": [],
   "source": [
    "def make_dirty_isi(sale_list):\n",
    "    '''\n",
    "    this function creates inter-sale intervals.\n",
    "    It is \"dity\" as it doesn't respect the release dates of the products\n",
    "    sale_list is a list of consecutive unix timestamps\n",
    "    the \"first_dif\" and \"final_dif\" just use the bounds of the time stamp, this probably introduces\n",
    "    artifacts that will need to be corrected, but it'll work for initial prototyping for now\n",
    "    '''\n",
    "    min_timestamp = 1417120656 #these numbers are drawn from the min and max values seen in the lists\n",
    "    max_timestamp = 1442077561\n",
    "    sale_list_process = [min_timestamp] + sale_list + [max_timestamp]\n",
    "    sale_list_process = sorted(sale_list_process)\n",
    "    time_since = list()\n",
    "    if len(sale_list) > 0:\n",
    "        #time_since.append(min_timestamp)\n",
    "        #first_dif = sale_list[0] - min_timestamp\n",
    "        time_since.append(first_dif)\n",
    "        for i,item in enumerate(sale_list_process[1:]):\n",
    "            dif = item - sale_list[i-1]\n",
    "            time_since.append(dif)\n",
    "    return time_since"
   ]
  },
  {
   "cell_type": "code",
   "execution_count": 124,
   "metadata": {
    "collapsed": false
   },
   "outputs": [
    {
     "name": "stdout",
     "output_type": "stream",
     "text": [
      "[1417120656, 1422295525, 1428339924, 1439831102, 1442077561]\n",
      "[ 5174869  6044399 11491178  2246459]\n"
     ]
    }
   ],
   "source": [
    "sale_list = df.saledates_no_holiday[14]\n",
    "min_timestamp = 1417120656 #these numbers are drawn from the min and max values seen in the lists\n",
    "max_timestamp = 1442077561\n",
    "sale_list_process = [min_timestamp] + sale_list + [max_timestamp]\n",
    "sale_list_process = sorted(sale_list_process)\n",
    "time_since = list()\n",
    "\n",
    "time_since = np.array(sale_list_process[1:]) - np.array(sale_list_process[0:-1])\n",
    "\n",
    "# if len(sale_list) > 0:\n",
    "#     #time_since.append(min_timestamp)\n",
    "#     #first_dif = sale_list[0] - min_timestamp\n",
    "#     time_since.append(first_dif)\n"
   ]
  },
  {
   "cell_type": "code",
   "execution_count": 121,
   "metadata": {
    "collapsed": false
   },
   "outputs": [
    {
     "data": {
      "text/plain": [
       "5174869"
      ]
     },
     "execution_count": 121,
     "metadata": {},
     "output_type": "execute_result"
    }
   ],
   "source": [
    "1422295525 - 1417120656"
   ]
  },
  {
   "cell_type": "code",
   "execution_count": 111,
   "metadata": {
    "collapsed": false
   },
   "outputs": [],
   "source": [
    "df['dirty_isi'] = df.saledates_no_holiday.map(make_dirty_isi)"
   ]
  },
  {
   "cell_type": "code",
   "execution_count": 112,
   "metadata": {
    "collapsed": false
   },
   "outputs": [
    {
     "data": {
      "text/plain": [
       "0                                            [24956905]\n",
       "1                       [1417120656, 23056064, 1900841]\n",
       "2                                            [24956905]\n",
       "3                        [1417120656, 392720, 24564185]\n",
       "4     [1417120656, 18148051, 10613413, -4755005, 115...\n",
       "5                       [1417120656, 6384532, 18572373]\n",
       "6                       [1417120656, 8800175, 16156730]\n",
       "7                       [1417120656, 20550487, 4406418]\n",
       "8                                            [24956905]\n",
       "9                                            [24956905]\n",
       "10                   [1417120656, 20896105, 0, 9913859]\n",
       "11                                           [24956905]\n",
       "12                                           [24956905]\n",
       "13                                           [24956905]\n",
       "14    [1417120656, 22710446, -6044399, -11491178, 13...\n",
       "...\n",
       "6183    [1417120656, 854848, -11487602, 21596420, 1148...\n",
       "6184     [1417120656, 4051658, 4741816, 265789, 20639458]\n",
       "6185    [1417120656, 14243335, -5439631, 6047918, 5439...\n",
       "6186                                           [24956905]\n",
       "6187                      [1417120656, 1092081, 23864824]\n",
       "6188                                           [24956905]\n",
       "6189                                           [24956905]\n",
       "6190                                           [24956905]\n",
       "6191    [1417120656, 24524875, 13906814, -12096001, -1...\n",
       "6192                                           [24956905]\n",
       "6193                                           [24956905]\n",
       "6194                                           [24956905]\n",
       "6195                     [1417120656, 13900948, 11055957]\n",
       "6196                     [1417120656, 7594054, 0, 432055]\n",
       "6197                                           [24956905]\n",
       "Name: dirty_isi, Length: 6198, dtype: object"
      ]
     },
     "execution_count": 112,
     "metadata": {},
     "output_type": "execute_result"
    }
   ],
   "source": [
    "df['dirty_isi']"
   ]
  }
 ],
 "metadata": {
  "kernelspec": {
   "display_name": "Python 2",
   "language": "python",
   "name": "python2"
  },
  "language_info": {
   "codemirror_mode": {
    "name": "ipython",
    "version": 2
   },
   "file_extension": ".py",
   "mimetype": "text/x-python",
   "name": "python",
   "nbconvert_exporter": "python",
   "pygments_lexer": "ipython2",
   "version": "2.7.9"
  }
 },
 "nbformat": 4,
 "nbformat_minor": 0
}
