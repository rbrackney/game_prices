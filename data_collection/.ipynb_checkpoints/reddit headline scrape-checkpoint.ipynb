{
 "cells": [
  {
   "cell_type": "code",
   "execution_count": 29,
   "metadata": {
    "collapsed": false,
    "scrolled": true
   },
   "outputs": [
    {
     "ename": "ImportError",
     "evalue": "cannot import name StaticInteract",
     "output_type": "error",
     "traceback": [
      "\u001b[1;31m---------------------------------------------------------------------------\u001b[0m",
      "\u001b[1;31mImportError\u001b[0m                               Traceback (most recent call last)",
      "\u001b[1;32m<ipython-input-29-b3fa116a63e9>\u001b[0m in \u001b[0;36m<module>\u001b[1;34m()\u001b[0m\n\u001b[0;32m      7\u001b[0m \u001b[1;31m#from sqlalchemy.types import String\u001b[0m\u001b[1;33m\u001b[0m\u001b[1;33m\u001b[0m\u001b[0m\n\u001b[0;32m      8\u001b[0m \u001b[1;31m#from ipywidgets import interact\u001b[0m\u001b[1;33m\u001b[0m\u001b[1;33m\u001b[0m\u001b[0m\n\u001b[1;32m----> 9\u001b[1;33m \u001b[1;32mfrom\u001b[0m \u001b[0mipywidgets\u001b[0m \u001b[1;32mimport\u001b[0m \u001b[0mStaticInteract\u001b[0m\u001b[1;33m,\u001b[0m \u001b[0mRangeWidget\u001b[0m\u001b[1;33m,\u001b[0m \u001b[0mRadioWidget\u001b[0m\u001b[1;33m\u001b[0m\u001b[0m\n\u001b[0m\u001b[0;32m     10\u001b[0m \u001b[1;33m\u001b[0m\u001b[0m\n",
      "\u001b[1;31mImportError\u001b[0m: cannot import name StaticInteract"
     ]
    }
   ],
   "source": [
    "import time\n",
    "import datetime\n",
    "import praw #python reddit api library\n",
    "import pandas as pd\n",
    "import unicodedata\n",
    "#from sqlalchemy import create_engine\n",
    "#from sqlalchemy.types import String \n",
    "#from ipywidgets import interact\n",
    "#from ipywidgets import StaticInteract, RangeWidget, RadioWidget\n",
    "\n"
   ]
  },
  {
   "cell_type": "code",
   "execution_count": 7,
   "metadata": {
    "collapsed": true
   },
   "outputs": [],
   "source": [
    "STARTSEARCH = '2015.04.01 00:00:00' #Modify both STARTSEARCH and ENDSEARCH month to match POSTPERIOD\n",
    "ENDSEARCH = '2015.04.30 23:59:59'\n",
    "POSTPERIOD = 'Apr2015' # Modify this for the desired month period\n",
    "TOTABLE = 'posts1000_2'\n",
    "\n",
    "USERAGENT = \"/u/neuralnomd comments\"\n",
    "SUBREDDIT = \"gamedeals\" # Modify this for the desired subreddit\n",
    "MAXPOSTS = 1000"
   ]
  },
  {
   "cell_type": "code",
   "execution_count": 8,
   "metadata": {
    "collapsed": true
   },
   "outputs": [],
   "source": [
    "r = praw.Reddit(USERAGENT)"
   ]
  },
  {
   "cell_type": "code",
   "execution_count": 9,
   "metadata": {
    "collapsed": false
   },
   "outputs": [],
   "source": [
    "pattern = '%Y.%m.%d %H:%M:%S'\n",
    "startEpochSearch = time.mktime(time.strptime(STARTSEARCH, pattern))\n",
    "endEpochSearch = time.mktime(time.strptime(ENDSEARCH, pattern))\n",
    "searchTerm = \"timestamp:\" + str(startEpochSearch)[:-2] + \"..\" + str(endEpochSearch)[:-2]"
   ]
  },
  {
   "cell_type": "code",
   "execution_count": 15,
   "metadata": {
    "collapsed": false
   },
   "outputs": [],
   "source": [
    "subreddit = r.get_subreddit(SUBREDDIT)\n",
    "searchSubreddit = subreddit.search(searchTerm, sort = \"top\", syntax = \"cloudsearch\", limit = MAXPOSTS)\n",
    "posts = list(searchSubreddit)"
   ]
  },
  {
   "cell_type": "code",
   "execution_count": 19,
   "metadata": {
    "collapsed": false
   },
   "outputs": [],
   "source": [
    "s = []\n",
    "for post in posts:\n",
    "    s.append({'subreddit': post.subreddit,\n",
    "              'postPeriod': POSTPERIOD,\n",
    "              'postID': post.id,\n",
    "              'postCreated': post.created,\n",
    "              'postTitle': post.title,\n",
    "              'postLink': post.permalink,\n",
    "              'postAuthor': post.author,\n",
    "              'postScore': post.score,\n",
    "              'postBody': post.selftext if post.is_self is True else post.url})"
   ]
  },
  {
   "cell_type": "code",
   "execution_count": 30,
   "metadata": {
    "collapsed": true
   },
   "outputs": [],
   "source": [
    "sDF = pd.DataFrame(s)\n"
   ]
  },
  {
   "cell_type": "code",
   "execution_count": 32,
   "metadata": {
    "collapsed": false
   },
   "outputs": [
    {
     "data": {
      "text/html": [
       "<div style=\"max-height:1000px;max-width:1500px;overflow:auto;\">\n",
       "<table border=\"1\" class=\"dataframe\">\n",
       "  <thead>\n",
       "    <tr style=\"text-align: right;\">\n",
       "      <th></th>\n",
       "      <th>postAuthor</th>\n",
       "      <th>postBody</th>\n",
       "      <th>postCreated</th>\n",
       "      <th>postID</th>\n",
       "      <th>postLink</th>\n",
       "      <th>postNumComments</th>\n",
       "      <th>postPeriod</th>\n",
       "      <th>postScore</th>\n",
       "      <th>postTitle</th>\n",
       "      <th>subreddit</th>\n",
       "    </tr>\n",
       "  </thead>\n",
       "  <tbody>\n",
       "    <tr>\n",
       "      <th>0</th>\n",
       "      <td>      bartolengue</td>\n",
       "      <td>             https://www.humblebundle.com/?origin2</td>\n",
       "      <td> 1429038140</td>\n",
       "      <td> 32l7kp</td>\n",
       "      <td> https://www.reddit.com/r/GameDeals/comments/32...</td>\n",
       "      <td> 1389</td>\n",
       "      <td> Apr2015</td>\n",
       "      <td> 2267</td>\n",
       "      <td> [HumbleBundle] Origin II bundle: PWYW for Drag...</td>\n",
       "      <td> GameDeals</td>\n",
       "    </tr>\n",
       "    <tr>\n",
       "      <th>1</th>\n",
       "      <td>      GameGhossst</td>\n",
       "      <td> https://www.origin.com/en-us/store/buy/ultima-...</td>\n",
       "      <td> 1430243900</td>\n",
       "      <td> 3467of</td>\n",
       "      <td> https://www.reddit.com/r/GameDeals/comments/34...</td>\n",
       "      <td>  219</td>\n",
       "      <td> Apr2015</td>\n",
       "      <td> 1131</td>\n",
       "      <td>             [Origin] Ultima 8 Gold Edition (FREE)</td>\n",
       "      <td> GameDeals</td>\n",
       "    </tr>\n",
       "    <tr>\n",
       "      <th>2</th>\n",
       "      <td>        DarkbirdX</td>\n",
       "      <td>         http://store.steampowered.com/app/310380/</td>\n",
       "      <td> 1429209432</td>\n",
       "      <td> 32tt8w</td>\n",
       "      <td> https://www.reddit.com/r/GameDeals/comments/32...</td>\n",
       "      <td>  203</td>\n",
       "      <td> Apr2015</td>\n",
       "      <td>  813</td>\n",
       "      <td> [Steam] Fractured Space (free/100% off) until ...</td>\n",
       "      <td> GameDeals</td>\n",
       "    </tr>\n",
       "    <tr>\n",
       "      <th>3</th>\n",
       "      <td>      SuperMoonky</td>\n",
       "      <td> http://www.bundlestars.com/all-bundles/indie-l...</td>\n",
       "      <td> 1429810495</td>\n",
       "      <td> 33lz6b</td>\n",
       "      <td> https://www.reddit.com/r/GameDeals/comments/33...</td>\n",
       "      <td>  173</td>\n",
       "      <td> Apr2015</td>\n",
       "      <td>  760</td>\n",
       "      <td> [Bundle Stars] Indie Legends Bundle - £3.19 fo...</td>\n",
       "      <td> GameDeals</td>\n",
       "    </tr>\n",
       "    <tr>\n",
       "      <th>4</th>\n",
       "      <td> ABOOD-THE-PLAYER</td>\n",
       "      <td>         http://store.steampowered.com/app/248820/</td>\n",
       "      <td> 1428084111</td>\n",
       "      <td> 31bt0a</td>\n",
       "      <td> https://www.reddit.com/r/GameDeals/comments/31...</td>\n",
       "      <td>  104</td>\n",
       "      <td> Apr2015</td>\n",
       "      <td>  759</td>\n",
       "      <td> [Steam] [Daily Deal] Risk of Rain (75% off - $...</td>\n",
       "      <td> GameDeals</td>\n",
       "    </tr>\n",
       "  </tbody>\n",
       "</table>\n",
       "</div>"
      ],
      "text/plain": [
       "         postAuthor                                           postBody  \\\n",
       "0       bartolengue              https://www.humblebundle.com/?origin2   \n",
       "1       GameGhossst  https://www.origin.com/en-us/store/buy/ultima-...   \n",
       "2         DarkbirdX          http://store.steampowered.com/app/310380/   \n",
       "3       SuperMoonky  http://www.bundlestars.com/all-bundles/indie-l...   \n",
       "4  ABOOD-THE-PLAYER          http://store.steampowered.com/app/248820/   \n",
       "\n",
       "   postCreated  postID                                           postLink  \\\n",
       "0   1429038140  32l7kp  https://www.reddit.com/r/GameDeals/comments/32...   \n",
       "1   1430243900  3467of  https://www.reddit.com/r/GameDeals/comments/34...   \n",
       "2   1429209432  32tt8w  https://www.reddit.com/r/GameDeals/comments/32...   \n",
       "3   1429810495  33lz6b  https://www.reddit.com/r/GameDeals/comments/33...   \n",
       "4   1428084111  31bt0a  https://www.reddit.com/r/GameDeals/comments/31...   \n",
       "\n",
       "   postNumComments postPeriod  postScore  \\\n",
       "0             1389    Apr2015       2267   \n",
       "1              219    Apr2015       1131   \n",
       "2              203    Apr2015        813   \n",
       "3              173    Apr2015        760   \n",
       "4              104    Apr2015        759   \n",
       "\n",
       "                                           postTitle  subreddit  \n",
       "0  [HumbleBundle] Origin II bundle: PWYW for Drag...  GameDeals  \n",
       "1              [Origin] Ultima 8 Gold Edition (FREE)  GameDeals  \n",
       "2  [Steam] Fractured Space (free/100% off) until ...  GameDeals  \n",
       "3  [Bundle Stars] Indie Legends Bundle - £3.19 fo...  GameDeals  \n",
       "4  [Steam] [Daily Deal] Risk of Rain (75% off - $...  GameDeals  "
      ]
     },
     "execution_count": 32,
     "metadata": {},
     "output_type": "execute_result"
    }
   ],
   "source": [
    "sDF.head()"
   ]
  },
  {
   "cell_type": "code",
   "execution_count": 33,
   "metadata": {
    "collapsed": true
   },
   "outputs": [],
   "source": [
    "import re"
   ]
  },
  {
   "cell_type": "code",
   "execution_count": 54,
   "metadata": {
    "collapsed": false
   },
   "outputs": [
    {
     "data": {
      "text/plain": [
       "<_sre.SRE_Match at 0x7f750648a828>"
      ]
     },
     "execution_count": 54,
     "metadata": {},
     "output_type": "execute_result"
    }
   ],
   "source": [
    "\n",
    "s = 'theonly $4.33 and then $5'\n",
    "#s = '1234'\n",
    "re.search(ur'([£$€])(\\d+(?:\\.\\d{2})?)', s).groups()\n",
    "#.groups()\n",
    "\n"
   ]
  },
  {
   "cell_type": "code",
   "execution_count": 52,
   "metadata": {
    "collapsed": false
   },
   "outputs": [
    {
     "data": {
      "text/plain": [
       "['33%']"
      ]
     },
     "execution_count": 52,
     "metadata": {},
     "output_type": "execute_result"
    }
   ],
   "source": [
    "s2 = '33%'\n",
    "re.findall(r'\\d+%', s2) #things to do figure out: how to get it to return percentages with period in it. \n",
    "#re.search(ur'(\\d+)([%])', s2).groups()\n"
   ]
  },
  {
   "cell_type": "code",
   "execution_count": 75,
   "metadata": {
    "collapsed": true
   },
   "outputs": [],
   "source": [
    "import requests\n",
    "import json"
   ]
  },
  {
   "cell_type": "code",
   "execution_count": 66,
   "metadata": {
    "collapsed": false
   },
   "outputs": [],
   "source": [
    "#r = requests.get('https://steamdb.info/app/GetPriceHistory/', data=(20900, 'us'))\n",
    "r =  requests.get('http://www.bluesnews.com')"
   ]
  },
  {
   "cell_type": "code",
   "execution_count": 76,
   "metadata": {
    "collapsed": false
   },
   "outputs": [
    {
     "data": {
      "text/plain": [
       "400"
      ]
     },
     "execution_count": 76,
     "metadata": {},
     "output_type": "execute_result"
    }
   ],
   "source": [
    "payload = {'appid': 20900,'cc': 'us'}\n",
    "r = requests.post('https://steamdb.info/api/GetPriceHistory/', data=20900)\n",
    "r.status_code\n"
   ]
  },
  {
   "cell_type": "code",
   "execution_count": 77,
   "metadata": {
    "collapsed": false
   },
   "outputs": [
    {
     "data": {
      "text/plain": [
       "{u'error': u'Missing \"appid\" argument.', u'success': False}"
      ]
     },
     "execution_count": 77,
     "metadata": {},
     "output_type": "execute_result"
    }
   ],
   "source": [
    "r.json()"
   ]
  },
  {
   "cell_type": "code",
   "execution_count": null,
   "metadata": {
    "collapsed": true
   },
   "outputs": [],
   "source": []
  }
 ],
 "metadata": {
  "kernelspec": {
   "display_name": "Python 2",
   "language": "python",
   "name": "python2"
  },
  "language_info": {
   "codemirror_mode": {
    "name": "ipython",
    "version": 2
   },
   "file_extension": ".py",
   "mimetype": "text/x-python",
   "name": "python",
   "nbconvert_exporter": "python",
   "pygments_lexer": "ipython2",
   "version": "2.7.9"
  }
 },
 "nbformat": 4,
 "nbformat_minor": 0
}
