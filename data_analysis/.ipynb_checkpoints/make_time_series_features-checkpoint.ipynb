{
 "cells": [
  {
   "cell_type": "code",
   "execution_count": 1,
   "metadata": {
    "collapsed": false
   },
   "outputs": [
    {
     "data": {
      "text/plain": [
       "'/home/ryan/Documents/insight_projects/steam_prices/data_analysis'"
      ]
     },
     "execution_count": 1,
     "metadata": {},
     "output_type": "execute_result"
    }
   ],
   "source": [
    "import os\n",
    "from pprint import pprint as pp\n",
    "import pandas as pd\n",
    "import json\n",
    "import numpy as np\n",
    "from scipy import stats\n",
    "import matplotlib.pyplot as plt\n",
    "import itertools\n",
    "import copy\n",
    "import seaborn as sns\n",
    "%matplotlib inline\n",
    "os.getcwd()"
   ]
  },
  {
   "cell_type": "code",
   "execution_count": 2,
   "metadata": {
    "collapsed": false
   },
   "outputs": [],
   "source": [
    "df = pd.read_pickle('df_steam_db.pkl')"
   ]
  },
  {
   "cell_type": "code",
   "execution_count": 3,
   "metadata": {
    "collapsed": false
   },
   "outputs": [],
   "source": [
    "# drop_list = ['sale_bool_no_holiday']\n",
    "# for item in drop_list:\n",
    "#     df = df.drop(item,axis =1) #there's probably a more idiomatic way to do this\n"
   ]
  },
  {
   "cell_type": "code",
   "execution_count": 4,
   "metadata": {
    "collapsed": false
   },
   "outputs": [
    {
     "data": {
      "text/html": [
       "<div style=\"max-height:1000px;max-width:1500px;overflow:auto;\">\n",
       "<table border=\"1\" class=\"dataframe\">\n",
       "  <thead>\n",
       "    <tr style=\"text-align: right;\">\n",
       "      <th></th>\n",
       "      <th>appid</th>\n",
       "      <th>formatted</th>\n",
       "      <th>fprice</th>\n",
       "      <th>iprice</th>\n",
       "      <th>price_date</th>\n",
       "      <th>sale_bool</th>\n",
       "      <th>formatted_no_holiday</th>\n",
       "      <th>sale_bool_no_holiday</th>\n",
       "      <th>saledates_no_holiday</th>\n",
       "      <th>sale_bool_all</th>\n",
       "    </tr>\n",
       "  </thead>\n",
       "  <tbody>\n",
       "    <tr>\n",
       "      <th>0</th>\n",
       "      <td>   2430</td>\n",
       "      <td>                                                []</td>\n",
       "      <td>                                              NaN</td>\n",
       "      <td>                                              NaN</td>\n",
       "      <td>                                               NaN</td>\n",
       "      <td>                                                []</td>\n",
       "      <td>                                                []</td>\n",
       "      <td>                                                []</td>\n",
       "      <td>                                   []</td>\n",
       "      <td>                                                []</td>\n",
       "    </tr>\n",
       "    <tr>\n",
       "      <th>1</th>\n",
       "      <td> 297750</td>\n",
       "      <td> {u'1434047268000': {u'discount': 25, u'initial...</td>\n",
       "      <td>              [39.99, 29.99, 39.99, 19.99, 39.99]</td>\n",
       "      <td>              [39.99, 39.99, 39.99, 39.99, 39.99]</td>\n",
       "      <td> [1417120656.0, 1434047268.0, 1434994431.0, 144...</td>\n",
       "      <td> [0, 0, 0, 0, 0, 0, 0, 0, 0, 0, 0, 0, 0, 0, 1, ...</td>\n",
       "      <td> {u'1440522322000': {u'discount': 0, u'initial'...</td>\n",
       "      <td> [[1417120656, 1418330256, 1419539856, 14207494...</td>\n",
       "      <td>                         [1440176720]</td>\n",
       "      <td> [[1417120656, 1418330256, 1419539856, 14207494...</td>\n",
       "    </tr>\n",
       "    <tr>\n",
       "      <th>2</th>\n",
       "      <td>  19080</td>\n",
       "      <td> {u'1434049315000': {u'discount': 75, u'initial...</td>\n",
       "      <td>                               [9.99, 2.49, 9.99]</td>\n",
       "      <td>                               [9.99, 9.99, 9.99]</td>\n",
       "      <td>        [1417120656.0, 1434049315.0, 1434996542.0]</td>\n",
       "      <td> [0, 0, 0, 0, 0, 0, 0, 0, 0, 0, 0, 0, 0, 0, 1, ...</td>\n",
       "      <td> {u'1434996542000': {u'discount': 0, u'initial'...</td>\n",
       "      <td> [[1417120656, 1418330256, 1419539856, 14207494...</td>\n",
       "      <td>                                   []</td>\n",
       "      <td> [[1417120656, 1418330256, 1419539856, 14207494...</td>\n",
       "    </tr>\n",
       "    <tr>\n",
       "      <th>3</th>\n",
       "      <td> 278850</td>\n",
       "      <td> {u'1417513376000': {u'discount': 50, u'initial...</td>\n",
       "      <td>       [4.99, 2.49, 4.99, 2.49, 4.99, 1.49, 4.99]</td>\n",
       "      <td>       [4.99, 4.99, 4.99, 4.99, 4.99, 4.99, 4.99]</td>\n",
       "      <td> [1417120656.0, 1417513376.0, 1417545207.0, 141...</td>\n",
       "      <td> [1, 1, 0, 0, 0, 0, 0, 0, 0, 0, 0, 0, 0, 0, 1, ...</td>\n",
       "      <td> {u'1417545207000': {u'discount': 0, u'initial'...</td>\n",
       "      <td> [[1417120656, 1418330256, 1419539856, 14207494...</td>\n",
       "      <td>                         [1417513376]</td>\n",
       "      <td> [[1417120656, 1418330256, 1419539856, 14207494...</td>\n",
       "    </tr>\n",
       "    <tr>\n",
       "      <th>4</th>\n",
       "      <td> 367260</td>\n",
       "      <td> {u'1435856718000': {u'discount': 0, u'initial'...</td>\n",
       "      <td> [5.39, 5.99, 4.01, 5.99, 6.29, 6.99, 5.24, 6.99]</td>\n",
       "      <td> [5.99, 5.99, 5.99, 5.99, 6.99, 6.99, 6.99, 6.99]</td>\n",
       "      <td> [1430513702.0, 1431104712.0, 1434045990.0, 143...</td>\n",
       "      <td> [0, 0, 0, 0, 0, 0, 0, 0, 0, 0, 0, 1, 0, 0, 1, ...</td>\n",
       "      <td> {u'1430513702000': {u'discount': 10, u'initial...</td>\n",
       "      <td> [[1417120656, 1418330256, 1419539856, 14207494...</td>\n",
       "      <td> [1435268707, 1441127115, 1430513702]</td>\n",
       "      <td> [[1417120656, 1418330256, 1419539856, 14207494...</td>\n",
       "    </tr>\n",
       "  </tbody>\n",
       "</table>\n",
       "</div>"
      ],
      "text/plain": [
       "    appid                                          formatted  \\\n",
       "0    2430                                                 []   \n",
       "1  297750  {u'1434047268000': {u'discount': 25, u'initial...   \n",
       "2   19080  {u'1434049315000': {u'discount': 75, u'initial...   \n",
       "3  278850  {u'1417513376000': {u'discount': 50, u'initial...   \n",
       "4  367260  {u'1435856718000': {u'discount': 0, u'initial'...   \n",
       "\n",
       "                                             fprice  \\\n",
       "0                                               NaN   \n",
       "1               [39.99, 29.99, 39.99, 19.99, 39.99]   \n",
       "2                                [9.99, 2.49, 9.99]   \n",
       "3        [4.99, 2.49, 4.99, 2.49, 4.99, 1.49, 4.99]   \n",
       "4  [5.39, 5.99, 4.01, 5.99, 6.29, 6.99, 5.24, 6.99]   \n",
       "\n",
       "                                             iprice  \\\n",
       "0                                               NaN   \n",
       "1               [39.99, 39.99, 39.99, 39.99, 39.99]   \n",
       "2                                [9.99, 9.99, 9.99]   \n",
       "3        [4.99, 4.99, 4.99, 4.99, 4.99, 4.99, 4.99]   \n",
       "4  [5.99, 5.99, 5.99, 5.99, 6.99, 6.99, 6.99, 6.99]   \n",
       "\n",
       "                                          price_date  \\\n",
       "0                                                NaN   \n",
       "1  [1417120656.0, 1434047268.0, 1434994431.0, 144...   \n",
       "2         [1417120656.0, 1434049315.0, 1434996542.0]   \n",
       "3  [1417120656.0, 1417513376.0, 1417545207.0, 141...   \n",
       "4  [1430513702.0, 1431104712.0, 1434045990.0, 143...   \n",
       "\n",
       "                                           sale_bool  \\\n",
       "0                                                 []   \n",
       "1  [0, 0, 0, 0, 0, 0, 0, 0, 0, 0, 0, 0, 0, 0, 1, ...   \n",
       "2  [0, 0, 0, 0, 0, 0, 0, 0, 0, 0, 0, 0, 0, 0, 1, ...   \n",
       "3  [1, 1, 0, 0, 0, 0, 0, 0, 0, 0, 0, 0, 0, 0, 1, ...   \n",
       "4  [0, 0, 0, 0, 0, 0, 0, 0, 0, 0, 0, 1, 0, 0, 1, ...   \n",
       "\n",
       "                                formatted_no_holiday  \\\n",
       "0                                                 []   \n",
       "1  {u'1440522322000': {u'discount': 0, u'initial'...   \n",
       "2  {u'1434996542000': {u'discount': 0, u'initial'...   \n",
       "3  {u'1417545207000': {u'discount': 0, u'initial'...   \n",
       "4  {u'1430513702000': {u'discount': 10, u'initial...   \n",
       "\n",
       "                                sale_bool_no_holiday  \\\n",
       "0                                                 []   \n",
       "1  [[1417120656, 1418330256, 1419539856, 14207494...   \n",
       "2  [[1417120656, 1418330256, 1419539856, 14207494...   \n",
       "3  [[1417120656, 1418330256, 1419539856, 14207494...   \n",
       "4  [[1417120656, 1418330256, 1419539856, 14207494...   \n",
       "\n",
       "                   saledates_no_holiday  \\\n",
       "0                                    []   \n",
       "1                          [1440176720]   \n",
       "2                                    []   \n",
       "3                          [1417513376]   \n",
       "4  [1435268707, 1441127115, 1430513702]   \n",
       "\n",
       "                                       sale_bool_all  \n",
       "0                                                 []  \n",
       "1  [[1417120656, 1418330256, 1419539856, 14207494...  \n",
       "2  [[1417120656, 1418330256, 1419539856, 14207494...  \n",
       "3  [[1417120656, 1418330256, 1419539856, 14207494...  \n",
       "4  [[1417120656, 1418330256, 1419539856, 14207494...  "
      ]
     },
     "execution_count": 4,
     "metadata": {},
     "output_type": "execute_result"
    }
   ],
   "source": [
    "df.head()"
   ]
  },
  {
   "cell_type": "markdown",
   "metadata": {},
   "source": [
    "<h4>make time between sales"
   ]
  },
  {
   "cell_type": "code",
   "execution_count": 5,
   "metadata": {
    "collapsed": false
   },
   "outputs": [
    {
     "data": {
      "text/plain": [
       "<matplotlib.text.Text at 0x7f34e4567e10>"
      ]
     },
     "execution_count": 5,
     "metadata": {},
     "output_type": "execute_result"
    },
    {
     "data": {
      "image/png": "[encoded data removed]",
      "text/plain": [
       "<matplotlib.figure.Figure at 0x7f34e45670d0>"
      ]
     },
     "metadata": {},
     "output_type": "display_data"
    }
   ],
   "source": [
    "df['sale_count'] = df.saledates_no_holiday.map(len)\n",
    "df.sale_count.plot(kind='hist',bins = np.array([0,1,2,3,4,5,6,7,8,9,10]))\n",
    "plt.title('non-holiday sales histogram')\n",
    "plt.ylabel('freq')\n",
    "plt.xlabel('sales')"
   ]
  },
  {
   "cell_type": "markdown",
   "metadata": {},
   "source": [
    "Get initial price slope"
   ]
  },
  {
   "cell_type": "code",
   "execution_count": 6,
   "metadata": {
    "collapsed": true
   },
   "outputs": [],
   "source": [
    "def make_descend(np_array):\n",
    "    if np_array != None and not np.sum(np.isnan(np_array))>0:\n",
    "        new = np_array\n",
    "        cur_min = np.infty\n",
    "        for i,idum in np.ndenumerate(np_array):\n",
    "            new[i] = np.min([cur_min,np_array[i]])\n",
    "            cur_min = new[i]\n",
    "    else:\n",
    "        new = None\n",
    "    return new\n",
    "\n",
    "\n",
    "min_iprice = list()\n",
    "for item in df.iprice:\n",
    "    min_iprice_descent = make_descend(item)\n",
    "    min_iprice.append(min_iprice_descent)\n",
    "df['min_iprice'] = min_iprice\n",
    "\n",
    "slopes = list()\n",
    "month_second = 60*60*24 * 30\n",
    "for x,y in zip(df['price_date'],df['min_iprice']):\n",
    "    if abs(np.sum(x)) >0: \n",
    "        linstat = stats.linregress(x / month_second,np.ceil(y))\n",
    "    else:\n",
    "        linstat = (np.nan,np.nan)\n",
    "    cur_slope = linstat[0]\n",
    "    in_slope = np.max([cur_slope,-30])\n",
    "    slopes = np.append(slopes,in_slope)\n",
    "\n",
    "df['mip_slopes'] = slopes\n",
    "df['has_price_slope'] =df.mip_slopes < -0.1"
   ]
  },
  {
   "cell_type": "code",
   "execution_count": 7,
   "metadata": {
    "collapsed": false
   },
   "outputs": [
    {
     "data": {
      "text/plain": [
       "<matplotlib.text.Text at 0x7f34e5c05750>"
      ]
     },
     "execution_count": 7,
     "metadata": {},
     "output_type": "execute_result"
    },
    {
     "data": {
      "image/png": "[encoded data removed]",
      "text/plain": [
       "<matplotlib.figure.Figure at 0x7f34e5d2e0d0>"
      ]
     },
     "metadata": {},
     "output_type": "display_data"
    }
   ],
   "source": [
    "df['mip_slopes'].plot(kind ='hist')\n",
    "plt.yscale('log')\n",
    "plt.title('histogram of histogram of initial price slope')"
   ]
  },
  {
   "cell_type": "markdown",
   "metadata": {},
   "source": [
    "<h4>Make ISI. If something seems off, CHECK THIS FIRST"
   ]
  },
  {
   "cell_type": "code",
   "execution_count": 8,
   "metadata": {
    "collapsed": false
   },
   "outputs": [],
   "source": [
    "def make_dirty_isi(sale_list):\n",
    "    '''\n",
    "    this function creates inter-sale intervals.\n",
    "    It is \"dity\" as it doesn't respect the release dates of the products\n",
    "    sale_list is a list of consecutive unix timestamps\n",
    "    the first value of the list and last value of the list just use the bounds of the time stamp, \n",
    "    this probably introduces\n",
    "    artifacts that will need to be corrected, but it'll work for initial prototyping for now\n",
    "    '''\n",
    "    \n",
    "    min_timestamp = 1417120656 #these numbers are drawn from the min and max values seen in the lists\n",
    "    max_timestamp = 1442077561\n",
    "    sale_list_process = [min_timestamp] + sale_list + [max_timestamp]\n",
    "    sale_list_process = sorted(sale_list_process)\n",
    "\n",
    "    time_since = np.array(sale_list_process[1:]) - np.array(sale_list_process[0:-1])\n",
    "    return time_since"
   ]
  },
  {
   "cell_type": "code",
   "execution_count": 9,
   "metadata": {
    "collapsed": false
   },
   "outputs": [],
   "source": [
    "df['dirty_isi'] = df.saledates_no_holiday.map(make_dirty_isi)"
   ]
  },
  {
   "cell_type": "code",
   "execution_count": 10,
   "metadata": {
    "collapsed": false
   },
   "outputs": [
    {
     "data": {
      "text/plain": [
       "<matplotlib.text.Text at 0x7f34e59e0210>"
      ]
     },
     "execution_count": 10,
     "metadata": {},
     "output_type": "execute_result"
    },
    {
     "data": {
      "image/png": "[encoded data removed]",
      "text/plain": [
       "<matplotlib.figure.Figure at 0x7f34e5b00810>"
      ]
     },
     "metadata": {},
     "output_type": "display_data"
    }
   ],
   "source": [
    "def get_mean_isi_day(x_list):\n",
    "    xnp = np.array(x_list) / (60*60*24)\n",
    "    mxnp = np.mean(xnp)\n",
    "    return mxnp\n",
    "df['dirty_isi_mean'] = df.dirty_isi.apply(get_mean_isi_day)\n",
    "\n",
    "df.dirty_isi_mean.plot(kind = 'hist')\n",
    "plt.title('mean isi histogram')"
   ]
  },
  {
   "cell_type": "markdown",
   "metadata": {},
   "source": [
    "<h4>Make Time Since Last Sale for each boolean bin"
   ]
  },
  {
   "cell_type": "code",
   "execution_count": 11,
   "metadata": {
    "collapsed": false
   },
   "outputs": [
    {
     "name": "stdout",
     "output_type": "stream",
     "text": [
      "1\n",
      "1436474256\n",
      "[ 5960554  1205549 -4652859]\n",
      "[  0  14  28  42  56  70  84  98 112 126 140 154  12  26  40  54  68  82\n",
      "  96 110 124]\n",
      "[  0  14  28  42  56  70  84  98 112 126 140 154 168 182 196 210 224 238\n",
      " 252 266 280]\n",
      "[0, 0, 0, 0, 0, 0, 0, 0, 0, 0, 0, 1, 0, 0, 0, 1, 0, 0, 0, 0, 1]\n",
      "[155 210 277]\n"
     ]
    }
   ],
   "source": [
    "sample = 4\n",
    "min_timestamp = 1417120656\n",
    "bnh = df.saledates_no_holiday.iloc[sample]\n",
    "bin_date = df.sale_bool_no_holiday.iloc[sample][0]\n",
    "bin_bool = df.sale_bool_no_holiday.iloc[sample][1]\n",
    "\n",
    "bnh = np.sort(bnh)\n",
    "\n",
    "#def time_since_sale(sale_dates,bool_no_holiday):\n",
    "\n",
    "time_since_sale = [''] * len(bin_date)\n",
    "for i,d in np.ndenumerate(bin_date):\n",
    "    \n",
    "    int_i = i[0]\n",
    "    date_dif =d-bnh \n",
    "    max_check = np.append(np.array([0]),date_dif)\n",
    "    max_i = np.argmax(max_check)\n",
    "    if max_i == 0:\n",
    "        time_since_sale[int_i] = d - min_timestamp\n",
    "    else:\n",
    "        time_since_sale[int_i] = d - bnh[max_i - 1] #-1\n",
    "    if int_i == 16:\n",
    "        print max_i\n",
    "        print d\n",
    "        print date_dif\n",
    "        bnh[max_i-1]\n",
    "\n",
    "print np.array(time_since_sale) / (60 * 60 * 24)\n",
    "print np.array((bin_date - bin_date[0])/ (60 * 60 * 24))\n",
    "print bin_bool\n",
    "print (bnh- bin_date[0]) / (60 * 60 * 24)"
   ]
  },
  {
   "cell_type": "code",
   "execution_count": 12,
   "metadata": {
    "collapsed": false
   },
   "outputs": [],
   "source": [
    "# sample = 4\n",
    "# min_timestamp = 1417120656\n",
    "# saledates = df.saledates_no_holiday.iloc[sample]\n",
    "# bin_date = df.sale_bool_no_holiday.iloc[sample][0]\n",
    "# bin_bool = df.sale_bool_no_holiday.iloc[sample][1]\n",
    "\n",
    "\n",
    "# #def time_since_sale(sale_dates,bool_no_holiday):\n",
    "# saledates = np.sort(saledates)\n",
    "\n",
    "# time_since_sale = [''] * len(bin_date)\n",
    "# for i,bd in np.ndenumerate(bin_date):\n",
    "#     saledates_and = np.append(np.array([min_timestamp]),saledates)\n",
    "#     salesdates_less =  saledates_and[saledates_and <= bd]\n",
    "#     int_i = i[0]\n",
    "#     most_recent =  np.max(salesdates_less)\n",
    "#     time_since_sale[int_i] = bd - most_recent\n"
   ]
  },
  {
   "cell_type": "code",
   "execution_count": 27,
   "metadata": {
    "collapsed": true
   },
   "outputs": [],
   "source": [
    "'''apply this'''\n",
    "def bin_time_since_sale(saledates,bin_date):\n",
    "    '''\n",
    "    iterates through each binned date range correponding to the boolean of whether a sale or not occured\n",
    "    finds the most recent sale since before the start of the bin\n",
    "    calculates the time since the lat sale, and the bin start\n",
    "    \n",
    "    int_i is because i in the iterator is actually a tuple\n",
    "    '''\n",
    "    min_timestamp = 1417120656\n",
    "    \n",
    "    if saledates == []:\n",
    "        saledates = [min_timestamp - (60*60*24*100)] #just assume the last sale was a long time ago, 100 days\n",
    "    saledates = np.sort(saledates)\n",
    "    time_since_sale = [''] * len(bin_date)\n",
    "    for i,bd in np.ndenumerate(bin_date):\n",
    "        saledates_and = np.append(np.array([min_timestamp]),saledates)\n",
    "        saledates_less =  saledates_and[saledates_and <= bd]\n",
    "        int_i = i[0]\n",
    "        most_recent =  np.max(saledates_less)\n",
    "        time_since_sale[int_i] = bd - most_recent\n",
    "    return time_since_sale"
   ]
  },
  {
   "cell_type": "code",
   "execution_count": 28,
   "metadata": {
    "collapsed": false
   },
   "outputs": [],
   "source": [
    "'''apply bin_time_since_sale'''\n",
    "saledates = df.saledates_no_holiday\n",
    "bin_date = df.sale_bool_no_holiday\n",
    "since_sale_list = list()\n",
    "for i,v in enumerate(saledates):\n",
    "    sd = saledates[i] #doing it this way simply for parity\n",
    "    bd = bin_date[i]\n",
    "    if bd != []:\n",
    "        bd_in = bd[0]  #index 0 are the dates, index 1 is the boolean\n",
    "        btss = bin_time_since_sale(sd,bd_in)\n",
    "    else:\n",
    "        btss = [] #if there are no bin dates, the time since sale should be the entire epoch\n",
    "    since_sale_list.append(btss)\n",
    "df['since_sale_lists'] = since_sale_list\n",
    "#pp(btss)\n",
    "#pp(since_sale_list)\n",
    "    #print 'end'"
   ]
  },
  {
   "cell_type": "code",
   "execution_count": 25,
   "metadata": {
    "collapsed": false
   },
   "outputs": [
    {
     "data": {
      "text/plain": [
       "[<matplotlib.lines.Line2D at 0x7f34e5374ad0>]"
      ]
     },
     "execution_count": 25,
     "metadata": {},
     "output_type": "execute_result"
    },
    {
     "data": {
      "image/png": "[encoded data removed]",
      "text/plain": [
       "<matplotlib.figure.Figure at 0x7f34e5374610>"
      ]
     },
     "metadata": {},
     "output_type": "display_data"
    }
   ],
   "source": [
    "#print (bnh - bin_bool[0]) \n",
    "\n",
    "sample = 25\n",
    "min_timestamp = 1417120656\n",
    "saledates = df.saledates_no_holiday.iloc[sample]\n",
    "bin_date = df.sale_bool_no_holiday.iloc[sample][0]\n",
    "bin_bool = df.sale_bool_no_holiday.iloc[sample][1]\n",
    "time_since_sale = df['since_sale_lists'][sample]\n",
    "\n",
    "date_sec = 60 * 60 * 24\n",
    "x_tran = (np.array(bin_date) - bin_date[0]) / date_sec\n",
    "plt.plot(np.array(time_since_sale) / date_sec,'r.-')\n",
    "plt.xlabel('bin')\n",
    "plt.ylabel('time_since')\n",
    "plt.plot(np.array(bin_bool) * 100,'bo')"
   ]
  },
  {
   "cell_type": "code",
   "execution_count": 26,
   "metadata": {
    "collapsed": false
   },
   "outputs": [],
   "source": [
    "df.to_pickle('df_steamdb_timeseries.pkl')"
   ]
  },
  {
   "cell_type": "code",
   "execution_count": null,
   "metadata": {
    "collapsed": true
   },
   "outputs": [],
   "source": []
  },
  {
   "cell_type": "code",
   "execution_count": null,
   "metadata": {
    "collapsed": false
   },
   "outputs": [],
   "source": [
    "df.head()"
   ]
  }
 ],
 "metadata": {
  "kernelspec": {
   "display_name": "Python 2",
   "language": "python",
   "name": "python2"
  },
  "language_info": {
   "codemirror_mode": {
    "name": "ipython",
    "version": 2
   },
   "file_extension": ".py",
   "mimetype": "text/x-python",
   "name": "python",
   "nbconvert_exporter": "python",
   "pygments_lexer": "ipython2",
   "version": "2.7.9"
  }
 },
 "nbformat": 4,
 "nbformat_minor": 0
}
