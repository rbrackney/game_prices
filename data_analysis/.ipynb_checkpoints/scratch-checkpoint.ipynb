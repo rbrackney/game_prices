{
 "cells": [
  {
   "cell_type": "code",
   "execution_count": 22,
   "metadata": {
    "collapsed": true
   },
   "outputs": [],
   "source": [
    "import requests\n",
    "import json\n",
    "from pprint import pprint as ppimport "
   ]
  },
  {
   "cell_type": "code",
   "execution_count": 7,
   "metadata": {
    "collapsed": true
   },
   "outputs": [],
   "source": [
    "site = 'http://store.steampowered.com/api/appdetails?appids=57690'"
   ]
  },
  {
   "cell_type": "code",
   "execution_count": 8,
   "metadata": {
    "collapsed": false
   },
   "outputs": [],
   "source": [
    "r = requests.get(site)"
   ]
  },
  {
   "cell_type": "code",
   "execution_count": 14,
   "metadata": {
    "collapsed": false
   },
   "outputs": [],
   "source": [
    "the_json  = r.json()\n"
   ]
  },
  {
   "cell_type": "code",
   "execution_count": 25,
   "metadata": {
    "collapsed": false
   },
   "outputs": [
    {
     "data": {
      "text/plain": [
       "{u'currency': u'USD', u'initial': 1999, u'final': 1999, u'discount_percent': 0}"
      ]
     },
     "execution_count": 25,
     "metadata": {},
     "output_type": "execute_result"
    }
   ],
   "source": [
    "the_json[\"57690\"]['data'][u'price_overview']"
   ]
  },
  {
   "cell_type": "code",
   "execution_count": null,
   "metadata": {
    "collapsed": true
   },
   "outputs": [],
   "source": [
    "def get_current_price(appid_in):\n",
    "    site = 'http://store.steampowered.com/api/appdetails?appids=%d' % appid_in\n",
    "    r = requests.get(site)\n",
    "    the_json  = r.json()\n",
    "    \n",
    "    data = the_json[str(appid_in)]['data'][u'price_overview']\n",
    "    disc = data[discount_percent]\n",
    "    ip =  \"$%0.2f\" % (data['initial'] * .01)\n",
    "    fp =  \"$%0.2f\" % (data['final'] * .01)\n",
    "    discount_percent = \"%d%%\" % (disc)\n",
    "    if  disc > 0:\n",
    "        out_str 'is currently on sale for %s at %s off at.' % (fp, disc)\n",
    "    else:\n",
    "        out_str = 'is currently %s' % fp\n",
    "    return out_str\n",
    "    "
   ]
  },
  {
   "cell_type": "code",
   "execution_count": 21,
   "metadata": {
    "collapsed": false
   },
   "outputs": [
    {
     "name": "stdout",
     "output_type": "stream",
     "text": [
      "data\n",
      "success\n"
     ]
    }
   ],
   "source": [
    "for k, v in the_json.iteritems():\n",
    "    for k2, v2 in v.iteritems():\n",
    "        print k2"
   ]
  },
  {
   "cell_type": "code",
   "execution_count": 17,
   "metadata": {
    "collapsed": false
   },
   "outputs": [
    {
     "name": "stdout",
     "output_type": "stream",
     "text": [
      "{u'data': {u'steam_appid': 57690, u'drm_notice': u'Requires a free Kalypso account', u'price_overview': {u'currency': u'USD', u'initial': 1999, u'final': 1999, u'discount_percent': 0}, u'demos': [{u'description': u'', u'appid': 57750}], u'detailed_description': u'<h1>Special Edition</h1><p>...includes an exclusive island (Isla Nublar) and El Presidente avatar costume (Luchador) and 50 Steam achievements.  El Presidente is back to rule it all!</p><br><h1>About the Game</h1>The world is changing and Tropico is moving with the times - geographical powers rise and fall and the world market is dominated by new players with new demands and offers - and you, as El Presidente, face a whole new set of challenges. If you are to triumph over your naysayers you will need to gain as much support from your people as possible. Your decisions will shape the future of your nation, and more importantly, the size of your off-shore bank account.\\r<br>\\t\\t\\t\\t\\t\\tTropico 4 expands on the gameplay of the previous game with new political additions \\u223c including more superpowers to negotiate with, along with the ability to elect ministers into power to help get your more controversial policies passed. But remember to keep your friends close and your enemies closer as everyone has an agenda! Your political mettle will be thoroughly tested, as new natural disasters will have the populace clamoring for you and your cabinet to help them recover from some of the worst Mother Nature can dish out.\\r<br>\\t\\t\\t\\t\\t\\tTropico 4 also brings a new level of social interaction with the addition of Facebook and Twitter integration. Post comments on Twitter direct from the game and have updates go out when you complete missions or unlock new achievements. You can even take screenshots of your burgeoning island and post your dream creation on your Tropico 4 Facebook page and compare your interactive Dictator Ranking on the online leaderboards.\\r<br>\\t\\t\\t\\t\\t\\t<h2 class=\"bb_tag\">Key Features:</h2><ul class=\"bb_ul\"><li>New campaign consisting of 20 missions on 10 new maps.\\r<br>\\t\\t\\t\\t\\t\\t</li><li>20 new buildings including Stock Exchange, Shopping mall, Aqua Park and a Mausoleum to El Presidente.\\r<br>\\t\\t\\t\\t\\t\\t</li><li>Six new interactive disasters including volcanoes, droughts and tornadoes.\\r<br>\\t\\t\\t\\t\\t\\t</li><li>Council of Ministers \\u2013 selected citizens to ministerial posts in the government to help push through your more controversial decisions.\\r<br>\\t\\t\\t\\t\\t\\t</li><li>National Agenda \\u2013 receive objectives from Tropican factions, foreign geopolitical powers or opportunities relating to current island events such as ongoing disasters.\\r<br>\\t\\t\\t\\t\\t\\t</li><li>Facebook and Twitter integration.\\r<br>\\t\\t\\t\\t\\t\\t</li><li>Screenshot gallery \\u2013 take screenshots of your tropical paradise and share on your Facebook page.\\r<br>\\t\\t\\t\\t\\t\\t</li><li>Trading system \\u2013 import and export goods to/from other nations to boost your economy or production.</li></ul>', u'screenshots': [{u'path_thumbnail': u'http://cdn.akamai.steamstatic.com/steam/apps/57690/ss_833be037c67d21af2777a0066d278891d0f2adbb.600x338.jpg?t=1422359303', u'id': 0, u'path_full': u'http://cdn.akamai.steamstatic.com/steam/apps/57690/ss_833be037c67d21af2777a0066d278891d0f2adbb.1920x1080.jpg?t=1422359303'}, {u'path_thumbnail': u'http://cdn.akamai.steamstatic.com/steam/apps/57690/ss_8b9cb3571d92cbe2efbf091a6c192c366dd81a74.600x338.jpg?t=1422359303', u'id': 1, u'path_full': u'http://cdn.akamai.steamstatic.com/steam/apps/57690/ss_8b9cb3571d92cbe2efbf091a6c192c366dd81a74.1920x1080.jpg?t=1422359303'}, {u'path_thumbnail': u'http://cdn.akamai.steamstatic.com/steam/apps/57690/ss_8b95fda44ffdbb4fb76b1629fdd1d0cc4bf288dd.600x338.jpg?t=1422359303', u'id': 2, u'path_full': u'http://cdn.akamai.steamstatic.com/steam/apps/57690/ss_8b95fda44ffdbb4fb76b1629fdd1d0cc4bf288dd.1920x1080.jpg?t=1422359303'}, {u'path_thumbnail': u'http://cdn.akamai.steamstatic.com/steam/apps/57690/ss_850d6465eef278d3a4dc44121b25d338720ff35d.600x338.jpg?t=1422359303', u'id': 3, u'path_full': u'http://cdn.akamai.steamstatic.com/steam/apps/57690/ss_850d6465eef278d3a4dc44121b25d338720ff35d.1920x1080.jpg?t=1422359303'}, {u'path_thumbnail': u'http://cdn.akamai.steamstatic.com/steam/apps/57690/ss_c65dcb77d525880ed5c99b58a07d8c27d44f8c0d.600x338.jpg?t=1422359303', u'id': 4, u'path_full': u'http://cdn.akamai.steamstatic.com/steam/apps/57690/ss_c65dcb77d525880ed5c99b58a07d8c27d44f8c0d.1920x1080.jpg?t=1422359303'}, {u'path_thumbnail': u'http://cdn.akamai.steamstatic.com/steam/apps/57690/ss_3f5971572fdd8f31f738121df95d51fcb2cfa14f.600x338.jpg?t=1422359303', u'id': 5, u'path_full': u'http://cdn.akamai.steamstatic.com/steam/apps/57690/ss_3f5971572fdd8f31f738121df95d51fcb2cfa14f.1920x1080.jpg?t=1422359303'}, {u'path_thumbnail': u'http://cdn.akamai.steamstatic.com/steam/apps/57690/ss_171d661336b3761a3f1ace44af0e198ce16ffdd0.600x338.jpg?t=1422359303', u'id': 6, u'path_full': u'http://cdn.akamai.steamstatic.com/steam/apps/57690/ss_171d661336b3761a3f1ace44af0e198ce16ffdd0.1920x1080.jpg?t=1422359303'}, {u'path_thumbnail': u'http://cdn.akamai.steamstatic.com/steam/apps/57690/ss_705c724eae6f1abc743d1ae6deff66722cd57f50.600x338.jpg?t=1422359303', u'id': 7, u'path_full': u'http://cdn.akamai.steamstatic.com/steam/apps/57690/ss_705c724eae6f1abc743d1ae6deff66722cd57f50.1920x1080.jpg?t=1422359303'}, {u'path_thumbnail': u'http://cdn.akamai.steamstatic.com/steam/apps/57690/ss_e8d28c65adc8c7659377db890d98748dc835d3fa.600x338.jpg?t=1422359303', u'id': 8, u'path_full': u'http://cdn.akamai.steamstatic.com/steam/apps/57690/ss_e8d28c65adc8c7659377db890d98748dc835d3fa.1920x1080.jpg?t=1422359303'}, {u'path_thumbnail': u'http://cdn.akamai.steamstatic.com/steam/apps/57690/ss_3017c40b6c0dff7fcb1abea515627e4a2c813ad9.600x338.jpg?t=1422359303', u'id': 9, u'path_full': u'http://cdn.akamai.steamstatic.com/steam/apps/57690/ss_3017c40b6c0dff7fcb1abea515627e4a2c813ad9.1920x1080.jpg?t=1422359303'}, {u'path_thumbnail': u'http://cdn.akamai.steamstatic.com/steam/apps/57690/ss_f435b4376629784b5d4cd8657f7eb2a9883d554c.600x338.jpg?t=1422359303', u'id': 10, u'path_full': u'http://cdn.akamai.steamstatic.com/steam/apps/57690/ss_f435b4376629784b5d4cd8657f7eb2a9883d554c.1920x1080.jpg?t=1422359303'}, {u'path_thumbnail': u'http://cdn.akamai.steamstatic.com/steam/apps/57690/ss_eeb9d00e103d98a1edee392e633d88a88f2d10c2.600x338.jpg?t=1422359303', u'id': 11, u'path_full': u'http://cdn.akamai.steamstatic.com/steam/apps/57690/ss_eeb9d00e103d98a1edee392e633d88a88f2d10c2.1920x1080.jpg?t=1422359303'}, {u'path_thumbnail': u'http://cdn.akamai.steamstatic.com/steam/apps/57690/ss_7214b3771fd452007a4c7a36b46abba453c8b835.600x338.jpg?t=1422359303', u'id': 12, u'path_full': u'http://cdn.akamai.steamstatic.com/steam/apps/57690/ss_7214b3771fd452007a4c7a36b46abba453c8b835.1920x1080.jpg?t=1422359303'}, {u'path_thumbnail': u'http://cdn.akamai.steamstatic.com/steam/apps/57690/ss_99e847d54bafb0b7c56402851ce55493dc7de593.600x338.jpg?t=1422359303', u'id': 13, u'path_full': u'http://cdn.akamai.steamstatic.com/steam/apps/57690/ss_99e847d54bafb0b7c56402851ce55493dc7de593.1920x1080.jpg?t=1422359303'}, {u'path_thumbnail': u'http://cdn.akamai.steamstatic.com/steam/apps/57690/ss_480451bdd44a1d900dd200d467164d753bde2163.600x338.jpg?t=1422359303', u'id': 14, u'path_full': u'http://cdn.akamai.steamstatic.com/steam/apps/57690/ss_480451bdd44a1d900dd200d467164d753bde2163.1920x1080.jpg?t=1422359303'}, {u'path_thumbnail': u'http://cdn.akamai.steamstatic.com/steam/apps/57690/ss_01eeca8397b145c18f170ccb47d7a8cc228daad1.600x338.jpg?t=1422359303', u'id': 15, u'path_full': u'http://cdn.akamai.steamstatic.com/steam/apps/57690/ss_01eeca8397b145c18f170ccb47d7a8cc228daad1.1920x1080.jpg?t=1422359303'}], u'dlc': [205630, 205636, 205635, 205637, 205638, 205634, 205633, 205632, 57697, 57695, 57696], u'genres': [{u'id': u'28', u'description': u'Simulation'}, {u'id': u'2', u'description': u'Strategy'}], u'required_age': 0, u'metacritic': {u'url': u'http://www.metacritic.com/game/pc/tropico-4', u'score': 78}, u'about_the_game': u'The world is changing and Tropico is moving with the times - geographical powers rise and fall and the world market is dominated by new players with new demands and offers - and you, as El Presidente, face a whole new set of challenges. If you are to triumph over your naysayers you will need to gain as much support from your people as possible. Your decisions will shape the future of your nation, and more importantly, the size of your off-shore bank account.\\r<br>\\t\\t\\t\\t\\t\\tTropico 4 expands on the gameplay of the previous game with new political additions \\u223c including more superpowers to negotiate with, along with the ability to elect ministers into power to help get your more controversial policies passed. But remember to keep your friends close and your enemies closer as everyone has an agenda! Your political mettle will be thoroughly tested, as new natural disasters will have the populace clamoring for you and your cabinet to help them recover from some of the worst Mother Nature can dish out.\\r<br>\\t\\t\\t\\t\\t\\tTropico 4 also brings a new level of social interaction with the addition of Facebook and Twitter integration. Post comments on Twitter direct from the game and have updates go out when you complete missions or unlock new achievements. You can even take screenshots of your burgeoning island and post your dream creation on your Tropico 4 Facebook page and compare your interactive Dictator Ranking on the online leaderboards.\\r<br>\\t\\t\\t\\t\\t\\t<h2 class=\"bb_tag\">Key Features:</h2><ul class=\"bb_ul\"><li>New campaign consisting of 20 missions on 10 new maps.\\r<br>\\t\\t\\t\\t\\t\\t</li><li>20 new buildings including Stock Exchange, Shopping mall, Aqua Park and a Mausoleum to El Presidente.\\r<br>\\t\\t\\t\\t\\t\\t</li><li>Six new interactive disasters including volcanoes, droughts and tornadoes.\\r<br>\\t\\t\\t\\t\\t\\t</li><li>Council of Ministers \\u2013 selected citizens to ministerial posts in the government to help push through your more controversial decisions.\\r<br>\\t\\t\\t\\t\\t\\t</li><li>National Agenda \\u2013 receive objectives from Tropican factions, foreign geopolitical powers or opportunities relating to current island events such as ongoing disasters.\\r<br>\\t\\t\\t\\t\\t\\t</li><li>Facebook and Twitter integration.\\r<br>\\t\\t\\t\\t\\t\\t</li><li>Screenshot gallery \\u2013 take screenshots of your tropical paradise and share on your Facebook page.\\r<br>\\t\\t\\t\\t\\t\\t</li><li>Trading system \\u2013 import and export goods to/from other nations to boost your economy or production.</li></ul>', u'developers': [u'Haemimont Games', u'Feral Interactive (Mac)'], u'type': u'game', u'supported_languages': u'English<strong>*</strong>, French<strong>*</strong>, German<strong>*</strong>, Italian<strong>*</strong>, Spanish<strong>*</strong>, Korean<br><strong>*</strong>languages with full audio support', u'website': u'http://www.worldoftropico.com/', u'publishers': [u'Kalypso Media Digital', u'Feral Interactive (Mac)'], u'pc_requirements': {u'recommended': u'<ul class=\"bb_ul\"><li><strong>OS:</strong> Windows Vista / 7 (32 or 64-bit)\\r<br>\\t\\t\\t\\t\\t\\t\\t\\t\\t\\t</li><li><strong>Processor:</strong> 2 GHz Quad Core CPU\\r<br>\\t\\t\\t\\t\\t\\t\\t\\t\\t\\t</li><li><strong>Memory:</strong> 2 GB RAM\\r<br>\\t\\t\\t\\t\\t\\t\\t\\t\\t\\t</li><li><strong>Graphics:</strong> Shader Model 3.0 (Geforce 8800 or higher, Radeon HD4000-Series or higher), 512 MB, DirectX 9.0c\\r<br>\\t\\t\\t\\t\\t\\t\\t\\t\\t\\t</li><li><strong>DirectX\\xae:</strong> 9.0c\\r<br>\\t\\t\\t\\t\\t\\t\\t\\t\\t\\t</li><li><strong>Hard Drive:</strong> 5 GB free hard disk space\\r<br>\\t\\t\\t\\t\\t\\t\\t\\t\\t\\t</li><li><strong>Sound:</strong> DirectX compatible\\r<br>\\t\\t\\t\\t\\t\\t\\t\\t\\t</li></ul>', u'minimum': u'<ul class=\"bb_ul\"><li><strong>OS:</strong> Windows XP SP3 (32-bit),  Vista / 7 (32 or 64-bit)\\r<br>\\t\\t\\t\\t\\t\\t\\t\\t\\t\\t</li><li><strong>Processor:</strong> 2 GHz Dual Core CPU\\r<br>\\t\\t\\t\\t\\t\\t\\t\\t\\t\\t</li><li><strong>Memory:</strong> 1 GB RAM\\r<br>\\t\\t\\t\\t\\t\\t\\t\\t\\t\\t</li><li><strong>Graphics:</strong> Shader Model 3.0 (Geforce 6600 or higher, Radeon X1600-Series), 256 MB, DirectX 9.0c\\r<br>\\t\\t\\t\\t\\t\\t\\t\\t\\t\\t</li><li><strong>DirectX\\xae:</strong> 9.0c\\r<br>\\t\\t\\t\\t\\t\\t\\t\\t\\t\\t</li><li><strong>Hard Drive:</strong> 5 GB free hard disk space\\r<br>\\t\\t\\t\\t\\t\\t\\t\\t\\t\\t</li><li><strong>Sound:</strong> DirectX compatible\\r<br>\\t\\t\\t\\t\\t\\t\\t\\t\\t</li></ul>'}, u'recommendations': {u'total': 5720}, u'is_free': False, u'background': u'http://cdn.akamai.steamstatic.com/steam/apps/57690/page_bg_generated_v6b.jpg?t=1422359303', u'packages': [u'11400', u'19282', u'1890', u'2128'], u'achievements': {u'highlighted': [{u'path': u'http://cdn.akamai.steamstatic.com/steamcommunity/public/images/apps/57690/1f9fe048d8687bf7610a9d3dbf308202593554de.jpg', u'name': u'Coup de Grace'}, {u'path': u'http://cdn.akamai.steamstatic.com/steamcommunity/public/images/apps/57690/b874a951b63fe0ac95c2cf8ca1332d5433e05e9d.jpg', u'name': u'Iron Fist'}, {u'path': u'http://cdn.akamai.steamstatic.com/steamcommunity/public/images/apps/57690/e0ac5d2b276a8a5944b4a27409b95fdb6642f605.jpg', u'name': u'Elitist'}, {u'path': u'http://cdn.akamai.steamstatic.com/steamcommunity/public/images/apps/57690/2bffe038fc3b5f6ed0801fec996cf0caacd5ef7e.jpg', u'name': u'Filthy Rich'}, {u'path': u'http://cdn.akamai.steamstatic.com/steamcommunity/public/images/apps/57690/5b2337cf6c93d1f79c93511fa42ab09fffe1d6c1.jpg', u'name': u'Heavy Traffic'}, {u'path': u'http://cdn.akamai.steamstatic.com/steamcommunity/public/images/apps/57690/b39d6f74cea0439f3c9d59cbcbbaa07284e762e0.jpg', u'name': u'Homes for Everyone'}, {u'path': u'http://cdn.akamai.steamstatic.com/steamcommunity/public/images/apps/57690/e0ac5d2b276a8a5944b4a27409b95fdb6642f605.jpg', u'name': u'Metropolis'}, {u'path': u'http://cdn.akamai.steamstatic.com/steamcommunity/public/images/apps/57690/40f589f1caeed41e7554831997c3311af4107829.jpg', u'name': u'Militarist'}, {u'path': u'http://cdn.akamai.steamstatic.com/steamcommunity/public/images/apps/57690/c61fe240fa992655d58a4cf118bb53856025c7e9.jpg', u'name': u'Paradise Island'}, {u'path': u'http://cdn.akamai.steamstatic.com/steamcommunity/public/images/apps/57690/7d589b8033738580fffc977016b7436ac3ab3c58.jpg', u'name': u'Top Exporter'}], u'total': 70}, u'categories': [{u'id': 2, u'description': u'Single-player'}, {u'id': 29, u'description': u'Steam Trading Cards'}], u'support_info': {u'url': u'', u'email': u'support@kalypsomedia.com'}, u'name': u'Tropico 4: Steam Special Edition', u'platforms': {u'windows': True, u'mac': True, u'linux': False}, u'package_groups': [{u'description': u'', u'title': u'Buy Tropico 4: Steam Special Edition', u'selection_text': u'Select a purchase option', u'subs': [{u'price_in_cents_with_discount': 1999, u'option_description': u'', u'can_get_free_license': u'0', u'is_free_license': False, u'packageid': u'11400', u'percent_savings_text': u'', u'option_text': u'Tropico 4 - $19.99', u'percent_savings': 0}, {u'price_in_cents_with_discount': 3999, u'option_description': u'', u'can_get_free_license': u'0', u'is_free_license': False, u'packageid': u'19282', u'percent_savings_text': u'', u'option_text': u\"Tropico 4 Collector's Bundle - $39.99\", u'percent_savings': 0}, {u'price_in_cents_with_discount': 699, u'option_description': u'', u'can_get_free_license': u'0', u'is_free_license': False, u'packageid': u'1890', u'percent_savings_text': u'', u'option_text': u'Tropico Reloaded - $6.99', u'percent_savings': 0}, {u'price_in_cents_with_discount': 999, u'option_description': u'', u'can_get_free_license': u'0', u'is_free_license': False, u'packageid': u'2128', u'percent_savings_text': u'', u'option_text': u'Tropico 3 - $9.99', u'percent_savings': 0}], u'display_type': 0, u'is_recurring_subscription': u'false', u'save_text': u'', u'name': u'default'}], u'release_date': {u'date': u'Sep 1, 2011', u'coming_soon': False}, u'reviews': u'\\u201cWelcome to Paradise.\\u201d\\r<br>\\u2013 <a target=\"_blank\" href=\"https://steamcommunity.com/linkfilter/?url=http://www.gamesradar.com/pc/tropico-4/preview/e3-2011-tropico-4-preview-volcanoes-assassinations-and-oil-spills-welcome-to-paradise/a-20110615155511892017/g-20110202164557738087\"  >Gamesradar</a>\\r<br>\\t\\t\\t\\t\\t\\t \\u201cThis sequel will build on everything people enjoyed in Haemimont\\'s Tropico 3 and offer more of it.\\u201d\\r<br>\\u2013 <a target=\"_blank\" href=\"https://steamcommunity.com/linkfilter/?url=http://gdc.gamespot.com/story/6302598/spotlight-on-tropico-4-at-gdc-2011\"  >GameSpot</a>', u'movies': [{u'highlight': True, u'thumbnail': u'http://cdn.akamai.steamstatic.com/steam/apps/2029441/movie.293x165.jpg?t=1408648182', u'webm': {u'max': u'http://cdn.akamai.steamstatic.com/steam/apps/2029441/movie_max.webm?t=1408648182', u'480': u'http://cdn.akamai.steamstatic.com/steam/apps/2029441/movie480.webm?t=1408648182'}, u'id': 2029441, u'name': u'Tropico 4 Gameplay Trailer'}], u'linux_requirements': [], u'mac_requirements': {u'recommended': u'<strong> Recommended:</strong>\\r<br><ul class=\"bb_ul\"><li><strong>OS:</strong> 10.9.4\\r<br>\\t</li><li><strong>Processor:</strong> 2.4 GHz\\r<br>\\t</li><li><strong>Memory:</strong> 8 GB Memory\\r<br>\\t</li><li><strong>Graphics:</strong> 512 MB*\\r<br>\\t</li><li><strong>Hard Drive:</strong> 6GB HD space\\r<br>\\t</li><li><strong>Other Requirements:</strong> The following graphics cards are not supported: ATI X1xxx series, ATI HD2xxx series, Intel GMA series, NVIDIA 7xxx series and NVIDIA 8xxx series. \\r<br>\\r<br>The following cards require you to have 8GB of system RAM: Intel HD3000, NVIDIA 9400, Intel HD4000 and NVIDIA 320M.\\r</li></ul>', u'minimum': u'<strong>Minimum:</strong>\\r<br><ul class=\"bb_ul\"><li><strong>OS:</strong> 10.8.5\\r<br>\\t</li><li><strong>Processor:</strong> 2.0 GHz\\r<br>\\t</li><li><strong>Memory:</strong> 4 GB Memory\\r<br>\\t</li><li><strong>Graphics:</strong> 256 MB*\\r<br>\\t</li><li><strong>Hard Drive:</strong>6GB HD space\\r<br>\\t</li><li><strong>Other Requirements:</strong> The following graphics cards are not supported: ATI X1xxx series, ATI HD2xxx series, Intel GMA series, NVIDIA 7xxx series and NVIDIA 8xxx series. \\r<br>\\r<br>The following cards require you to have 8GB of system RAM: Intel HD3000, NVIDIA 9400, Intel HD4000 and NVIDIA 320M.\\r</li></ul>'}, u'header_image': u'http://cdn.akamai.steamstatic.com/steam/apps/57690/header.jpg?t=1422359303'}, u'success': True}\n"
     ]
    }
   ],
   "source": [
    "print the_json['57690']"
   ]
  }
 ],
 "metadata": {
  "kernelspec": {
   "display_name": "Python 2",
   "language": "python",
   "name": "python2"
  },
  "language_info": {
   "codemirror_mode": {
    "name": "ipython",
    "version": 2
   },
   "file_extension": ".py",
   "mimetype": "text/x-python",
   "name": "python",
   "nbconvert_exporter": "python",
   "pygments_lexer": "ipython2",
   "version": "2.7.9"
  }
 },
 "nbformat": 4,
 "nbformat_minor": 0
}
