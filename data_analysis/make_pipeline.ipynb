{
 "cells": [
  {
   "cell_type": "markdown",
   "metadata": {},
   "source": [
    "Table of Contents\n"
   ]
  },
  {
   "cell_type": "code",
   "execution_count": 52,
   "metadata": {
    "collapsed": false
   },
   "outputs": [
    {
     "data": {
      "text/plain": [
       "'/home/ryan/Documents/insight_projects/steam_prices/data_analysis'"
      ]
     },
     "execution_count": 52,
     "metadata": {},
     "output_type": "execute_result"
    }
   ],
   "source": [
    "import os\n",
    "import json\n",
    "import numpy as np\n",
    "import matplotlib.pyplot as plt\n",
    "import matplotlib\n",
    "import itertools\n",
    "import copy\n",
    "import seaborn as sns\n",
    "import pandas as pd\n",
    "from scipy import stats\n",
    "from scipy.stats import randint as sp_randint\n",
    "from pprint import pprint as ppimport \n",
    "from time import time\n",
    "from operator import itemgetter\n",
    "\n",
    "\n",
    "%matplotlib inline\n",
    "os.getcwd()"
   ]
  },
  {
   "cell_type": "code",
   "execution_count": 53,
   "metadata": {
    "collapsed": false
   },
   "outputs": [],
   "source": [
    "from sklearn.svm import SVC\n",
    "from sklearn.ensemble import RandomForestClassifier as RF\n",
    "from sklearn.ensemble import ExtraTreesClassifier as ETC\n",
    "from sklearn.neighbors import KNeighborsClassifier as KNN\n",
    "from sklearn.grid_search import GridSearchCV, RandomizedSearchCV\n",
    "from sklearn.cross_validation import StratifiedKFold\n",
    "from sklearn.feature_selection import RFECV\n",
    "from sklearn.preprocessing import StandardScaler, LabelEncoder\n",
    "from sklearn.metrics import roc_curve, auc\n",
    "from sklearn.cross_validation import KFold\n",
    "from sklearn.metrics import confusion_matrix\n",
    "from sklearn.externals import joblib"
   ]
  },
  {
   "cell_type": "markdown",
   "metadata": {},
   "source": [
    "<H3>IMPORT STEAMDB FEATURES AND CLEAN MORE"
   ]
  },
  {
   "cell_type": "code",
   "execution_count": 54,
   "metadata": {
    "collapsed": false
   },
   "outputs": [
    {
     "name": "stdout",
     "output_type": "stream",
     "text": [
      "21\n"
     ]
    }
   ],
   "source": [
    "df = pd.read_pickle('df_steamdb_timeseries.pkl')\n",
    "since_sale_len = len(df.since_sale_lists[1])\n",
    "print since_sale_len\n"
   ]
  },
  {
   "cell_type": "markdown",
   "metadata": {},
   "source": [
    "<h4>data set choice parameters"
   ]
  },
  {
   "cell_type": "code",
   "execution_count": 55,
   "metadata": {
    "collapsed": true
   },
   "outputs": [],
   "source": [
    "current_epoch =  19 #the epoch in the bool list to predict\n",
    "validation_set_prop = 0.20 #proportion of the entire data set to hold out for validation"
   ]
  },
  {
   "cell_type": "code",
   "execution_count": 56,
   "metadata": {
    "collapsed": false
   },
   "outputs": [],
   "source": [
    "#df.head()\n",
    "\n",
    "drop_columns = ['fprice','iprice','price_date','sale_bool',\n",
    "                'formatted_no_holiday','saledates_no_holiday',\n",
    "               'sale_bool_all','min_iprice','mip_slopes','dirty_isi']\n",
    "df_feat_space = df.drop(drop_columns,axis=1)\n",
    "df_feat_space = df_feat_space[df_feat_space.formatted.map(type) != type([])]\n",
    "#df_feat_space = df_feat_space.drop(['formatted'])\n",
    "#df_feat_space['specific_epoch_time_since'] = df_feat_space.since_sale_lists[3]\n",
    "#df.head()"
   ]
  },
  {
   "cell_type": "code",
   "execution_count": 57,
   "metadata": {
    "collapsed": false,
    "scrolled": true
   },
   "outputs": [],
   "source": [
    "'''empty list replace'''\n",
    "replacement_empty_list = list(df.iloc[1].sale_bool_no_holiday[0] - df.iloc[1].sale_bool_no_holiday[0][0] + (60*60*24*100.0))\n",
    "#if there are no values, for now just use this empty list that assumes the last sale was more than one hundred days ago\n",
    "#however, this may be problematic if there's a negative correlation for games with sales and the time since the last game\n",
    "#to_series = df_feat_space.since_sale_lists\n",
    "\n",
    "to_series = df_feat_space.since_sale_lists\n",
    "check = [x for x in to_series]\n",
    "check_copy = copy.deepcopy(check)\n",
    "\n",
    "just_one_epoch = list()\n",
    "for i,v in enumerate(check):\n",
    "    if v == []:\n",
    "        check_copy[i] = replacement_empty_list\n",
    "    cur_epoch_time_since = check_copy[i][current_epoch]\n",
    "    just_one_epoch.append(cur_epoch_time_since)\n",
    "\n",
    "df_feat_space['specific_epoch_time_since'] = just_one_epoch\n",
    "#rint(check)\n",
    "#[df_feat_space.head().iloc['since_sale_lists']"
   ]
  },
  {
   "cell_type": "code",
   "execution_count": 58,
   "metadata": {
    "collapsed": true
   },
   "outputs": [],
   "source": [
    "'''change boolean into 1 or 0'''\n",
    "df_feat_space.has_price_slope = df_feat_space.has_price_slope.apply(lambda x:x*1)"
   ]
  },
  {
   "cell_type": "code",
   "execution_count": 59,
   "metadata": {
    "collapsed": false
   },
   "outputs": [],
   "source": [
    "'''make exponential cdf probability'''\n",
    "day_sec = 60 * 60 * 24\n",
    "twoweek_days = 14\n",
    "time_since_ds = (df_feat_space.specific_epoch_time_since / day_sec) + 14\n",
    "exp_lambda =  1/df_feat_space.dirty_isi_mean\n",
    "df_feat_space['exp_cdf_time_since_prob'] =  1 - np.exp(-time_since_ds * exp_lambda)\n"
   ]
  },
  {
   "cell_type": "markdown",
   "metadata": {},
   "source": [
    "<h3>STEAM SCRAPED FEATURES"
   ]
  },
  {
   "cell_type": "code",
   "execution_count": 60,
   "metadata": {
    "collapsed": true
   },
   "outputs": [],
   "source": [
    "df_steamscraped = pd.read_pickle('steam_features.pkl')"
   ]
  },
  {
   "cell_type": "code",
   "execution_count": 61,
   "metadata": {
    "collapsed": false
   },
   "outputs": [
    {
     "data": {
      "text/html": [
       "<div style=\"max-height:1000px;max-width:1500px;overflow:auto;\">\n",
       "<table border=\"1\" class=\"dataframe\">\n",
       "  <thead>\n",
       "    <tr style=\"text-align: right;\">\n",
       "      <th></th>\n",
       "      <th>appid</th>\n",
       "      <th>time_stamp_rd</th>\n",
       "      <th>big_publisher</th>\n",
       "      <th>publisher_category</th>\n",
       "      <th>meta_score_mean_interpolate</th>\n",
       "    </tr>\n",
       "  </thead>\n",
       "  <tbody>\n",
       "    <tr>\n",
       "      <th>0</th>\n",
       "      <td> 317950</td>\n",
       "      <td> 1416297600</td>\n",
       "      <td> False</td>\n",
       "      <td> small_publisher</td>\n",
       "      <td> 72.40834</td>\n",
       "    </tr>\n",
       "    <tr>\n",
       "      <th>1</th>\n",
       "      <td> 315940</td>\n",
       "      <td> 1416297600</td>\n",
       "      <td> False</td>\n",
       "      <td> small_publisher</td>\n",
       "      <td> 72.40834</td>\n",
       "    </tr>\n",
       "    <tr>\n",
       "      <th>2</th>\n",
       "      <td> 363510</td>\n",
       "      <td> 1416297600</td>\n",
       "      <td> False</td>\n",
       "      <td> small_publisher</td>\n",
       "      <td> 72.40834</td>\n",
       "    </tr>\n",
       "    <tr>\n",
       "      <th>3</th>\n",
       "      <td> 348870</td>\n",
       "      <td> 1416297600</td>\n",
       "      <td> False</td>\n",
       "      <td> small_publisher</td>\n",
       "      <td> 72.40834</td>\n",
       "    </tr>\n",
       "    <tr>\n",
       "      <th>4</th>\n",
       "      <td> 348700</td>\n",
       "      <td> 1416297600</td>\n",
       "      <td> False</td>\n",
       "      <td> small_publisher</td>\n",
       "      <td> 72.40834</td>\n",
       "    </tr>\n",
       "  </tbody>\n",
       "</table>\n",
       "</div>"
      ],
      "text/plain": [
       "    appid  time_stamp_rd big_publisher publisher_category  \\\n",
       "0  317950     1416297600         False    small_publisher   \n",
       "1  315940     1416297600         False    small_publisher   \n",
       "2  363510     1416297600         False    small_publisher   \n",
       "3  348870     1416297600         False    small_publisher   \n",
       "4  348700     1416297600         False    small_publisher   \n",
       "\n",
       "   meta_score_mean_interpolate  \n",
       "0                     72.40834  \n",
       "1                     72.40834  \n",
       "2                     72.40834  \n",
       "3                     72.40834  \n",
       "4                     72.40834  "
      ]
     },
     "execution_count": 61,
     "metadata": {},
     "output_type": "execute_result"
    }
   ],
   "source": [
    "df_steamscraped.head()\n",
    "drop_ss_cols = ['developer','game_name','meta_score','new_id','publisher','release_date','tag_data']\n",
    "df_ss_features = df_steamscraped.drop(drop_ss_cols,axis =1)\n",
    "df_ss_features.head()"
   ]
  },
  {
   "cell_type": "code",
   "execution_count": 62,
   "metadata": {
    "collapsed": true
   },
   "outputs": [],
   "source": [
    "df_ss_features.big_publisher = df_ss_features.big_publisher.apply(lambda x:x*1) #turn into 1 or 0"
   ]
  },
  {
   "cell_type": "code",
   "execution_count": 63,
   "metadata": {
    "collapsed": false
   },
   "outputs": [],
   "source": [
    "unique_pubs = df_ss_features.publisher_category.unique()\n",
    "le = LabelEncoder()\n",
    "le.fit(df_ss_features.publisher_category)\n",
    "df_ss_features['pub_cat_int'] = le.transform(df_ss_features.publisher_category)"
   ]
  },
  {
   "cell_type": "markdown",
   "metadata": {},
   "source": [
    "<h4>integrate user tag clustering as a feature"
   ]
  },
  {
   "cell_type": "code",
   "execution_count": 64,
   "metadata": {
    "collapsed": true
   },
   "outputs": [],
   "source": [
    "df_tag = pd.read_pickle('df_kmeans.pkl')"
   ]
  },
  {
   "cell_type": "code",
   "execution_count": 65,
   "metadata": {
    "collapsed": true
   },
   "outputs": [],
   "source": [
    "df_tag_ss = pd.merge(left=df_ss_features,right=df_tag, left_on='appid', right_on='appid')"
   ]
  },
  {
   "cell_type": "code",
   "execution_count": 66,
   "metadata": {
    "collapsed": false
   },
   "outputs": [],
   "source": [
    "df_merged_features = pd.merge(left=df_tag_ss,right=df_feat_space, left_on='appid', right_on='appid')"
   ]
  },
  {
   "cell_type": "code",
   "execution_count": 67,
   "metadata": {
    "collapsed": false
   },
   "outputs": [],
   "source": [
    "df_merged_features['sale_count_x_dirty_isi_mean'] = df_merged_features.sale_count * df_merged_features.dirty_isi_mean\n",
    "df_merged_features['exp_specific_epoch_time_since'] = np.exp(-df_merged_features.specific_epoch_time_since)\n",
    "df_merged_features['sale_count_x_specific_epoch_time_since'] =df_merged_features.sale_count * df_merged_features.specific_epoch_time_since"
   ]
  },
  {
   "cell_type": "code",
   "execution_count": 68,
   "metadata": {
    "collapsed": false
   },
   "outputs": [],
   "source": [
    "def get_initial_price(formatted_prices_dict):\n",
    "    out_med = np.median(np.array([float(v['initial'].strip('$')) \n",
    "              for v in formatted_prices_dict.itervalues()]))\n",
    "    return out_med\n",
    "\n",
    "df_merged_features['median_initial_price'] = df_merged_features.formatted.apply(get_initial_price)\n"
   ]
  },
  {
   "cell_type": "code",
   "execution_count": 69,
   "metadata": {
    "collapsed": false
   },
   "outputs": [
    {
     "data": {
      "text/plain": [
       "<matplotlib.text.Text at 0x7fb150d87f50>"
      ]
     },
     "execution_count": 69,
     "metadata": {},
     "output_type": "execute_result"
    },
    {
     "data": {
      "image/png": "[encoded data removed]",
      "text/plain": [
       "<matplotlib.figure.Figure at 0x7fb150c0ccd0>"
      ]
     },
     "metadata": {},
     "output_type": "display_data"
    }
   ],
   "source": [
    "df_merged_features.median_initial_price.plot(kind='hist',bins = np.linspace(0,60,20))\n",
    "plt.xlim([0,60])\n",
    "plt.xlabel('Non-sale price ($)')\n",
    "plt.ylabel('frequency')"
   ]
  },
  {
   "cell_type": "code",
   "execution_count": 70,
   "metadata": {
    "collapsed": false
   },
   "outputs": [],
   "source": [
    "'''make cluster initial price df'''\n",
    "pickle_cluster = False\n",
    "if pickle_cluster:\n",
    "    df_merged_features[['appid', \n",
    "                        'median_initial_price',\n",
    "                        'cluster']].to_pickle('df_price_cluster.pkl')\n"
   ]
  },
  {
   "cell_type": "code",
   "execution_count": 71,
   "metadata": {
    "collapsed": false
   },
   "outputs": [
    {
     "data": {
      "text/plain": [
       "<matplotlib.text.Text at 0x7fb14ef02a10>"
      ]
     },
     "execution_count": 71,
     "metadata": {},
     "output_type": "execute_result"
    },
    {
     "data": {
      "image/png": "[encoded data removed]",
      "text/plain": [
       "<matplotlib.figure.Figure at 0x7fb150d43a50>"
      ]
     },
     "metadata": {},
     "output_type": "display_data"
    }
   ],
   "source": [
    "plt.plot(df_merged_features['exp_cdf_time_since_prob'],\n",
    "         df_merged_features['specific_epoch_time_since'],\n",
    "        'b.')\n",
    "plt.xlabel('exp_cdf_time_since_prob')\n",
    "plt.ylabel('specific_epoch_time_since')\n"
   ]
  },
  {
   "cell_type": "code",
   "execution_count": 72,
   "metadata": {
    "collapsed": false
   },
   "outputs": [
    {
     "data": {
      "image/png": "[encoded data removed]",
      "text/plain": [
       "<matplotlib.figure.Figure at 0x7fb1541b8290>"
      ]
     },
     "metadata": {},
     "output_type": "display_data"
    }
   ],
   "source": [
    "plt.plot(df_merged_features['exp_cdf_time_since_prob'],\n",
    "         df_merged_features['sale_count_x_specific_epoch_time_since'],\n",
    "        'b.')\n",
    "plt.xlabel('exp_cdf_time_since_prob')\n",
    "plt.ylabel('sale_count_x_specific_epoch_time_since')\n",
    "plt.xscale('log')\n",
    "plt.yscale('log')"
   ]
  },
  {
   "cell_type": "markdown",
   "metadata": {
    "collapsed": true
   },
   "source": [
    "<h4>make y values after tables are merged and everything else is calculated"
   ]
  },
  {
   "cell_type": "code",
   "execution_count": 73,
   "metadata": {
    "collapsed": false
   },
   "outputs": [],
   "source": [
    "'''make y values'''\n",
    "yall = list()\n",
    "for i,v in enumerate(df_merged_features.sale_bool_no_holiday):\n",
    "    if v == []:\n",
    "        y_in = 0\n",
    "    else:\n",
    "        y_in = v[1][current_epoch] #1 is the index of the boolean list\n",
    "    yall.append(y_in)\n",
    "\n",
    "yall = np.array(yall)"
   ]
  },
  {
   "cell_type": "code",
   "execution_count": 74,
   "metadata": {
    "collapsed": false
   },
   "outputs": [],
   "source": [
    "\n",
    "analyzed_appids = df_merged_features.appid\n",
    "drop_more_columns = ['appid','formatted','since_sale_lists', 'sale_bool_no_holiday','publisher_category']\n",
    "df_merged_features = df_merged_features.drop(drop_more_columns,axis=1)\n"
   ]
  },
  {
   "cell_type": "code",
   "execution_count": 75,
   "metadata": {
    "collapsed": false
   },
   "outputs": [
    {
     "name": "stdout",
     "output_type": "stream",
     "text": [
      "['time_stamp_rd', 'big_publisher', 'meta_score_mean_interpolate', 'pub_cat_int', 'cluster', 'sale_count', 'has_price_slope', 'dirty_isi_mean', 'specific_epoch_time_since', 'exp_cdf_time_since_prob', 'sale_count_x_dirty_isi_mean', 'exp_specific_epoch_time_since', 'sale_count_x_specific_epoch_time_since', 'median_initial_price']\n"
     ]
    }
   ],
   "source": [
    "feature_names = list(df_merged_features.columns.values)\n",
    "print feature_names"
   ]
  },
  {
   "cell_type": "code",
   "execution_count": 76,
   "metadata": {
    "collapsed": false,
    "scrolled": true
   },
   "outputs": [
    {
     "data": {
      "text/html": [
       "<div style=\"max-height:1000px;max-width:1500px;overflow:auto;\">\n",
       "<table border=\"1\" class=\"dataframe\">\n",
       "  <thead>\n",
       "    <tr style=\"text-align: right;\">\n",
       "      <th></th>\n",
       "      <th>time_stamp_rd</th>\n",
       "      <th>big_publisher</th>\n",
       "      <th>meta_score_mean_interpolate</th>\n",
       "      <th>pub_cat_int</th>\n",
       "      <th>cluster</th>\n",
       "      <th>sale_count</th>\n",
       "      <th>has_price_slope</th>\n",
       "      <th>dirty_isi_mean</th>\n",
       "      <th>specific_epoch_time_since</th>\n",
       "      <th>exp_cdf_time_since_prob</th>\n",
       "      <th>sale_count_x_dirty_isi_mean</th>\n",
       "      <th>exp_specific_epoch_time_since</th>\n",
       "      <th>sale_count_x_specific_epoch_time_since</th>\n",
       "      <th>median_initial_price</th>\n",
       "    </tr>\n",
       "  </thead>\n",
       "  <tbody>\n",
       "    <tr>\n",
       "      <th>0</th>\n",
       "      <td> 1416297600</td>\n",
       "      <td> 0</td>\n",
       "      <td> 72.40834</td>\n",
       "      <td> 56</td>\n",
       "      <td> 129</td>\n",
       "      <td> 2</td>\n",
       "      <td> 0</td>\n",
       "      <td>  95.333333</td>\n",
       "      <td>  1481476</td>\n",
       "      <td> 0.278710</td>\n",
       "      <td> 190.666667</td>\n",
       "      <td> 0</td>\n",
       "      <td>  2962952</td>\n",
       "      <td> 2.99</td>\n",
       "    </tr>\n",
       "    <tr>\n",
       "      <th>1</th>\n",
       "      <td> 1416297600</td>\n",
       "      <td> 0</td>\n",
       "      <td> 72.40834</td>\n",
       "      <td> 56</td>\n",
       "      <td> 151</td>\n",
       "      <td> 2</td>\n",
       "      <td> 0</td>\n",
       "      <td>  96.000000</td>\n",
       "      <td> 12367951</td>\n",
       "      <td> 0.805428</td>\n",
       "      <td> 192.000000</td>\n",
       "      <td> 0</td>\n",
       "      <td> 24735902</td>\n",
       "      <td> 9.99</td>\n",
       "    </tr>\n",
       "    <tr>\n",
       "      <th>2</th>\n",
       "      <td> 1416297600</td>\n",
       "      <td> 0</td>\n",
       "      <td> 72.40834</td>\n",
       "      <td> 56</td>\n",
       "      <td>  50</td>\n",
       "      <td> 1</td>\n",
       "      <td> 0</td>\n",
       "      <td> 144.000000</td>\n",
       "      <td>  1466852</td>\n",
       "      <td> 0.193556</td>\n",
       "      <td> 144.000000</td>\n",
       "      <td> 0</td>\n",
       "      <td>  1466852</td>\n",
       "      <td> 9.99</td>\n",
       "    </tr>\n",
       "    <tr>\n",
       "      <th>3</th>\n",
       "      <td> 1416297600</td>\n",
       "      <td> 0</td>\n",
       "      <td> 72.40834</td>\n",
       "      <td> 56</td>\n",
       "      <td> 180</td>\n",
       "      <td> 3</td>\n",
       "      <td> 0</td>\n",
       "      <td>  71.750000</td>\n",
       "      <td>  2899953</td>\n",
       "      <td> 0.484654</td>\n",
       "      <td> 215.250000</td>\n",
       "      <td> 0</td>\n",
       "      <td>  8699859</td>\n",
       "      <td> 4.99</td>\n",
       "    </tr>\n",
       "    <tr>\n",
       "      <th>4</th>\n",
       "      <td> 1416297600</td>\n",
       "      <td> 0</td>\n",
       "      <td> 69.00000</td>\n",
       "      <td> 56</td>\n",
       "      <td> 150</td>\n",
       "      <td> 2</td>\n",
       "      <td> 0</td>\n",
       "      <td>  95.666667</td>\n",
       "      <td>  2086318</td>\n",
       "      <td> 0.328842</td>\n",
       "      <td> 191.333333</td>\n",
       "      <td> 0</td>\n",
       "      <td>  4172636</td>\n",
       "      <td> 9.99</td>\n",
       "    </tr>\n",
       "  </tbody>\n",
       "</table>\n",
       "</div>"
      ],
      "text/plain": [
       "   time_stamp_rd  big_publisher  meta_score_mean_interpolate  pub_cat_int  \\\n",
       "0     1416297600              0                     72.40834           56   \n",
       "1     1416297600              0                     72.40834           56   \n",
       "2     1416297600              0                     72.40834           56   \n",
       "3     1416297600              0                     72.40834           56   \n",
       "4     1416297600              0                     69.00000           56   \n",
       "\n",
       "   cluster  sale_count  has_price_slope  dirty_isi_mean  \\\n",
       "0      129           2                0       95.333333   \n",
       "1      151           2                0       96.000000   \n",
       "2       50           1                0      144.000000   \n",
       "3      180           3                0       71.750000   \n",
       "4      150           2                0       95.666667   \n",
       "\n",
       "   specific_epoch_time_since  exp_cdf_time_since_prob  \\\n",
       "0                    1481476                 0.278710   \n",
       "1                   12367951                 0.805428   \n",
       "2                    1466852                 0.193556   \n",
       "3                    2899953                 0.484654   \n",
       "4                    2086318                 0.328842   \n",
       "\n",
       "   sale_count_x_dirty_isi_mean  exp_specific_epoch_time_since  \\\n",
       "0                   190.666667                              0   \n",
       "1                   192.000000                              0   \n",
       "2                   144.000000                              0   \n",
       "3                   215.250000                              0   \n",
       "4                   191.333333                              0   \n",
       "\n",
       "   sale_count_x_specific_epoch_time_since  median_initial_price  \n",
       "0                                 2962952                  2.99  \n",
       "1                                24735902                  9.99  \n",
       "2                                 1466852                  9.99  \n",
       "3                                 8699859                  4.99  \n",
       "4                                 4172636                  9.99  "
      ]
     },
     "execution_count": 76,
     "metadata": {},
     "output_type": "execute_result"
    }
   ],
   "source": [
    "df_merged_features.head()"
   ]
  },
  {
   "cell_type": "code",
   "execution_count": 77,
   "metadata": {
    "collapsed": false
   },
   "outputs": [],
   "source": [
    "Xall = df_merged_features.as_matrix().astype(np.float)"
   ]
  },
  {
   "cell_type": "code",
   "execution_count": 78,
   "metadata": {
    "collapsed": false
   },
   "outputs": [
    {
     "name": "stdout",
     "output_type": "stream",
     "text": [
      "Feature space holds 4163 observations and 14 features\n"
     ]
    }
   ],
   "source": [
    "scaler = StandardScaler()\n",
    "Xall = scaler.fit_transform(Xall)\n",
    "#just learned that technically, this is incorrect, first you should do the split, then standardize the data\n",
    "\n",
    "print \"Feature space holds %d observations and %d features\" % Xall.shape"
   ]
  },
  {
   "cell_type": "markdown",
   "metadata": {},
   "source": [
    "<h4> split off a validation/hold out set"
   ]
  },
  {
   "cell_type": "code",
   "execution_count": 79,
   "metadata": {
    "collapsed": false
   },
   "outputs": [],
   "source": [
    "total_rows = yall.size\n",
    "validation_size =  int(total_rows * 1.0 *  validation_set_prop)\n",
    "validation_row_indices = np.sort(np.random.choice(range(total_rows),validation_size, replace = False))\n",
    "traintest_row_indices =np.array(list(set(range(total_rows)) - set(list(validation_row_indices))))\n"
   ]
  },
  {
   "cell_type": "code",
   "execution_count": 80,
   "metadata": {
    "collapsed": false
   },
   "outputs": [],
   "source": [
    "Xv = Xall[validation_row_indices,:]\n",
    "X = Xall[traintest_row_indices,:]\n",
    "\n",
    "Yv = yall[validation_row_indices]\n",
    "y = yall[traintest_row_indices]\n",
    "\n"
   ]
  },
  {
   "cell_type": "markdown",
   "metadata": {
    "collapsed": false
   },
   "source": [
    "<h4>run model"
   ]
  },
  {
   "cell_type": "code",
   "execution_count": 81,
   "metadata": {
    "collapsed": false
   },
   "outputs": [],
   "source": [
    "\n",
    "def run_cv(X,y,clf_class,**kwargs):\n",
    "    # Construct a kfolds object\n",
    "    kf = KFold(len(y),n_folds=5,shuffle=True)\n",
    "    y_pred = y.copy()\n",
    "    \n",
    "    # Iterate through folds\n",
    "    for train_index, test_index in kf:\n",
    "        X_train, X_test = X[train_index], X[test_index]\n",
    "        y_train = y[train_index]\n",
    "        # Initialize a classifier with key word arguments\n",
    "        clf = clf_class(**kwargs)\n",
    "        clf.fit(X_train,y_train)\n",
    "        y_pred[test_index] = clf.predict(X_test)\n",
    "    return y_pred\n"
   ]
  },
  {
   "cell_type": "code",
   "execution_count": 82,
   "metadata": {
    "collapsed": false
   },
   "outputs": [
    {
     "name": "stdout",
     "output_type": "stream",
     "text": [
      "Support vector machines:\n",
      "0.936\n",
      "Random forest:\n",
      "0.969\n",
      "K-nearest-neighbors:\n",
      "0.923\n"
     ]
    }
   ],
   "source": [
    "def accuracy(y_true,y_pred):\n",
    "    # NumPy interprets True and False as 1. and 0.\n",
    "    return np.mean(y_true == y_pred)\n",
    "\n",
    "print \"Support vector machines:\"\n",
    "print \"%.3f\" % accuracy(y, run_cv(X,y,SVC))\n",
    "print \"Random forest:\"\n",
    "print \"%.3f\" % accuracy(y, run_cv(X,y,RF))\n",
    "print \"K-nearest-neighbors:\"\n",
    "print \"%.3f\" % accuracy(y, run_cv(X,y,KNN))"
   ]
  },
  {
   "cell_type": "code",
   "execution_count": 83,
   "metadata": {
    "collapsed": false
   },
   "outputs": [],
   "source": [
    "chance_accuracy = (1 - sum(y)*1.0 / y.size)"
   ]
  },
  {
   "cell_type": "code",
   "execution_count": 84,
   "metadata": {
    "collapsed": true
   },
   "outputs": [],
   "source": [
    "y = np.array(y)\n",
    "class_names = np.unique(y)\n",
    "\n",
    "confusion_matrices = [\n",
    "    ( \"Support Vector Machines\", confusion_matrix(y,run_cv(X,y,SVC)) ),\n",
    "    ( \"Random Forest\", confusion_matrix(y,run_cv(X,y,RF)) ),\n",
    "    ( \"K-Nearest-Neighbors\", confusion_matrix(y,run_cv(X,y,KNN)) ),\n",
    "]\n"
   ]
  },
  {
   "cell_type": "code",
   "execution_count": 85,
   "metadata": {
    "collapsed": false
   },
   "outputs": [
    {
     "data": {
      "image/png": "[encoded data removed]",
      "text/plain": [
       "<matplotlib.figure.Figure at 0x7fb153f02e90>"
      ]
     },
     "metadata": {},
     "output_type": "display_data"
    }
   ],
   "source": [
    "def plot_confusion_matrix(cm, title='Confusion matrix', cmap=plt.cm.Blues):\n",
    "    plt.imshow(cm, interpolation='nearest', cmap=cmap)\n",
    "    plt.title(title)\n",
    "    plt.colorbar()\n",
    "    #tick_marks = np.arange(len(iris.target_names))\n",
    "    #plt.xticks(tick_marks, iris.target_names, rotation=45)\n",
    "    #plt.yticks(tick_marks, iris.target_names)\n",
    "    plt.tight_layout()\n",
    "    plt.ylabel('True label')\n",
    "    plt.xlabel('Predicted label')\n",
    "\n",
    "\n",
    "look_at_model = 1\n",
    "plot_confusion_matrix(confusion_matrices[look_at_model][1],confusion_matrices[look_at_model][0])\n"
   ]
  },
  {
   "cell_type": "markdown",
   "metadata": {},
   "source": [
    "<h4> Hyper parameter tuning"
   ]
  },
  {
   "cell_type": "code",
   "execution_count": 86,
   "metadata": {
    "collapsed": false
   },
   "outputs": [
    {
     "name": "stdout",
     "output_type": "stream",
     "text": [
      "RandomizedSearchCV took 15.25 seconds for 100 candidates parameter settings.\n",
      "Model with rank: 1\n",
      "Mean validation score: 0.970 (std: 0.004)\n",
      "Parameters: {'bootstrap': True, 'min_samples_leaf': 1, 'min_samples_split': 5, 'criterion': 'entropy', 'max_features': 2, 'max_depth': None}\n",
      "\n",
      "Model with rank: 2\n",
      "Mean validation score: 0.969 (std: 0.007)\n",
      "Parameters: {'bootstrap': False, 'min_samples_leaf': 4, 'min_samples_split': 3, 'criterion': 'entropy', 'max_features': 3, 'max_depth': None}\n",
      "\n",
      "Model with rank: 3\n",
      "Mean validation score: 0.969 (std: 0.005)\n",
      "Parameters: {'bootstrap': False, 'min_samples_leaf': 6, 'min_samples_split': 3, 'criterion': 'entropy', 'max_features': 5, 'max_depth': None}\n",
      "\n"
     ]
    }
   ],
   "source": [
    "clf = RF(n_estimators=20)\n",
    "def report(grid_scores, n_top=3):\n",
    "    top_scores = sorted(grid_scores, key=itemgetter(1), reverse=True)[:n_top]\n",
    "    for i, score in enumerate(top_scores):\n",
    "        print(\"Model with rank: {0}\".format(i + 1))\n",
    "        print(\"Mean validation score: {0:.3f} (std: {1:.3f})\".format(\n",
    "              score.mean_validation_score,\n",
    "              np.std(score.cv_validation_scores)))\n",
    "        print(\"Parameters: {0}\".format(score.parameters))\n",
    "        print(\"\")\n",
    "\n",
    "\n",
    "# specify parameters and distributions to sample from\n",
    "param_dist = {\"max_depth\": [3, None],\n",
    "              \"max_features\": sp_randint(1, 11),\n",
    "              \"min_samples_split\": sp_randint(1, 11),\n",
    "              \"min_samples_leaf\": sp_randint(1, 11),\n",
    "              \"bootstrap\": [True, False],\n",
    "              \"criterion\": [\"gini\", \"entropy\"]}\n",
    "\n",
    "# run randomized search\n",
    "n_iter_search = 100\n",
    "random_search = RandomizedSearchCV(clf, param_distributions=param_dist,\n",
    "                                   n_iter=n_iter_search)\n",
    "\n",
    "start = time()\n",
    "random_search.fit(X, y)\n",
    "print(\"RandomizedSearchCV took %.2f seconds for %d candidates\"\n",
    "      \" parameter settings.\" % ((time() - start), n_iter_search))\n",
    "report(random_search.grid_scores_)\n",
    "best_params = random_search.best_params_"
   ]
  },
  {
   "cell_type": "code",
   "execution_count": 87,
   "metadata": {
    "collapsed": true
   },
   "outputs": [],
   "source": [
    "def run_prob_cv(X, y, clf_in):\n",
    "    kf = KFold(len(y), n_folds=5, shuffle=True)\n",
    "    y_prob = np.zeros((len(y),2)) #2 is the number of classes (sale, or not)\n",
    "    for train_index, test_index in kf:\n",
    "        X_train, X_test = X[train_index], X[test_index]\n",
    "        y_train, y_test = y[train_index], y[test_index]\n",
    "        #y_train = y[train_index]\n",
    "        clf = clf_in\n",
    "        clf.fit(X_train,y_train)\n",
    "        # Predict probabilities, not classes\n",
    "        y_prob[test_index] = clf.predict_proba(X_test)\n",
    "        y_prob_all = clf.predict_proba(X_test)\n",
    "    return y_prob, y_test, y_prob_all, clf"
   ]
  },
  {
   "cell_type": "code",
   "execution_count": 88,
   "metadata": {
    "collapsed": false
   },
   "outputs": [
    {
     "data": {
      "text/html": [
       "<div style=\"max-height:1000px;max-width:1500px;overflow:auto;\">\n",
       "<table border=\"1\" class=\"dataframe\">\n",
       "  <thead>\n",
       "    <tr style=\"text-align: right;\">\n",
       "      <th></th>\n",
       "      <th>pred_prob</th>\n",
       "      <th>count</th>\n",
       "      <th>true_prob</th>\n",
       "    </tr>\n",
       "  </thead>\n",
       "  <tbody>\n",
       "    <tr>\n",
       "      <th>0 </th>\n",
       "      <td> 0.00</td>\n",
       "      <td> 2577</td>\n",
       "      <td> 0.002716</td>\n",
       "    </tr>\n",
       "    <tr>\n",
       "      <th>1 </th>\n",
       "      <td> 0.05</td>\n",
       "      <td>  181</td>\n",
       "      <td> 0.055249</td>\n",
       "    </tr>\n",
       "    <tr>\n",
       "      <th>2 </th>\n",
       "      <td> 1.00</td>\n",
       "      <td>  141</td>\n",
       "      <td> 1.000000</td>\n",
       "    </tr>\n",
       "    <tr>\n",
       "      <th>3 </th>\n",
       "      <td> 0.10</td>\n",
       "      <td>   69</td>\n",
       "      <td> 0.130435</td>\n",
       "    </tr>\n",
       "    <tr>\n",
       "      <th>4 </th>\n",
       "      <td> 0.15</td>\n",
       "      <td>   56</td>\n",
       "      <td> 0.107143</td>\n",
       "    </tr>\n",
       "    <tr>\n",
       "      <th>5 </th>\n",
       "      <td> 0.95</td>\n",
       "      <td>   47</td>\n",
       "      <td> 0.936170</td>\n",
       "    </tr>\n",
       "    <tr>\n",
       "      <th>6 </th>\n",
       "      <td> 0.20</td>\n",
       "      <td>   31</td>\n",
       "      <td> 0.161290</td>\n",
       "    </tr>\n",
       "    <tr>\n",
       "      <th>7 </th>\n",
       "      <td> 0.25</td>\n",
       "      <td>   30</td>\n",
       "      <td> 0.166667</td>\n",
       "    </tr>\n",
       "    <tr>\n",
       "      <th>8 </th>\n",
       "      <td> 0.35</td>\n",
       "      <td>   26</td>\n",
       "      <td> 0.230769</td>\n",
       "    </tr>\n",
       "    <tr>\n",
       "      <th>9 </th>\n",
       "      <td> 0.30</td>\n",
       "      <td>   25</td>\n",
       "      <td> 0.160000</td>\n",
       "    </tr>\n",
       "    <tr>\n",
       "      <th>10</th>\n",
       "      <td> 0.90</td>\n",
       "      <td>   24</td>\n",
       "      <td> 0.958333</td>\n",
       "    </tr>\n",
       "    <tr>\n",
       "      <th>11</th>\n",
       "      <td> 0.85</td>\n",
       "      <td>   17</td>\n",
       "      <td> 0.882353</td>\n",
       "    </tr>\n",
       "    <tr>\n",
       "      <th>12</th>\n",
       "      <td> 0.40</td>\n",
       "      <td>   17</td>\n",
       "      <td> 0.411765</td>\n",
       "    </tr>\n",
       "    <tr>\n",
       "      <th>13</th>\n",
       "      <td> 0.65</td>\n",
       "      <td>   16</td>\n",
       "      <td> 0.687500</td>\n",
       "    </tr>\n",
       "    <tr>\n",
       "      <th>14</th>\n",
       "      <td> 0.50</td>\n",
       "      <td>   16</td>\n",
       "      <td> 0.437500</td>\n",
       "    </tr>\n",
       "    <tr>\n",
       "      <th>15</th>\n",
       "      <td> 0.75</td>\n",
       "      <td>   13</td>\n",
       "      <td> 0.615385</td>\n",
       "    </tr>\n",
       "    <tr>\n",
       "      <th>16</th>\n",
       "      <td> 0.60</td>\n",
       "      <td>   11</td>\n",
       "      <td> 0.545455</td>\n",
       "    </tr>\n",
       "    <tr>\n",
       "      <th>17</th>\n",
       "      <td> 0.55</td>\n",
       "      <td>   10</td>\n",
       "      <td> 0.500000</td>\n",
       "    </tr>\n",
       "    <tr>\n",
       "      <th>18</th>\n",
       "      <td> 0.80</td>\n",
       "      <td>    9</td>\n",
       "      <td> 0.888889</td>\n",
       "    </tr>\n",
       "    <tr>\n",
       "      <th>19</th>\n",
       "      <td> 0.70</td>\n",
       "      <td>    8</td>\n",
       "      <td> 0.750000</td>\n",
       "    </tr>\n",
       "    <tr>\n",
       "      <th>20</th>\n",
       "      <td> 0.45</td>\n",
       "      <td>    7</td>\n",
       "      <td> 0.285714</td>\n",
       "    </tr>\n",
       "  </tbody>\n",
       "</table>\n",
       "</div>"
      ],
      "text/plain": [
       "    pred_prob  count  true_prob\n",
       "0        0.00   2577   0.002716\n",
       "1        0.05    181   0.055249\n",
       "2        1.00    141   1.000000\n",
       "3        0.10     69   0.130435\n",
       "4        0.15     56   0.107143\n",
       "5        0.95     47   0.936170\n",
       "6        0.20     31   0.161290\n",
       "7        0.25     30   0.166667\n",
       "8        0.35     26   0.230769\n",
       "9        0.30     25   0.160000\n",
       "10       0.90     24   0.958333\n",
       "11       0.85     17   0.882353\n",
       "12       0.40     17   0.411765\n",
       "13       0.65     16   0.687500\n",
       "14       0.50     16   0.437500\n",
       "15       0.75     13   0.615385\n",
       "16       0.60     11   0.545455\n",
       "17       0.55     10   0.500000\n",
       "18       0.80      9   0.888889\n",
       "19       0.70      8   0.750000\n",
       "20       0.45      7   0.285714"
      ]
     },
     "execution_count": 88,
     "metadata": {},
     "output_type": "execute_result"
    }
   ],
   "source": [
    "import warnings\n",
    "warnings.filterwarnings('ignore')\n",
    "\n",
    "pred_prob,y_test,y_prob_all,clf = run_prob_cv(X, y, clf)\n",
    "pred_sale = pred_prob[:,1]\n",
    "is_sale = y == 1\n",
    "\n",
    "# Number of times a predicted probability is assigned to an observation\n",
    "counts = pd.value_counts(pred_sale)\n",
    "\n",
    "# calculate true probabilities\n",
    "true_prob = {}\n",
    "for prob in counts.index:\n",
    "    true_prob[prob] = np.mean(is_sale[pred_sale == prob])\n",
    "    true_prob = pd.Series(true_prob)\n",
    "    \n",
    "counts = pd.concat([counts,true_prob], axis=1).reset_index()\n",
    "counts.columns = ['pred_prob', 'count', 'true_prob']\n",
    "counts"
   ]
  },
  {
   "cell_type": "code",
   "execution_count": 89,
   "metadata": {
    "collapsed": false
   },
   "outputs": [],
   "source": [
    "'''save model if using epoch 19, to then be validated on epoch 20'''\n",
    "if current_epoch == 19: #use epoch 19 to train, then explicitly examine results on epoch 20\n",
    "    print\n",
    "    joblib.dump(clf, 'epoch19_model.pkl')\n",
    "    "
   ]
  },
  {
   "cell_type": "code",
   "execution_count": 90,
   "metadata": {
    "collapsed": false
   },
   "outputs": [
    {
     "data": {
      "text/plain": [
       "<matplotlib.text.Text at 0x7fb153df3cd0>"
      ]
     },
     "execution_count": 90,
     "metadata": {},
     "output_type": "execute_result"
    },
    {
     "data": {
      "image/png": "[encoded data removed]",
      "text/plain": [
       "<matplotlib.figure.Figure at 0x7fb153f93910>"
      ]
     },
     "metadata": {},
     "output_type": "display_data"
    }
   ],
   "source": [
    "'''plot predicted probability by true probability'''\n",
    "counts = counts.sort('pred_prob')\n",
    "plt.plot(counts.pred_prob,counts.true_prob, 'bo')\n",
    "plt.plot([0, 1], [0, 1], 'k--') \n",
    "plt.xlabel('predicted probability', fontsize = 20)\n",
    "plt.ylabel('true probability',fontsize = 20)"
   ]
  },
  {
   "cell_type": "code",
   "execution_count": 91,
   "metadata": {
    "collapsed": false
   },
   "outputs": [
    {
     "data": {
      "text/plain": [
       "0.96033653846153844"
      ]
     },
     "execution_count": 91,
     "metadata": {},
     "output_type": "execute_result"
    }
   ],
   "source": [
    "'''examine accuracy with validation / hold out set'''\n",
    "Yv_predict = clf.predict(Xv)\n",
    "accuracy(Yv,Yv_predict)"
   ]
  },
  {
   "cell_type": "code",
   "execution_count": null,
   "metadata": {
    "collapsed": true
   },
   "outputs": [],
   "source": []
  },
  {
   "cell_type": "code",
   "execution_count": 92,
   "metadata": {
    "collapsed": false
   },
   "outputs": [
    {
     "data": {
      "text/plain": [
       "<matplotlib.legend.Legend at 0x7fb153e06690>"
      ]
     },
     "execution_count": 92,
     "metadata": {},
     "output_type": "execute_result"
    },
    {
     "data": {
      "image/png": "[encoded data removed]",
      "text/plain": [
       "<matplotlib.figure.Figure at 0x7fb153df3a50>"
      ]
     },
     "metadata": {},
     "output_type": "display_data"
    }
   ],
   "source": [
    "#y_score = classifier.fit(X_train, y_train).decision_function(X_test)\n",
    "y_prob_all[:,1] # 1 is the 'positive' class\n",
    "fpr, tpr,_ =roc_curve(y_test,y_prob_all[:,1])\n",
    "roc_auc= auc(fpr, tpr)\n",
    "\n",
    "plt.plot(fpr, tpr, label='ROC curve (area = %0.2f)' % roc_auc)\n",
    "plt.plot([0, 1], [0, 1], 'k--')    \n",
    "plt.xlim([0.0, 1.0])\n",
    "plt.ylim([0.0, 1.05])\n",
    "plt.xlabel('False Positive Rate', fontsize = 20)\n",
    "plt.ylabel('True Positive Rate',fontsize = 20)\n",
    "#plt.title('RF Receiver Operating Characteristic', fontsize = 20)\n",
    "plt.legend(loc=\"lower right\", fontsize = 12)\n",
    "#rf_fpr, rf_tpr, thresholds = roc_curve(y_test, pred_prob[:, 1])`"
   ]
  },
  {
   "cell_type": "markdown",
   "metadata": {},
   "source": [
    "<h4> Determine most important features"
   ]
  },
  {
   "cell_type": "code",
   "execution_count": 93,
   "metadata": {
    "collapsed": false
   },
   "outputs": [],
   "source": [
    "etc_in = ETC(n_estimators = 20)\n",
    "pred_prob,y_test,y_prob_all,clf_ETC = run_prob_cv(X, y, etc_in)\n",
    "importances = clf_ETC.feature_importances_\n",
    "std = np.std([tree.feature_importances_ for tree in clf.estimators_],\n",
    "             axis=0)\n",
    "indices = np.argsort(importances)[::-1]"
   ]
  },
  {
   "cell_type": "code",
   "execution_count": 94,
   "metadata": {
    "collapsed": false
   },
   "outputs": [
    {
     "name": "stdout",
     "output_type": "stream",
     "text": [
      "Feature ranking:\n",
      "1. feature 12 sale_count_x_specific_epoch_time_since (0.244757)\n",
      "2. feature 9 exp_cdf_time_since_prob (0.217318)\n",
      "3. feature 8 specific_epoch_time_since (0.213989)\n",
      "4. feature 10 sale_count_x_dirty_isi_mean (0.074580)\n",
      "5. feature 7 dirty_isi_mean (0.066012)\n",
      "6. feature 4 cluster (0.048567)\n",
      "7. feature 13 median_initial_price (0.040807)\n",
      "8. feature 5 sale_count (0.039379)\n",
      "9. feature 2 meta_score_mean_interpolate (0.022739)\n",
      "10. feature 6 has_price_slope (0.015601)\n",
      "11. feature 3 pub_cat_int (0.009735)\n",
      "12. feature 1 big_publisher (0.006515)\n",
      "13. feature 11 exp_specific_epoch_time_since (0.000000)\n",
      "14. feature 0 time_stamp_rd (0.000000)\n"
     ]
    },
    {
     "data": {
      "text/plain": [
       "[<matplotlib.text.Text at 0x7fb153c9d2d0>,\n",
       " <matplotlib.text.Text at 0x7fb153bfd910>,\n",
       " <matplotlib.text.Text at 0x7fb153b90990>,\n",
       " <matplotlib.text.Text at 0x7fb153b9b150>,\n",
       " <matplotlib.text.Text at 0x7fb153b9b8d0>,\n",
       " <matplotlib.text.Text at 0x7fb153ba3090>,\n",
       " <matplotlib.text.Text at 0x7fb153ba3810>,\n",
       " <matplotlib.text.Text at 0x7fb153ba3f90>,\n",
       " <matplotlib.text.Text at 0x7fb153bae750>,\n",
       " <matplotlib.text.Text at 0x7fb153baeed0>,\n",
       " <matplotlib.text.Text at 0x7fb153b37690>,\n",
       " <matplotlib.text.Text at 0x7fb153b37e10>,\n",
       " <matplotlib.text.Text at 0x7fb153b3f5d0>,\n",
       " <matplotlib.text.Text at 0x7fb153b3fd50>]"
      ]
     },
     "execution_count": 94,
     "metadata": {},
     "output_type": "execute_result"
    },
    {
     "data": {
      "image/png": "[encoded data removed]",
      "text/plain": [
       "<matplotlib.figure.Figure at 0x7fb153d7b550>"
      ]
     },
     "metadata": {},
     "output_type": "display_data"
    }
   ],
   "source": [
    "print(\"Feature ranking:\")\n",
    "\n",
    "for f in range(len(feature_names)):\n",
    "    print(\"%d. feature %d %s (%f)\" % (f + 1, indices[f], feature_names[indices[f]], importances[indices[f]]))\n",
    "\n",
    "fig, ax = plt.subplots(1)\n",
    "#ax.set_title(\"Feature importances\")\n",
    "ax.bar(range(len(feature_names)), importances[indices], color=\"r\", yerr=std[indices], align=\"center\")\n",
    "\n",
    "ax.set_xlim([-1, 10])\n",
    "ax.set_ylim([0,0.6])\n",
    "#x.set_xlabel('feature')\n",
    "ax.set_ylabel('relative importance', fontsize = 20)\n",
    "ax.set_xticks(range(len(feature_names)))\n",
    "\n",
    "feature_names_sorted = [feature_names[i] for i in indices] \n",
    "#\n",
    "#     feature_names_sorted = ['time since last sale', \n",
    "#                         'time since x # of sales', \n",
    "#                         'mean inter-sale time',\n",
    "#                        'sale count x mean isi',\n",
    "#                         'review scores',\n",
    "#                         '# of sales',\n",
    "#                         'price decay',\n",
    "#                         'publisher',\n",
    "#                         'big publisher',\n",
    "#                         '',\n",
    "#                         '',]\n",
    "                        \n",
    "ax.set_xticklabels(feature_names_sorted, rotation='45', fontsize = 20, ha='right')"
   ]
  },
  {
   "cell_type": "code",
   "execution_count": 103,
   "metadata": {
    "collapsed": false
   },
   "outputs": [
    {
     "name": "stdout",
     "output_type": "stream",
     "text": [
      "Optimal number of features : 9\n"
     ]
    },
    {
     "data": {
      "text/plain": [
       "array([6, 3, 1, 2, 1, 1, 4, 1, 1, 1, 1, 5, 1, 1])"
      ]
     },
     "execution_count": 103,
     "metadata": {},
     "output_type": "execute_result"
    }
   ],
   "source": [
    "class RandomForestClassifierWithCoef(RF):\n",
    "    def fit(self, *args, **kwargs):\n",
    "        super(RandomForestClassifierWithCoef, self).fit(*args, **kwargs)\n",
    "        self.coef_ = self.feature_importances_\n",
    "\n",
    "rfcc = RandomForestClassifierWithCoef()\n",
    "rfecv = RFECV(estimator=rfcc, step=1, cv=StratifiedKFold(y, 2),scoring='f1')\n",
    "rfecv.fit(X, y)\n",
    "\n",
    "\n",
    "print(\"Optimal number of features : %d\" % rfecv.n_features_)\n",
    "rfecv.ranking_\n"
   ]
  },
  {
   "cell_type": "code",
   "execution_count": 104,
   "metadata": {
    "collapsed": false
   },
   "outputs": [
    {
     "data": {
      "text/plain": [
       "[<matplotlib.text.Text at 0x7fb153eec910>,\n",
       " <matplotlib.text.Text at 0x7fb153ebfd10>,\n",
       " <matplotlib.text.Text at 0x7fb1540dfc90>,\n",
       " <matplotlib.text.Text at 0x7fb1540b7450>,\n",
       " <matplotlib.text.Text at 0x7fb1540b7bd0>,\n",
       " <matplotlib.text.Text at 0x7fb153561390>,\n",
       " <matplotlib.text.Text at 0x7fb153561b10>,\n",
       " <matplotlib.text.Text at 0x7fb15354e2d0>,\n",
       " <matplotlib.text.Text at 0x7fb15354ea50>,\n",
       " <matplotlib.text.Text at 0x7fb153562210>,\n",
       " <matplotlib.text.Text at 0x7fb153562990>,\n",
       " <matplotlib.text.Text at 0x7fb153558150>,\n",
       " <matplotlib.text.Text at 0x7fb1535588d0>,\n",
       " <matplotlib.text.Text at 0x7fb153537090>]"
      ]
     },
     "execution_count": 104,
     "metadata": {},
     "output_type": "execute_result"
    },
    {
     "data": {
      "image/png": "[encoded data removed]",
      "text/plain": [
       "<matplotlib.figure.Figure at 0x7fb153f02090>"
      ]
     },
     "metadata": {},
     "output_type": "display_data"
    }
   ],
   "source": [
    "fig, ax = plt.subplots(1)\n",
    "ax.bar(range(len(feature_names)), 1/rfecv.ranking_, color=\"r\", yerr=std[indices], align=\"center\")\n",
    "ax.set_xticks(range(len(feature_names)))\n",
    "\n",
    "ax.set_xticklabels(feature_names,rotation='45', fontsize = 20, ha='right')"
   ]
  },
  {
   "cell_type": "markdown",
   "metadata": {},
   "source": [
    "<h4>make probability data_frame"
   ]
  },
  {
   "cell_type": "code",
   "execution_count": 97,
   "metadata": {
    "collapsed": false
   },
   "outputs": [],
   "source": [
    "Yall_sale_prop = clf.predict_proba(Xall)[:,1] #1 is the probability of a sale"
   ]
  },
  {
   "cell_type": "code",
   "execution_count": 98,
   "metadata": {
    "collapsed": false
   },
   "outputs": [],
   "source": [
    "df_app_sale_prob = pd.DataFrame({'appid':analyzed_appids,'sale_prob': Yall_sale_prop}) \n",
    "#turn this into a moving window for later"
   ]
  },
  {
   "cell_type": "code",
   "execution_count": 99,
   "metadata": {
    "collapsed": true
   },
   "outputs": [],
   "source": [
    "#df_app_sale_prob.to_pickle('df_sale_prob.pkl')"
   ]
  },
  {
   "cell_type": "code",
   "execution_count": 100,
   "metadata": {
    "collapsed": false
   },
   "outputs": [
    {
     "data": {
      "text/plain": [
       "0.00    3337\n",
       "1.00     218\n",
       "0.05     179\n",
       "0.10      69\n",
       "0.15      59\n",
       "0.95      40\n",
       "0.20      33\n",
       "0.85      28\n",
       "0.90      25\n",
       "0.25      25\n",
       "0.80      21\n",
       "0.65      19\n",
       "0.30      17\n",
       "0.50      15\n",
       "0.60      13\n",
       "0.70      13\n",
       "0.45      12\n",
       "0.75      11\n",
       "0.35      10\n",
       "0.40      10\n",
       "0.55       9\n",
       "dtype: int64"
      ]
     },
     "execution_count": 100,
     "metadata": {},
     "output_type": "execute_result"
    }
   ],
   "source": [
    "pd.value_counts(pd.Series(clf.predict_proba(Xall)[:,1]))"
   ]
  },
  {
   "cell_type": "markdown",
   "metadata": {},
   "source": []
  },
  {
   "cell_type": "code",
   "execution_count": null,
   "metadata": {
    "collapsed": true
   },
   "outputs": [],
   "source": []
  },
  {
   "cell_type": "markdown",
   "metadata": {
    "collapsed": false,
    "scrolled": true
   },
   "source": [
    "<h3>Validate Entire Model by testing on an epoch previously trained and tested"
   ]
  },
  {
   "cell_type": "code",
   "execution_count": 101,
   "metadata": {
    "collapsed": false
   },
   "outputs": [
    {
     "data": {
      "image/png": "[encoded data removed]",
      "text/plain": [
       "<matplotlib.figure.Figure at 0x7fb1509d4450>"
      ]
     },
     "metadata": {},
     "output_type": "display_data"
    }
   ],
   "source": [
    "if current_epoch == 20:\n",
    "    e19_clf = joblib.load('epoch19_model.pkl') \n",
    "    Yall_predict = clf.predict(Xall)\n",
    "    cm = confusion_matrix(yall, Yall_predict)\n",
    "    np.set_printoptions(precision=2)\n",
    "    cm_normalized = cm.astype('float') / cm.sum(axis=1)[:, np.newaxis]\n",
    "    plt.figure()\n",
    "    plot_confusion_matrix(cm_normalized, title='Normalized confusion matrix')\n",
    "    plt.xticks([1,0])\n",
    "    plt.yticks([0,1])\n",
    "    plt.gca().set_yticklabels(['NO','YES'])\n",
    "    plt.gca().set_xticklabels(['YES','NO'])\n",
    "    xlabel = ['Actual']\n",
    "    plt.xlabel('Predicted', fontsize = 20)\n",
    "    plt.ylabel('Actual',fontsize = 20)\n",
    "    plt.grid(False)\n",
    "    plt.title('')\n",
    "    "
   ]
  },
  {
   "cell_type": "code",
   "execution_count": 102,
   "metadata": {
    "collapsed": false
   },
   "outputs": [
    {
     "name": "stdout",
     "output_type": "stream",
     "text": [
      "[[ 0.99  0.01]\n",
      " [ 0.08  0.92]]\n"
     ]
    }
   ],
   "source": [
    "print cm_normalized"
   ]
  }
 ],
 "metadata": {
  "kernelspec": {
   "display_name": "Python 2",
   "language": "python",
   "name": "python2"
  },
  "language_info": {
   "codemirror_mode": {
    "name": "ipython",
    "version": 2
   },
   "file_extension": ".py",
   "mimetype": "text/x-python",
   "name": "python",
   "nbconvert_exporter": "python",
   "pygments_lexer": "ipython2",
   "version": "2.7.9"
  }
 },
 "nbformat": 4,
 "nbformat_minor": 0
}
