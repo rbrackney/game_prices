{
 "cells": [
  {
   "cell_type": "code",
   "execution_count": 199,
   "metadata": {
    "collapsed": false
   },
   "outputs": [
    {
     "data": {
      "text/plain": [
       "'/home/ryan/Documents/insight_projects/steam_prices/data_analysis'"
      ]
     },
     "execution_count": 199,
     "metadata": {},
     "output_type": "execute_result"
    }
   ],
   "source": [
    "import os\n",
    "from pprint import pprint as pp\n",
    "import pandas as pd\n",
    "import json\n",
    "import numpy as np\n",
    "from scipy import stats\n",
    "import matplotlib.pyplot as plt\n",
    "import itertools\n",
    "import copy\n",
    "import seaborn as sns\n",
    "\n",
    "%matplotlib inline\n",
    "os.getcwd()"
   ]
  },
  {
   "cell_type": "code",
   "execution_count": 200,
   "metadata": {
    "collapsed": false
   },
   "outputs": [],
   "source": [
    "from sklearn.svm import SVC\n",
    "from sklearn.ensemble import RandomForestClassifier as RF\n",
    "from sklearn.neighbors import KNeighborsClassifier as KNN\n",
    "from sklearn.preprocessing import StandardScaler, LabelEncoder\n",
    "from sklearn.metrics import roc_curve, auc\n",
    "from sklearn.cross_validation import KFold\n"
   ]
  },
  {
   "cell_type": "markdown",
   "metadata": {},
   "source": [
    "<H3>IMPORT STEAMDB FEATURES AND CLEAN MORE"
   ]
  },
  {
   "cell_type": "code",
   "execution_count": 201,
   "metadata": {
    "collapsed": false
   },
   "outputs": [
    {
     "name": "stdout",
     "output_type": "stream",
     "text": [
      "21\n"
     ]
    }
   ],
   "source": [
    "df = pd.read_pickle('df_steamdb_timeseries.pkl')\n",
    "since_sale_len = len(df.since_sale_lists[1])\n",
    "print since_sale_len\n"
   ]
  },
  {
   "cell_type": "markdown",
   "metadata": {},
   "source": [
    "<h4>data set choice parameters"
   ]
  },
  {
   "cell_type": "code",
   "execution_count": 227,
   "metadata": {
    "collapsed": true
   },
   "outputs": [],
   "source": [
    "current_epoch =  20 #the epoch in the bool list to predict\n",
    "validation_set_prop = 0.20 #proportion of the entire data set to hold out for validation"
   ]
  },
  {
   "cell_type": "code",
   "execution_count": 202,
   "metadata": {
    "collapsed": false
   },
   "outputs": [],
   "source": [
    "#df.head()\n",
    "\n",
    "drop_columns = ['fprice','iprice','price_date','sale_bool',\n",
    "                'formatted_no_holiday','saledates_no_holiday',\n",
    "               'sale_bool_all','min_iprice','mip_slopes','dirty_isi']\n",
    "df_feat_space = df.drop(drop_columns,axis=1)\n",
    "df_feat_space = df_feat_space[df_feat_space.formatted.map(type) != type([])]\n",
    "#df_feat_space = df_feat_space.drop(['formatted'])\n",
    "#df_feat_space['specific_epoch_time_since'] = df_feat_space.since_sale_lists[3]\n",
    "#df.head()"
   ]
  },
  {
   "cell_type": "code",
   "execution_count": 203,
   "metadata": {
    "collapsed": false,
    "scrolled": true
   },
   "outputs": [],
   "source": [
    "'''empty list replace'''\n",
    "replacement_empty_list = list(df.iloc[1].sale_bool_no_holiday[0] - df.iloc[1].sale_bool_no_holiday[0][0] + (60*60*24*100.0))\n",
    "#if there are no values, for now just use this empty list that assumes the last sale was more than one hundred days ago\n",
    "#however, this may be problematic if there's a negative correlation for games with sales and the time since the last game\n",
    "#to_series = df_feat_space.since_sale_lists\n",
    "\n",
    "to_series = df_feat_space.since_sale_lists\n",
    "check = [x for x in to_series]\n",
    "check_copy = copy.deepcopy(check)\n",
    "\n",
    "just_one_epoch = list()\n",
    "for i,v in enumerate(check):\n",
    "    if v == []:\n",
    "        check_copy[i] = replacement_empty_list\n",
    "    cur_epoch_time_since = check_copy[i][current_epoch]\n",
    "    just_one_epoch.append(cur_epoch_time_since)\n",
    "\n",
    "df_feat_space['specific_epoch_time_since'] = just_one_epoch\n",
    "#rint(check)\n",
    "#[df_feat_space.head().iloc['since_sale_lists']"
   ]
  },
  {
   "cell_type": "code",
   "execution_count": 204,
   "metadata": {
    "collapsed": true
   },
   "outputs": [],
   "source": [
    "'''change boolean into 1 or 0'''\n",
    "df_feat_space.has_price_slope = df_feat_space.has_price_slope.apply(lambda x:x*1)"
   ]
  },
  {
   "cell_type": "markdown",
   "metadata": {},
   "source": [
    "<h3>STEAM SCRAPED FEATURES"
   ]
  },
  {
   "cell_type": "code",
   "execution_count": 205,
   "metadata": {
    "collapsed": true
   },
   "outputs": [],
   "source": [
    "df_steamscraped = pd.read_pickle('steam_features.pkl')"
   ]
  },
  {
   "cell_type": "code",
   "execution_count": 206,
   "metadata": {
    "collapsed": false
   },
   "outputs": [
    {
     "data": {
      "text/html": [
       "<div style=\"max-height:1000px;max-width:1500px;overflow:auto;\">\n",
       "<table border=\"1\" class=\"dataframe\">\n",
       "  <thead>\n",
       "    <tr style=\"text-align: right;\">\n",
       "      <th></th>\n",
       "      <th>appid</th>\n",
       "      <th>time_stamp_rd</th>\n",
       "      <th>big_publisher</th>\n",
       "      <th>publisher_category</th>\n",
       "      <th>meta_score_mean_interpolate</th>\n",
       "    </tr>\n",
       "  </thead>\n",
       "  <tbody>\n",
       "    <tr>\n",
       "      <th>0</th>\n",
       "      <td> 317950</td>\n",
       "      <td> 1416297600</td>\n",
       "      <td> False</td>\n",
       "      <td> small_publisher</td>\n",
       "      <td> 72.40834</td>\n",
       "    </tr>\n",
       "    <tr>\n",
       "      <th>1</th>\n",
       "      <td> 315940</td>\n",
       "      <td> 1416297600</td>\n",
       "      <td> False</td>\n",
       "      <td> small_publisher</td>\n",
       "      <td> 72.40834</td>\n",
       "    </tr>\n",
       "    <tr>\n",
       "      <th>2</th>\n",
       "      <td> 363510</td>\n",
       "      <td> 1416297600</td>\n",
       "      <td> False</td>\n",
       "      <td> small_publisher</td>\n",
       "      <td> 72.40834</td>\n",
       "    </tr>\n",
       "    <tr>\n",
       "      <th>3</th>\n",
       "      <td> 348870</td>\n",
       "      <td> 1416297600</td>\n",
       "      <td> False</td>\n",
       "      <td> small_publisher</td>\n",
       "      <td> 72.40834</td>\n",
       "    </tr>\n",
       "    <tr>\n",
       "      <th>4</th>\n",
       "      <td> 348700</td>\n",
       "      <td> 1416297600</td>\n",
       "      <td> False</td>\n",
       "      <td> small_publisher</td>\n",
       "      <td> 72.40834</td>\n",
       "    </tr>\n",
       "  </tbody>\n",
       "</table>\n",
       "</div>"
      ],
      "text/plain": [
       "    appid  time_stamp_rd big_publisher publisher_category  \\\n",
       "0  317950     1416297600         False    small_publisher   \n",
       "1  315940     1416297600         False    small_publisher   \n",
       "2  363510     1416297600         False    small_publisher   \n",
       "3  348870     1416297600         False    small_publisher   \n",
       "4  348700     1416297600         False    small_publisher   \n",
       "\n",
       "   meta_score_mean_interpolate  \n",
       "0                     72.40834  \n",
       "1                     72.40834  \n",
       "2                     72.40834  \n",
       "3                     72.40834  \n",
       "4                     72.40834  "
      ]
     },
     "execution_count": 206,
     "metadata": {},
     "output_type": "execute_result"
    }
   ],
   "source": [
    "df_steamscraped.head()\n",
    "drop_ss_cols = ['developer','game_name','meta_score','new_id','publisher','release_date','tag_data']\n",
    "df_ss_features = df_steamscraped.drop(drop_ss_cols,axis =1)\n",
    "df_ss_features.head()"
   ]
  },
  {
   "cell_type": "code",
   "execution_count": 207,
   "metadata": {
    "collapsed": true
   },
   "outputs": [],
   "source": [
    "df_ss_features.big_publisher = df_ss_features.big_publisher.apply(lambda x:x*1) #turn into 1 or 0"
   ]
  },
  {
   "cell_type": "code",
   "execution_count": 208,
   "metadata": {
    "collapsed": false
   },
   "outputs": [],
   "source": [
    "unique_pubs = df_ss_features.publisher_category.unique()\n",
    "le = LabelEncoder()\n",
    "le.fit(df_ss_features.publisher_category)\n",
    "df_ss_features['pub_cat_int'] = le.transform(df_ss_features.publisher_category)"
   ]
  },
  {
   "cell_type": "code",
   "execution_count": 209,
   "metadata": {
    "collapsed": false
   },
   "outputs": [],
   "source": [
    "df_merged_features = pd.merge(left=df_ss_features,right=df_feat_space, left_on='appid', right_on='appid')"
   ]
  },
  {
   "cell_type": "code",
   "execution_count": 210,
   "metadata": {
    "collapsed": false
   },
   "outputs": [
    {
     "data": {
      "text/html": [
       "<div style=\"max-height:1000px;max-width:1500px;overflow:auto;\">\n",
       "<table border=\"1\" class=\"dataframe\">\n",
       "  <thead>\n",
       "    <tr style=\"text-align: right;\">\n",
       "      <th></th>\n",
       "      <th>appid</th>\n",
       "      <th>time_stamp_rd</th>\n",
       "      <th>big_publisher</th>\n",
       "      <th>publisher_category</th>\n",
       "      <th>meta_score_mean_interpolate</th>\n",
       "      <th>pub_cat_int</th>\n",
       "      <th>formatted</th>\n",
       "      <th>sale_bool_no_holiday</th>\n",
       "      <th>sale_count</th>\n",
       "      <th>has_price_slope</th>\n",
       "      <th>dirty_isi_mean</th>\n",
       "      <th>since_sale_lists</th>\n",
       "      <th>specific_epoch_time_since</th>\n",
       "    </tr>\n",
       "  </thead>\n",
       "  <tbody>\n",
       "    <tr>\n",
       "      <th>0</th>\n",
       "      <td> 317950</td>\n",
       "      <td> 1416297600</td>\n",
       "      <td> 0</td>\n",
       "      <td> small_publisher</td>\n",
       "      <td> 72.40834</td>\n",
       "      <td> 56</td>\n",
       "      <td> {u'1434388012000': {u'discount': 30, u'initial...</td>\n",
       "      <td> [[1417120656, 1418330256, 1419539856, 14207494...</td>\n",
       "      <td> 2</td>\n",
       "      <td> 0</td>\n",
       "      <td>  95.333333</td>\n",
       "      <td> [0, 1209600, 2419200, 3628800, 4838400, 604800...</td>\n",
       "      <td>  1481476</td>\n",
       "    </tr>\n",
       "    <tr>\n",
       "      <th>1</th>\n",
       "      <td> 315940</td>\n",
       "      <td> 1416297600</td>\n",
       "      <td> 0</td>\n",
       "      <td> small_publisher</td>\n",
       "      <td> 72.40834</td>\n",
       "      <td> 56</td>\n",
       "      <td> {u'1434994069000': {u'discount': 0, u'initial'...</td>\n",
       "      <td> [[1417120656, 1418330256, 1419539856, 14207494...</td>\n",
       "      <td> 2</td>\n",
       "      <td> 0</td>\n",
       "      <td>  96.000000</td>\n",
       "      <td> [0, 1209600, 2419200, 3628800, 4838400, 604800...</td>\n",
       "      <td> 12367951</td>\n",
       "    </tr>\n",
       "    <tr>\n",
       "      <th>2</th>\n",
       "      <td> 363510</td>\n",
       "      <td> 1416297600</td>\n",
       "      <td> 0</td>\n",
       "      <td> small_publisher</td>\n",
       "      <td> 72.40834</td>\n",
       "      <td> 56</td>\n",
       "      <td> {u'1440534905000': {u'discount': 0, u'initial'...</td>\n",
       "      <td> [[1417120656, 1418330256, 1419539856, 14207494...</td>\n",
       "      <td> 1</td>\n",
       "      <td> 0</td>\n",
       "      <td> 144.000000</td>\n",
       "      <td> [0, 1209600, 2419200, 3628800, 4838400, 604800...</td>\n",
       "      <td>  1466852</td>\n",
       "    </tr>\n",
       "    <tr>\n",
       "      <th>3</th>\n",
       "      <td> 348870</td>\n",
       "      <td> 1416297600</td>\n",
       "      <td> 0</td>\n",
       "      <td> small_publisher</td>\n",
       "      <td> 72.40834</td>\n",
       "      <td> 56</td>\n",
       "      <td> {u'1425578708000': {u'discount': 0, u'initial'...</td>\n",
       "      <td> [[1417120656, 1418330256, 1419539856, 14207494...</td>\n",
       "      <td> 3</td>\n",
       "      <td> 0</td>\n",
       "      <td>  71.750000</td>\n",
       "      <td> [0, 1209600, 2419200, 3628800, 4838400, 604800...</td>\n",
       "      <td>  2899953</td>\n",
       "    </tr>\n",
       "    <tr>\n",
       "      <th>4</th>\n",
       "      <td> 205530</td>\n",
       "      <td> 1416297600</td>\n",
       "      <td> 0</td>\n",
       "      <td> small_publisher</td>\n",
       "      <td> 69.00000</td>\n",
       "      <td> 56</td>\n",
       "      <td> {u'1430759132000': {u'discount': 0, u'initial'...</td>\n",
       "      <td> [[1417120656, 1418330256, 1419539856, 14207494...</td>\n",
       "      <td> 2</td>\n",
       "      <td> 0</td>\n",
       "      <td>  95.666667</td>\n",
       "      <td> [0, 1209600, 2419200, 3628800, 4838400, 604800...</td>\n",
       "      <td>  2086318</td>\n",
       "    </tr>\n",
       "  </tbody>\n",
       "</table>\n",
       "</div>"
      ],
      "text/plain": [
       "    appid  time_stamp_rd  big_publisher publisher_category  \\\n",
       "0  317950     1416297600              0    small_publisher   \n",
       "1  315940     1416297600              0    small_publisher   \n",
       "2  363510     1416297600              0    small_publisher   \n",
       "3  348870     1416297600              0    small_publisher   \n",
       "4  205530     1416297600              0    small_publisher   \n",
       "\n",
       "   meta_score_mean_interpolate  pub_cat_int  \\\n",
       "0                     72.40834           56   \n",
       "1                     72.40834           56   \n",
       "2                     72.40834           56   \n",
       "3                     72.40834           56   \n",
       "4                     69.00000           56   \n",
       "\n",
       "                                           formatted  \\\n",
       "0  {u'1434388012000': {u'discount': 30, u'initial...   \n",
       "1  {u'1434994069000': {u'discount': 0, u'initial'...   \n",
       "2  {u'1440534905000': {u'discount': 0, u'initial'...   \n",
       "3  {u'1425578708000': {u'discount': 0, u'initial'...   \n",
       "4  {u'1430759132000': {u'discount': 0, u'initial'...   \n",
       "\n",
       "                                sale_bool_no_holiday  sale_count  \\\n",
       "0  [[1417120656, 1418330256, 1419539856, 14207494...           2   \n",
       "1  [[1417120656, 1418330256, 1419539856, 14207494...           2   \n",
       "2  [[1417120656, 1418330256, 1419539856, 14207494...           1   \n",
       "3  [[1417120656, 1418330256, 1419539856, 14207494...           3   \n",
       "4  [[1417120656, 1418330256, 1419539856, 14207494...           2   \n",
       "\n",
       "   has_price_slope  dirty_isi_mean  \\\n",
       "0                0       95.333333   \n",
       "1                0       96.000000   \n",
       "2                0      144.000000   \n",
       "3                0       71.750000   \n",
       "4                0       95.666667   \n",
       "\n",
       "                                    since_sale_lists  \\\n",
       "0  [0, 1209600, 2419200, 3628800, 4838400, 604800...   \n",
       "1  [0, 1209600, 2419200, 3628800, 4838400, 604800...   \n",
       "2  [0, 1209600, 2419200, 3628800, 4838400, 604800...   \n",
       "3  [0, 1209600, 2419200, 3628800, 4838400, 604800...   \n",
       "4  [0, 1209600, 2419200, 3628800, 4838400, 604800...   \n",
       "\n",
       "   specific_epoch_time_since  \n",
       "0                    1481476  \n",
       "1                   12367951  \n",
       "2                    1466852  \n",
       "3                    2899953  \n",
       "4                    2086318  "
      ]
     },
     "execution_count": 210,
     "metadata": {},
     "output_type": "execute_result"
    }
   ],
   "source": [
    "df_merged_features.head()"
   ]
  },
  {
   "cell_type": "code",
   "execution_count": 211,
   "metadata": {
    "collapsed": false
   },
   "outputs": [],
   "source": [
    "df_merged_features['sale_count_x_dirty_isi_mean'] = df_merged_features.sale_count * df_merged_features.dirty_isi_mean\n",
    "df_merged_features['exp_specific_epoch_time_since'] = np.exp(-df_merged_features.specific_epoch_time_since)\n",
    "df_merged_features['sale_count_x_specific_epoch_time_since'] =df_merged_features.sale_count * df_merged_features.specific_epoch_time_since"
   ]
  },
  {
   "cell_type": "markdown",
   "metadata": {
    "collapsed": true
   },
   "source": [
    "<h4>make y values after tables are merged and everything else is calculated"
   ]
  },
  {
   "cell_type": "code",
   "execution_count": 213,
   "metadata": {
    "collapsed": true
   },
   "outputs": [],
   "source": [
    "'''make y values'''\n",
    "y = list()\n",
    "for i,v in enumerate(df_merged_features.sale_bool_no_holiday):\n",
    "    if v == []:\n",
    "        y_in = 0\n",
    "    else:\n",
    "        y_in = v[1][current_epoch] #1 is the index of the boolean list\n",
    "    y.append(y_in)\n",
    "\n",
    "y = np.array(y)"
   ]
  },
  {
   "cell_type": "code",
   "execution_count": 214,
   "metadata": {
    "collapsed": false
   },
   "outputs": [],
   "source": [
    "drop_more_columns = ['appid','formatted','since_sale_lists', 'sale_bool_no_holiday','publisher_category']\n",
    "df_merged_features = df_merged_features.drop(drop_more_columns,axis=1)\n"
   ]
  },
  {
   "cell_type": "code",
   "execution_count": null,
   "metadata": {
    "collapsed": true
   },
   "outputs": [],
   "source": []
  },
  {
   "cell_type": "code",
   "execution_count": 215,
   "metadata": {
    "collapsed": false
   },
   "outputs": [],
   "source": [
    "X = df_merged_features.as_matrix().astype(np.float)"
   ]
  },
  {
   "cell_type": "code",
   "execution_count": 216,
   "metadata": {
    "collapsed": false
   },
   "outputs": [
    {
     "name": "stdout",
     "output_type": "stream",
     "text": [
      "Feature space holds 4163 observations and 11 features\n"
     ]
    }
   ],
   "source": [
    "scaler = StandardScaler()\n",
    "X = scaler.fit_transform(X)\n",
    "print \"Feature space holds %d observations and %d features\" % X.shape"
   ]
  },
  {
   "cell_type": "code",
   "execution_count": 217,
   "metadata": {
    "collapsed": false
   },
   "outputs": [],
   "source": [
    "\n",
    "def run_cv(X,y,clf_class,**kwargs):\n",
    "    # Construct a kfolds object\n",
    "    kf = KFold(len(y),n_folds=5,shuffle=True)\n",
    "    y_pred = y.copy()\n",
    "    \n",
    "    # Iterate through folds\n",
    "    for train_index, test_index in kf:\n",
    "        X_train, X_test = X[train_index], X[test_index]\n",
    "        y_train = y[train_index]\n",
    "        # Initialize a classifier with key word arguments\n",
    "        clf = clf_class(**kwargs)\n",
    "        clf.fit(X_train,y_train)\n",
    "        y_pred[test_index] = clf.predict(X_test)\n",
    "    return y_pred\n"
   ]
  },
  {
   "cell_type": "code",
   "execution_count": 218,
   "metadata": {
    "collapsed": false
   },
   "outputs": [
    {
     "name": "stdout",
     "output_type": "stream",
     "text": [
      "Support vector machines:\n",
      "0.908\n",
      "Random forest:\n",
      "0.969\n",
      "K-nearest-neighbors:\n",
      "0.950\n"
     ]
    }
   ],
   "source": [
    "def accuracy(y_true,y_pred):\n",
    "    # NumPy interprets True and False as 1. and 0.\n",
    "    return np.mean(y_true == y_pred)\n",
    "\n",
    "print \"Support vector machines:\"\n",
    "print \"%.3f\" % accuracy(y, run_cv(X,y,SVC))\n",
    "print \"Random forest:\"\n",
    "print \"%.3f\" % accuracy(y, run_cv(X,y,RF))\n",
    "print \"K-nearest-neighbors:\"\n",
    "print \"%.3f\" % accuracy(y, run_cv(X,y,KNN))"
   ]
  },
  {
   "cell_type": "code",
   "execution_count": 219,
   "metadata": {
    "collapsed": false
   },
   "outputs": [],
   "source": [
    "chance_accuracy = (1 - sum(y)*1.0 / y.size)"
   ]
  },
  {
   "cell_type": "code",
   "execution_count": 220,
   "metadata": {
    "collapsed": true
   },
   "outputs": [],
   "source": [
    "from sklearn.metrics import confusion_matrix\n",
    "\n",
    "y = np.array(y)\n",
    "class_names = np.unique(y)\n",
    "\n",
    "confusion_matrices = [\n",
    "    ( \"Support Vector Machines\", confusion_matrix(y,run_cv(X,y,SVC)) ),\n",
    "    ( \"Random Forest\", confusion_matrix(y,run_cv(X,y,RF)) ),\n",
    "    ( \"K-Nearest-Neighbors\", confusion_matrix(y,run_cv(X,y,KNN)) ),\n",
    "]\n"
   ]
  },
  {
   "cell_type": "code",
   "execution_count": 221,
   "metadata": {
    "collapsed": false
   },
   "outputs": [
    {
     "data": {
      "text/plain": [
       "('Support Vector Machines', array([[3738,   14],\n",
       "        [ 370,   41]]))"
      ]
     },
     "execution_count": 221,
     "metadata": {},
     "output_type": "execute_result"
    }
   ],
   "source": [
    "confusion_matrices[0]"
   ]
  },
  {
   "cell_type": "code",
   "execution_count": 222,
   "metadata": {
    "collapsed": false
   },
   "outputs": [
    {
     "data": {
      "image/png": "[encoded data removed]",
      "text/plain": [
       "<matplotlib.figure.Figure at 0x7fe476a78ed0>"
      ]
     },
     "metadata": {},
     "output_type": "display_data"
    }
   ],
   "source": [
    "def plot_confusion_matrix(cm, title='Confusion matrix', cmap=plt.cm.Blues):\n",
    "    plt.imshow(cm, interpolation='nearest', cmap=cmap)\n",
    "    plt.title(title)\n",
    "    plt.colorbar()\n",
    "    #tick_marks = np.arange(len(iris.target_names))\n",
    "    #plt.xticks(tick_marks, iris.target_names, rotation=45)\n",
    "    #plt.yticks(tick_marks, iris.target_names)\n",
    "    plt.tight_layout()\n",
    "    plt.ylabel('True label')\n",
    "    plt.xlabel('Predicted label')\n",
    "\n",
    "\n",
    "look_at_model = 1\n",
    "plot_confusion_matrix(confusion_matrices[look_at_model][1],confusion_matrices[look_at_model][0])\n"
   ]
  },
  {
   "cell_type": "code",
   "execution_count": 223,
   "metadata": {
    "collapsed": true
   },
   "outputs": [],
   "source": [
    "def run_prob_cv(X, y, clf_class, **kwargs):\n",
    "    kf = KFold(len(y), n_folds=5, shuffle=True)\n",
    "    y_prob = np.zeros((len(y),2))\n",
    "    for train_index, test_index in kf:\n",
    "        X_train, X_test = X[train_index], X[test_index]\n",
    "        y_train, y_test = y[train_index], y[test_index]\n",
    "        #y_train = y[train_index]\n",
    "        clf = clf_class(**kwargs)\n",
    "        clf.fit(X_train,y_train)\n",
    "        # Predict probabilities, not classes\n",
    "        y_prob[test_index] = clf.predict_proba(X_test)\n",
    "        y_prob_all = clf.predict_proba(X_test)\n",
    "    return y_prob, y_test,y_prob_all\n",
    "\n",
    "# def run_prob_cv(X, y, clf_class, **kwargs):\n",
    "#     \"\"\"TESTING\"\"\"\n",
    "#     kf = KFold(len(y), n_folds=5, shuffle=True)\n",
    "# #     y_prob = np.zeros((len(y),2))\n",
    "#     for train_index, test_index in kf:\n",
    "#         X_train, X_test = X[train_index], X[test_index]\n",
    "#         y_train, y_test = y[train_index], y[test_index]\n",
    "#         clf = clf_class(**kwargs)\n",
    "#         clf.fit(X_train,y_train)\n",
    "#         # Predict probabilities, not classes\n",
    "#         y_prob = clf.predict_proba(X_test)\n",
    "#     return y_test, y_prob"
   ]
  },
  {
   "cell_type": "code",
   "execution_count": 224,
   "metadata": {
    "collapsed": false
   },
   "outputs": [
    {
     "data": {
      "text/html": [
       "<div style=\"max-height:1000px;max-width:1500px;overflow:auto;\">\n",
       "<table border=\"1\" class=\"dataframe\">\n",
       "  <thead>\n",
       "    <tr style=\"text-align: right;\">\n",
       "      <th></th>\n",
       "      <th>pred_prob</th>\n",
       "      <th>count</th>\n",
       "      <th>true_prob</th>\n",
       "    </tr>\n",
       "  </thead>\n",
       "  <tbody>\n",
       "    <tr>\n",
       "      <th>0 </th>\n",
       "      <td> 0.000000</td>\n",
       "      <td> 3501</td>\n",
       "      <td> 0.009712</td>\n",
       "    </tr>\n",
       "    <tr>\n",
       "      <th>1 </th>\n",
       "      <td> 1.000000</td>\n",
       "      <td>  244</td>\n",
       "      <td> 0.987705</td>\n",
       "    </tr>\n",
       "    <tr>\n",
       "      <th>2 </th>\n",
       "      <td> 0.100000</td>\n",
       "      <td>  147</td>\n",
       "      <td> 0.129252</td>\n",
       "    </tr>\n",
       "    <tr>\n",
       "      <th>3 </th>\n",
       "      <td> 0.200000</td>\n",
       "      <td>   59</td>\n",
       "      <td> 0.203390</td>\n",
       "    </tr>\n",
       "    <tr>\n",
       "      <th>4 </th>\n",
       "      <td> 0.900000</td>\n",
       "      <td>   43</td>\n",
       "      <td> 0.837209</td>\n",
       "    </tr>\n",
       "    <tr>\n",
       "      <th>5 </th>\n",
       "      <td> 0.300000</td>\n",
       "      <td>   39</td>\n",
       "      <td> 0.307692</td>\n",
       "    </tr>\n",
       "    <tr>\n",
       "      <th>6 </th>\n",
       "      <td> 0.400000</td>\n",
       "      <td>   28</td>\n",
       "      <td> 0.250000</td>\n",
       "    </tr>\n",
       "    <tr>\n",
       "      <th>7 </th>\n",
       "      <td> 0.800000</td>\n",
       "      <td>   28</td>\n",
       "      <td> 0.607143</td>\n",
       "    </tr>\n",
       "    <tr>\n",
       "      <th>8 </th>\n",
       "      <td> 0.600000</td>\n",
       "      <td>   27</td>\n",
       "      <td> 0.555556</td>\n",
       "    </tr>\n",
       "    <tr>\n",
       "      <th>9 </th>\n",
       "      <td> 0.500000</td>\n",
       "      <td>   25</td>\n",
       "      <td> 0.280000</td>\n",
       "    </tr>\n",
       "    <tr>\n",
       "      <th>10</th>\n",
       "      <td> 0.700000</td>\n",
       "      <td>   18</td>\n",
       "      <td> 0.555556</td>\n",
       "    </tr>\n",
       "    <tr>\n",
       "      <th>11</th>\n",
       "      <td> 0.483333</td>\n",
       "      <td>    1</td>\n",
       "      <td> 0.000000</td>\n",
       "    </tr>\n",
       "    <tr>\n",
       "      <th>12</th>\n",
       "      <td> 0.466667</td>\n",
       "      <td>    1</td>\n",
       "      <td> 1.000000</td>\n",
       "    </tr>\n",
       "    <tr>\n",
       "      <th>13</th>\n",
       "      <td> 0.033333</td>\n",
       "      <td>    1</td>\n",
       "      <td> 0.000000</td>\n",
       "    </tr>\n",
       "    <tr>\n",
       "      <th>14</th>\n",
       "      <td> 0.533333</td>\n",
       "      <td>    1</td>\n",
       "      <td> 0.000000</td>\n",
       "    </tr>\n",
       "  </tbody>\n",
       "</table>\n",
       "</div>"
      ],
      "text/plain": [
       "    pred_prob  count  true_prob\n",
       "0    0.000000   3501   0.009712\n",
       "1    1.000000    244   0.987705\n",
       "2    0.100000    147   0.129252\n",
       "3    0.200000     59   0.203390\n",
       "4    0.900000     43   0.837209\n",
       "5    0.300000     39   0.307692\n",
       "6    0.400000     28   0.250000\n",
       "7    0.800000     28   0.607143\n",
       "8    0.600000     27   0.555556\n",
       "9    0.500000     25   0.280000\n",
       "10   0.700000     18   0.555556\n",
       "11   0.483333      1   0.000000\n",
       "12   0.466667      1   1.000000\n",
       "13   0.033333      1   0.000000\n",
       "14   0.533333      1   0.000000"
      ]
     },
     "execution_count": 224,
     "metadata": {},
     "output_type": "execute_result"
    }
   ],
   "source": [
    "import warnings\n",
    "warnings.filterwarnings('ignore')\n",
    "\n",
    "# Use 10 estimators so predictions are all multiples of 0.1\n",
    "pred_prob,y_test,y_prob_all = run_prob_cv(X, y, RF, n_estimators=10)\n",
    "pred_sale = pred_prob[:,1]\n",
    "is_sale = y == 1\n",
    "\n",
    "# Number of times a predicted probability is assigned to an observation\n",
    "counts = pd.value_counts(pred_sale)\n",
    "\n",
    "# calculate true probabilities\n",
    "true_prob = {}\n",
    "for prob in counts.index:\n",
    "    true_prob[prob] = np.mean(is_sale[pred_sale == prob])\n",
    "    true_prob = pd.Series(true_prob)\n",
    "\n",
    "# pandas-fu\n",
    "counts = pd.concat([counts,true_prob], axis=1).reset_index()\n",
    "counts.columns = ['pred_prob', 'count', 'true_prob']\n",
    "counts"
   ]
  },
  {
   "cell_type": "code",
   "execution_count": null,
   "metadata": {
    "collapsed": false
   },
   "outputs": [],
   "source": []
  },
  {
   "cell_type": "code",
   "execution_count": 225,
   "metadata": {
    "collapsed": false
   },
   "outputs": [
    {
     "data": {
      "text/plain": [
       "<matplotlib.text.Text at 0x7fe47519db50>"
      ]
     },
     "execution_count": 225,
     "metadata": {},
     "output_type": "execute_result"
    },
    {
     "data": {
      "image/png": "[encoded data removed]",
      "text/plain": [
       "<matplotlib.figure.Figure at 0x7fe476a78790>"
      ]
     },
     "metadata": {},
     "output_type": "display_data"
    }
   ],
   "source": [
    "'''plot predicted probability by true probability'''\n",
    "counts = counts.sort('pred_prob')\n",
    "plt.plot(counts.pred_prob,counts.true_prob, 'bo')\n",
    "plt.xlabel('predicted probability')\n",
    "plt.ylabel('true probability')"
   ]
  },
  {
   "cell_type": "code",
   "execution_count": 226,
   "metadata": {
    "collapsed": false
   },
   "outputs": [
    {
     "data": {
      "text/plain": [
       "<matplotlib.legend.Legend at 0x7fe475037650>"
      ]
     },
     "execution_count": 226,
     "metadata": {},
     "output_type": "execute_result"
    },
    {
     "data": {
      "image/png": "[encoded data removed]",
      "text/plain": [
       "<matplotlib.figure.Figure at 0x7fe47517ef10>"
      ]
     },
     "metadata": {},
     "output_type": "display_data"
    }
   ],
   "source": [
    "#y_score = classifier.fit(X_train, y_train).decision_function(X_test)\n",
    "y_prob_all[:,1]\n",
    "fpr, tpr,_ =roc_curve(y_test,y_prob_all[:,1])\n",
    "roc_auc= auc(fpr, tpr)\n",
    "\n",
    "plt.plot(fpr, tpr, label='ROC curve (area = %0.2f)' % roc_auc)\n",
    "plt.plot([0, 1], [0, 1], 'k--')    \n",
    "plt.xlim([0.0, 1.0])\n",
    "plt.ylim([0.0, 1.05])\n",
    "plt.xlabel('False Positive Rate')\n",
    "plt.ylabel('True Positive Rate')\n",
    "plt.title('RF Receiver Operating Characteristic')\n",
    "plt.legend(loc=\"lower right\")\n",
    "#rf_fpr, rf_tpr, thresholds = roc_curve(y_test, pred_prob[:, 1])"
   ]
  }
 ],
 "metadata": {
  "kernelspec": {
   "display_name": "Python 2",
   "language": "python",
   "name": "python2"
  },
  "language_info": {
   "codemirror_mode": {
    "name": "ipython",
    "version": 2
   },
   "file_extension": ".py",
   "mimetype": "text/x-python",
   "name": "python",
   "nbconvert_exporter": "python",
   "pygments_lexer": "ipython2",
   "version": "2.7.9"
  }
 },
 "nbformat": 4,
 "nbformat_minor": 0
}
